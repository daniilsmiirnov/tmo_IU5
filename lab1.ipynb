{
 "cells": [
  {
   "cell_type": "markdown",
   "metadata": {},
   "source": [
    "Sports Car Prices dataset\n",
    "\n",
    "\n",
    "Этот набор данных содержит информацию о ценах на различные спортивные автомобили различных производителей. В датасете указаны марка и модель автомобиля, год производства, объем двигателя, мощность, крутящий момент, время разгона до 60 миль в час и цена в долларах США. Датасет полезен для анализа цен на различные спортивные автомобили и выявления тенденций на рынке.\n",
    "\n",
    "Данные:\n",
    "\n",
    "1. Марка автомобиля: Производитель автомобиля, представляющий бренд или компанию, которая выпустила автомобиль. Примеры марок в этом наборе данных включают Porsche, Lamborghini, Ferrari, Audi и McLaren.\n",
    "2. Модель автомобиля: Модель спортивного автомобиля, представляющая конкретную версию или вариант автомобиля, выпущенный производителем. Примеры моделей автомобилей в этом наборе данных включают 911, Huracan, 488 GTB, R8, 720S, M8, AMG GT, Corvette, Mustang Shelby GT500 и GT-R Nismo.\n",
    "3. Год: Год производства спортивного автомобиля, который указывает на модельный год, когда автомобиль был впервые представлен или доступен для покупки.\n",
    "4. Объем двигателя (л): Объем двигателя спортивного автомобиля в литрах, который представляет собой объем цилиндров двигателя. Больший объем двигателя обычно указывает на более высокую мощность и производительность. Объемы двигателей в этом наборе данных варьируются от 2.0 до 8.0 литров, а у некоторых автомобилей используются электрические двигатели.\n",
    "5. Лошадиные силы: Лошадиные силы спортивного автомобиля, которые представляют собой мощность двигателя автомобиля. Больший показатель лошадиных сил обычно указывает на более быстрое ускорение и более высокую максимальную скорость. Значения лошадиных сил в этом наборе данных варьируются от 300 до 1479.\n",
    "6. Крутящий момент (фунт-фут): Крутящий момент спортивного автомобиля в фунт-футах, который представляет силу вращения, создаваемую двигателем. Большие значения крутящего момента обычно указывают на более сильное ускорение и лучшее управление автомобилем. Значения крутящего момента в этом наборе данных варьируются от 270 до 1180.\n",
    "7. Время разгона до 60 миль в час (секунды): Время, за которое спортивный автомобиль разгоняется от 0 до 60 миль в час, что является общей мерой ускорения и производительности. Меньшие значения времени разгона обычно указывают на более быстрое ускорение и лучшую производительность. Время разгона до 60 миль в час в этом наборе данных варьируется от 1.85 до 5.3 секунд.\n",
    "8. Цена (в USD): Цена спортивного автомобиля в долларах США, представляющая стоимость покупки автомобиля. Цены в этом наборе данных варьируются от 25 000 до 3 000 000 долларов США.\n",
    "\n"
   ]
  },
  {
   "cell_type": "code",
   "execution_count": 2,
   "metadata": {},
   "outputs": [],
   "source": [
    "# Добавим необходимые библиотеки и укажем файл\n",
    "import pandas as pd\n",
    "import plotly.express as px\n",
    "import matplotlib.pyplot as plt\n",
    "import seaborn as sns\n",
    "import re\n",
    "import plotly.graph_objs as go\n",
    "import numpy as np\n",
    "from sklearn.cluster import KMeans\n",
    "from sklearn.preprocessing import StandardScaler, MinMaxScaler\n",
    "from sklearn.decomposition import PCA\n",
    "from sklearn.linear_model import LinearRegression\n",
    "file = './Sport car price.csv'"
   ]
  },
  {
   "cell_type": "code",
   "execution_count": 3,
   "metadata": {},
   "outputs": [],
   "source": [
    "# Распарсим наш дата сет\n",
    "data = pd.read_csv(file)\n"
   ]
  },
  {
   "cell_type": "code",
   "execution_count": 4,
   "metadata": {},
   "outputs": [
    {
     "data": {
      "text/html": [
       "<div>\n",
       "<style scoped>\n",
       "    .dataframe tbody tr th:only-of-type {\n",
       "        vertical-align: middle;\n",
       "    }\n",
       "\n",
       "    .dataframe tbody tr th {\n",
       "        vertical-align: top;\n",
       "    }\n",
       "\n",
       "    .dataframe thead th {\n",
       "        text-align: right;\n",
       "    }\n",
       "</style>\n",
       "<table border=\"1\" class=\"dataframe\">\n",
       "  <thead>\n",
       "    <tr style=\"text-align: right;\">\n",
       "      <th></th>\n",
       "      <th>Car Make</th>\n",
       "      <th>Car Model</th>\n",
       "      <th>Year</th>\n",
       "      <th>Engine Size (L)</th>\n",
       "      <th>Horsepower</th>\n",
       "      <th>Torque (lb-ft)</th>\n",
       "      <th>0-60 MPH Time (seconds)</th>\n",
       "      <th>Price (in USD)</th>\n",
       "    </tr>\n",
       "  </thead>\n",
       "  <tbody>\n",
       "    <tr>\n",
       "      <th>0</th>\n",
       "      <td>Porsche</td>\n",
       "      <td>911</td>\n",
       "      <td>2022</td>\n",
       "      <td>3</td>\n",
       "      <td>379</td>\n",
       "      <td>331</td>\n",
       "      <td>4</td>\n",
       "      <td>101,200</td>\n",
       "    </tr>\n",
       "    <tr>\n",
       "      <th>1</th>\n",
       "      <td>Lamborghini</td>\n",
       "      <td>Huracan</td>\n",
       "      <td>2021</td>\n",
       "      <td>5.2</td>\n",
       "      <td>630</td>\n",
       "      <td>443</td>\n",
       "      <td>2.8</td>\n",
       "      <td>274,390</td>\n",
       "    </tr>\n",
       "    <tr>\n",
       "      <th>2</th>\n",
       "      <td>Ferrari</td>\n",
       "      <td>488 GTB</td>\n",
       "      <td>2022</td>\n",
       "      <td>3.9</td>\n",
       "      <td>661</td>\n",
       "      <td>561</td>\n",
       "      <td>3</td>\n",
       "      <td>333,750</td>\n",
       "    </tr>\n",
       "    <tr>\n",
       "      <th>3</th>\n",
       "      <td>Audi</td>\n",
       "      <td>R8</td>\n",
       "      <td>2022</td>\n",
       "      <td>5.2</td>\n",
       "      <td>562</td>\n",
       "      <td>406</td>\n",
       "      <td>3.2</td>\n",
       "      <td>142,700</td>\n",
       "    </tr>\n",
       "    <tr>\n",
       "      <th>4</th>\n",
       "      <td>McLaren</td>\n",
       "      <td>720S</td>\n",
       "      <td>2021</td>\n",
       "      <td>4</td>\n",
       "      <td>710</td>\n",
       "      <td>568</td>\n",
       "      <td>2.7</td>\n",
       "      <td>298,000</td>\n",
       "    </tr>\n",
       "  </tbody>\n",
       "</table>\n",
       "</div>"
      ],
      "text/plain": [
       "      Car Make Car Model  Year Engine Size (L) Horsepower Torque (lb-ft)  \\\n",
       "0      Porsche       911  2022               3        379            331   \n",
       "1  Lamborghini   Huracan  2021             5.2        630            443   \n",
       "2      Ferrari   488 GTB  2022             3.9        661            561   \n",
       "3         Audi        R8  2022             5.2        562            406   \n",
       "4      McLaren      720S  2021               4        710            568   \n",
       "\n",
       "  0-60 MPH Time (seconds) Price (in USD)  \n",
       "0                       4        101,200  \n",
       "1                     2.8        274,390  \n",
       "2                       3        333,750  \n",
       "3                     3.2        142,700  \n",
       "4                     2.7        298,000  "
      ]
     },
     "execution_count": 4,
     "metadata": {},
     "output_type": "execute_result"
    }
   ],
   "source": [
    "#выведем данные \n",
    "data.head()"
   ]
  },
  {
   "cell_type": "code",
   "execution_count": 5,
   "metadata": {},
   "outputs": [
    {
     "name": "stdout",
     "output_type": "stream",
     "text": [
      "<class 'pandas.core.frame.DataFrame'>\n",
      "RangeIndex: 1007 entries, 0 to 1006\n",
      "Data columns (total 8 columns):\n",
      " #   Column                   Non-Null Count  Dtype \n",
      "---  ------                   --------------  ----- \n",
      " 0   Car Make                 1007 non-null   object\n",
      " 1   Car Model                1007 non-null   object\n",
      " 2   Year                     1007 non-null   int64 \n",
      " 3   Engine Size (L)          997 non-null    object\n",
      " 4   Horsepower               1007 non-null   object\n",
      " 5   Torque (lb-ft)           1004 non-null   object\n",
      " 6   0-60 MPH Time (seconds)  1007 non-null   object\n",
      " 7   Price (in USD)           1007 non-null   object\n",
      "dtypes: int64(1), object(7)\n",
      "memory usage: 63.1+ KB\n"
     ]
    }
   ],
   "source": [
    "data.info() # выведем информацию о данных и их типах\n"
   ]
  },
  {
   "cell_type": "code",
   "execution_count": 6,
   "metadata": {},
   "outputs": [
    {
     "data": {
      "text/html": [
       "<div>\n",
       "<style scoped>\n",
       "    .dataframe tbody tr th:only-of-type {\n",
       "        vertical-align: middle;\n",
       "    }\n",
       "\n",
       "    .dataframe tbody tr th {\n",
       "        vertical-align: top;\n",
       "    }\n",
       "\n",
       "    .dataframe thead th {\n",
       "        text-align: right;\n",
       "    }\n",
       "</style>\n",
       "<table border=\"1\" class=\"dataframe\">\n",
       "  <thead>\n",
       "    <tr style=\"text-align: right;\">\n",
       "      <th></th>\n",
       "      <th>car</th>\n",
       "      <th>model</th>\n",
       "      <th>year</th>\n",
       "      <th>engine_size</th>\n",
       "      <th>power</th>\n",
       "      <th>torque</th>\n",
       "      <th>acceleration_seconds</th>\n",
       "      <th>price_usd</th>\n",
       "    </tr>\n",
       "  </thead>\n",
       "  <tbody>\n",
       "    <tr>\n",
       "      <th>0</th>\n",
       "      <td>Porsche</td>\n",
       "      <td>911</td>\n",
       "      <td>2022</td>\n",
       "      <td>3</td>\n",
       "      <td>379</td>\n",
       "      <td>331</td>\n",
       "      <td>4</td>\n",
       "      <td>101,200</td>\n",
       "    </tr>\n",
       "    <tr>\n",
       "      <th>1</th>\n",
       "      <td>Lamborghini</td>\n",
       "      <td>Huracan</td>\n",
       "      <td>2021</td>\n",
       "      <td>5.2</td>\n",
       "      <td>630</td>\n",
       "      <td>443</td>\n",
       "      <td>2.8</td>\n",
       "      <td>274,390</td>\n",
       "    </tr>\n",
       "    <tr>\n",
       "      <th>2</th>\n",
       "      <td>Ferrari</td>\n",
       "      <td>488 GTB</td>\n",
       "      <td>2022</td>\n",
       "      <td>3.9</td>\n",
       "      <td>661</td>\n",
       "      <td>561</td>\n",
       "      <td>3</td>\n",
       "      <td>333,750</td>\n",
       "    </tr>\n",
       "    <tr>\n",
       "      <th>3</th>\n",
       "      <td>Audi</td>\n",
       "      <td>R8</td>\n",
       "      <td>2022</td>\n",
       "      <td>5.2</td>\n",
       "      <td>562</td>\n",
       "      <td>406</td>\n",
       "      <td>3.2</td>\n",
       "      <td>142,700</td>\n",
       "    </tr>\n",
       "    <tr>\n",
       "      <th>4</th>\n",
       "      <td>McLaren</td>\n",
       "      <td>720S</td>\n",
       "      <td>2021</td>\n",
       "      <td>4</td>\n",
       "      <td>710</td>\n",
       "      <td>568</td>\n",
       "      <td>2.7</td>\n",
       "      <td>298,000</td>\n",
       "    </tr>\n",
       "  </tbody>\n",
       "</table>\n",
       "</div>"
      ],
      "text/plain": [
       "           car    model  year engine_size power torque acceleration_seconds  \\\n",
       "0      Porsche      911  2022           3   379    331                    4   \n",
       "1  Lamborghini  Huracan  2021         5.2   630    443                  2.8   \n",
       "2      Ferrari  488 GTB  2022         3.9   661    561                    3   \n",
       "3         Audi       R8  2022         5.2   562    406                  3.2   \n",
       "4      McLaren     720S  2021           4   710    568                  2.7   \n",
       "\n",
       "  price_usd  \n",
       "0   101,200  \n",
       "1   274,390  \n",
       "2   333,750  \n",
       "3   142,700  \n",
       "4   298,000  "
      ]
     },
     "execution_count": 6,
     "metadata": {},
     "output_type": "execute_result"
    }
   ],
   "source": [
    "# Для удобства работы с данными изменим названия столбцов\n",
    "new_column_names = {\n",
    "    'Car Make': 'car',\n",
    "    'Car Model': 'model',\n",
    "    'Year': 'year',\n",
    "    'Engine Size (L)': 'engine_size',\n",
    "    'Horsepower': 'power',\n",
    "    'Torque (lb-ft)': 'torque',\n",
    "    '0-60 MPH Time (seconds)': 'acceleration_seconds',\n",
    "    'Price (in USD)': 'price_usd'\n",
    "}\n",
    "data = data.rename(columns=new_column_names)\n",
    "data.head() # посмотрим новую таблицу данных\n"
   ]
  },
  {
   "cell_type": "code",
   "execution_count": null,
   "metadata": {},
   "outputs": [],
   "source": []
  },
  {
   "cell_type": "markdown",
   "metadata": {},
   "source": [
    "Исправим некорректные строки"
   ]
  },
  {
   "cell_type": "code",
   "execution_count": 7,
   "metadata": {},
   "outputs": [],
   "source": [
    "data['price_usd'] = data['price_usd'].str.replace(',', '').astype(int) #преобразуем деньги в числовой формат"
   ]
  },
  {
   "cell_type": "code",
   "execution_count": 8,
   "metadata": {},
   "outputs": [],
   "source": [
    "data['acceleration_seconds'] = pd.to_numeric(data['acceleration_seconds'], errors='coerce') # изменим тип переменной на float, в случае ошибки укажем NaN\n",
    "data['acceleration_seconds'] = data['acceleration_seconds'].fillna(1.88) #заменим значечиние nan на 1.88"
   ]
  },
  {
   "cell_type": "code",
   "execution_count": 9,
   "metadata": {},
   "outputs": [],
   "source": [
    "data['engine_size'] = pd.to_numeric(data['engine_size'], errors='coerce') # изменим тип переменной на float, в случае ошибки укажем NaN\n",
    "# data['engine_size'] = data['engine_size'].fillna(-1) #заменим значечиние nan на -1\n"
   ]
  },
  {
   "cell_type": "code",
   "execution_count": 10,
   "metadata": {},
   "outputs": [],
   "source": [
    "aberrant_values = ['10,000', '1,500', '1,000+']\n",
    "for val in aberrant_values:\n",
    "    data = data[data['power'] != val]\n",
    "data['power'] = data['power'].replace({'1000+': 1001, '1,020': 1020})\n",
    "data['power'] = pd.to_numeric(data['power'], errors='coerce') # изменим тип переменной на float, в случае ошибки укажем NaN\n",
    "data['power'] = data['power'].fillna(1000)#заменим значечиние nan на 1000"
   ]
  },
  {
   "cell_type": "code",
   "execution_count": 11,
   "metadata": {},
   "outputs": [],
   "source": [
    "data = data[(data['torque'] != '10,000+') & (data['torque'] != '-')]\n",
    "data['torque'] = data['torque'].replace({'1,050': 1050}) # исправим данные о крутящем моменте"
   ]
  },
  {
   "cell_type": "code",
   "execution_count": 12,
   "metadata": {},
   "outputs": [
    {
     "name": "stdout",
     "output_type": "stream",
     "text": [
      "              car                      model  year  engine_size   power  \\\n",
      "26          Rimac                     Nevera  2022          NaN  1914.0   \n",
      "37        Porsche                  Taycan 4S  2022          NaN   562.0   \n",
      "42            BMW                         i8  2020          NaN   369.0   \n",
      "97          Rimac                     Nevera  2022          NaN  1914.0   \n",
      "99          Tesla                   Roadster  2022          NaN  1001.0   \n",
      "168         Rimac                      C_Two  2022          NaN  1914.0   \n",
      "171         Tesla              Model S Plaid  2021          NaN  1020.0   \n",
      "185       Porsche                     Taycan  2021          NaN   750.0   \n",
      "222       Porsche             Taycan Turbo S  2021          NaN   750.0   \n",
      "247         Tesla              Model S Plaid  2022          NaN  1020.0   \n",
      "278         Rimac                      C_Two  2022          NaN  1914.0   \n",
      "280   Pininfarina                   Battista  2022          NaN  1874.0   \n",
      "299       Porsche                     Taycan  2022          NaN   616.0   \n",
      "300         Tesla                    Model S  2022          NaN  1020.0   \n",
      "305       Porsche             Taycan Turbo S  2021          NaN   750.0   \n",
      "320         Tesla              Model S Plaid  2021          NaN  1020.0   \n",
      "352         Rimac                     Nevera  2022          NaN  1914.0   \n",
      "387         Rimac                      C_Two  2022          NaN  1888.0   \n",
      "389         Tesla                   Roadster  2022          NaN  1000.0   \n",
      "401         Tesla              Model S Plaid  2021          NaN  1020.0   \n",
      "420         Lotus                      Evija  2022          NaN  1973.0   \n",
      "439         Rimac                      C_Two  2021          NaN  1914.0   \n",
      "509         Rimac                      C_Two  2021          NaN  1914.0   \n",
      "511         Tesla              Model S Plaid  2021          NaN  1020.0   \n",
      "523         Lotus                      Evija  2022          NaN  1973.0   \n",
      "525       Porsche                     Taycan  2021          NaN   616.0   \n",
      "526         Rimac                      C_Two  2022          NaN  1914.0   \n",
      "527         Tesla              Model S Plaid  2022          NaN  1020.0   \n",
      "540         Tesla              Model S Plaid  2022          NaN  1020.0   \n",
      "543       Porsche             Taycan Turbo S  2022          NaN   750.0   \n",
      "608       Porsche                  Taycan 4S  2021          NaN   429.0   \n",
      "622         Tesla              Model S Plaid  2022          NaN  1020.0   \n",
      "626       Porsche  Panamera Turbo S E-Hybrid  2021          NaN   690.0   \n",
      "640         Rimac                     Nevera  2021          NaN  1914.0   \n",
      "642         Tesla              Model S Plaid  2021          NaN  1020.0   \n",
      "686         Rimac                      C_Two  2022          NaN  1914.0   \n",
      "697         Lotus                      Evija  2022          NaN  1972.0   \n",
      "717       Porsche             Taycan Turbo S  2022          NaN   750.0   \n",
      "732           BMW                         i8  2022          NaN   369.0   \n",
      "752       Porsche                     Taycan  2022          NaN   469.0   \n",
      "821         Tesla                   Roadster  2022          NaN  1000.0   \n",
      "824         Rimac                     Nevera  2021          NaN  1914.0   \n",
      "843       Porsche                     Taycan  2022          NaN   469.0   \n",
      "855       Ferrari              SF90 Stradale  2021          NaN   986.0   \n",
      "869       Porsche             Taycan Turbo S  2021          NaN   750.0   \n",
      "877         Lotus                      Evija  2021          NaN  2000.0   \n",
      "878      Maserati                GranTurismo  2021          NaN   550.0   \n",
      "916         Tesla                   Roadster  2022          NaN  1000.0   \n",
      "955       Porsche             Taycan Turbo S  2021          NaN   750.0   \n",
      "965         Tesla              Model S Plaid  2022          NaN  1020.0   \n",
      "967       Porsche  Panamera Turbo S E-Hybrid  2021          NaN   689.0   \n",
      "986         Rimac                     Nevera  2022          NaN  1914.0   \n",
      "987         Lotus                      Evija  2022          NaN  1973.0   \n",
      "988   Pininfarina                   Battista  2021          NaN  1872.0   \n",
      "1003        Lotus                      Evija  2021          NaN  1972.0   \n",
      "1006        Rimac                     Nevera  2021          NaN  1888.0   \n",
      "\n",
      "     torque  acceleration_seconds  price_usd  \n",
      "26     1696                  1.85    2400000  \n",
      "37      479                  3.80     104000  \n",
      "42      420                  4.20     148500  \n",
      "97     1696                  1.95    2400000  \n",
      "99      737                  1.90     200000  \n",
      "168    1696                  1.90    2400000  \n",
      "171    1050                  1.98     131190  \n",
      "185     774                  2.60     185000  \n",
      "222     774                  2.60     185000  \n",
      "247    1050                  1.90     131190  \n",
      "278    1732                  1.85    2400000  \n",
      "280    1696                  1.90    2500000  \n",
      "299     774                  2.60      79900  \n",
      "300    1050                  1.98     119000  \n",
      "305     774                  2.60     185000  \n",
      "320    1050                  1.90     131100  \n",
      "352    1696                  1.85    2400000  \n",
      "387    1696                  1.80    2400000  \n",
      "389       0                  1.90     200000  \n",
      "401    1050                  1.90     141190  \n",
      "420    1254                  2.50    2750000  \n",
      "439    1732                  1.80    2400000  \n",
      "509    1696                  1.90    2400000  \n",
      "511    1050                  1.90     141990  \n",
      "523    1254                  2.50    2600000  \n",
      "525     774                  2.60     185000  \n",
      "526    1696                  1.90    2400000  \n",
      "527    1050                  1.98     140000  \n",
      "540    1050                  1.98     139990  \n",
      "543     774                  2.60     185000  \n",
      "608     472                  3.80     103800  \n",
      "622    1050                  1.98     131190  \n",
      "626     641                  3.00     186350  \n",
      "640    1696                  1.90    2400000  \n",
      "642     NaN                  1.90     139990  \n",
      "686    1696                  1.85    2400000  \n",
      "697    1254                  2.50    2700000  \n",
      "717     774                  2.60     185000  \n",
      "732     184                  4.20     148500  \n",
      "752     479                  3.80      79900  \n",
      "821     737                  1.90     200000  \n",
      "824    1696                  1.85    2400000  \n",
      "843     263                  3.80      81250  \n",
      "855     590                  2.50     625000  \n",
      "869     774                  2.60     185000  \n",
      "877    1254                  2.80    2800000  \n",
      "878     NaN                  2.80     200000  \n",
      "916     NaN                  1.90     200000  \n",
      "955     774                  2.60     185000  \n",
      "965    1050                  1.90     141190  \n",
      "967     642                  3.00     190000  \n",
      "986    1696                  1.85    2400000  \n",
      "987    1254                  2.50    2000000  \n",
      "988    1696                  1.90    2500000  \n",
      "1003   1254                  2.00    2000000  \n",
      "1006   1696                  1.85    2400000  \n"
     ]
    }
   ],
   "source": [
    "rows_with_nan = data[data.isnull().any(axis=1)]\n",
    "\n",
    "# Выведем строки с пропущенными значениями\n",
    "print(rows_with_nan)"
   ]
  },
  {
   "cell_type": "code",
   "execution_count": 13,
   "metadata": {},
   "outputs": [
    {
     "data": {
      "text/html": [
       "<div>\n",
       "<style scoped>\n",
       "    .dataframe tbody tr th:only-of-type {\n",
       "        vertical-align: middle;\n",
       "    }\n",
       "\n",
       "    .dataframe tbody tr th {\n",
       "        vertical-align: top;\n",
       "    }\n",
       "\n",
       "    .dataframe thead th {\n",
       "        text-align: right;\n",
       "    }\n",
       "</style>\n",
       "<table border=\"1\" class=\"dataframe\">\n",
       "  <thead>\n",
       "    <tr style=\"text-align: right;\">\n",
       "      <th></th>\n",
       "      <th>car</th>\n",
       "      <th>model</th>\n",
       "      <th>year</th>\n",
       "      <th>engine_size</th>\n",
       "      <th>power</th>\n",
       "      <th>torque</th>\n",
       "      <th>acceleration_seconds</th>\n",
       "      <th>price_usd</th>\n",
       "    </tr>\n",
       "  </thead>\n",
       "  <tbody>\n",
       "    <tr>\n",
       "      <th>0</th>\n",
       "      <td>Porsche</td>\n",
       "      <td>911</td>\n",
       "      <td>2022</td>\n",
       "      <td>3.0</td>\n",
       "      <td>379.0</td>\n",
       "      <td>331</td>\n",
       "      <td>4.0</td>\n",
       "      <td>101200</td>\n",
       "    </tr>\n",
       "    <tr>\n",
       "      <th>1</th>\n",
       "      <td>Lamborghini</td>\n",
       "      <td>Huracan</td>\n",
       "      <td>2021</td>\n",
       "      <td>5.2</td>\n",
       "      <td>630.0</td>\n",
       "      <td>443</td>\n",
       "      <td>2.8</td>\n",
       "      <td>274390</td>\n",
       "    </tr>\n",
       "    <tr>\n",
       "      <th>2</th>\n",
       "      <td>Ferrari</td>\n",
       "      <td>488 GTB</td>\n",
       "      <td>2022</td>\n",
       "      <td>3.9</td>\n",
       "      <td>661.0</td>\n",
       "      <td>561</td>\n",
       "      <td>3.0</td>\n",
       "      <td>333750</td>\n",
       "    </tr>\n",
       "    <tr>\n",
       "      <th>3</th>\n",
       "      <td>Audi</td>\n",
       "      <td>R8</td>\n",
       "      <td>2022</td>\n",
       "      <td>5.2</td>\n",
       "      <td>562.0</td>\n",
       "      <td>406</td>\n",
       "      <td>3.2</td>\n",
       "      <td>142700</td>\n",
       "    </tr>\n",
       "    <tr>\n",
       "      <th>4</th>\n",
       "      <td>McLaren</td>\n",
       "      <td>720S</td>\n",
       "      <td>2021</td>\n",
       "      <td>4.0</td>\n",
       "      <td>710.0</td>\n",
       "      <td>568</td>\n",
       "      <td>2.7</td>\n",
       "      <td>298000</td>\n",
       "    </tr>\n",
       "  </tbody>\n",
       "</table>\n",
       "</div>"
      ],
      "text/plain": [
       "           car    model  year  engine_size  power torque  \\\n",
       "0      Porsche      911  2022          3.0  379.0    331   \n",
       "1  Lamborghini  Huracan  2021          5.2  630.0    443   \n",
       "2      Ferrari  488 GTB  2022          3.9  661.0    561   \n",
       "3         Audi       R8  2022          5.2  562.0    406   \n",
       "4      McLaren     720S  2021          4.0  710.0    568   \n",
       "\n",
       "   acceleration_seconds  price_usd  \n",
       "0                   4.0     101200  \n",
       "1                   2.8     274390  \n",
       "2                   3.0     333750  \n",
       "3                   3.2     142700  \n",
       "4                   2.7     298000  "
      ]
     },
     "execution_count": 13,
     "metadata": {},
     "output_type": "execute_result"
    }
   ],
   "source": [
    "# удалим из датасета строки с электрокарами, так как они не содержат информации о двигателе и крутящем моменте в силу особенности строения автомобиля\n",
    "data = data.dropna()\n",
    "data.head()\n"
   ]
  },
  {
   "cell_type": "code",
   "execution_count": 14,
   "metadata": {},
   "outputs": [
    {
     "data": {
      "image/png": "[encoded data removed]",
      "text/plain": [
       "<Figure size 640x480 with 1 Axes>"
      ]
     },
     "metadata": {},
     "output_type": "display_data"
    }
   ],
   "source": [
    "\n",
    "sns.boxplot(x=data.year)# найдено аномальное значение в году\n",
    "data = data.query('year > 1970') # уберем его"
   ]
  },
  {
   "cell_type": "markdown",
   "metadata": {},
   "source": [
    "Анализ данных"
   ]
  },
  {
   "cell_type": "markdown",
   "metadata": {},
   "source": [
    "Анализ по маркам автомобилей"
   ]
  },
  {
   "cell_type": "code",
   "execution_count": 15,
   "metadata": {},
   "outputs": [
    {
     "data": {
      "application/vnd.plotly.v1+json": {
       "config": {
        "plotlyServerURL": "https://plot.ly"
       },
       "data": [
        {
         "alignmentgroup": "True",
         "hovertemplate": "Автомобиль=%{x}<br>Количество=%{y}<extra></extra>",
         "legendgroup": "",
         "marker": {
          "color": "#636efa",
          "pattern": {
           "shape": ""
          }
         },
         "name": "",
         "offsetgroup": "",
         "orientation": "v",
         "showlegend": false,
         "textposition": "auto",
         "type": "bar",
         "x": [
          "Acura",
          "Alfa Romeo",
          "Alpine",
          "Ariel",
          "Aston Martin",
          "Audi",
          "BMW",
          "Bentley",
          "Bugatti",
          "Chevrolet",
          "Dodge",
          "Ferrari",
          "Ford",
          "Jaguar",
          "Kia",
          "Koenigsegg",
          "Lamborghini",
          "Lexus",
          "Lotus",
          "Maserati",
          "Mazda",
          "McLaren",
          "Mercedes-AMG",
          "Mercedes-Benz",
          "Nissan",
          "Pagani",
          "Polestar",
          "Porsche",
          "Rolls-Royce",
          "Subaru",
          "TVR",
          "Toyota",
          "Ultima",
          "W Motors"
         ],
         "xaxis": "x",
         "y": [
          16,
          16,
          1,
          1,
          50,
          71,
          61,
          25,
          22,
          60,
          41,
          54,
          48,
          30,
          1,
          15,
          66,
          26,
          29,
          24,
          1,
          75,
          11,
          54,
          37,
          12,
          1,
          73,
          10,
          3,
          2,
          5,
          1,
          3
         ],
         "yaxis": "y"
        }
       ],
       "layout": {
        "barmode": "relative",
        "legend": {
         "tracegroupgap": 0
        },
        "template": {
         "data": {
          "bar": [
           {
            "error_x": {
             "color": "#2a3f5f"
            },
            "error_y": {
             "color": "#2a3f5f"
            },
            "marker": {
             "line": {
              "color": "#E5ECF6",
              "width": 0.5
             },
             "pattern": {
              "fillmode": "overlay",
              "size": 10,
              "solidity": 0.2
             }
            },
            "type": "bar"
           }
          ],
          "barpolar": [
           {
            "marker": {
             "line": {
              "color": "#E5ECF6",
              "width": 0.5
             },
             "pattern": {
              "fillmode": "overlay",
              "size": 10,
              "solidity": 0.2
             }
            },
            "type": "barpolar"
           }
          ],
          "carpet": [
           {
            "aaxis": {
             "endlinecolor": "#2a3f5f",
             "gridcolor": "white",
             "linecolor": "white",
             "minorgridcolor": "white",
             "startlinecolor": "#2a3f5f"
            },
            "baxis": {
             "endlinecolor": "#2a3f5f",
             "gridcolor": "white",
             "linecolor": "white",
             "minorgridcolor": "white",
             "startlinecolor": "#2a3f5f"
            },
            "type": "carpet"
           }
          ],
          "choropleth": [
           {
            "colorbar": {
             "outlinewidth": 0,
             "ticks": ""
            },
            "type": "choropleth"
           }
          ],
          "contour": [
           {
            "colorbar": {
             "outlinewidth": 0,
             "ticks": ""
            },
            "colorscale": [
             [
              0,
              "#0d0887"
             ],
             [
              0.1111111111111111,
              "#46039f"
             ],
             [
              0.2222222222222222,
              "#7201a8"
             ],
             [
              0.3333333333333333,
              "#9c179e"
             ],
             [
              0.4444444444444444,
              "#bd3786"
             ],
             [
              0.5555555555555556,
              "#d8576b"
             ],
             [
              0.6666666666666666,
              "#ed7953"
             ],
             [
              0.7777777777777778,
              "#fb9f3a"
             ],
             [
              0.8888888888888888,
              "#fdca26"
             ],
             [
              1,
              "#f0f921"
             ]
            ],
            "type": "contour"
           }
          ],
          "contourcarpet": [
           {
            "colorbar": {
             "outlinewidth": 0,
             "ticks": ""
            },
            "type": "contourcarpet"
           }
          ],
          "heatmap": [
           {
            "colorbar": {
             "outlinewidth": 0,
             "ticks": ""
            },
            "colorscale": [
             [
              0,
              "#0d0887"
             ],
             [
              0.1111111111111111,
              "#46039f"
             ],
             [
              0.2222222222222222,
              "#7201a8"
             ],
             [
              0.3333333333333333,
              "#9c179e"
             ],
             [
              0.4444444444444444,
              "#bd3786"
             ],
             [
              0.5555555555555556,
              "#d8576b"
             ],
             [
              0.6666666666666666,
              "#ed7953"
             ],
             [
              0.7777777777777778,
              "#fb9f3a"
             ],
             [
              0.8888888888888888,
              "#fdca26"
             ],
             [
              1,
              "#f0f921"
             ]
            ],
            "type": "heatmap"
           }
          ],
          "heatmapgl": [
           {
            "colorbar": {
             "outlinewidth": 0,
             "ticks": ""
            },
            "colorscale": [
             [
              0,
              "#0d0887"
             ],
             [
              0.1111111111111111,
              "#46039f"
             ],
             [
              0.2222222222222222,
              "#7201a8"
             ],
             [
              0.3333333333333333,
              "#9c179e"
             ],
             [
              0.4444444444444444,
              "#bd3786"
             ],
             [
              0.5555555555555556,
              "#d8576b"
             ],
             [
              0.6666666666666666,
              "#ed7953"
             ],
             [
              0.7777777777777778,
              "#fb9f3a"
             ],
             [
              0.8888888888888888,
              "#fdca26"
             ],
             [
              1,
              "#f0f921"
             ]
            ],
            "type": "heatmapgl"
           }
          ],
          "histogram": [
           {
            "marker": {
             "pattern": {
              "fillmode": "overlay",
              "size": 10,
              "solidity": 0.2
             }
            },
            "type": "histogram"
           }
          ],
          "histogram2d": [
           {
            "colorbar": {
             "outlinewidth": 0,
             "ticks": ""
            },
            "colorscale": [
             [
              0,
              "#0d0887"
             ],
             [
              0.1111111111111111,
              "#46039f"
             ],
             [
              0.2222222222222222,
              "#7201a8"
             ],
             [
              0.3333333333333333,
              "#9c179e"
             ],
             [
              0.4444444444444444,
              "#bd3786"
             ],
             [
              0.5555555555555556,
              "#d8576b"
             ],
             [
              0.6666666666666666,
              "#ed7953"
             ],
             [
              0.7777777777777778,
              "#fb9f3a"
             ],
             [
              0.8888888888888888,
              "#fdca26"
             ],
             [
              1,
              "#f0f921"
             ]
            ],
            "type": "histogram2d"
           }
          ],
          "histogram2dcontour": [
           {
            "colorbar": {
             "outlinewidth": 0,
             "ticks": ""
            },
            "colorscale": [
             [
              0,
              "#0d0887"
             ],
             [
              0.1111111111111111,
              "#46039f"
             ],
             [
              0.2222222222222222,
              "#7201a8"
             ],
             [
              0.3333333333333333,
              "#9c179e"
             ],
             [
              0.4444444444444444,
              "#bd3786"
             ],
             [
              0.5555555555555556,
              "#d8576b"
             ],
             [
              0.6666666666666666,
              "#ed7953"
             ],
             [
              0.7777777777777778,
              "#fb9f3a"
             ],
             [
              0.8888888888888888,
              "#fdca26"
             ],
             [
              1,
              "#f0f921"
             ]
            ],
            "type": "histogram2dcontour"
           }
          ],
          "mesh3d": [
           {
            "colorbar": {
             "outlinewidth": 0,
             "ticks": ""
            },
            "type": "mesh3d"
           }
          ],
          "parcoords": [
           {
            "line": {
             "colorbar": {
              "outlinewidth": 0,
              "ticks": ""
             }
            },
            "type": "parcoords"
           }
          ],
          "pie": [
           {
            "automargin": true,
            "type": "pie"
           }
          ],
          "scatter": [
           {
            "fillpattern": {
             "fillmode": "overlay",
             "size": 10,
             "solidity": 0.2
            },
            "type": "scatter"
           }
          ],
          "scatter3d": [
           {
            "line": {
             "colorbar": {
              "outlinewidth": 0,
              "ticks": ""
             }
            },
            "marker": {
             "colorbar": {
              "outlinewidth": 0,
              "ticks": ""
             }
            },
            "type": "scatter3d"
           }
          ],
          "scattercarpet": [
           {
            "marker": {
             "colorbar": {
              "outlinewidth": 0,
              "ticks": ""
             }
            },
            "type": "scattercarpet"
           }
          ],
          "scattergeo": [
           {
            "marker": {
             "colorbar": {
              "outlinewidth": 0,
              "ticks": ""
             }
            },
            "type": "scattergeo"
           }
          ],
          "scattergl": [
           {
            "marker": {
             "colorbar": {
              "outlinewidth": 0,
              "ticks": ""
             }
            },
            "type": "scattergl"
           }
          ],
          "scattermapbox": [
           {
            "marker": {
             "colorbar": {
              "outlinewidth": 0,
              "ticks": ""
             }
            },
            "type": "scattermapbox"
           }
          ],
          "scatterpolar": [
           {
            "marker": {
             "colorbar": {
              "outlinewidth": 0,
              "ticks": ""
             }
            },
            "type": "scatterpolar"
           }
          ],
          "scatterpolargl": [
           {
            "marker": {
             "colorbar": {
              "outlinewidth": 0,
              "ticks": ""
             }
            },
            "type": "scatterpolargl"
           }
          ],
          "scatterternary": [
           {
            "marker": {
             "colorbar": {
              "outlinewidth": 0,
              "ticks": ""
             }
            },
            "type": "scatterternary"
           }
          ],
          "surface": [
           {
            "colorbar": {
             "outlinewidth": 0,
             "ticks": ""
            },
            "colorscale": [
             [
              0,
              "#0d0887"
             ],
             [
              0.1111111111111111,
              "#46039f"
             ],
             [
              0.2222222222222222,
              "#7201a8"
             ],
             [
              0.3333333333333333,
              "#9c179e"
             ],
             [
              0.4444444444444444,
              "#bd3786"
             ],
             [
              0.5555555555555556,
              "#d8576b"
             ],
             [
              0.6666666666666666,
              "#ed7953"
             ],
             [
              0.7777777777777778,
              "#fb9f3a"
             ],
             [
              0.8888888888888888,
              "#fdca26"
             ],
             [
              1,
              "#f0f921"
             ]
            ],
            "type": "surface"
           }
          ],
          "table": [
           {
            "cells": {
             "fill": {
              "color": "#EBF0F8"
             },
             "line": {
              "color": "white"
             }
            },
            "header": {
             "fill": {
              "color": "#C8D4E3"
             },
             "line": {
              "color": "white"
             }
            },
            "type": "table"
           }
          ]
         },
         "layout": {
          "annotationdefaults": {
           "arrowcolor": "#2a3f5f",
           "arrowhead": 0,
           "arrowwidth": 1
          },
          "autotypenumbers": "strict",
          "coloraxis": {
           "colorbar": {
            "outlinewidth": 0,
            "ticks": ""
           }
          },
          "colorscale": {
           "diverging": [
            [
             0,
             "#8e0152"
            ],
            [
             0.1,
             "#c51b7d"
            ],
            [
             0.2,
             "#de77ae"
            ],
            [
             0.3,
             "#f1b6da"
            ],
            [
             0.4,
             "#fde0ef"
            ],
            [
             0.5,
             "#f7f7f7"
            ],
            [
             0.6,
             "#e6f5d0"
            ],
            [
             0.7,
             "#b8e186"
            ],
            [
             0.8,
             "#7fbc41"
            ],
            [
             0.9,
             "#4d9221"
            ],
            [
             1,
             "#276419"
            ]
           ],
           "sequential": [
            [
             0,
             "#0d0887"
            ],
            [
             0.1111111111111111,
             "#46039f"
            ],
            [
             0.2222222222222222,
             "#7201a8"
            ],
            [
             0.3333333333333333,
             "#9c179e"
            ],
            [
             0.4444444444444444,
             "#bd3786"
            ],
            [
             0.5555555555555556,
             "#d8576b"
            ],
            [
             0.6666666666666666,
             "#ed7953"
            ],
            [
             0.7777777777777778,
             "#fb9f3a"
            ],
            [
             0.8888888888888888,
             "#fdca26"
            ],
            [
             1,
             "#f0f921"
            ]
           ],
           "sequentialminus": [
            [
             0,
             "#0d0887"
            ],
            [
             0.1111111111111111,
             "#46039f"
            ],
            [
             0.2222222222222222,
             "#7201a8"
            ],
            [
             0.3333333333333333,
             "#9c179e"
            ],
            [
             0.4444444444444444,
             "#bd3786"
            ],
            [
             0.5555555555555556,
             "#d8576b"
            ],
            [
             0.6666666666666666,
             "#ed7953"
            ],
            [
             0.7777777777777778,
             "#fb9f3a"
            ],
            [
             0.8888888888888888,
             "#fdca26"
            ],
            [
             1,
             "#f0f921"
            ]
           ]
          },
          "colorway": [
           "#636efa",
           "#EF553B",
           "#00cc96",
           "#ab63fa",
           "#FFA15A",
           "#19d3f3",
           "#FF6692",
           "#B6E880",
           "#FF97FF",
           "#FECB52"
          ],
          "font": {
           "color": "#2a3f5f"
          },
          "geo": {
           "bgcolor": "white",
           "lakecolor": "white",
           "landcolor": "#E5ECF6",
           "showlakes": true,
           "showland": true,
           "subunitcolor": "white"
          },
          "hoverlabel": {
           "align": "left"
          },
          "hovermode": "closest",
          "mapbox": {
           "style": "light"
          },
          "paper_bgcolor": "white",
          "plot_bgcolor": "#E5ECF6",
          "polar": {
           "angularaxis": {
            "gridcolor": "white",
            "linecolor": "white",
            "ticks": ""
           },
           "bgcolor": "#E5ECF6",
           "radialaxis": {
            "gridcolor": "white",
            "linecolor": "white",
            "ticks": ""
           }
          },
          "scene": {
           "xaxis": {
            "backgroundcolor": "#E5ECF6",
            "gridcolor": "white",
            "gridwidth": 2,
            "linecolor": "white",
            "showbackground": true,
            "ticks": "",
            "zerolinecolor": "white"
           },
           "yaxis": {
            "backgroundcolor": "#E5ECF6",
            "gridcolor": "white",
            "gridwidth": 2,
            "linecolor": "white",
            "showbackground": true,
            "ticks": "",
            "zerolinecolor": "white"
           },
           "zaxis": {
            "backgroundcolor": "#E5ECF6",
            "gridcolor": "white",
            "gridwidth": 2,
            "linecolor": "white",
            "showbackground": true,
            "ticks": "",
            "zerolinecolor": "white"
           }
          },
          "shapedefaults": {
           "line": {
            "color": "#2a3f5f"
           }
          },
          "ternary": {
           "aaxis": {
            "gridcolor": "white",
            "linecolor": "white",
            "ticks": ""
           },
           "baxis": {
            "gridcolor": "white",
            "linecolor": "white",
            "ticks": ""
           },
           "bgcolor": "#E5ECF6",
           "caxis": {
            "gridcolor": "white",
            "linecolor": "white",
            "ticks": ""
           }
          },
          "title": {
           "x": 0.05
          },
          "xaxis": {
           "automargin": true,
           "gridcolor": "white",
           "linecolor": "white",
           "ticks": "",
           "title": {
            "standoff": 15
           },
           "zerolinecolor": "white",
           "zerolinewidth": 2
          },
          "yaxis": {
           "automargin": true,
           "gridcolor": "white",
           "linecolor": "white",
           "ticks": "",
           "title": {
            "standoff": 15
           },
           "zerolinecolor": "white",
           "zerolinewidth": 2
          }
         }
        },
        "title": {
         "text": "Количество моделей производимых марками"
        },
        "xaxis": {
         "anchor": "y",
         "domain": [
          0,
          1
         ],
         "title": {
          "text": "Марка автомобиля"
         }
        },
        "yaxis": {
         "anchor": "x",
         "domain": [
          0,
          1
         ],
         "title": {
          "text": "Количество"
         }
        }
       }
      }
     },
     "metadata": {},
     "output_type": "display_data"
    }
   ],
   "source": [
    "car_counts = data.groupby('car').size().reset_index(name='counts')\n",
    "fig = px.bar(car_counts, x='car', y='counts', title='Количество моделей производимых марками', \n",
    "             labels={'car': 'Автомобиль', 'counts': 'Количество'})\n",
    "fig.update_layout(xaxis_title='Марка автомобиля')\n",
    "fig.show()"
   ]
  },
  {
   "cell_type": "markdown",
   "metadata": {},
   "source": [
    "Анализ по моделям"
   ]
  },
  {
   "cell_type": "code",
   "execution_count": 16,
   "metadata": {},
   "outputs": [
    {
     "data": {
      "application/vnd.plotly.v1+json": {
       "config": {
        "plotlyServerURL": "https://plot.ly"
       },
       "data": [
        {
         "hole": 0.3,
         "labels": [
          "570S",
          "570S Spider",
          "600LT",
          "600LT Spider",
          "720S",
          "765LT",
          "Artura",
          "GT",
          "Senna",
          "Speedtail"
         ],
         "marker": {
          "colors": [
           "#FFA07A",
           "#00FFFF",
           "#B0E0E6",
           "#9ACD32"
          ]
         },
         "type": "pie",
         "values": [
          23,
          1,
          6,
          3,
          2,
          2,
          12,
          21,
          4,
          1
         ]
        }
       ],
       "layout": {
        "annotations": [
         {
          "font": {
           "size": 20
          },
          "showarrow": false,
          "text": "McLaren",
          "x": 0.5,
          "y": 0.5
         }
        ],
        "template": {
         "data": {
          "bar": [
           {
            "error_x": {
             "color": "#2a3f5f"
            },
            "error_y": {
             "color": "#2a3f5f"
            },
            "marker": {
             "line": {
              "color": "#E5ECF6",
              "width": 0.5
             },
             "pattern": {
              "fillmode": "overlay",
              "size": 10,
              "solidity": 0.2
             }
            },
            "type": "bar"
           }
          ],
          "barpolar": [
           {
            "marker": {
             "line": {
              "color": "#E5ECF6",
              "width": 0.5
             },
             "pattern": {
              "fillmode": "overlay",
              "size": 10,
              "solidity": 0.2
             }
            },
            "type": "barpolar"
           }
          ],
          "carpet": [
           {
            "aaxis": {
             "endlinecolor": "#2a3f5f",
             "gridcolor": "white",
             "linecolor": "white",
             "minorgridcolor": "white",
             "startlinecolor": "#2a3f5f"
            },
            "baxis": {
             "endlinecolor": "#2a3f5f",
             "gridcolor": "white",
             "linecolor": "white",
             "minorgridcolor": "white",
             "startlinecolor": "#2a3f5f"
            },
            "type": "carpet"
           }
          ],
          "choropleth": [
           {
            "colorbar": {
             "outlinewidth": 0,
             "ticks": ""
            },
            "type": "choropleth"
           }
          ],
          "contour": [
           {
            "colorbar": {
             "outlinewidth": 0,
             "ticks": ""
            },
            "colorscale": [
             [
              0,
              "#0d0887"
             ],
             [
              0.1111111111111111,
              "#46039f"
             ],
             [
              0.2222222222222222,
              "#7201a8"
             ],
             [
              0.3333333333333333,
              "#9c179e"
             ],
             [
              0.4444444444444444,
              "#bd3786"
             ],
             [
              0.5555555555555556,
              "#d8576b"
             ],
             [
              0.6666666666666666,
              "#ed7953"
             ],
             [
              0.7777777777777778,
              "#fb9f3a"
             ],
             [
              0.8888888888888888,
              "#fdca26"
             ],
             [
              1,
              "#f0f921"
             ]
            ],
            "type": "contour"
           }
          ],
          "contourcarpet": [
           {
            "colorbar": {
             "outlinewidth": 0,
             "ticks": ""
            },
            "type": "contourcarpet"
           }
          ],
          "heatmap": [
           {
            "colorbar": {
             "outlinewidth": 0,
             "ticks": ""
            },
            "colorscale": [
             [
              0,
              "#0d0887"
             ],
             [
              0.1111111111111111,
              "#46039f"
             ],
             [
              0.2222222222222222,
              "#7201a8"
             ],
             [
              0.3333333333333333,
              "#9c179e"
             ],
             [
              0.4444444444444444,
              "#bd3786"
             ],
             [
              0.5555555555555556,
              "#d8576b"
             ],
             [
              0.6666666666666666,
              "#ed7953"
             ],
             [
              0.7777777777777778,
              "#fb9f3a"
             ],
             [
              0.8888888888888888,
              "#fdca26"
             ],
             [
              1,
              "#f0f921"
             ]
            ],
            "type": "heatmap"
           }
          ],
          "heatmapgl": [
           {
            "colorbar": {
             "outlinewidth": 0,
             "ticks": ""
            },
            "colorscale": [
             [
              0,
              "#0d0887"
             ],
             [
              0.1111111111111111,
              "#46039f"
             ],
             [
              0.2222222222222222,
              "#7201a8"
             ],
             [
              0.3333333333333333,
              "#9c179e"
             ],
             [
              0.4444444444444444,
              "#bd3786"
             ],
             [
              0.5555555555555556,
              "#d8576b"
             ],
             [
              0.6666666666666666,
              "#ed7953"
             ],
             [
              0.7777777777777778,
              "#fb9f3a"
             ],
             [
              0.8888888888888888,
              "#fdca26"
             ],
             [
              1,
              "#f0f921"
             ]
            ],
            "type": "heatmapgl"
           }
          ],
          "histogram": [
           {
            "marker": {
             "pattern": {
              "fillmode": "overlay",
              "size": 10,
              "solidity": 0.2
             }
            },
            "type": "histogram"
           }
          ],
          "histogram2d": [
           {
            "colorbar": {
             "outlinewidth": 0,
             "ticks": ""
            },
            "colorscale": [
             [
              0,
              "#0d0887"
             ],
             [
              0.1111111111111111,
              "#46039f"
             ],
             [
              0.2222222222222222,
              "#7201a8"
             ],
             [
              0.3333333333333333,
              "#9c179e"
             ],
             [
              0.4444444444444444,
              "#bd3786"
             ],
             [
              0.5555555555555556,
              "#d8576b"
             ],
             [
              0.6666666666666666,
              "#ed7953"
             ],
             [
              0.7777777777777778,
              "#fb9f3a"
             ],
             [
              0.8888888888888888,
              "#fdca26"
             ],
             [
              1,
              "#f0f921"
             ]
            ],
            "type": "histogram2d"
           }
          ],
          "histogram2dcontour": [
           {
            "colorbar": {
             "outlinewidth": 0,
             "ticks": ""
            },
            "colorscale": [
             [
              0,
              "#0d0887"
             ],
             [
              0.1111111111111111,
              "#46039f"
             ],
             [
              0.2222222222222222,
              "#7201a8"
             ],
             [
              0.3333333333333333,
              "#9c179e"
             ],
             [
              0.4444444444444444,
              "#bd3786"
             ],
             [
              0.5555555555555556,
              "#d8576b"
             ],
             [
              0.6666666666666666,
              "#ed7953"
             ],
             [
              0.7777777777777778,
              "#fb9f3a"
             ],
             [
              0.8888888888888888,
              "#fdca26"
             ],
             [
              1,
              "#f0f921"
             ]
            ],
            "type": "histogram2dcontour"
           }
          ],
          "mesh3d": [
           {
            "colorbar": {
             "outlinewidth": 0,
             "ticks": ""
            },
            "type": "mesh3d"
           }
          ],
          "parcoords": [
           {
            "line": {
             "colorbar": {
              "outlinewidth": 0,
              "ticks": ""
             }
            },
            "type": "parcoords"
           }
          ],
          "pie": [
           {
            "automargin": true,
            "type": "pie"
           }
          ],
          "scatter": [
           {
            "fillpattern": {
             "fillmode": "overlay",
             "size": 10,
             "solidity": 0.2
            },
            "type": "scatter"
           }
          ],
          "scatter3d": [
           {
            "line": {
             "colorbar": {
              "outlinewidth": 0,
              "ticks": ""
             }
            },
            "marker": {
             "colorbar": {
              "outlinewidth": 0,
              "ticks": ""
             }
            },
            "type": "scatter3d"
           }
          ],
          "scattercarpet": [
           {
            "marker": {
             "colorbar": {
              "outlinewidth": 0,
              "ticks": ""
             }
            },
            "type": "scattercarpet"
           }
          ],
          "scattergeo": [
           {
            "marker": {
             "colorbar": {
              "outlinewidth": 0,
              "ticks": ""
             }
            },
            "type": "scattergeo"
           }
          ],
          "scattergl": [
           {
            "marker": {
             "colorbar": {
              "outlinewidth": 0,
              "ticks": ""
             }
            },
            "type": "scattergl"
           }
          ],
          "scattermapbox": [
           {
            "marker": {
             "colorbar": {
              "outlinewidth": 0,
              "ticks": ""
             }
            },
            "type": "scattermapbox"
           }
          ],
          "scatterpolar": [
           {
            "marker": {
             "colorbar": {
              "outlinewidth": 0,
              "ticks": ""
             }
            },
            "type": "scatterpolar"
           }
          ],
          "scatterpolargl": [
           {
            "marker": {
             "colorbar": {
              "outlinewidth": 0,
              "ticks": ""
             }
            },
            "type": "scatterpolargl"
           }
          ],
          "scatterternary": [
           {
            "marker": {
             "colorbar": {
              "outlinewidth": 0,
              "ticks": ""
             }
            },
            "type": "scatterternary"
           }
          ],
          "surface": [
           {
            "colorbar": {
             "outlinewidth": 0,
             "ticks": ""
            },
            "colorscale": [
             [
              0,
              "#0d0887"
             ],
             [
              0.1111111111111111,
              "#46039f"
             ],
             [
              0.2222222222222222,
              "#7201a8"
             ],
             [
              0.3333333333333333,
              "#9c179e"
             ],
             [
              0.4444444444444444,
              "#bd3786"
             ],
             [
              0.5555555555555556,
              "#d8576b"
             ],
             [
              0.6666666666666666,
              "#ed7953"
             ],
             [
              0.7777777777777778,
              "#fb9f3a"
             ],
             [
              0.8888888888888888,
              "#fdca26"
             ],
             [
              1,
              "#f0f921"
             ]
            ],
            "type": "surface"
           }
          ],
          "table": [
           {
            "cells": {
             "fill": {
              "color": "#EBF0F8"
             },
             "line": {
              "color": "white"
             }
            },
            "header": {
             "fill": {
              "color": "#C8D4E3"
             },
             "line": {
              "color": "white"
             }
            },
            "type": "table"
           }
          ]
         },
         "layout": {
          "annotationdefaults": {
           "arrowcolor": "#2a3f5f",
           "arrowhead": 0,
           "arrowwidth": 1
          },
          "autotypenumbers": "strict",
          "coloraxis": {
           "colorbar": {
            "outlinewidth": 0,
            "ticks": ""
           }
          },
          "colorscale": {
           "diverging": [
            [
             0,
             "#8e0152"
            ],
            [
             0.1,
             "#c51b7d"
            ],
            [
             0.2,
             "#de77ae"
            ],
            [
             0.3,
             "#f1b6da"
            ],
            [
             0.4,
             "#fde0ef"
            ],
            [
             0.5,
             "#f7f7f7"
            ],
            [
             0.6,
             "#e6f5d0"
            ],
            [
             0.7,
             "#b8e186"
            ],
            [
             0.8,
             "#7fbc41"
            ],
            [
             0.9,
             "#4d9221"
            ],
            [
             1,
             "#276419"
            ]
           ],
           "sequential": [
            [
             0,
             "#0d0887"
            ],
            [
             0.1111111111111111,
             "#46039f"
            ],
            [
             0.2222222222222222,
             "#7201a8"
            ],
            [
             0.3333333333333333,
             "#9c179e"
            ],
            [
             0.4444444444444444,
             "#bd3786"
            ],
            [
             0.5555555555555556,
             "#d8576b"
            ],
            [
             0.6666666666666666,
             "#ed7953"
            ],
            [
             0.7777777777777778,
             "#fb9f3a"
            ],
            [
             0.8888888888888888,
             "#fdca26"
            ],
            [
             1,
             "#f0f921"
            ]
           ],
           "sequentialminus": [
            [
             0,
             "#0d0887"
            ],
            [
             0.1111111111111111,
             "#46039f"
            ],
            [
             0.2222222222222222,
             "#7201a8"
            ],
            [
             0.3333333333333333,
             "#9c179e"
            ],
            [
             0.4444444444444444,
             "#bd3786"
            ],
            [
             0.5555555555555556,
             "#d8576b"
            ],
            [
             0.6666666666666666,
             "#ed7953"
            ],
            [
             0.7777777777777778,
             "#fb9f3a"
            ],
            [
             0.8888888888888888,
             "#fdca26"
            ],
            [
             1,
             "#f0f921"
            ]
           ]
          },
          "colorway": [
           "#636efa",
           "#EF553B",
           "#00cc96",
           "#ab63fa",
           "#FFA15A",
           "#19d3f3",
           "#FF6692",
           "#B6E880",
           "#FF97FF",
           "#FECB52"
          ],
          "font": {
           "color": "#2a3f5f"
          },
          "geo": {
           "bgcolor": "white",
           "lakecolor": "white",
           "landcolor": "#E5ECF6",
           "showlakes": true,
           "showland": true,
           "subunitcolor": "white"
          },
          "hoverlabel": {
           "align": "left"
          },
          "hovermode": "closest",
          "mapbox": {
           "style": "light"
          },
          "paper_bgcolor": "white",
          "plot_bgcolor": "#E5ECF6",
          "polar": {
           "angularaxis": {
            "gridcolor": "white",
            "linecolor": "white",
            "ticks": ""
           },
           "bgcolor": "#E5ECF6",
           "radialaxis": {
            "gridcolor": "white",
            "linecolor": "white",
            "ticks": ""
           }
          },
          "scene": {
           "xaxis": {
            "backgroundcolor": "#E5ECF6",
            "gridcolor": "white",
            "gridwidth": 2,
            "linecolor": "white",
            "showbackground": true,
            "ticks": "",
            "zerolinecolor": "white"
           },
           "yaxis": {
            "backgroundcolor": "#E5ECF6",
            "gridcolor": "white",
            "gridwidth": 2,
            "linecolor": "white",
            "showbackground": true,
            "ticks": "",
            "zerolinecolor": "white"
           },
           "zaxis": {
            "backgroundcolor": "#E5ECF6",
            "gridcolor": "white",
            "gridwidth": 2,
            "linecolor": "white",
            "showbackground": true,
            "ticks": "",
            "zerolinecolor": "white"
           }
          },
          "shapedefaults": {
           "line": {
            "color": "#2a3f5f"
           }
          },
          "ternary": {
           "aaxis": {
            "gridcolor": "white",
            "linecolor": "white",
            "ticks": ""
           },
           "baxis": {
            "gridcolor": "white",
            "linecolor": "white",
            "ticks": ""
           },
           "bgcolor": "#E5ECF6",
           "caxis": {
            "gridcolor": "white",
            "linecolor": "white",
            "ticks": ""
           }
          },
          "title": {
           "x": 0.05
          },
          "xaxis": {
           "automargin": true,
           "gridcolor": "white",
           "linecolor": "white",
           "ticks": "",
           "title": {
            "standoff": 15
           },
           "zerolinecolor": "white",
           "zerolinewidth": 2
          },
          "yaxis": {
           "automargin": true,
           "gridcolor": "white",
           "linecolor": "white",
           "ticks": "",
           "title": {
            "standoff": 15
           },
           "zerolinecolor": "white",
           "zerolinewidth": 2
          }
         }
        },
        "title": {
         "text": "Описание моделей для McLaren"
        }
       }
      }
     },
     "metadata": {},
     "output_type": "display_data"
    },
    {
     "data": {
      "application/vnd.plotly.v1+json": {
       "config": {
        "plotlyServerURL": "https://plot.ly"
       },
       "data": [
        {
         "hole": 0.3,
         "labels": [
          "718 Boxster",
          "718 Cayman",
          "718 Cayman GT4",
          "911",
          "911 Turbo S",
          "918 Spyder",
          "Boxster",
          "Cayman",
          "Cayman GT4",
          "Panamera",
          "Panamera GTS",
          "Panamera Turbo",
          "Panamera Turbo S",
          "Panamera Turbo S E-Hybrid",
          "Taycan",
          "Taycan 4S"
         ],
         "marker": {
          "colors": [
           "#FFA07A",
           "#00FFFF",
           "#B0E0E6",
           "#9ACD32"
          ]
         },
         "type": "pie",
         "values": [
          5,
          8,
          3,
          2,
          1,
          1,
          3,
          7,
          20,
          8,
          1,
          1,
          7,
          3,
          2,
          1
         ]
        }
       ],
       "layout": {
        "annotations": [
         {
          "font": {
           "size": 20
          },
          "showarrow": false,
          "text": "Porsche",
          "x": 0.5,
          "y": 0.5
         }
        ],
        "template": {
         "data": {
          "bar": [
           {
            "error_x": {
             "color": "#2a3f5f"
            },
            "error_y": {
             "color": "#2a3f5f"
            },
            "marker": {
             "line": {
              "color": "#E5ECF6",
              "width": 0.5
             },
             "pattern": {
              "fillmode": "overlay",
              "size": 10,
              "solidity": 0.2
             }
            },
            "type": "bar"
           }
          ],
          "barpolar": [
           {
            "marker": {
             "line": {
              "color": "#E5ECF6",
              "width": 0.5
             },
             "pattern": {
              "fillmode": "overlay",
              "size": 10,
              "solidity": 0.2
             }
            },
            "type": "barpolar"
           }
          ],
          "carpet": [
           {
            "aaxis": {
             "endlinecolor": "#2a3f5f",
             "gridcolor": "white",
             "linecolor": "white",
             "minorgridcolor": "white",
             "startlinecolor": "#2a3f5f"
            },
            "baxis": {
             "endlinecolor": "#2a3f5f",
             "gridcolor": "white",
             "linecolor": "white",
             "minorgridcolor": "white",
             "startlinecolor": "#2a3f5f"
            },
            "type": "carpet"
           }
          ],
          "choropleth": [
           {
            "colorbar": {
             "outlinewidth": 0,
             "ticks": ""
            },
            "type": "choropleth"
           }
          ],
          "contour": [
           {
            "colorbar": {
             "outlinewidth": 0,
             "ticks": ""
            },
            "colorscale": [
             [
              0,
              "#0d0887"
             ],
             [
              0.1111111111111111,
              "#46039f"
             ],
             [
              0.2222222222222222,
              "#7201a8"
             ],
             [
              0.3333333333333333,
              "#9c179e"
             ],
             [
              0.4444444444444444,
              "#bd3786"
             ],
             [
              0.5555555555555556,
              "#d8576b"
             ],
             [
              0.6666666666666666,
              "#ed7953"
             ],
             [
              0.7777777777777778,
              "#fb9f3a"
             ],
             [
              0.8888888888888888,
              "#fdca26"
             ],
             [
              1,
              "#f0f921"
             ]
            ],
            "type": "contour"
           }
          ],
          "contourcarpet": [
           {
            "colorbar": {
             "outlinewidth": 0,
             "ticks": ""
            },
            "type": "contourcarpet"
           }
          ],
          "heatmap": [
           {
            "colorbar": {
             "outlinewidth": 0,
             "ticks": ""
            },
            "colorscale": [
             [
              0,
              "#0d0887"
             ],
             [
              0.1111111111111111,
              "#46039f"
             ],
             [
              0.2222222222222222,
              "#7201a8"
             ],
             [
              0.3333333333333333,
              "#9c179e"
             ],
             [
              0.4444444444444444,
              "#bd3786"
             ],
             [
              0.5555555555555556,
              "#d8576b"
             ],
             [
              0.6666666666666666,
              "#ed7953"
             ],
             [
              0.7777777777777778,
              "#fb9f3a"
             ],
             [
              0.8888888888888888,
              "#fdca26"
             ],
             [
              1,
              "#f0f921"
             ]
            ],
            "type": "heatmap"
           }
          ],
          "heatmapgl": [
           {
            "colorbar": {
             "outlinewidth": 0,
             "ticks": ""
            },
            "colorscale": [
             [
              0,
              "#0d0887"
             ],
             [
              0.1111111111111111,
              "#46039f"
             ],
             [
              0.2222222222222222,
              "#7201a8"
             ],
             [
              0.3333333333333333,
              "#9c179e"
             ],
             [
              0.4444444444444444,
              "#bd3786"
             ],
             [
              0.5555555555555556,
              "#d8576b"
             ],
             [
              0.6666666666666666,
              "#ed7953"
             ],
             [
              0.7777777777777778,
              "#fb9f3a"
             ],
             [
              0.8888888888888888,
              "#fdca26"
             ],
             [
              1,
              "#f0f921"
             ]
            ],
            "type": "heatmapgl"
           }
          ],
          "histogram": [
           {
            "marker": {
             "pattern": {
              "fillmode": "overlay",
              "size": 10,
              "solidity": 0.2
             }
            },
            "type": "histogram"
           }
          ],
          "histogram2d": [
           {
            "colorbar": {
             "outlinewidth": 0,
             "ticks": ""
            },
            "colorscale": [
             [
              0,
              "#0d0887"
             ],
             [
              0.1111111111111111,
              "#46039f"
             ],
             [
              0.2222222222222222,
              "#7201a8"
             ],
             [
              0.3333333333333333,
              "#9c179e"
             ],
             [
              0.4444444444444444,
              "#bd3786"
             ],
             [
              0.5555555555555556,
              "#d8576b"
             ],
             [
              0.6666666666666666,
              "#ed7953"
             ],
             [
              0.7777777777777778,
              "#fb9f3a"
             ],
             [
              0.8888888888888888,
              "#fdca26"
             ],
             [
              1,
              "#f0f921"
             ]
            ],
            "type": "histogram2d"
           }
          ],
          "histogram2dcontour": [
           {
            "colorbar": {
             "outlinewidth": 0,
             "ticks": ""
            },
            "colorscale": [
             [
              0,
              "#0d0887"
             ],
             [
              0.1111111111111111,
              "#46039f"
             ],
             [
              0.2222222222222222,
              "#7201a8"
             ],
             [
              0.3333333333333333,
              "#9c179e"
             ],
             [
              0.4444444444444444,
              "#bd3786"
             ],
             [
              0.5555555555555556,
              "#d8576b"
             ],
             [
              0.6666666666666666,
              "#ed7953"
             ],
             [
              0.7777777777777778,
              "#fb9f3a"
             ],
             [
              0.8888888888888888,
              "#fdca26"
             ],
             [
              1,
              "#f0f921"
             ]
            ],
            "type": "histogram2dcontour"
           }
          ],
          "mesh3d": [
           {
            "colorbar": {
             "outlinewidth": 0,
             "ticks": ""
            },
            "type": "mesh3d"
           }
          ],
          "parcoords": [
           {
            "line": {
             "colorbar": {
              "outlinewidth": 0,
              "ticks": ""
             }
            },
            "type": "parcoords"
           }
          ],
          "pie": [
           {
            "automargin": true,
            "type": "pie"
           }
          ],
          "scatter": [
           {
            "fillpattern": {
             "fillmode": "overlay",
             "size": 10,
             "solidity": 0.2
            },
            "type": "scatter"
           }
          ],
          "scatter3d": [
           {
            "line": {
             "colorbar": {
              "outlinewidth": 0,
              "ticks": ""
             }
            },
            "marker": {
             "colorbar": {
              "outlinewidth": 0,
              "ticks": ""
             }
            },
            "type": "scatter3d"
           }
          ],
          "scattercarpet": [
           {
            "marker": {
             "colorbar": {
              "outlinewidth": 0,
              "ticks": ""
             }
            },
            "type": "scattercarpet"
           }
          ],
          "scattergeo": [
           {
            "marker": {
             "colorbar": {
              "outlinewidth": 0,
              "ticks": ""
             }
            },
            "type": "scattergeo"
           }
          ],
          "scattergl": [
           {
            "marker": {
             "colorbar": {
              "outlinewidth": 0,
              "ticks": ""
             }
            },
            "type": "scattergl"
           }
          ],
          "scattermapbox": [
           {
            "marker": {
             "colorbar": {
              "outlinewidth": 0,
              "ticks": ""
             }
            },
            "type": "scattermapbox"
           }
          ],
          "scatterpolar": [
           {
            "marker": {
             "colorbar": {
              "outlinewidth": 0,
              "ticks": ""
             }
            },
            "type": "scatterpolar"
           }
          ],
          "scatterpolargl": [
           {
            "marker": {
             "colorbar": {
              "outlinewidth": 0,
              "ticks": ""
             }
            },
            "type": "scatterpolargl"
           }
          ],
          "scatterternary": [
           {
            "marker": {
             "colorbar": {
              "outlinewidth": 0,
              "ticks": ""
             }
            },
            "type": "scatterternary"
           }
          ],
          "surface": [
           {
            "colorbar": {
             "outlinewidth": 0,
             "ticks": ""
            },
            "colorscale": [
             [
              0,
              "#0d0887"
             ],
             [
              0.1111111111111111,
              "#46039f"
             ],
             [
              0.2222222222222222,
              "#7201a8"
             ],
             [
              0.3333333333333333,
              "#9c179e"
             ],
             [
              0.4444444444444444,
              "#bd3786"
             ],
             [
              0.5555555555555556,
              "#d8576b"
             ],
             [
              0.6666666666666666,
              "#ed7953"
             ],
             [
              0.7777777777777778,
              "#fb9f3a"
             ],
             [
              0.8888888888888888,
              "#fdca26"
             ],
             [
              1,
              "#f0f921"
             ]
            ],
            "type": "surface"
           }
          ],
          "table": [
           {
            "cells": {
             "fill": {
              "color": "#EBF0F8"
             },
             "line": {
              "color": "white"
             }
            },
            "header": {
             "fill": {
              "color": "#C8D4E3"
             },
             "line": {
              "color": "white"
             }
            },
            "type": "table"
           }
          ]
         },
         "layout": {
          "annotationdefaults": {
           "arrowcolor": "#2a3f5f",
           "arrowhead": 0,
           "arrowwidth": 1
          },
          "autotypenumbers": "strict",
          "coloraxis": {
           "colorbar": {
            "outlinewidth": 0,
            "ticks": ""
           }
          },
          "colorscale": {
           "diverging": [
            [
             0,
             "#8e0152"
            ],
            [
             0.1,
             "#c51b7d"
            ],
            [
             0.2,
             "#de77ae"
            ],
            [
             0.3,
             "#f1b6da"
            ],
            [
             0.4,
             "#fde0ef"
            ],
            [
             0.5,
             "#f7f7f7"
            ],
            [
             0.6,
             "#e6f5d0"
            ],
            [
             0.7,
             "#b8e186"
            ],
            [
             0.8,
             "#7fbc41"
            ],
            [
             0.9,
             "#4d9221"
            ],
            [
             1,
             "#276419"
            ]
           ],
           "sequential": [
            [
             0,
             "#0d0887"
            ],
            [
             0.1111111111111111,
             "#46039f"
            ],
            [
             0.2222222222222222,
             "#7201a8"
            ],
            [
             0.3333333333333333,
             "#9c179e"
            ],
            [
             0.4444444444444444,
             "#bd3786"
            ],
            [
             0.5555555555555556,
             "#d8576b"
            ],
            [
             0.6666666666666666,
             "#ed7953"
            ],
            [
             0.7777777777777778,
             "#fb9f3a"
            ],
            [
             0.8888888888888888,
             "#fdca26"
            ],
            [
             1,
             "#f0f921"
            ]
           ],
           "sequentialminus": [
            [
             0,
             "#0d0887"
            ],
            [
             0.1111111111111111,
             "#46039f"
            ],
            [
             0.2222222222222222,
             "#7201a8"
            ],
            [
             0.3333333333333333,
             "#9c179e"
            ],
            [
             0.4444444444444444,
             "#bd3786"
            ],
            [
             0.5555555555555556,
             "#d8576b"
            ],
            [
             0.6666666666666666,
             "#ed7953"
            ],
            [
             0.7777777777777778,
             "#fb9f3a"
            ],
            [
             0.8888888888888888,
             "#fdca26"
            ],
            [
             1,
             "#f0f921"
            ]
           ]
          },
          "colorway": [
           "#636efa",
           "#EF553B",
           "#00cc96",
           "#ab63fa",
           "#FFA15A",
           "#19d3f3",
           "#FF6692",
           "#B6E880",
           "#FF97FF",
           "#FECB52"
          ],
          "font": {
           "color": "#2a3f5f"
          },
          "geo": {
           "bgcolor": "white",
           "lakecolor": "white",
           "landcolor": "#E5ECF6",
           "showlakes": true,
           "showland": true,
           "subunitcolor": "white"
          },
          "hoverlabel": {
           "align": "left"
          },
          "hovermode": "closest",
          "mapbox": {
           "style": "light"
          },
          "paper_bgcolor": "white",
          "plot_bgcolor": "#E5ECF6",
          "polar": {
           "angularaxis": {
            "gridcolor": "white",
            "linecolor": "white",
            "ticks": ""
           },
           "bgcolor": "#E5ECF6",
           "radialaxis": {
            "gridcolor": "white",
            "linecolor": "white",
            "ticks": ""
           }
          },
          "scene": {
           "xaxis": {
            "backgroundcolor": "#E5ECF6",
            "gridcolor": "white",
            "gridwidth": 2,
            "linecolor": "white",
            "showbackground": true,
            "ticks": "",
            "zerolinecolor": "white"
           },
           "yaxis": {
            "backgroundcolor": "#E5ECF6",
            "gridcolor": "white",
            "gridwidth": 2,
            "linecolor": "white",
            "showbackground": true,
            "ticks": "",
            "zerolinecolor": "white"
           },
           "zaxis": {
            "backgroundcolor": "#E5ECF6",
            "gridcolor": "white",
            "gridwidth": 2,
            "linecolor": "white",
            "showbackground": true,
            "ticks": "",
            "zerolinecolor": "white"
           }
          },
          "shapedefaults": {
           "line": {
            "color": "#2a3f5f"
           }
          },
          "ternary": {
           "aaxis": {
            "gridcolor": "white",
            "linecolor": "white",
            "ticks": ""
           },
           "baxis": {
            "gridcolor": "white",
            "linecolor": "white",
            "ticks": ""
           },
           "bgcolor": "#E5ECF6",
           "caxis": {
            "gridcolor": "white",
            "linecolor": "white",
            "ticks": ""
           }
          },
          "title": {
           "x": 0.05
          },
          "xaxis": {
           "automargin": true,
           "gridcolor": "white",
           "linecolor": "white",
           "ticks": "",
           "title": {
            "standoff": 15
           },
           "zerolinecolor": "white",
           "zerolinewidth": 2
          },
          "yaxis": {
           "automargin": true,
           "gridcolor": "white",
           "linecolor": "white",
           "ticks": "",
           "title": {
            "standoff": 15
           },
           "zerolinecolor": "white",
           "zerolinewidth": 2
          }
         }
        },
        "title": {
         "text": "Описание моделей для Porsche"
        }
       }
      }
     },
     "metadata": {},
     "output_type": "display_data"
    },
    {
     "data": {
      "application/vnd.plotly.v1+json": {
       "config": {
        "plotlyServerURL": "https://plot.ly"
       },
       "data": [
        {
         "hole": 0.3,
         "labels": [
          "R8",
          "R8 Spyder",
          "RS 3",
          "RS 5",
          "RS 5 Coupe",
          "RS 6",
          "RS 6 Avant",
          "RS 7",
          "RS 7 Sportback",
          "RS3",
          "RS5",
          "RS5 Coupe",
          "RS6",
          "RS6 Avant",
          "RS7",
          "RS7 Sportback",
          "S5",
          "TT RS",
          "TT RS Coupe"
         ],
         "marker": {
          "colors": [
           "#FFA07A",
           "#00FFFF",
           "#B0E0E6",
           "#9ACD32"
          ]
         },
         "type": "pie",
         "values": [
          2,
          1,
          2,
          6,
          1,
          2,
          3,
          6,
          2,
          2,
          3,
          2,
          2,
          1,
          16,
          2,
          2,
          14,
          2
         ]
        }
       ],
       "layout": {
        "annotations": [
         {
          "font": {
           "size": 20
          },
          "showarrow": false,
          "text": "Audi",
          "x": 0.5,
          "y": 0.5
         }
        ],
        "template": {
         "data": {
          "bar": [
           {
            "error_x": {
             "color": "#2a3f5f"
            },
            "error_y": {
             "color": "#2a3f5f"
            },
            "marker": {
             "line": {
              "color": "#E5ECF6",
              "width": 0.5
             },
             "pattern": {
              "fillmode": "overlay",
              "size": 10,
              "solidity": 0.2
             }
            },
            "type": "bar"
           }
          ],
          "barpolar": [
           {
            "marker": {
             "line": {
              "color": "#E5ECF6",
              "width": 0.5
             },
             "pattern": {
              "fillmode": "overlay",
              "size": 10,
              "solidity": 0.2
             }
            },
            "type": "barpolar"
           }
          ],
          "carpet": [
           {
            "aaxis": {
             "endlinecolor": "#2a3f5f",
             "gridcolor": "white",
             "linecolor": "white",
             "minorgridcolor": "white",
             "startlinecolor": "#2a3f5f"
            },
            "baxis": {
             "endlinecolor": "#2a3f5f",
             "gridcolor": "white",
             "linecolor": "white",
             "minorgridcolor": "white",
             "startlinecolor": "#2a3f5f"
            },
            "type": "carpet"
           }
          ],
          "choropleth": [
           {
            "colorbar": {
             "outlinewidth": 0,
             "ticks": ""
            },
            "type": "choropleth"
           }
          ],
          "contour": [
           {
            "colorbar": {
             "outlinewidth": 0,
             "ticks": ""
            },
            "colorscale": [
             [
              0,
              "#0d0887"
             ],
             [
              0.1111111111111111,
              "#46039f"
             ],
             [
              0.2222222222222222,
              "#7201a8"
             ],
             [
              0.3333333333333333,
              "#9c179e"
             ],
             [
              0.4444444444444444,
              "#bd3786"
             ],
             [
              0.5555555555555556,
              "#d8576b"
             ],
             [
              0.6666666666666666,
              "#ed7953"
             ],
             [
              0.7777777777777778,
              "#fb9f3a"
             ],
             [
              0.8888888888888888,
              "#fdca26"
             ],
             [
              1,
              "#f0f921"
             ]
            ],
            "type": "contour"
           }
          ],
          "contourcarpet": [
           {
            "colorbar": {
             "outlinewidth": 0,
             "ticks": ""
            },
            "type": "contourcarpet"
           }
          ],
          "heatmap": [
           {
            "colorbar": {
             "outlinewidth": 0,
             "ticks": ""
            },
            "colorscale": [
             [
              0,
              "#0d0887"
             ],
             [
              0.1111111111111111,
              "#46039f"
             ],
             [
              0.2222222222222222,
              "#7201a8"
             ],
             [
              0.3333333333333333,
              "#9c179e"
             ],
             [
              0.4444444444444444,
              "#bd3786"
             ],
             [
              0.5555555555555556,
              "#d8576b"
             ],
             [
              0.6666666666666666,
              "#ed7953"
             ],
             [
              0.7777777777777778,
              "#fb9f3a"
             ],
             [
              0.8888888888888888,
              "#fdca26"
             ],
             [
              1,
              "#f0f921"
             ]
            ],
            "type": "heatmap"
           }
          ],
          "heatmapgl": [
           {
            "colorbar": {
             "outlinewidth": 0,
             "ticks": ""
            },
            "colorscale": [
             [
              0,
              "#0d0887"
             ],
             [
              0.1111111111111111,
              "#46039f"
             ],
             [
              0.2222222222222222,
              "#7201a8"
             ],
             [
              0.3333333333333333,
              "#9c179e"
             ],
             [
              0.4444444444444444,
              "#bd3786"
             ],
             [
              0.5555555555555556,
              "#d8576b"
             ],
             [
              0.6666666666666666,
              "#ed7953"
             ],
             [
              0.7777777777777778,
              "#fb9f3a"
             ],
             [
              0.8888888888888888,
              "#fdca26"
             ],
             [
              1,
              "#f0f921"
             ]
            ],
            "type": "heatmapgl"
           }
          ],
          "histogram": [
           {
            "marker": {
             "pattern": {
              "fillmode": "overlay",
              "size": 10,
              "solidity": 0.2
             }
            },
            "type": "histogram"
           }
          ],
          "histogram2d": [
           {
            "colorbar": {
             "outlinewidth": 0,
             "ticks": ""
            },
            "colorscale": [
             [
              0,
              "#0d0887"
             ],
             [
              0.1111111111111111,
              "#46039f"
             ],
             [
              0.2222222222222222,
              "#7201a8"
             ],
             [
              0.3333333333333333,
              "#9c179e"
             ],
             [
              0.4444444444444444,
              "#bd3786"
             ],
             [
              0.5555555555555556,
              "#d8576b"
             ],
             [
              0.6666666666666666,
              "#ed7953"
             ],
             [
              0.7777777777777778,
              "#fb9f3a"
             ],
             [
              0.8888888888888888,
              "#fdca26"
             ],
             [
              1,
              "#f0f921"
             ]
            ],
            "type": "histogram2d"
           }
          ],
          "histogram2dcontour": [
           {
            "colorbar": {
             "outlinewidth": 0,
             "ticks": ""
            },
            "colorscale": [
             [
              0,
              "#0d0887"
             ],
             [
              0.1111111111111111,
              "#46039f"
             ],
             [
              0.2222222222222222,
              "#7201a8"
             ],
             [
              0.3333333333333333,
              "#9c179e"
             ],
             [
              0.4444444444444444,
              "#bd3786"
             ],
             [
              0.5555555555555556,
              "#d8576b"
             ],
             [
              0.6666666666666666,
              "#ed7953"
             ],
             [
              0.7777777777777778,
              "#fb9f3a"
             ],
             [
              0.8888888888888888,
              "#fdca26"
             ],
             [
              1,
              "#f0f921"
             ]
            ],
            "type": "histogram2dcontour"
           }
          ],
          "mesh3d": [
           {
            "colorbar": {
             "outlinewidth": 0,
             "ticks": ""
            },
            "type": "mesh3d"
           }
          ],
          "parcoords": [
           {
            "line": {
             "colorbar": {
              "outlinewidth": 0,
              "ticks": ""
             }
            },
            "type": "parcoords"
           }
          ],
          "pie": [
           {
            "automargin": true,
            "type": "pie"
           }
          ],
          "scatter": [
           {
            "fillpattern": {
             "fillmode": "overlay",
             "size": 10,
             "solidity": 0.2
            },
            "type": "scatter"
           }
          ],
          "scatter3d": [
           {
            "line": {
             "colorbar": {
              "outlinewidth": 0,
              "ticks": ""
             }
            },
            "marker": {
             "colorbar": {
              "outlinewidth": 0,
              "ticks": ""
             }
            },
            "type": "scatter3d"
           }
          ],
          "scattercarpet": [
           {
            "marker": {
             "colorbar": {
              "outlinewidth": 0,
              "ticks": ""
             }
            },
            "type": "scattercarpet"
           }
          ],
          "scattergeo": [
           {
            "marker": {
             "colorbar": {
              "outlinewidth": 0,
              "ticks": ""
             }
            },
            "type": "scattergeo"
           }
          ],
          "scattergl": [
           {
            "marker": {
             "colorbar": {
              "outlinewidth": 0,
              "ticks": ""
             }
            },
            "type": "scattergl"
           }
          ],
          "scattermapbox": [
           {
            "marker": {
             "colorbar": {
              "outlinewidth": 0,
              "ticks": ""
             }
            },
            "type": "scattermapbox"
           }
          ],
          "scatterpolar": [
           {
            "marker": {
             "colorbar": {
              "outlinewidth": 0,
              "ticks": ""
             }
            },
            "type": "scatterpolar"
           }
          ],
          "scatterpolargl": [
           {
            "marker": {
             "colorbar": {
              "outlinewidth": 0,
              "ticks": ""
             }
            },
            "type": "scatterpolargl"
           }
          ],
          "scatterternary": [
           {
            "marker": {
             "colorbar": {
              "outlinewidth": 0,
              "ticks": ""
             }
            },
            "type": "scatterternary"
           }
          ],
          "surface": [
           {
            "colorbar": {
             "outlinewidth": 0,
             "ticks": ""
            },
            "colorscale": [
             [
              0,
              "#0d0887"
             ],
             [
              0.1111111111111111,
              "#46039f"
             ],
             [
              0.2222222222222222,
              "#7201a8"
             ],
             [
              0.3333333333333333,
              "#9c179e"
             ],
             [
              0.4444444444444444,
              "#bd3786"
             ],
             [
              0.5555555555555556,
              "#d8576b"
             ],
             [
              0.6666666666666666,
              "#ed7953"
             ],
             [
              0.7777777777777778,
              "#fb9f3a"
             ],
             [
              0.8888888888888888,
              "#fdca26"
             ],
             [
              1,
              "#f0f921"
             ]
            ],
            "type": "surface"
           }
          ],
          "table": [
           {
            "cells": {
             "fill": {
              "color": "#EBF0F8"
             },
             "line": {
              "color": "white"
             }
            },
            "header": {
             "fill": {
              "color": "#C8D4E3"
             },
             "line": {
              "color": "white"
             }
            },
            "type": "table"
           }
          ]
         },
         "layout": {
          "annotationdefaults": {
           "arrowcolor": "#2a3f5f",
           "arrowhead": 0,
           "arrowwidth": 1
          },
          "autotypenumbers": "strict",
          "coloraxis": {
           "colorbar": {
            "outlinewidth": 0,
            "ticks": ""
           }
          },
          "colorscale": {
           "diverging": [
            [
             0,
             "#8e0152"
            ],
            [
             0.1,
             "#c51b7d"
            ],
            [
             0.2,
             "#de77ae"
            ],
            [
             0.3,
             "#f1b6da"
            ],
            [
             0.4,
             "#fde0ef"
            ],
            [
             0.5,
             "#f7f7f7"
            ],
            [
             0.6,
             "#e6f5d0"
            ],
            [
             0.7,
             "#b8e186"
            ],
            [
             0.8,
             "#7fbc41"
            ],
            [
             0.9,
             "#4d9221"
            ],
            [
             1,
             "#276419"
            ]
           ],
           "sequential": [
            [
             0,
             "#0d0887"
            ],
            [
             0.1111111111111111,
             "#46039f"
            ],
            [
             0.2222222222222222,
             "#7201a8"
            ],
            [
             0.3333333333333333,
             "#9c179e"
            ],
            [
             0.4444444444444444,
             "#bd3786"
            ],
            [
             0.5555555555555556,
             "#d8576b"
            ],
            [
             0.6666666666666666,
             "#ed7953"
            ],
            [
             0.7777777777777778,
             "#fb9f3a"
            ],
            [
             0.8888888888888888,
             "#fdca26"
            ],
            [
             1,
             "#f0f921"
            ]
           ],
           "sequentialminus": [
            [
             0,
             "#0d0887"
            ],
            [
             0.1111111111111111,
             "#46039f"
            ],
            [
             0.2222222222222222,
             "#7201a8"
            ],
            [
             0.3333333333333333,
             "#9c179e"
            ],
            [
             0.4444444444444444,
             "#bd3786"
            ],
            [
             0.5555555555555556,
             "#d8576b"
            ],
            [
             0.6666666666666666,
             "#ed7953"
            ],
            [
             0.7777777777777778,
             "#fb9f3a"
            ],
            [
             0.8888888888888888,
             "#fdca26"
            ],
            [
             1,
             "#f0f921"
            ]
           ]
          },
          "colorway": [
           "#636efa",
           "#EF553B",
           "#00cc96",
           "#ab63fa",
           "#FFA15A",
           "#19d3f3",
           "#FF6692",
           "#B6E880",
           "#FF97FF",
           "#FECB52"
          ],
          "font": {
           "color": "#2a3f5f"
          },
          "geo": {
           "bgcolor": "white",
           "lakecolor": "white",
           "landcolor": "#E5ECF6",
           "showlakes": true,
           "showland": true,
           "subunitcolor": "white"
          },
          "hoverlabel": {
           "align": "left"
          },
          "hovermode": "closest",
          "mapbox": {
           "style": "light"
          },
          "paper_bgcolor": "white",
          "plot_bgcolor": "#E5ECF6",
          "polar": {
           "angularaxis": {
            "gridcolor": "white",
            "linecolor": "white",
            "ticks": ""
           },
           "bgcolor": "#E5ECF6",
           "radialaxis": {
            "gridcolor": "white",
            "linecolor": "white",
            "ticks": ""
           }
          },
          "scene": {
           "xaxis": {
            "backgroundcolor": "#E5ECF6",
            "gridcolor": "white",
            "gridwidth": 2,
            "linecolor": "white",
            "showbackground": true,
            "ticks": "",
            "zerolinecolor": "white"
           },
           "yaxis": {
            "backgroundcolor": "#E5ECF6",
            "gridcolor": "white",
            "gridwidth": 2,
            "linecolor": "white",
            "showbackground": true,
            "ticks": "",
            "zerolinecolor": "white"
           },
           "zaxis": {
            "backgroundcolor": "#E5ECF6",
            "gridcolor": "white",
            "gridwidth": 2,
            "linecolor": "white",
            "showbackground": true,
            "ticks": "",
            "zerolinecolor": "white"
           }
          },
          "shapedefaults": {
           "line": {
            "color": "#2a3f5f"
           }
          },
          "ternary": {
           "aaxis": {
            "gridcolor": "white",
            "linecolor": "white",
            "ticks": ""
           },
           "baxis": {
            "gridcolor": "white",
            "linecolor": "white",
            "ticks": ""
           },
           "bgcolor": "#E5ECF6",
           "caxis": {
            "gridcolor": "white",
            "linecolor": "white",
            "ticks": ""
           }
          },
          "title": {
           "x": 0.05
          },
          "xaxis": {
           "automargin": true,
           "gridcolor": "white",
           "linecolor": "white",
           "ticks": "",
           "title": {
            "standoff": 15
           },
           "zerolinecolor": "white",
           "zerolinewidth": 2
          },
          "yaxis": {
           "automargin": true,
           "gridcolor": "white",
           "linecolor": "white",
           "ticks": "",
           "title": {
            "standoff": 15
           },
           "zerolinecolor": "white",
           "zerolinewidth": 2
          }
         }
        },
        "title": {
         "text": "Описание моделей для Audi"
        }
       }
      }
     },
     "metadata": {},
     "output_type": "display_data"
    }
   ],
   "source": [
    "top_carmakers = data['car'].value_counts().head(3).index.tolist()\n",
    "colors = ['#FFA07A', '#00FFFF', '#B0E0E6', '#9ACD32']\n",
    "\n",
    "for i, carmaker in enumerate(top_carmakers):\n",
    "    filtered_data = data[data['car'] == carmaker]\n",
    "    grouped_data = filtered_data.groupby('model').size().reset_index(name='Count')\n",
    "    fig = go.Figure(data=[go.Pie(labels=grouped_data['model'], \n",
    "                                 values=grouped_data['Count'],\n",
    "                                 hole=.3, marker_colors=colors)])\n",
    "    fig.update_layout(title=f\"Описание моделей для {carmaker}\",\n",
    "                      annotations=[dict(text=carmaker, x=0.5, y=0.5, font_size=20, showarrow=False)])\n",
    "    fig.show()"
   ]
  },
  {
   "cell_type": "markdown",
   "metadata": {},
   "source": [
    "Анализ по Стоимости автомобиля"
   ]
  },
  {
   "cell_type": "code",
   "execution_count": 17,
   "metadata": {},
   "outputs": [
    {
     "data": {
      "application/vnd.plotly.v1+json": {
       "config": {
        "plotlyServerURL": "https://plot.ly"
       },
       "data": [
        {
         "alignmentgroup": "True",
         "hovertemplate": "x=%{x}<br>y=%{y}<extra></extra>",
         "legendgroup": "",
         "marker": {
          "color": "#636efa",
          "pattern": {
           "shape": ""
          }
         },
         "name": "",
         "offsetgroup": "",
         "orientation": "v",
         "showlegend": false,
         "textposition": "auto",
         "type": "bar",
         "x": [
          "Bugatti",
          "Koenigsegg",
          "Pagani",
          "W Motors",
          "Lamborghini",
          "Ferrari",
          "Ford",
          "Rolls-Royce",
          "McLaren",
          "Ultima",
          "Bentley",
          "Aston Martin",
          "Mercedes-AMG",
          "Mercedes-Benz",
          "Acura",
          "Polestar",
          "Maserati",
          "TVR",
          "Porsche",
          "Lotus",
          "Audi",
          "Lexus",
          "Jaguar",
          "BMW",
          "Ariel",
          "Alfa Romeo",
          "Alpine",
          "Dodge",
          "Chevrolet",
          "Kia",
          "Nissan",
          "Toyota",
          "Subaru",
          "Mazda"
         ],
         "xaxis": "x",
         "y": [
          3263409.090909091,
          2906666.6666666665,
          2791666.6666666665,
          2216666.6666666665,
          425947.24242424243,
          406119.44444444444,
          368829.4791666667,
          333235,
          297807.86666666664,
          220000,
          215629,
          215079.1,
          169363.63636363635,
          164661.38888888888,
          157874.0625,
          155000,
          145475.20833333334,
          140500,
          124505.47945205479,
          101560.5172413793,
          93874.92957746479,
          93228.84615384616,
          83118.33333333333,
          77892.62295081967,
          75000,
          74134.0625,
          71500,
          70976.82926829268,
          55246.916666666664,
          52200,
          50752.16216216216,
          43072,
          38170,
          26830
         ],
         "yaxis": "y"
        }
       ],
       "layout": {
        "barmode": "relative",
        "legend": {
         "tracegroupgap": 0
        },
        "paper_bgcolor": "white",
        "plot_bgcolor": "white",
        "template": {
         "data": {
          "bar": [
           {
            "error_x": {
             "color": "#2a3f5f"
            },
            "error_y": {
             "color": "#2a3f5f"
            },
            "marker": {
             "line": {
              "color": "#E5ECF6",
              "width": 0.5
             },
             "pattern": {
              "fillmode": "overlay",
              "size": 10,
              "solidity": 0.2
             }
            },
            "type": "bar"
           }
          ],
          "barpolar": [
           {
            "marker": {
             "line": {
              "color": "#E5ECF6",
              "width": 0.5
             },
             "pattern": {
              "fillmode": "overlay",
              "size": 10,
              "solidity": 0.2
             }
            },
            "type": "barpolar"
           }
          ],
          "carpet": [
           {
            "aaxis": {
             "endlinecolor": "#2a3f5f",
             "gridcolor": "white",
             "linecolor": "white",
             "minorgridcolor": "white",
             "startlinecolor": "#2a3f5f"
            },
            "baxis": {
             "endlinecolor": "#2a3f5f",
             "gridcolor": "white",
             "linecolor": "white",
             "minorgridcolor": "white",
             "startlinecolor": "#2a3f5f"
            },
            "type": "carpet"
           }
          ],
          "choropleth": [
           {
            "colorbar": {
             "outlinewidth": 0,
             "ticks": ""
            },
            "type": "choropleth"
           }
          ],
          "contour": [
           {
            "colorbar": {
             "outlinewidth": 0,
             "ticks": ""
            },
            "colorscale": [
             [
              0,
              "#0d0887"
             ],
             [
              0.1111111111111111,
              "#46039f"
             ],
             [
              0.2222222222222222,
              "#7201a8"
             ],
             [
              0.3333333333333333,
              "#9c179e"
             ],
             [
              0.4444444444444444,
              "#bd3786"
             ],
             [
              0.5555555555555556,
              "#d8576b"
             ],
             [
              0.6666666666666666,
              "#ed7953"
             ],
             [
              0.7777777777777778,
              "#fb9f3a"
             ],
             [
              0.8888888888888888,
              "#fdca26"
             ],
             [
              1,
              "#f0f921"
             ]
            ],
            "type": "contour"
           }
          ],
          "contourcarpet": [
           {
            "colorbar": {
             "outlinewidth": 0,
             "ticks": ""
            },
            "type": "contourcarpet"
           }
          ],
          "heatmap": [
           {
            "colorbar": {
             "outlinewidth": 0,
             "ticks": ""
            },
            "colorscale": [
             [
              0,
              "#0d0887"
             ],
             [
              0.1111111111111111,
              "#46039f"
             ],
             [
              0.2222222222222222,
              "#7201a8"
             ],
             [
              0.3333333333333333,
              "#9c179e"
             ],
             [
              0.4444444444444444,
              "#bd3786"
             ],
             [
              0.5555555555555556,
              "#d8576b"
             ],
             [
              0.6666666666666666,
              "#ed7953"
             ],
             [
              0.7777777777777778,
              "#fb9f3a"
             ],
             [
              0.8888888888888888,
              "#fdca26"
             ],
             [
              1,
              "#f0f921"
             ]
            ],
            "type": "heatmap"
           }
          ],
          "heatmapgl": [
           {
            "colorbar": {
             "outlinewidth": 0,
             "ticks": ""
            },
            "colorscale": [
             [
              0,
              "#0d0887"
             ],
             [
              0.1111111111111111,
              "#46039f"
             ],
             [
              0.2222222222222222,
              "#7201a8"
             ],
             [
              0.3333333333333333,
              "#9c179e"
             ],
             [
              0.4444444444444444,
              "#bd3786"
             ],
             [
              0.5555555555555556,
              "#d8576b"
             ],
             [
              0.6666666666666666,
              "#ed7953"
             ],
             [
              0.7777777777777778,
              "#fb9f3a"
             ],
             [
              0.8888888888888888,
              "#fdca26"
             ],
             [
              1,
              "#f0f921"
             ]
            ],
            "type": "heatmapgl"
           }
          ],
          "histogram": [
           {
            "marker": {
             "pattern": {
              "fillmode": "overlay",
              "size": 10,
              "solidity": 0.2
             }
            },
            "type": "histogram"
           }
          ],
          "histogram2d": [
           {
            "colorbar": {
             "outlinewidth": 0,
             "ticks": ""
            },
            "colorscale": [
             [
              0,
              "#0d0887"
             ],
             [
              0.1111111111111111,
              "#46039f"
             ],
             [
              0.2222222222222222,
              "#7201a8"
             ],
             [
              0.3333333333333333,
              "#9c179e"
             ],
             [
              0.4444444444444444,
              "#bd3786"
             ],
             [
              0.5555555555555556,
              "#d8576b"
             ],
             [
              0.6666666666666666,
              "#ed7953"
             ],
             [
              0.7777777777777778,
              "#fb9f3a"
             ],
             [
              0.8888888888888888,
              "#fdca26"
             ],
             [
              1,
              "#f0f921"
             ]
            ],
            "type": "histogram2d"
           }
          ],
          "histogram2dcontour": [
           {
            "colorbar": {
             "outlinewidth": 0,
             "ticks": ""
            },
            "colorscale": [
             [
              0,
              "#0d0887"
             ],
             [
              0.1111111111111111,
              "#46039f"
             ],
             [
              0.2222222222222222,
              "#7201a8"
             ],
             [
              0.3333333333333333,
              "#9c179e"
             ],
             [
              0.4444444444444444,
              "#bd3786"
             ],
             [
              0.5555555555555556,
              "#d8576b"
             ],
             [
              0.6666666666666666,
              "#ed7953"
             ],
             [
              0.7777777777777778,
              "#fb9f3a"
             ],
             [
              0.8888888888888888,
              "#fdca26"
             ],
             [
              1,
              "#f0f921"
             ]
            ],
            "type": "histogram2dcontour"
           }
          ],
          "mesh3d": [
           {
            "colorbar": {
             "outlinewidth": 0,
             "ticks": ""
            },
            "type": "mesh3d"
           }
          ],
          "parcoords": [
           {
            "line": {
             "colorbar": {
              "outlinewidth": 0,
              "ticks": ""
             }
            },
            "type": "parcoords"
           }
          ],
          "pie": [
           {
            "automargin": true,
            "type": "pie"
           }
          ],
          "scatter": [
           {
            "fillpattern": {
             "fillmode": "overlay",
             "size": 10,
             "solidity": 0.2
            },
            "type": "scatter"
           }
          ],
          "scatter3d": [
           {
            "line": {
             "colorbar": {
              "outlinewidth": 0,
              "ticks": ""
             }
            },
            "marker": {
             "colorbar": {
              "outlinewidth": 0,
              "ticks": ""
             }
            },
            "type": "scatter3d"
           }
          ],
          "scattercarpet": [
           {
            "marker": {
             "colorbar": {
              "outlinewidth": 0,
              "ticks": ""
             }
            },
            "type": "scattercarpet"
           }
          ],
          "scattergeo": [
           {
            "marker": {
             "colorbar": {
              "outlinewidth": 0,
              "ticks": ""
             }
            },
            "type": "scattergeo"
           }
          ],
          "scattergl": [
           {
            "marker": {
             "colorbar": {
              "outlinewidth": 0,
              "ticks": ""
             }
            },
            "type": "scattergl"
           }
          ],
          "scattermapbox": [
           {
            "marker": {
             "colorbar": {
              "outlinewidth": 0,
              "ticks": ""
             }
            },
            "type": "scattermapbox"
           }
          ],
          "scatterpolar": [
           {
            "marker": {
             "colorbar": {
              "outlinewidth": 0,
              "ticks": ""
             }
            },
            "type": "scatterpolar"
           }
          ],
          "scatterpolargl": [
           {
            "marker": {
             "colorbar": {
              "outlinewidth": 0,
              "ticks": ""
             }
            },
            "type": "scatterpolargl"
           }
          ],
          "scatterternary": [
           {
            "marker": {
             "colorbar": {
              "outlinewidth": 0,
              "ticks": ""
             }
            },
            "type": "scatterternary"
           }
          ],
          "surface": [
           {
            "colorbar": {
             "outlinewidth": 0,
             "ticks": ""
            },
            "colorscale": [
             [
              0,
              "#0d0887"
             ],
             [
              0.1111111111111111,
              "#46039f"
             ],
             [
              0.2222222222222222,
              "#7201a8"
             ],
             [
              0.3333333333333333,
              "#9c179e"
             ],
             [
              0.4444444444444444,
              "#bd3786"
             ],
             [
              0.5555555555555556,
              "#d8576b"
             ],
             [
              0.6666666666666666,
              "#ed7953"
             ],
             [
              0.7777777777777778,
              "#fb9f3a"
             ],
             [
              0.8888888888888888,
              "#fdca26"
             ],
             [
              1,
              "#f0f921"
             ]
            ],
            "type": "surface"
           }
          ],
          "table": [
           {
            "cells": {
             "fill": {
              "color": "#EBF0F8"
             },
             "line": {
              "color": "white"
             }
            },
            "header": {
             "fill": {
              "color": "#C8D4E3"
             },
             "line": {
              "color": "white"
             }
            },
            "type": "table"
           }
          ]
         },
         "layout": {
          "annotationdefaults": {
           "arrowcolor": "#2a3f5f",
           "arrowhead": 0,
           "arrowwidth": 1
          },
          "autotypenumbers": "strict",
          "coloraxis": {
           "colorbar": {
            "outlinewidth": 0,
            "ticks": ""
           }
          },
          "colorscale": {
           "diverging": [
            [
             0,
             "#8e0152"
            ],
            [
             0.1,
             "#c51b7d"
            ],
            [
             0.2,
             "#de77ae"
            ],
            [
             0.3,
             "#f1b6da"
            ],
            [
             0.4,
             "#fde0ef"
            ],
            [
             0.5,
             "#f7f7f7"
            ],
            [
             0.6,
             "#e6f5d0"
            ],
            [
             0.7,
             "#b8e186"
            ],
            [
             0.8,
             "#7fbc41"
            ],
            [
             0.9,
             "#4d9221"
            ],
            [
             1,
             "#276419"
            ]
           ],
           "sequential": [
            [
             0,
             "#0d0887"
            ],
            [
             0.1111111111111111,
             "#46039f"
            ],
            [
             0.2222222222222222,
             "#7201a8"
            ],
            [
             0.3333333333333333,
             "#9c179e"
            ],
            [
             0.4444444444444444,
             "#bd3786"
            ],
            [
             0.5555555555555556,
             "#d8576b"
            ],
            [
             0.6666666666666666,
             "#ed7953"
            ],
            [
             0.7777777777777778,
             "#fb9f3a"
            ],
            [
             0.8888888888888888,
             "#fdca26"
            ],
            [
             1,
             "#f0f921"
            ]
           ],
           "sequentialminus": [
            [
             0,
             "#0d0887"
            ],
            [
             0.1111111111111111,
             "#46039f"
            ],
            [
             0.2222222222222222,
             "#7201a8"
            ],
            [
             0.3333333333333333,
             "#9c179e"
            ],
            [
             0.4444444444444444,
             "#bd3786"
            ],
            [
             0.5555555555555556,
             "#d8576b"
            ],
            [
             0.6666666666666666,
             "#ed7953"
            ],
            [
             0.7777777777777778,
             "#fb9f3a"
            ],
            [
             0.8888888888888888,
             "#fdca26"
            ],
            [
             1,
             "#f0f921"
            ]
           ]
          },
          "colorway": [
           "#636efa",
           "#EF553B",
           "#00cc96",
           "#ab63fa",
           "#FFA15A",
           "#19d3f3",
           "#FF6692",
           "#B6E880",
           "#FF97FF",
           "#FECB52"
          ],
          "font": {
           "color": "#2a3f5f"
          },
          "geo": {
           "bgcolor": "white",
           "lakecolor": "white",
           "landcolor": "#E5ECF6",
           "showlakes": true,
           "showland": true,
           "subunitcolor": "white"
          },
          "hoverlabel": {
           "align": "left"
          },
          "hovermode": "closest",
          "mapbox": {
           "style": "light"
          },
          "paper_bgcolor": "white",
          "plot_bgcolor": "#E5ECF6",
          "polar": {
           "angularaxis": {
            "gridcolor": "white",
            "linecolor": "white",
            "ticks": ""
           },
           "bgcolor": "#E5ECF6",
           "radialaxis": {
            "gridcolor": "white",
            "linecolor": "white",
            "ticks": ""
           }
          },
          "scene": {
           "xaxis": {
            "backgroundcolor": "#E5ECF6",
            "gridcolor": "white",
            "gridwidth": 2,
            "linecolor": "white",
            "showbackground": true,
            "ticks": "",
            "zerolinecolor": "white"
           },
           "yaxis": {
            "backgroundcolor": "#E5ECF6",
            "gridcolor": "white",
            "gridwidth": 2,
            "linecolor": "white",
            "showbackground": true,
            "ticks": "",
            "zerolinecolor": "white"
           },
           "zaxis": {
            "backgroundcolor": "#E5ECF6",
            "gridcolor": "white",
            "gridwidth": 2,
            "linecolor": "white",
            "showbackground": true,
            "ticks": "",
            "zerolinecolor": "white"
           }
          },
          "shapedefaults": {
           "line": {
            "color": "#2a3f5f"
           }
          },
          "ternary": {
           "aaxis": {
            "gridcolor": "white",
            "linecolor": "white",
            "ticks": ""
           },
           "baxis": {
            "gridcolor": "white",
            "linecolor": "white",
            "ticks": ""
           },
           "bgcolor": "#E5ECF6",
           "caxis": {
            "gridcolor": "white",
            "linecolor": "white",
            "ticks": ""
           }
          },
          "title": {
           "x": 0.05
          },
          "xaxis": {
           "automargin": true,
           "gridcolor": "white",
           "linecolor": "white",
           "ticks": "",
           "title": {
            "standoff": 15
           },
           "zerolinecolor": "white",
           "zerolinewidth": 2
          },
          "yaxis": {
           "automargin": true,
           "gridcolor": "white",
           "linecolor": "white",
           "ticks": "",
           "title": {
            "standoff": 15
           },
           "zerolinecolor": "white",
           "zerolinewidth": 2
          }
         }
        },
        "title": {
         "text": "Средняя стоимость по марке"
        },
        "xaxis": {
         "anchor": "y",
         "domain": [
          0,
          1
         ],
         "title": {
          "text": "Производитель"
         }
        },
        "yaxis": {
         "anchor": "x",
         "domain": [
          0,
          1
         ],
         "title": {
          "text": "Средняя стоимость"
         }
        }
       }
      }
     },
     "metadata": {},
     "output_type": "display_data"
    }
   ],
   "source": [
    "costly = data.groupby('car')['price_usd'].mean().sort_values(ascending=False)\n",
    "fig = px.bar(x=costly.index, y=costly, title='Average cost by manafacturer')\n",
    "fig.update_layout(\n",
    "    xaxis_title='Производитель',\n",
    "    yaxis_title='Средняя стоимость',\n",
    "    title='Средняя стоимость по марке',\n",
    "    plot_bgcolor='white',\n",
    "    paper_bgcolor='white'\n",
    ")\n",
    "\n",
    "fig.show()"
   ]
  },
  {
   "cell_type": "markdown",
   "metadata": {},
   "source": [
    "Анализ по мощности "
   ]
  },
  {
   "cell_type": "code",
   "execution_count": 18,
   "metadata": {},
   "outputs": [
    {
     "data": {
      "application/vnd.plotly.v1+json": {
       "config": {
        "plotlyServerURL": "https://plot.ly"
       },
       "data": [
        {
         "alignmentgroup": "True",
         "hovertemplate": "x=%{x}<br>y=%{y}<extra></extra>",
         "legendgroup": "",
         "marker": {
          "color": "#636efa",
          "pattern": {
           "shape": ""
          }
         },
         "name": "",
         "offsetgroup": "",
         "orientation": "v",
         "showlegend": false,
         "textposition": "auto",
         "type": "bar",
         "x": [
          "Bugatti",
          "Koenigsegg",
          "Ultima",
          "W Motors",
          "Ferrari",
          "Pagani",
          "Lamborghini",
          "Dodge",
          "McLaren",
          "Ford",
          "Rolls-Royce",
          "Bentley",
          "Polestar",
          "Aston Martin",
          "Mercedes-AMG",
          "Acura",
          "Mercedes-Benz",
          "Chevrolet",
          "Audi",
          "TVR",
          "Lexus",
          "BMW",
          "Maserati",
          "Jaguar",
          "Lotus",
          "Porsche",
          "Alfa Romeo",
          "Toyota",
          "Kia",
          "Nissan",
          "Ariel",
          "Subaru",
          "Alpine",
          "Mazda"
         ],
         "xaxis": "x",
         "y": [
          1502.3181818181818,
          1364.1333333333334,
          1200,
          793.3333333333334,
          792.1481481481482,
          758.3333333333334,
          713.0757575757576,
          702.9756097560976,
          625.08,
          612.4583333333334,
          611.8,
          603.44,
          600,
          592.86,
          584.5454545454545,
          573,
          559.7777777777778,
          559.6666666666666,
          502.8169014084507,
          500,
          471,
          467.27868852459017,
          460.9583333333333,
          448.6,
          416,
          413.56164383561645,
          404.5,
          382,
          368,
          360.4864864864865,
          320,
          310,
          288,
          181
         ],
         "yaxis": "y"
        }
       ],
       "layout": {
        "barmode": "relative",
        "legend": {
         "tracegroupgap": 0
        },
        "template": {
         "data": {
          "bar": [
           {
            "error_x": {
             "color": "#2a3f5f"
            },
            "error_y": {
             "color": "#2a3f5f"
            },
            "marker": {
             "line": {
              "color": "#E5ECF6",
              "width": 0.5
             },
             "pattern": {
              "fillmode": "overlay",
              "size": 10,
              "solidity": 0.2
             }
            },
            "type": "bar"
           }
          ],
          "barpolar": [
           {
            "marker": {
             "line": {
              "color": "#E5ECF6",
              "width": 0.5
             },
             "pattern": {
              "fillmode": "overlay",
              "size": 10,
              "solidity": 0.2
             }
            },
            "type": "barpolar"
           }
          ],
          "carpet": [
           {
            "aaxis": {
             "endlinecolor": "#2a3f5f",
             "gridcolor": "white",
             "linecolor": "white",
             "minorgridcolor": "white",
             "startlinecolor": "#2a3f5f"
            },
            "baxis": {
             "endlinecolor": "#2a3f5f",
             "gridcolor": "white",
             "linecolor": "white",
             "minorgridcolor": "white",
             "startlinecolor": "#2a3f5f"
            },
            "type": "carpet"
           }
          ],
          "choropleth": [
           {
            "colorbar": {
             "outlinewidth": 0,
             "ticks": ""
            },
            "type": "choropleth"
           }
          ],
          "contour": [
           {
            "colorbar": {
             "outlinewidth": 0,
             "ticks": ""
            },
            "colorscale": [
             [
              0,
              "#0d0887"
             ],
             [
              0.1111111111111111,
              "#46039f"
             ],
             [
              0.2222222222222222,
              "#7201a8"
             ],
             [
              0.3333333333333333,
              "#9c179e"
             ],
             [
              0.4444444444444444,
              "#bd3786"
             ],
             [
              0.5555555555555556,
              "#d8576b"
             ],
             [
              0.6666666666666666,
              "#ed7953"
             ],
             [
              0.7777777777777778,
              "#fb9f3a"
             ],
             [
              0.8888888888888888,
              "#fdca26"
             ],
             [
              1,
              "#f0f921"
             ]
            ],
            "type": "contour"
           }
          ],
          "contourcarpet": [
           {
            "colorbar": {
             "outlinewidth": 0,
             "ticks": ""
            },
            "type": "contourcarpet"
           }
          ],
          "heatmap": [
           {
            "colorbar": {
             "outlinewidth": 0,
             "ticks": ""
            },
            "colorscale": [
             [
              0,
              "#0d0887"
             ],
             [
              0.1111111111111111,
              "#46039f"
             ],
             [
              0.2222222222222222,
              "#7201a8"
             ],
             [
              0.3333333333333333,
              "#9c179e"
             ],
             [
              0.4444444444444444,
              "#bd3786"
             ],
             [
              0.5555555555555556,
              "#d8576b"
             ],
             [
              0.6666666666666666,
              "#ed7953"
             ],
             [
              0.7777777777777778,
              "#fb9f3a"
             ],
             [
              0.8888888888888888,
              "#fdca26"
             ],
             [
              1,
              "#f0f921"
             ]
            ],
            "type": "heatmap"
           }
          ],
          "heatmapgl": [
           {
            "colorbar": {
             "outlinewidth": 0,
             "ticks": ""
            },
            "colorscale": [
             [
              0,
              "#0d0887"
             ],
             [
              0.1111111111111111,
              "#46039f"
             ],
             [
              0.2222222222222222,
              "#7201a8"
             ],
             [
              0.3333333333333333,
              "#9c179e"
             ],
             [
              0.4444444444444444,
              "#bd3786"
             ],
             [
              0.5555555555555556,
              "#d8576b"
             ],
             [
              0.6666666666666666,
              "#ed7953"
             ],
             [
              0.7777777777777778,
              "#fb9f3a"
             ],
             [
              0.8888888888888888,
              "#fdca26"
             ],
             [
              1,
              "#f0f921"
             ]
            ],
            "type": "heatmapgl"
           }
          ],
          "histogram": [
           {
            "marker": {
             "pattern": {
              "fillmode": "overlay",
              "size": 10,
              "solidity": 0.2
             }
            },
            "type": "histogram"
           }
          ],
          "histogram2d": [
           {
            "colorbar": {
             "outlinewidth": 0,
             "ticks": ""
            },
            "colorscale": [
             [
              0,
              "#0d0887"
             ],
             [
              0.1111111111111111,
              "#46039f"
             ],
             [
              0.2222222222222222,
              "#7201a8"
             ],
             [
              0.3333333333333333,
              "#9c179e"
             ],
             [
              0.4444444444444444,
              "#bd3786"
             ],
             [
              0.5555555555555556,
              "#d8576b"
             ],
             [
              0.6666666666666666,
              "#ed7953"
             ],
             [
              0.7777777777777778,
              "#fb9f3a"
             ],
             [
              0.8888888888888888,
              "#fdca26"
             ],
             [
              1,
              "#f0f921"
             ]
            ],
            "type": "histogram2d"
           }
          ],
          "histogram2dcontour": [
           {
            "colorbar": {
             "outlinewidth": 0,
             "ticks": ""
            },
            "colorscale": [
             [
              0,
              "#0d0887"
             ],
             [
              0.1111111111111111,
              "#46039f"
             ],
             [
              0.2222222222222222,
              "#7201a8"
             ],
             [
              0.3333333333333333,
              "#9c179e"
             ],
             [
              0.4444444444444444,
              "#bd3786"
             ],
             [
              0.5555555555555556,
              "#d8576b"
             ],
             [
              0.6666666666666666,
              "#ed7953"
             ],
             [
              0.7777777777777778,
              "#fb9f3a"
             ],
             [
              0.8888888888888888,
              "#fdca26"
             ],
             [
              1,
              "#f0f921"
             ]
            ],
            "type": "histogram2dcontour"
           }
          ],
          "mesh3d": [
           {
            "colorbar": {
             "outlinewidth": 0,
             "ticks": ""
            },
            "type": "mesh3d"
           }
          ],
          "parcoords": [
           {
            "line": {
             "colorbar": {
              "outlinewidth": 0,
              "ticks": ""
             }
            },
            "type": "parcoords"
           }
          ],
          "pie": [
           {
            "automargin": true,
            "type": "pie"
           }
          ],
          "scatter": [
           {
            "fillpattern": {
             "fillmode": "overlay",
             "size": 10,
             "solidity": 0.2
            },
            "type": "scatter"
           }
          ],
          "scatter3d": [
           {
            "line": {
             "colorbar": {
              "outlinewidth": 0,
              "ticks": ""
             }
            },
            "marker": {
             "colorbar": {
              "outlinewidth": 0,
              "ticks": ""
             }
            },
            "type": "scatter3d"
           }
          ],
          "scattercarpet": [
           {
            "marker": {
             "colorbar": {
              "outlinewidth": 0,
              "ticks": ""
             }
            },
            "type": "scattercarpet"
           }
          ],
          "scattergeo": [
           {
            "marker": {
             "colorbar": {
              "outlinewidth": 0,
              "ticks": ""
             }
            },
            "type": "scattergeo"
           }
          ],
          "scattergl": [
           {
            "marker": {
             "colorbar": {
              "outlinewidth": 0,
              "ticks": ""
             }
            },
            "type": "scattergl"
           }
          ],
          "scattermapbox": [
           {
            "marker": {
             "colorbar": {
              "outlinewidth": 0,
              "ticks": ""
             }
            },
            "type": "scattermapbox"
           }
          ],
          "scatterpolar": [
           {
            "marker": {
             "colorbar": {
              "outlinewidth": 0,
              "ticks": ""
             }
            },
            "type": "scatterpolar"
           }
          ],
          "scatterpolargl": [
           {
            "marker": {
             "colorbar": {
              "outlinewidth": 0,
              "ticks": ""
             }
            },
            "type": "scatterpolargl"
           }
          ],
          "scatterternary": [
           {
            "marker": {
             "colorbar": {
              "outlinewidth": 0,
              "ticks": ""
             }
            },
            "type": "scatterternary"
           }
          ],
          "surface": [
           {
            "colorbar": {
             "outlinewidth": 0,
             "ticks": ""
            },
            "colorscale": [
             [
              0,
              "#0d0887"
             ],
             [
              0.1111111111111111,
              "#46039f"
             ],
             [
              0.2222222222222222,
              "#7201a8"
             ],
             [
              0.3333333333333333,
              "#9c179e"
             ],
             [
              0.4444444444444444,
              "#bd3786"
             ],
             [
              0.5555555555555556,
              "#d8576b"
             ],
             [
              0.6666666666666666,
              "#ed7953"
             ],
             [
              0.7777777777777778,
              "#fb9f3a"
             ],
             [
              0.8888888888888888,
              "#fdca26"
             ],
             [
              1,
              "#f0f921"
             ]
            ],
            "type": "surface"
           }
          ],
          "table": [
           {
            "cells": {
             "fill": {
              "color": "#EBF0F8"
             },
             "line": {
              "color": "white"
             }
            },
            "header": {
             "fill": {
              "color": "#C8D4E3"
             },
             "line": {
              "color": "white"
             }
            },
            "type": "table"
           }
          ]
         },
         "layout": {
          "annotationdefaults": {
           "arrowcolor": "#2a3f5f",
           "arrowhead": 0,
           "arrowwidth": 1
          },
          "autotypenumbers": "strict",
          "coloraxis": {
           "colorbar": {
            "outlinewidth": 0,
            "ticks": ""
           }
          },
          "colorscale": {
           "diverging": [
            [
             0,
             "#8e0152"
            ],
            [
             0.1,
             "#c51b7d"
            ],
            [
             0.2,
             "#de77ae"
            ],
            [
             0.3,
             "#f1b6da"
            ],
            [
             0.4,
             "#fde0ef"
            ],
            [
             0.5,
             "#f7f7f7"
            ],
            [
             0.6,
             "#e6f5d0"
            ],
            [
             0.7,
             "#b8e186"
            ],
            [
             0.8,
             "#7fbc41"
            ],
            [
             0.9,
             "#4d9221"
            ],
            [
             1,
             "#276419"
            ]
           ],
           "sequential": [
            [
             0,
             "#0d0887"
            ],
            [
             0.1111111111111111,
             "#46039f"
            ],
            [
             0.2222222222222222,
             "#7201a8"
            ],
            [
             0.3333333333333333,
             "#9c179e"
            ],
            [
             0.4444444444444444,
             "#bd3786"
            ],
            [
             0.5555555555555556,
             "#d8576b"
            ],
            [
             0.6666666666666666,
             "#ed7953"
            ],
            [
             0.7777777777777778,
             "#fb9f3a"
            ],
            [
             0.8888888888888888,
             "#fdca26"
            ],
            [
             1,
             "#f0f921"
            ]
           ],
           "sequentialminus": [
            [
             0,
             "#0d0887"
            ],
            [
             0.1111111111111111,
             "#46039f"
            ],
            [
             0.2222222222222222,
             "#7201a8"
            ],
            [
             0.3333333333333333,
             "#9c179e"
            ],
            [
             0.4444444444444444,
             "#bd3786"
            ],
            [
             0.5555555555555556,
             "#d8576b"
            ],
            [
             0.6666666666666666,
             "#ed7953"
            ],
            [
             0.7777777777777778,
             "#fb9f3a"
            ],
            [
             0.8888888888888888,
             "#fdca26"
            ],
            [
             1,
             "#f0f921"
            ]
           ]
          },
          "colorway": [
           "#636efa",
           "#EF553B",
           "#00cc96",
           "#ab63fa",
           "#FFA15A",
           "#19d3f3",
           "#FF6692",
           "#B6E880",
           "#FF97FF",
           "#FECB52"
          ],
          "font": {
           "color": "#2a3f5f"
          },
          "geo": {
           "bgcolor": "white",
           "lakecolor": "white",
           "landcolor": "#E5ECF6",
           "showlakes": true,
           "showland": true,
           "subunitcolor": "white"
          },
          "hoverlabel": {
           "align": "left"
          },
          "hovermode": "closest",
          "mapbox": {
           "style": "light"
          },
          "paper_bgcolor": "white",
          "plot_bgcolor": "#E5ECF6",
          "polar": {
           "angularaxis": {
            "gridcolor": "white",
            "linecolor": "white",
            "ticks": ""
           },
           "bgcolor": "#E5ECF6",
           "radialaxis": {
            "gridcolor": "white",
            "linecolor": "white",
            "ticks": ""
           }
          },
          "scene": {
           "xaxis": {
            "backgroundcolor": "#E5ECF6",
            "gridcolor": "white",
            "gridwidth": 2,
            "linecolor": "white",
            "showbackground": true,
            "ticks": "",
            "zerolinecolor": "white"
           },
           "yaxis": {
            "backgroundcolor": "#E5ECF6",
            "gridcolor": "white",
            "gridwidth": 2,
            "linecolor": "white",
            "showbackground": true,
            "ticks": "",
            "zerolinecolor": "white"
           },
           "zaxis": {
            "backgroundcolor": "#E5ECF6",
            "gridcolor": "white",
            "gridwidth": 2,
            "linecolor": "white",
            "showbackground": true,
            "ticks": "",
            "zerolinecolor": "white"
           }
          },
          "shapedefaults": {
           "line": {
            "color": "#2a3f5f"
           }
          },
          "ternary": {
           "aaxis": {
            "gridcolor": "white",
            "linecolor": "white",
            "ticks": ""
           },
           "baxis": {
            "gridcolor": "white",
            "linecolor": "white",
            "ticks": ""
           },
           "bgcolor": "#E5ECF6",
           "caxis": {
            "gridcolor": "white",
            "linecolor": "white",
            "ticks": ""
           }
          },
          "title": {
           "x": 0.05
          },
          "xaxis": {
           "automargin": true,
           "gridcolor": "white",
           "linecolor": "white",
           "ticks": "",
           "title": {
            "standoff": 15
           },
           "zerolinecolor": "white",
           "zerolinewidth": 2
          },
          "yaxis": {
           "automargin": true,
           "gridcolor": "white",
           "linecolor": "white",
           "ticks": "",
           "title": {
            "standoff": 15
           },
           "zerolinecolor": "white",
           "zerolinewidth": 2
          }
         }
        },
        "title": {
         "text": "Средняя мощность по марке"
        },
        "xaxis": {
         "anchor": "y",
         "domain": [
          0,
          1
         ],
         "title": {
          "text": "Марка"
         }
        },
        "yaxis": {
         "anchor": "x",
         "domain": [
          0,
          1
         ],
         "title": {
          "text": "Средняя мощность (лошадиные силы)"
         }
        }
       }
      }
     },
     "metadata": {},
     "output_type": "display_data"
    }
   ],
   "source": [
    "horse = data.groupby('car')['power'].mean().sort_values(ascending=False)\n",
    "fig = px.bar(x=horse.index, y=horse, title='Средняя мощность (лошадиные силы)')\n",
    "fig.update_layout(\n",
    "    xaxis_title='Марка',\n",
    "    yaxis_title='Средняя мощность (лошадиные силы)',\n",
    "    title='Средняя мощность по марке',\n",
    "\n",
    ")\n",
    "fig.show()"
   ]
  },
  {
   "cell_type": "code",
   "execution_count": 19,
   "metadata": {},
   "outputs": [
    {
     "data": {
      "application/vnd.plotly.v1+json": {
       "config": {
        "plotlyServerURL": "https://plot.ly"
       },
       "data": [
        {
         "hovertemplate": "<b>%{hovertext}</b><br><br>Мощность=%{x}<br>Стоимость=%{y}<extra></extra>",
         "hovertext": [
          "911",
          "Huracan",
          "488 GTB",
          "R8",
          "720S",
          "M8",
          "AMG GT",
          "Corvette",
          "Mustang Shelby GT500",
          "GT-R Nismo",
          "DB11",
          "Chiron",
          "Challenger SRT Hellcat",
          "F-Type",
          "Jesko",
          "LC 500",
          "Evora GT",
          "GranTurismo",
          "Boxster",
          "Giulia Quadrifoglio",
          "Atom",
          "Continental GT",
          "Artura",
          "SLS AMG",
          "Huayra",
          "1",
          "Cayman GT4",
          "Aventador SVJ",
          "SF90 Stradale",
          "RS7",
          "Artura",
          "M4",
          "SLS AMG",
          "Camaro ZL1",
          "GT",
          "370Z Nismo",
          "Urus",
          "Roma",
          "RS3",
          "GT",
          "CLS63 AMG",
          "Cayman",
          "Aventador SVJ",
          "SF90 Stradale",
          "RS3",
          "570S",
          "M4",
          "AMG C63",
          "Camaro SS",
          "Mustang GT",
          "370Z Nismo",
          "Vantage",
          "Evora GT",
          "Panamera",
          "Urus",
          "Roma",
          "S5",
          "600LT",
          "M5",
          "Vantage",
          "RS5",
          "M2",
          "Camaro SS",
          "Challenger SRT Hellcat Redeye",
          "GT",
          "F-Type",
          "Aventador",
          "GranTurismo",
          "Artura",
          "C63 AMG",
          "370Z",
          "Panamera",
          "TT RS",
          "M4",
          "Corvette Stingray",
          "F8 Tributo",
          "Mustang Mach 1",
          "Urus",
          "718 Cayman",
          "NSX",
          "Vantage",
          "Continental GT",
          "Chiron",
          "Challenger SRT Hellcat Redeye",
          "F-Type",
          "Jesko",
          "LC 500",
          "Evora GT",
          "GranTurismo",
          "MX-5 Miata",
          "GT",
          "SLS AMG",
          "Huayra",
          "718 Cayman GT4",
          "Wraith",
          "Supra",
          "Fenyr Supersport",
          "718 Cayman",
          "Aventador",
          "SF90 Stradale",
          "TT RS",
          "GT",
          "M4",
          "SL 63 AMG",
          "Camaro ZL1",
          "GT",
          "370Z",
          "DBS Superleggera",
          "Chiron",
          "Evora GT",
          "570S",
          "Panamera Turbo S E-Hybrid",
          "Urus",
          "Roma",
          "RS7",
          "M2",
          "Cayman GT4",
          "Aventador",
          "DBS Superleggera",
          "Continental GT",
          "RS7",
          "SLS AMG",
          "570S",
          "M2",
          "Camaro ZL1",
          "Challenger SRT Hellcat",
          "Portofino",
          "Panamera Turbo S",
          "Urus",
          "AMG C63",
          "Vantage",
          "S5",
          "Cayman",
          "Aventador",
          "F8 Tributo",
          "TT RS",
          "570S",
          "Z4 M40i",
          "SLS AMG",
          "Camaro SS",
          "Mustang Mach 1",
          "370Z Nismo",
          "Panamera",
          "Urus",
          "Roma",
          "RS 3",
          "GT",
          "M2 CS",
          "AMG C63",
          "Camaro ZL1",
          "NSX",
          "DB11",
          "Continental GT",
          "Chiron",
          "Viper",
          "F-Type",
          "Jesko",
          "LC 500",
          "Evora GT",
          "GranTurismo",
          "570S",
          "Huayra",
          "Cayman GT4",
          "Wraith",
          "GR Supra",
          "Griffith",
          "Lykan Hypersport",
          "718 Cayman",
          "Aventador SVJ",
          "SF90 Stradale",
          "RS 6",
          "GT",
          "M2 CS",
          "SLS AMG",
          "Camaro SS",
          "GT",
          "370Z Nismo",
          "Urus",
          "F8 Tributo",
          "RS 3",
          "570S",
          "M5",
          "AMG C 63",
          "Camaro ZL1",
          "Taycan",
          "Aventador",
          "DBS Superleggera",
          "RS 6 Avant",
          "600LT",
          "C 63 S Coupe",
          "M4",
          "Camaro ZL1",
          "Challenger SRT Hellcat Redeye",
          "GT",
          "370Z",
          "Panamera",
          "Urus",
          "Chiron",
          "F8 Tributo",
          "RS 7",
          "570S",
          "Vantage",
          "F-Type",
          "Panamera Turbo S",
          "Aventador S",
          "SF90 Stradale",
          "RS7",
          "600LT",
          "M2 Competition",
          "S63 AMG",
          "Camaro ZL1",
          "Challenger SRT Hellcat",
          "GT",
          "Urus",
          "812 Superfast",
          "R8 Spyder",
          "GT",
          "M4",
          "AMG GT R",
          "Corvette Stingray",
          "DB11",
          "Continental GT",
          "F-Type R",
          "NSX",
          "Evora GT",
          "Cayman GT4",
          "4C",
          "RS5",
          "M2 Competition",
          "Camaro ZL1",
          "Charger SRT Hellcat",
          "GT",
          "LC 500",
          "GranTurismo",
          "370Z Nismo",
          "Wraith",
          "WRX STI",
          "Cayman GT4",
          "Aventador",
          "Portofino",
          "RS7",
          "600LT",
          "M2",
          "AMG GT",
          "Camaro SS",
          "Mustang Mach 1",
          "370Z Nismo",
          "Panamera Turbo",
          "Urus",
          "SF90 Stradale",
          "TT RS",
          "GT",
          "Challenger SRT Hellcat",
          "DBS Superleggera",
          "F-Type R",
          "LC 500",
          "Cayman GT4",
          "M2 Competition",
          "RS 5 Coupe",
          "Camaro ZL1",
          "Evora GT",
          "GT",
          "SLS AMG Black Series",
          "Chiron",
          "Jesko",
          "SF90 Stradale",
          "Aventador SVJ",
          "Huayra Roadster BC",
          "NSX",
          "Vantage",
          "Continental GT",
          "Challenger SRT Hellcat",
          "F-Type",
          "Stinger",
          "Evora GT",
          "GranTurismo",
          "718 Cayman GT4",
          "Giulia Quadrifoglio",
          "RS7",
          "M5",
          "Camaro ZL1",
          "GT",
          "Aventador",
          "Artura",
          "SLS AMG",
          "370Z Nismo",
          "DBS Superleggera",
          "Continental GT",
          "Chiron",
          "570S",
          "Aventador S",
          "F8 Tributo",
          "RS 7",
          "M2 CS",
          "SLS AMG",
          "Camaro ZL1",
          "GT",
          "F-Type",
          "Evora GT",
          "GranTurismo",
          "765LT",
          "370Z",
          "Huayra",
          "Panamera Turbo S",
          "DB11",
          "Challenger Hellcat Redeye",
          "Evora",
          "NSX",
          "Giulia Quadrifoglio",
          "Continental GT",
          "F-Type",
          "Jesko",
          "LC 500",
          "GranTurismo",
          "GT",
          "C 63 S Coupe",
          "718 Cayman",
          "Wraith",
          "Camaro SS",
          "GT",
          "NSX",
          "DB11",
          "Continental GT",
          "Chiron",
          "Challenger Hellcat",
          "F-Type",
          "Jesko",
          "LC",
          "Evora GT",
          "GranTurismo",
          "570S",
          "AMG C63",
          "Huayra BC",
          "Cayman GT4",
          "Wraith",
          "NSX",
          "Vantage",
          "Continental GT",
          "Challenger SRT Hellcat Redeye",
          "F-Type R",
          "LC 500",
          "Evora GT",
          "GranTurismo",
          "Cayman GT4",
          "A110",
          "RS7",
          "M4",
          "Camaro ZL1",
          "Viper",
          "Portofino",
          "F-Type",
          "Aventador SVJ",
          "600LT",
          "DB11",
          "Continental GT",
          "Chiron",
          "Challenger SRT Hellcat",
          "F-Type R",
          "Jesko",
          "LC 500",
          "Evora GT",
          "GranTurismo",
          "Artura",
          "C 63 S",
          "Huayra",
          "Cayman GT4",
          "Wraith",
          "Supra",
          "NSX",
          "Vantage",
          "Continental GT",
          "Challenger SRT Hellcat",
          "F-Type",
          "LC 500",
          "Evora GT",
          "GranTurismo",
          "570S",
          "Cayman GT4",
          "RS 5",
          "M2 Competition",
          "Camaro ZL1",
          "Viper ACR",
          "GT",
          "Taycan 4S",
          "Aventador S",
          "DB11",
          "Giulia Quadrifoglio",
          "RS7 Sportback",
          "M4 Competition",
          "Camaro SS",
          "Charger Hellcat",
          "F8 Tributo",
          "GT",
          "F-Type R",
          "Jesko Absolut",
          "LC 500",
          "GT",
          "AMG GT Black Series",
          "Cayman GT4",
          "Aventador",
          "Portofino",
          "TT RS",
          "600LT Spider",
          "M4",
          "AMG C 63",
          "Camaro SS 1LE",
          "Mustang Mach 1",
          "370Z Nismo",
          "Vantage",
          "Chiron",
          "Jesko",
          "Huayra",
          "Speedtail",
          "Sián",
          "Cayman",
          "Aventador",
          "Portofino",
          "RS 5",
          "GT",
          "Z4 M40i",
          "SLC 43",
          "Camaro SS",
          "Mustang GT",
          "370Z Nismo",
          "Vantage",
          "Continental GT",
          "718 Boxster",
          "Urus",
          "F8 Spider",
          "TT RS",
          "570S",
          "M4",
          "718 Cayman",
          "Aventador",
          "SF90 Stradale",
          "RS5",
          "GT",
          "M2",
          "SLS AMG",
          "Camaro ZL1",
          "GT",
          "370Z Nismo",
          "Challenger SRT Hellcat",
          "DBS Superleggera",
          "Giulia Quadrifoglio",
          "F-Type R",
          "Evora GT",
          "GranTurismo",
          "Panamera Turbo S",
          "Urus",
          "Vantage",
          "Evora",
          "4C Spider",
          "F-Type",
          "GranTurismo",
          "Cayman GT4",
          "RS5 Coupe",
          "M2 Competition",
          "Camaro ZL1",
          "Challenger SRT Hellcat",
          "GT",
          "LC 500",
          "570S",
          "C63 S Coupe",
          "370Z Nismo",
          "718 Boxster",
          "Aventador S",
          "F8 Tributo",
          "TT RS Coupe",
          "M4 Coupe",
          "NSX",
          "DBS Superleggera",
          "Continental GT",
          "Chiron",
          "Challenger SRT Hellcat",
          "F-Type",
          "Jesko",
          "LC 500",
          "Evora GT",
          "GranTurismo",
          "Artura",
          "Huayra",
          "Cayman GT4",
          "Wraith",
          "GR Supra",
          "Griffith",
          "RS",
          "Fenyr SuperSport",
          "NSX",
          "DBS Superleggera",
          "Continental GT",
          "Chiron",
          "Challenger SRT Hellcat",
          "F-Type",
          "LC 500",
          "GranTurismo",
          "Artura",
          "AMG GT Black Series",
          "Camaro ZL1",
          "GT",
          "DBS Superleggera",
          "F-Type",
          "Challenger SRT Hellcat Redeye",
          "Evora GT",
          "4C Spider",
          "WRX STI",
          "NSX",
          "Jesko",
          "Chiron Super Sport 300+",
          "Senna",
          "SLS AMG Black Series",
          "LC 500",
          "Camaro ZL1",
          "RS 7 Sportback",
          "GT",
          "M2 CS",
          "Cayman GT4",
          "Aventador",
          "Vantage",
          "Evora GT",
          "Panamera Turbo S",
          "Aventador S",
          "SF90 Stradale",
          "RS 6 Avant",
          "570S",
          "M5",
          "AMG C 63 S",
          "Camaro ZL1",
          "Challenger SRT Hellcat",
          "GT",
          "370Z Nismo",
          "Cayman GT4",
          "TT RS",
          "Corvette Z06",
          "Urus",
          "AMG GT 63 S",
          "Portofino M",
          "Chiron",
          "DBS Superleggera",
          "Evora GT",
          "Cayman GT4",
          "NSX",
          "LC",
          "Giulia Quadrifoglio",
          "RS7",
          "Continental GT",
          "M5",
          "Camaro ZL1",
          "Challenger Hellcat",
          "GT",
          "F-Type R",
          "Aventador",
          "570S",
          "SLS AMG",
          "370Z Nismo",
          "Boxster",
          "718 Cayman",
          "Aventador",
          "Roma",
          "RS 5",
          "570S",
          "M2",
          "SL",
          "Camaro",
          "GT",
          "370Z Nismo",
          "DBS Superleggera",
          "Evora GT",
          "GranTurismo",
          "Panamera",
          "Urus",
          "SF90 Stradale",
          "RS 6",
          "Artura",
          "Aventador S",
          "SF90 Stradale",
          "RS 7",
          "570S",
          "M4",
          "SLS AMG",
          "Camaro SS",
          "GT",
          "370Z Nismo",
          "DBS Superleggera",
          "LC 500",
          "Continental GT",
          "GranTurismo",
          "Dawn",
          "Chiron Pur Sport",
          "Senna",
          "NSX",
          "DB11",
          "RS7",
          "Continental GT",
          "Chiron",
          "Camaro ZL1",
          "Challenger Hellcat",
          "812 Superfast",
          "Aventador SVJ",
          "600LT Spider",
          "GT Black Series",
          "400Z",
          "Cayman GT4",
          "Wraith",
          "Supra",
          "718 Boxster",
          "718 Boxster",
          "Aventador S",
          "SF90 Stradale",
          "RS 7",
          "Artura",
          "M2",
          "SLS AMG",
          "Camaro ZL1",
          "GT",
          "370Z Nismo",
          "Charger Hellcat",
          "DBS Superleggera",
          "Giulia Quadrifoglio",
          "TT RS",
          "Continental GT",
          "M5",
          "Corvette Stingray",
          "Challenger SRT Hellcat",
          "Mustang GT",
          "Cayman",
          "Aventador",
          "Roma",
          "RS7",
          "570S",
          "M4",
          "SLS AMG",
          "Camaro SS",
          "GT",
          "370Z Nismo",
          "Panamera",
          "Urus",
          "SF90 Stradale",
          "RS6",
          "Artura",
          "M2",
          "GT 63",
          "Camaro ZL1",
          "DBS Superleggera",
          "Chiron",
          "Jesko",
          "Huayra",
          "Senna",
          "918 Spyder",
          "SF90 Stradale",
          "Aventador SVJ",
          "RS 6 Avant",
          "Continental GT Speed",
          "Camaro ZL1",
          "Challenger SRT Hellcat",
          "GT",
          "LC 500",
          "GT Black Series",
          "DB11",
          "Continental GT",
          "F-Type",
          "Evora GT",
          "GranTurismo",
          "Boxster",
          "4C",
          "Camaro",
          "Challenger",
          "GT",
          "RS7",
          "M4",
          "Aventador",
          "AMG C 63",
          "370Z",
          "Cayman",
          "i8",
          "Corvette Stingray",
          "Aventador S",
          "SF90 Stradale",
          "RS7",
          "GT",
          "M5",
          "SLS AMG",
          "Camaro ZL1",
          "GT",
          "370Z Nismo",
          "Panamera Turbo S",
          "Urus",
          "Portofino",
          "TT RS",
          "570S",
          "718 Cayman",
          "Aventador",
          "Portofino",
          "TT RS",
          "GT",
          "M4",
          "SLS AMG",
          "Camaro SS",
          "GT",
          "370Z Nismo",
          "911 Turbo S",
          "765LT",
          "Urus",
          "GT Black Series",
          "M5 Competition",
          "RS7",
          "Vantage",
          "F8 Spider",
          "LC 500",
          "Aventador SVJ",
          "SF90 Stradale",
          "RS6 Avant",
          "600LT Spider",
          "M4",
          "AMG GT R",
          "Camaro ZL1",
          "GT",
          "370Z Nismo",
          "Panamera Turbo S E-Hybrid",
          "Urus",
          "Portofino M",
          "TT RS",
          "Artura",
          "M2 CS",
          "SLS AMG Black Series",
          "Camaro SS",
          "718 Boxster",
          "Aventador SVJ",
          "SF90 Stradale",
          "TT RS Coupe",
          "GT",
          "Z4 Roadster",
          "SLS AMG",
          "Camaro SS Convertible",
          "GT",
          "370Z Coupe",
          "Vantage",
          "Continental GT",
          "Chiron",
          "Challenger SRT Hellcat",
          "F-Type",
          "Evora GT",
          "GranTurismo",
          "DBS Superleggera",
          "Evora GT",
          "Panamera Turbo S E-Hybrid",
          "Aventador SVJ",
          "SF90 Stradale",
          "RS7",
          "S63 AMG",
          "Camaro ZL1",
          "GT",
          "370Z Nismo",
          "718 Cayman GT4",
          "C63 S Coupe",
          "Vantage",
          "570S",
          "M5",
          "Challenger SRT Hellcat",
          "LC 500",
          "GT 63 S",
          "TT RS",
          "NSX",
          "Cayman GT4",
          "Aventador S",
          "SF90 Stradale",
          "RS 5",
          "570S Spider",
          "M2 Competition",
          "C 63 AMG",
          "Camaro SS",
          "Mustang GT",
          "Challenger R/T",
          "Vantage",
          "Evora GT",
          "4C Spider",
          "F-Type",
          "Jesko",
          "Chiron Super Sport 300+",
          "Cayman GT4",
          "Camaro ZL1",
          "Vantage",
          "Giulia Quadrifoglio",
          "Challenger SRT Hellcat",
          "LC 500",
          "RS 7 Sportback",
          "M4 Competition",
          "C63 S AMG",
          "GT",
          "GT",
          "Panamera Turbo S",
          "Aventador S",
          "DBS Superleggera",
          "TT RS",
          "AMG C43 Coupe",
          "i8",
          "Corvette Stingray",
          "Aventador",
          "Roma",
          "RS7",
          "GT",
          "M2",
          "C63 AMG",
          "Camaro SS",
          "Mustang Mach 1",
          "370Z Nismo",
          "Panamera",
          "Urus",
          "RS6",
          "570S",
          "M4",
          "AMG A45",
          "Camaro ZL1",
          "NSX",
          "Vantage",
          "Continental GT",
          "Chiron",
          "F8 Tributo",
          "Aventador",
          "GT",
          "AMG GT R",
          "RS7",
          "M4",
          "Camaro ZL1",
          "Challenger SRT Hellcat Redeye",
          "GT",
          "F-Type",
          "LC 500",
          "370Z",
          "Ghost",
          "Taycan",
          "DB11",
          "Evora GT",
          "NSX",
          "Camaro",
          "Charger",
          "F-Type",
          "LC 500",
          "M4",
          "GT",
          "GranTurismo",
          "600LT",
          "SLS AMG",
          "370Z",
          "RS 7",
          "Continental GT",
          "Cayman",
          "Vantage",
          "4C Spider",
          "RS 5",
          "M2",
          "Challenger SRT Hellcat",
          "F8 Spider",
          "F-Type",
          "Aventador",
          "LC 500",
          "Evora GT",
          "GranTurismo",
          "GT",
          "AMG C 63",
          "370Z Nismo",
          "Panamera",
          "WRX STI",
          "718 Cayman",
          "Aventador",
          "SF90 Stradale",
          "RS5 Coupe",
          "570S",
          "M2",
          "SL",
          "Camaro",
          "GT",
          "370Z",
          "Giulia Quadrifoglio",
          "DB11",
          "Continental GT",
          "Challenger",
          "F-Type R",
          "LC 500",
          "Evora GT",
          "GranTurismo",
          "Cayman GT4",
          "Vantage",
          "Charger SRT Hellcat",
          "RS 7",
          "Camaro SS",
          "Mustang GT",
          "F-Type R",
          "LC 500",
          "570S",
          "AMG C63",
          "370Z Nismo",
          "Panamera GTS",
          "TT RS",
          "M4",
          "F8 Tributo",
          "Aventador",
          "GT",
          "AMG GT 4-Door Coupe",
          "DBS Superleggera",
          "Evora GT",
          "570S",
          "Aventador SVJ",
          "GT",
          "RS7 Sportback",
          "M4",
          "C63 S",
          "Camaro ZL1",
          "Charger Hellcat",
          "Giulia Quadrifoglio",
          "SF90 Stradale",
          "Artura",
          "Urus",
          "Mustang Mach 1",
          "911",
          "Huracan",
          "488 GTB",
          "R8",
          "720S",
          "M8",
          "AMG GT",
          "Corvette",
          "Mustang Shelby GT500",
          "GT-R Nismo",
          "Challenger SRT Hellcat",
          "Vantage",
          "Chiron",
          "Jesko",
          "Huayra",
          "MC20",
          "Cayman",
          "Aventador",
          "SF90 Stradale",
          "RS 5",
          "GT",
          "M2",
          "SLS AMG",
          "Camaro",
          "Mustang",
          "370Z",
          "Vantage",
          "Chiron",
          "Jesko",
          "Senna",
          "Huayra"
         ],
         "legendgroup": "",
         "marker": {
          "color": "#636efa",
          "symbol": "circle"
         },
         "mode": "markers",
         "name": "",
         "orientation": "v",
         "showlegend": false,
         "type": "scatter",
         "x": [
          379,
          630,
          661,
          562,
          710,
          617,
          523,
          490,
          760,
          600,
          630,
          1500,
          717,
          296,
          1280,
          471,
          416,
          454,
          300,
          505,
          320,
          626,
          671,
          622,
          720,
          600,
          414,
          759,
          986,
          591,
          671,
          503,
          622,
          650,
          660,
          350,
          641,
          611,
          394,
          612,
          603,
          300,
          759,
          986,
          394,
          562,
          503,
          503,
          455,
          460,
          350,
          503,
          416,
          325,
          641,
          612,
          349,
          592,
          600,
          503,
          444,
          405,
          455,
          797,
          660,
          296,
          770,
          454,
          671,
          503,
          332,
          325,
          394,
          473,
          490,
          710,
          480,
          641,
          300,
          573,
          503,
          626,
          1500,
          797,
          380,
          1600,
          471,
          416,
          454,
          181,
          620,
          622,
          764,
          414,
          624,
          382,
          800,
          300,
          770,
          986,
          394,
          612,
          503,
          603,
          650,
          660,
          332,
          715,
          1500,
          416,
          562,
          690,
          641,
          611,
          591,
          405,
          414,
          730,
          715,
          626,
          591,
          622,
          562,
          405,
          650,
          717,
          592,
          620,
          641,
          469,
          503,
          349,
          365,
          730,
          710,
          394,
          562,
          382,
          622,
          455,
          480,
          350,
          325,
          641,
          612,
          401,
          612,
          444,
          503,
          650,
          573,
          503,
          626,
          1500,
          645,
          380,
          1600,
          471,
          416,
          454,
          562,
          720,
          414,
          624,
          382,
          500,
          780,
          300,
          770,
          986,
          591,
          612,
          444,
          622,
          455,
          660,
          350,
          641,
          710,
          401,
          562,
          600,
          469,
          650,
          402,
          730,
          715,
          591,
          592,
          503,
          473,
          650,
          797,
          660,
          332,
          325,
          641,
          1500,
          710,
          591,
          562,
          503,
          575,
          620,
          729,
          986,
          591,
          592,
          405,
          603,
          650,
          717,
          660,
          641,
          789,
          562,
          612,
          473,
          577,
          495,
          630,
          626,
          575,
          573,
          416,
          414,
          237,
          444,
          405,
          650,
          717,
          660,
          471,
          454,
          350,
          624,
          310,
          414,
          729,
          591,
          591,
          592,
          405,
          523,
          455,
          480,
          350,
          620,
          641,
          986,
          394,
          612,
          717,
          715,
          575,
          471,
          414,
          405,
          444,
          650,
          416,
          612,
          622,
          1500,
          1280,
          986,
          770,
          791,
          573,
          503,
          542,
          717,
          296,
          368,
          416,
          454,
          414,
          505,
          591,
          600,
          650,
          660,
          770,
          671,
          577,
          350,
          715,
          542,
          1479,
          562,
          730,
          710,
          591,
          444,
          622,
          650,
          660,
          575,
          416,
          454,
          755,
          332,
          730,
          620,
          503,
          797,
          416,
          573,
          505,
          626,
          380,
          1280,
          471,
          454,
          612,
          503,
          300,
          624,
          455,
          660,
          573,
          630,
          542,
          1500,
          717,
          575,
          1280,
          471,
          416,
          454,
          562,
          503,
          791,
          414,
          624,
          573,
          503,
          626,
          797,
          575,
          471,
          416,
          454,
          414,
          288,
          591,
          473,
          650,
          645,
          591,
          296,
          770,
          592,
          630,
          626,
          1500,
          717,
          575,
          1280,
          471,
          416,
          454,
          671,
          503,
          764,
          414,
          624,
          382,
          573,
          503,
          542,
          717,
          380,
          471,
          416,
          454,
          562,
          414,
          444,
          405,
          650,
          645,
          660,
          482,
          730,
          630,
          505,
          591,
          503,
          455,
          717,
          710,
          660,
          575,
          1600,
          471,
          612,
          720,
          414,
          770,
          591,
          394,
          592,
          473,
          503,
          455,
          480,
          350,
          503,
          1500,
          1262,
          764,
          1035,
          819,
          300,
          770,
          591,
          444,
          620,
          382,
          385,
          455,
          460,
          350,
          503,
          626,
          300,
          641,
          710,
          394,
          562,
          473,
          300,
          730,
          986,
          444,
          612,
          405,
          622,
          650,
          660,
          350,
          717,
          715,
          505,
          575,
          416,
          454,
          630,
          641,
          503,
          416,
          237,
          380,
          454,
          414,
          444,
          405,
          650,
          717,
          647,
          471,
          562,
          503,
          350,
          300,
          729,
          710,
          394,
          473,
          573,
          715,
          626,
          1500,
          717,
          575,
          1280,
          471,
          416,
          454,
          671,
          764,
          414,
          624,
          382,
          500,
          1200,
          800,
          573,
          715,
          626,
          1500,
          717,
          380,
          471,
          454,
          671,
          720,
          650,
          647,
          715,
          575,
          797,
          416,
          237,
          310,
          573,
          1280,
          1578,
          789,
          622,
          471,
          650,
          591,
          660,
          444,
          414,
          770,
          503,
          416,
          620,
          729,
          986,
          591,
          562,
          600,
          503,
          650,
          717,
          660,
          350,
          414,
          394,
          625,
          641,
          630,
          612,
          1479,
          715,
          416,
          414,
          573,
          471,
          505,
          591,
          626,
          600,
          650,
          717,
          647,
          575,
          730,
          562,
          583,
          350,
          300,
          300,
          759,
          612,
          444,
          562,
          405,
          429,
          455,
          660,
          350,
          715,
          416,
          454,
          325,
          641,
          986,
          591,
          671,
          730,
          986,
          591,
          562,
          473,
          622,
          455,
          660,
          350,
          715,
          471,
          626,
          454,
          563,
          1500,
          789,
          573,
          503,
          591,
          626,
          1500,
          650,
          717,
          789,
          770,
          592,
          720,
          400,
          414,
          624,
          382,
          300,
          300,
          730,
          986,
          591,
          671,
          405,
          583,
          650,
          647,
          350,
          707,
          715,
          505,
          394,
          626,
          600,
          495,
          717,
          460,
          300,
          770,
          612,
          591,
          562,
          473,
          622,
          455,
          660,
          350,
          325,
          641,
          986,
          591,
          671,
          405,
          577,
          650,
          715,
          1500,
          1280,
          764,
          789,
          887,
          986,
          759,
          591,
          650,
          650,
          717,
          660,
          471,
          720,
          503,
          542,
          296,
          416,
          454,
          300,
          237,
          455,
          305,
          660,
          591,
          473,
          729,
          469,
          350,
          300,
          369,
          495,
          729,
          986,
          591,
          620,
          600,
          730,
          650,
          660,
          350,
          630,
          641,
          591,
          394,
          562,
          300,
          770,
          612,
          394,
          620,
          473,
          622,
          455,
          660,
          350,
          640,
          755,
          641,
          720,
          617,
          591,
          503,
          710,
          471,
          759,
          986,
          591,
          592,
          473,
          577,
          650,
          660,
          350,
          690,
          641,
          612,
          394,
          671,
          444,
          622,
          455,
          300,
          759,
          986,
          394,
          612,
          255,
          622,
          455,
          660,
          332,
          503,
          626,
          1479,
          717,
          296,
          416,
          454,
          715,
          416,
          689,
          759,
          986,
          591,
          603,
          650,
          660,
          350,
          414,
          503,
          503,
          562,
          600,
          717,
          471,
          630,
          394,
          573,
          414,
          730,
          986,
          444,
          562,
          405,
          469,
          455,
          460,
          372,
          503,
          416,
          237,
          296,
          1600,
          1578,
          414,
          650,
          503,
          505,
          717,
          471,
          591,
          503,
          503,
          660,
          620,
          630,
          730,
          715,
          394,
          385,
          369,
          490,
          730,
          611,
          591,
          612,
          405,
          469,
          455,
          480,
          350,
          325,
          641,
          591,
          562,
          503,
          382,
          650,
          573,
          503,
          542,
          1479,
          710,
          730,
          612,
          577,
          591,
          473,
          650,
          797,
          660,
          380,
          471,
          332,
          563,
          402,
          630,
          416,
          573,
          455,
          797,
          380,
          471,
          473,
          660,
          454,
          592,
          622,
          332,
          591,
          542,
          300,
          503,
          237,
          444,
          405,
          717,
          710,
          296,
          759,
          471,
          416,
          454,
          612,
          469,
          350,
          325,
          310,
          300,
          729,
          986,
          444,
          562,
          405,
          429,
          455,
          660,
          332,
          505,
          630,
          626,
          485,
          575,
          471,
          416,
          454,
          414,
          503,
          717,
          591,
          455,
          460,
          575,
          471,
          562,
          469,
          350,
          473,
          394,
          473,
          710,
          770,
          612,
          630,
          715,
          416,
          562,
          759,
          660,
          591,
          473,
          503,
          650,
          717,
          505,
          986,
          671,
          641,
          480,
          379,
          630,
          661,
          562,
          710,
          617,
          523,
          490,
          760,
          600,
          717,
          503,
          1500,
          1280,
          764,
          621,
          300,
          730,
          986,
          444,
          612,
          405,
          622,
          455,
          310,
          332,
          503,
          1479,
          1280,
          789,
          764
         ],
         "xaxis": "x",
         "y": [
          101200,
          274390,
          333750,
          142700,
          298000,
          130000,
          118500,
          59900,
          81000,
          212000,
          201495,
          3000000,
          61000,
          70100,
          2800000,
          92950,
          104450,
          150000,
          62000,
          78000,
          75000,
          225000,
          225000,
          248000,
          2800000,
          155000,
          100200,
          517770,
          625000,
          117000,
          225000,
          72800,
          222000,
          64695,
          500000,
          45690,
          218000,
          222000,
          57000,
          210000,
          132000,
          58900,
          518000,
          625000,
          56200,
          192500,
          71800,
          68000,
          42500,
          39000,
          46100,
          142100,
          105000,
          87200,
          218000,
          222000,
          52500,
          241000,
          103500,
          146000,
          75400,
          58900,
          42900,
          78595,
          500000,
          62750,
          417826,
          150980,
          225000,
          70100,
          30090,
          88700,
          67600,
          72800,
          59900,
          274280,
          52915,
          218009,
          61000,
          159495,
          142086,
          219800,
          3000000,
          74290,
          71900,
          3000000,
          92950,
          105000,
          134300,
          26830,
          213195,
          221580,
          2800000,
          100550,
          330000,
          43090,
          1700000,
          60500,
          522000,
          625000,
          67000,
          212500,
          75000,
          155000,
          64000,
          500000,
          31015,
          304995,
          3000000,
          105000,
          192500,
          190000,
          222000,
          222000,
          115000,
          59000,
          102100,
          417826,
          304995,
          220300,
          114000,
          239100,
          192500,
          58900,
          62500,
          65290,
          219750,
          187700,
          222004,
          71350,
          146000,
          52500,
          68900,
          517770,
          276550,
          67600,
          192500,
          63700,
          221580,
          44000,
          51720,
          45790,
          88550,
          218009,
          222620,
          56200,
          200000,
          84595,
          77500,
          62500,
          157500,
          204100,
          220300,
          3000000,
          120000,
          69900,
          3000000,
          92950,
          105950,
          150000,
          204550,
          2700000,
          102900,
          330000,
          43090,
          123500,
          3400000,
          61500,
          518000,
          507000,
          109000,
          210000,
          84595,
          228000,
          42000,
          500000,
          45000,
          222004,
          276550,
          56000,
          191000,
          104000,
          69900,
          64000,
          81250,
          517700,
          330000,
          109000,
          242500,
          77000,
          72800,
          62000,
          76000,
          500000,
          30090,
          87200,
          218000,
          3000000,
          274280,
          114000,
          191000,
          142086,
          103200,
          177700,
          417650,
          625000,
          115045,
          256500,
          59895,
          152500,
          64695,
          69995,
          500000,
          218009,
          363730,
          183300,
          210000,
          73795,
          183000,
          60995,
          207000,
          203825,
          103200,
          157500,
          99800,
          100200,
          67150,
          77250,
          58900,
          64695,
          71490,
          500000,
          92950,
          150400,
          47820,
          330000,
          38170,
          102000,
          393695,
          218750,
          114000,
          256500,
          58900,
          118500,
          40590,
          52720,
          45000,
          174300,
          222004,
          625000,
          67895,
          210000,
          62290,
          304995,
          103200,
          93050,
          101200,
          59895,
          75100,
          64195,
          105000,
          211000,
          275000,
          2998000,
          3000000,
          625000,
          573966,
          3500000,
          157500,
          146000,
          219800,
          70000,
          61600,
          52200,
          100450,
          134300,
          102550,
          76400,
          114000,
          103500,
          69000,
          500000,
          417826,
          225000,
          247500,
          45790,
          307820,
          207825,
          2998000,
          202500,
          417826,
          276550,
          114000,
          84595,
          275000,
          63000,
          500000,
          103200,
          96950,
          134300,
          358000,
          30000,
          2600000,
          180000,
          201495,
          82190,
          96950,
          159495,
          76950,
          202500,
          70100,
          3000000,
          92950,
          132795,
          215500,
          80900,
          59900,
          330000,
          40000,
          500000,
          157500,
          209000,
          202500,
          3000000,
          67500,
          103200,
          2800000,
          92950,
          104200,
          133050,
          196350,
          69900,
          2600000,
          102900,
          338000,
          157500,
          150000,
          218400,
          73000,
          103200,
          92950,
          104970,
          132400,
          101200,
          71500,
          114000,
          71800,
          64195,
          118795,
          218750,
          61600,
          517700,
          240000,
          221400,
          202500,
          3000000,
          64100,
          103200,
          2800000,
          92950,
          100450,
          150980,
          225000,
          81550,
          3500000,
          102550,
          330000,
          43090,
          157500,
          146000,
          207825,
          64195,
          62250,
          92000,
          105000,
          134300,
          204550,
          102000,
          75100,
          59895,
          64995,
          126190,
          500000,
          102900,
          417650,
          205000,
          81250,
          115045,
          75695,
          42000,
          71490,
          274280,
          500000,
          103200,
          2800000,
          93050,
          210000,
          326050,
          102500,
          417650,
          218750,
          69000,
          256500,
          72800,
          70000,
          44500,
          51000,
          45000,
          146000,
          3000000,
          3000000,
          2600000,
          2300000,
          3600000,
          59900,
          393695,
          215000,
          75100,
          210000,
          63700,
          62000,
          42500,
          36120,
          45790,
          146000,
          220000,
          62000,
          222004,
          280000,
          69900,
          208800,
          72800,
          60500,
          393695,
          625000,
          75100,
          208800,
          58900,
          229000,
          62000,
          500000,
          46200,
          71000,
          308000,
          80500,
          105900,
          96950,
          150980,
          180800,
          218000,
          146000,
          94000,
          67150,
          70900,
          134300,
          100200,
          76450,
          58900,
          64000,
          61500,
          500000,
          92950,
          198950,
          77950,
          45790,
          62000,
          417826,
          274280,
          67600,
          71800,
          159495,
          314500,
          214425,
          3000000,
          71490,
          105900,
          2800000,
          92950,
          104400,
          150980,
          225000,
          2600000,
          102000,
          335550,
          43090,
          157500,
          220000,
          1550000,
          157500,
          308000,
          202500,
          3000000,
          65000,
          63100,
          92950,
          134300,
          225000,
          325000,
          63000,
          500000,
          307820,
          103200,
          80190,
          105000,
          68745,
          38170,
          157500,
          2800000,
          5200000,
          1500000,
          275000,
          93050,
          65000,
          114000,
          500000,
          84595,
          102550,
          393695,
          146000,
          96950,
          180000,
          460247,
          625000,
          110045,
          192500,
          103500,
          77400,
          64695,
          64195,
          500000,
          46815,
          102550,
          67895,
          85000,
          218009,
          162900,
          245000,
          3000000,
          304995,
          100450,
          100200,
          157500,
          92950,
          74750,
          114000,
          218400,
          103500,
          64695,
          70595,
          500000,
          103200,
          393695,
          203500,
          221580,
          47190,
          62000,
          61500,
          393695,
          222630,
          75400,
          208000,
          58900,
          96250,
          25000,
          500000,
          45000,
          307820,
          100450,
          134300,
          88550,
          218009,
          625000,
          109000,
          225000,
          417650,
          625000,
          117000,
          192500,
          72800,
          228000,
          42000,
          500000,
          48000,
          307820,
          93000,
          202500,
          150980,
          346300,
          3599000,
          1050000,
          157500,
          205600,
          114000,
          201000,
          3000000,
          67000,
          64000,
          340000,
          517770,
          256500,
          325000,
          40000,
          101000,
          330000,
          43000,
          62000,
          62000,
          417826,
          625000,
          114000,
          225000,
          58900,
          221580,
          64695,
          500000,
          45000,
          69995,
          305000,
          75000,
          68000,
          203825,
          103500,
          58900,
          63000,
          45000,
          59900,
          417826,
          222630,
          114000,
          204995,
          71800,
          243600,
          42000,
          500000,
          47190,
          88550,
          218000,
          625000,
          113000,
          225000,
          58900,
          161200,
          63000,
          310000,
          3000000,
          2800000,
          2600000,
          1000000,
          1800000,
          625000,
          517000,
          110000,
          300000,
          68000,
          65000,
          500000,
          92000,
          330000,
          205000,
          229000,
          62750,
          100000,
          135000,
          63000,
          67150,
          62195,
          28000,
          500000,
          115045,
          71800,
          393695,
          69900,
          30090,
          68000,
          147500,
          58900,
          417650,
          625000,
          115000,
          208000,
          103500,
          250000,
          63000,
          500000,
          46100,
          180000,
          218000,
          250000,
          70000,
          200000,
          61500,
          417826,
          245000,
          67800,
          211300,
          71800,
          222500,
          43995,
          500000,
          45790,
          208000,
          358000,
          218009,
          325000,
          103500,
          115000,
          152995,
          274280,
          102550,
          517770,
          625000,
          109000,
          256500,
          71800,
          180000,
          64695,
          500000,
          48000,
          190000,
          218000,
          235000,
          67600,
          225000,
          84595,
          335000,
          42000,
          63000,
          573966,
          625000,
          68000,
          210000,
          50000,
          200000,
          49000,
          500000,
          30090,
          142086,
          225000,
          3000000,
          68000,
          63700,
          100000,
          150980,
          304995,
          98395,
          190000,
          517000,
          625000,
          117000,
          168000,
          64500,
          500000,
          46000,
          102000,
          77500,
          147000,
          193000,
          103500,
          64000,
          92950,
          162000,
          67600,
          157500,
          102000,
          417826,
          625000,
          76700,
          208800,
          58900,
          69000,
          42000,
          43000,
          35000,
          151000,
          105000,
          69000,
          62500,
          3000000,
          5200000,
          102100,
          63000,
          142086,
          83250,
          65000,
          93050,
          114000,
          74700,
          77600,
          500000,
          210000,
          181100,
          417826,
          329100,
          67600,
          59900,
          147500,
          59900,
          517000,
          222620,
          115000,
          210000,
          58900,
          77000,
          43995,
          51720,
          46610,
          88550,
          218009,
          120000,
          192500,
          74000,
          50000,
          63995,
          157500,
          142086,
          202500,
          2900000,
          275000,
          517000,
          201500,
          183000,
          114000,
          71800,
          63000,
          80190,
          500000,
          62750,
          92000,
          30090,
          332500,
          81250,
          198995,
          105000,
          157500,
          25000,
          72000,
          62750,
          93000,
          71800,
          500000,
          150980,
          256500,
          254995,
          30000,
          114000,
          220000,
          59900,
          147000,
          67150,
          75100,
          58900,
          60695,
          274390,
          64700,
          517770,
          92950,
          99990,
          150800,
          210000,
          67600,
          45790,
          88800,
          38170,
          61500,
          393695,
          625000,
          76350,
          202000,
          58900,
          96000,
          25000,
          500000,
          33000,
          75250,
          201495,
          201000,
          62000,
          103200,
          92950,
          99000,
          150000,
          102500,
          149995,
          78595,
          114000,
          37500,
          38500,
          103200,
          92950,
          208800,
          71450,
          47820,
          134150,
          67600,
          71800,
          274280,
          393695,
          250000,
          171200,
          321000,
          100500,
          195000,
          517770,
          500000,
          114000,
          72800,
          78100,
          63000,
          70000,
          78450,
          625000,
          225000,
          222000,
          52915,
          101200,
          274390,
          333750,
          142700,
          298000,
          130000,
          118500,
          59900,
          81000,
          212000,
          64195,
          147000,
          3900000,
          3000000,
          2600000,
          210000,
          59900,
          393695,
          625000,
          75100,
          210000,
          58900,
          254500,
          25000,
          27205,
          30090,
          146000,
          3000000,
          3000000,
          1000000,
          2600000
         ],
         "yaxis": "y"
        }
       ],
       "layout": {
        "legend": {
         "tracegroupgap": 0
        },
        "paper_bgcolor": "white",
        "plot_bgcolor": "white",
        "template": {
         "data": {
          "bar": [
           {
            "error_x": {
             "color": "#2a3f5f"
            },
            "error_y": {
             "color": "#2a3f5f"
            },
            "marker": {
             "line": {
              "color": "#E5ECF6",
              "width": 0.5
             },
             "pattern": {
              "fillmode": "overlay",
              "size": 10,
              "solidity": 0.2
             }
            },
            "type": "bar"
           }
          ],
          "barpolar": [
           {
            "marker": {
             "line": {
              "color": "#E5ECF6",
              "width": 0.5
             },
             "pattern": {
              "fillmode": "overlay",
              "size": 10,
              "solidity": 0.2
             }
            },
            "type": "barpolar"
           }
          ],
          "carpet": [
           {
            "aaxis": {
             "endlinecolor": "#2a3f5f",
             "gridcolor": "white",
             "linecolor": "white",
             "minorgridcolor": "white",
             "startlinecolor": "#2a3f5f"
            },
            "baxis": {
             "endlinecolor": "#2a3f5f",
             "gridcolor": "white",
             "linecolor": "white",
             "minorgridcolor": "white",
             "startlinecolor": "#2a3f5f"
            },
            "type": "carpet"
           }
          ],
          "choropleth": [
           {
            "colorbar": {
             "outlinewidth": 0,
             "ticks": ""
            },
            "type": "choropleth"
           }
          ],
          "contour": [
           {
            "colorbar": {
             "outlinewidth": 0,
             "ticks": ""
            },
            "colorscale": [
             [
              0,
              "#0d0887"
             ],
             [
              0.1111111111111111,
              "#46039f"
             ],
             [
              0.2222222222222222,
              "#7201a8"
             ],
             [
              0.3333333333333333,
              "#9c179e"
             ],
             [
              0.4444444444444444,
              "#bd3786"
             ],
             [
              0.5555555555555556,
              "#d8576b"
             ],
             [
              0.6666666666666666,
              "#ed7953"
             ],
             [
              0.7777777777777778,
              "#fb9f3a"
             ],
             [
              0.8888888888888888,
              "#fdca26"
             ],
             [
              1,
              "#f0f921"
             ]
            ],
            "type": "contour"
           }
          ],
          "contourcarpet": [
           {
            "colorbar": {
             "outlinewidth": 0,
             "ticks": ""
            },
            "type": "contourcarpet"
           }
          ],
          "heatmap": [
           {
            "colorbar": {
             "outlinewidth": 0,
             "ticks": ""
            },
            "colorscale": [
             [
              0,
              "#0d0887"
             ],
             [
              0.1111111111111111,
              "#46039f"
             ],
             [
              0.2222222222222222,
              "#7201a8"
             ],
             [
              0.3333333333333333,
              "#9c179e"
             ],
             [
              0.4444444444444444,
              "#bd3786"
             ],
             [
              0.5555555555555556,
              "#d8576b"
             ],
             [
              0.6666666666666666,
              "#ed7953"
             ],
             [
              0.7777777777777778,
              "#fb9f3a"
             ],
             [
              0.8888888888888888,
              "#fdca26"
             ],
             [
              1,
              "#f0f921"
             ]
            ],
            "type": "heatmap"
           }
          ],
          "heatmapgl": [
           {
            "colorbar": {
             "outlinewidth": 0,
             "ticks": ""
            },
            "colorscale": [
             [
              0,
              "#0d0887"
             ],
             [
              0.1111111111111111,
              "#46039f"
             ],
             [
              0.2222222222222222,
              "#7201a8"
             ],
             [
              0.3333333333333333,
              "#9c179e"
             ],
             [
              0.4444444444444444,
              "#bd3786"
             ],
             [
              0.5555555555555556,
              "#d8576b"
             ],
             [
              0.6666666666666666,
              "#ed7953"
             ],
             [
              0.7777777777777778,
              "#fb9f3a"
             ],
             [
              0.8888888888888888,
              "#fdca26"
             ],
             [
              1,
              "#f0f921"
             ]
            ],
            "type": "heatmapgl"
           }
          ],
          "histogram": [
           {
            "marker": {
             "pattern": {
              "fillmode": "overlay",
              "size": 10,
              "solidity": 0.2
             }
            },
            "type": "histogram"
           }
          ],
          "histogram2d": [
           {
            "colorbar": {
             "outlinewidth": 0,
             "ticks": ""
            },
            "colorscale": [
             [
              0,
              "#0d0887"
             ],
             [
              0.1111111111111111,
              "#46039f"
             ],
             [
              0.2222222222222222,
              "#7201a8"
             ],
             [
              0.3333333333333333,
              "#9c179e"
             ],
             [
              0.4444444444444444,
              "#bd3786"
             ],
             [
              0.5555555555555556,
              "#d8576b"
             ],
             [
              0.6666666666666666,
              "#ed7953"
             ],
             [
              0.7777777777777778,
              "#fb9f3a"
             ],
             [
              0.8888888888888888,
              "#fdca26"
             ],
             [
              1,
              "#f0f921"
             ]
            ],
            "type": "histogram2d"
           }
          ],
          "histogram2dcontour": [
           {
            "colorbar": {
             "outlinewidth": 0,
             "ticks": ""
            },
            "colorscale": [
             [
              0,
              "#0d0887"
             ],
             [
              0.1111111111111111,
              "#46039f"
             ],
             [
              0.2222222222222222,
              "#7201a8"
             ],
             [
              0.3333333333333333,
              "#9c179e"
             ],
             [
              0.4444444444444444,
              "#bd3786"
             ],
             [
              0.5555555555555556,
              "#d8576b"
             ],
             [
              0.6666666666666666,
              "#ed7953"
             ],
             [
              0.7777777777777778,
              "#fb9f3a"
             ],
             [
              0.8888888888888888,
              "#fdca26"
             ],
             [
              1,
              "#f0f921"
             ]
            ],
            "type": "histogram2dcontour"
           }
          ],
          "mesh3d": [
           {
            "colorbar": {
             "outlinewidth": 0,
             "ticks": ""
            },
            "type": "mesh3d"
           }
          ],
          "parcoords": [
           {
            "line": {
             "colorbar": {
              "outlinewidth": 0,
              "ticks": ""
             }
            },
            "type": "parcoords"
           }
          ],
          "pie": [
           {
            "automargin": true,
            "type": "pie"
           }
          ],
          "scatter": [
           {
            "fillpattern": {
             "fillmode": "overlay",
             "size": 10,
             "solidity": 0.2
            },
            "type": "scatter"
           }
          ],
          "scatter3d": [
           {
            "line": {
             "colorbar": {
              "outlinewidth": 0,
              "ticks": ""
             }
            },
            "marker": {
             "colorbar": {
              "outlinewidth": 0,
              "ticks": ""
             }
            },
            "type": "scatter3d"
           }
          ],
          "scattercarpet": [
           {
            "marker": {
             "colorbar": {
              "outlinewidth": 0,
              "ticks": ""
             }
            },
            "type": "scattercarpet"
           }
          ],
          "scattergeo": [
           {
            "marker": {
             "colorbar": {
              "outlinewidth": 0,
              "ticks": ""
             }
            },
            "type": "scattergeo"
           }
          ],
          "scattergl": [
           {
            "marker": {
             "colorbar": {
              "outlinewidth": 0,
              "ticks": ""
             }
            },
            "type": "scattergl"
           }
          ],
          "scattermapbox": [
           {
            "marker": {
             "colorbar": {
              "outlinewidth": 0,
              "ticks": ""
             }
            },
            "type": "scattermapbox"
           }
          ],
          "scatterpolar": [
           {
            "marker": {
             "colorbar": {
              "outlinewidth": 0,
              "ticks": ""
             }
            },
            "type": "scatterpolar"
           }
          ],
          "scatterpolargl": [
           {
            "marker": {
             "colorbar": {
              "outlinewidth": 0,
              "ticks": ""
             }
            },
            "type": "scatterpolargl"
           }
          ],
          "scatterternary": [
           {
            "marker": {
             "colorbar": {
              "outlinewidth": 0,
              "ticks": ""
             }
            },
            "type": "scatterternary"
           }
          ],
          "surface": [
           {
            "colorbar": {
             "outlinewidth": 0,
             "ticks": ""
            },
            "colorscale": [
             [
              0,
              "#0d0887"
             ],
             [
              0.1111111111111111,
              "#46039f"
             ],
             [
              0.2222222222222222,
              "#7201a8"
             ],
             [
              0.3333333333333333,
              "#9c179e"
             ],
             [
              0.4444444444444444,
              "#bd3786"
             ],
             [
              0.5555555555555556,
              "#d8576b"
             ],
             [
              0.6666666666666666,
              "#ed7953"
             ],
             [
              0.7777777777777778,
              "#fb9f3a"
             ],
             [
              0.8888888888888888,
              "#fdca26"
             ],
             [
              1,
              "#f0f921"
             ]
            ],
            "type": "surface"
           }
          ],
          "table": [
           {
            "cells": {
             "fill": {
              "color": "#EBF0F8"
             },
             "line": {
              "color": "white"
             }
            },
            "header": {
             "fill": {
              "color": "#C8D4E3"
             },
             "line": {
              "color": "white"
             }
            },
            "type": "table"
           }
          ]
         },
         "layout": {
          "annotationdefaults": {
           "arrowcolor": "#2a3f5f",
           "arrowhead": 0,
           "arrowwidth": 1
          },
          "autotypenumbers": "strict",
          "coloraxis": {
           "colorbar": {
            "outlinewidth": 0,
            "ticks": ""
           }
          },
          "colorscale": {
           "diverging": [
            [
             0,
             "#8e0152"
            ],
            [
             0.1,
             "#c51b7d"
            ],
            [
             0.2,
             "#de77ae"
            ],
            [
             0.3,
             "#f1b6da"
            ],
            [
             0.4,
             "#fde0ef"
            ],
            [
             0.5,
             "#f7f7f7"
            ],
            [
             0.6,
             "#e6f5d0"
            ],
            [
             0.7,
             "#b8e186"
            ],
            [
             0.8,
             "#7fbc41"
            ],
            [
             0.9,
             "#4d9221"
            ],
            [
             1,
             "#276419"
            ]
           ],
           "sequential": [
            [
             0,
             "#0d0887"
            ],
            [
             0.1111111111111111,
             "#46039f"
            ],
            [
             0.2222222222222222,
             "#7201a8"
            ],
            [
             0.3333333333333333,
             "#9c179e"
            ],
            [
             0.4444444444444444,
             "#bd3786"
            ],
            [
             0.5555555555555556,
             "#d8576b"
            ],
            [
             0.6666666666666666,
             "#ed7953"
            ],
            [
             0.7777777777777778,
             "#fb9f3a"
            ],
            [
             0.8888888888888888,
             "#fdca26"
            ],
            [
             1,
             "#f0f921"
            ]
           ],
           "sequentialminus": [
            [
             0,
             "#0d0887"
            ],
            [
             0.1111111111111111,
             "#46039f"
            ],
            [
             0.2222222222222222,
             "#7201a8"
            ],
            [
             0.3333333333333333,
             "#9c179e"
            ],
            [
             0.4444444444444444,
             "#bd3786"
            ],
            [
             0.5555555555555556,
             "#d8576b"
            ],
            [
             0.6666666666666666,
             "#ed7953"
            ],
            [
             0.7777777777777778,
             "#fb9f3a"
            ],
            [
             0.8888888888888888,
             "#fdca26"
            ],
            [
             1,
             "#f0f921"
            ]
           ]
          },
          "colorway": [
           "#636efa",
           "#EF553B",
           "#00cc96",
           "#ab63fa",
           "#FFA15A",
           "#19d3f3",
           "#FF6692",
           "#B6E880",
           "#FF97FF",
           "#FECB52"
          ],
          "font": {
           "color": "#2a3f5f"
          },
          "geo": {
           "bgcolor": "white",
           "lakecolor": "white",
           "landcolor": "#E5ECF6",
           "showlakes": true,
           "showland": true,
           "subunitcolor": "white"
          },
          "hoverlabel": {
           "align": "left"
          },
          "hovermode": "closest",
          "mapbox": {
           "style": "light"
          },
          "paper_bgcolor": "white",
          "plot_bgcolor": "#E5ECF6",
          "polar": {
           "angularaxis": {
            "gridcolor": "white",
            "linecolor": "white",
            "ticks": ""
           },
           "bgcolor": "#E5ECF6",
           "radialaxis": {
            "gridcolor": "white",
            "linecolor": "white",
            "ticks": ""
           }
          },
          "scene": {
           "xaxis": {
            "backgroundcolor": "#E5ECF6",
            "gridcolor": "white",
            "gridwidth": 2,
            "linecolor": "white",
            "showbackground": true,
            "ticks": "",
            "zerolinecolor": "white"
           },
           "yaxis": {
            "backgroundcolor": "#E5ECF6",
            "gridcolor": "white",
            "gridwidth": 2,
            "linecolor": "white",
            "showbackground": true,
            "ticks": "",
            "zerolinecolor": "white"
           },
           "zaxis": {
            "backgroundcolor": "#E5ECF6",
            "gridcolor": "white",
            "gridwidth": 2,
            "linecolor": "white",
            "showbackground": true,
            "ticks": "",
            "zerolinecolor": "white"
           }
          },
          "shapedefaults": {
           "line": {
            "color": "#2a3f5f"
           }
          },
          "ternary": {
           "aaxis": {
            "gridcolor": "white",
            "linecolor": "white",
            "ticks": ""
           },
           "baxis": {
            "gridcolor": "white",
            "linecolor": "white",
            "ticks": ""
           },
           "bgcolor": "#E5ECF6",
           "caxis": {
            "gridcolor": "white",
            "linecolor": "white",
            "ticks": ""
           }
          },
          "title": {
           "x": 0.05
          },
          "xaxis": {
           "automargin": true,
           "gridcolor": "white",
           "linecolor": "white",
           "ticks": "",
           "title": {
            "standoff": 15
           },
           "zerolinecolor": "white",
           "zerolinewidth": 2
          },
          "yaxis": {
           "automargin": true,
           "gridcolor": "white",
           "linecolor": "white",
           "ticks": "",
           "title": {
            "standoff": 15
           },
           "zerolinecolor": "white",
           "zerolinewidth": 2
          }
         }
        },
        "title": {
         "text": "Зависимость мощности от цены"
        },
        "xaxis": {
         "anchor": "y",
         "domain": [
          0,
          1
         ],
         "linecolor": "black",
         "showline": true,
         "title": {
          "text": "Мощность"
         }
        },
        "yaxis": {
         "anchor": "x",
         "domain": [
          0,
          1
         ],
         "linecolor": "black",
         "showline": true,
         "title": {
          "text": "Цена в USD"
         }
        }
       }
      }
     },
     "metadata": {},
     "output_type": "display_data"
    }
   ],
   "source": [
    "fig = px.scatter(data, 'power', 'price_usd', hover_name='model', title='Horsepower vs Price',labels={'power': 'Мощность', 'price_usd': 'Стоимость'})\n",
    "\n",
    "fig.update_layout(\n",
    "    xaxis_title='Мощность',\n",
    "    yaxis_title='Цена в USD',\n",
    "    title='Зависимость мощности от цены',\n",
    "    plot_bgcolor='white',\n",
    "    paper_bgcolor='white',\n",
    "    xaxis=dict(showline=True, linecolor='black'),\n",
    "    yaxis=dict(showline=True, linecolor='black')\n",
    "\n",
    ")\n",
    "fig.show()\n"
   ]
  },
  {
   "cell_type": "code",
   "execution_count": 20,
   "metadata": {},
   "outputs": [
    {
     "data": {
      "application/vnd.plotly.v1+json": {
       "config": {
        "plotlyServerURL": "https://plot.ly"
       },
       "data": [
        {
         "hovertemplate": "year=%{x}<br>acceleration_seconds=%{y}<extra></extra>",
         "legendgroup": "",
         "line": {
          "color": "#636efa",
          "dash": "solid"
         },
         "marker": {
          "symbol": "circle"
         },
         "mode": "lines",
         "name": "",
         "orientation": "v",
         "showlegend": false,
         "type": "scatter",
         "x": [
          2014,
          2015,
          2017,
          2019,
          2020,
          2021,
          2022,
          2023
         ],
         "xaxis": "x",
         "y": [
          3.5,
          3.3833333333333333,
          3.2999999999999994,
          3.6,
          3.904166666666667,
          3.520508166969147,
          3.6882183908045976,
          3.3
         ],
         "yaxis": "y"
        }
       ],
       "layout": {
        "legend": {
         "tracegroupgap": 0
        },
        "template": {
         "data": {
          "bar": [
           {
            "error_x": {
             "color": "#2a3f5f"
            },
            "error_y": {
             "color": "#2a3f5f"
            },
            "marker": {
             "line": {
              "color": "#E5ECF6",
              "width": 0.5
             },
             "pattern": {
              "fillmode": "overlay",
              "size": 10,
              "solidity": 0.2
             }
            },
            "type": "bar"
           }
          ],
          "barpolar": [
           {
            "marker": {
             "line": {
              "color": "#E5ECF6",
              "width": 0.5
             },
             "pattern": {
              "fillmode": "overlay",
              "size": 10,
              "solidity": 0.2
             }
            },
            "type": "barpolar"
           }
          ],
          "carpet": [
           {
            "aaxis": {
             "endlinecolor": "#2a3f5f",
             "gridcolor": "white",
             "linecolor": "white",
             "minorgridcolor": "white",
             "startlinecolor": "#2a3f5f"
            },
            "baxis": {
             "endlinecolor": "#2a3f5f",
             "gridcolor": "white",
             "linecolor": "white",
             "minorgridcolor": "white",
             "startlinecolor": "#2a3f5f"
            },
            "type": "carpet"
           }
          ],
          "choropleth": [
           {
            "colorbar": {
             "outlinewidth": 0,
             "ticks": ""
            },
            "type": "choropleth"
           }
          ],
          "contour": [
           {
            "colorbar": {
             "outlinewidth": 0,
             "ticks": ""
            },
            "colorscale": [
             [
              0,
              "#0d0887"
             ],
             [
              0.1111111111111111,
              "#46039f"
             ],
             [
              0.2222222222222222,
              "#7201a8"
             ],
             [
              0.3333333333333333,
              "#9c179e"
             ],
             [
              0.4444444444444444,
              "#bd3786"
             ],
             [
              0.5555555555555556,
              "#d8576b"
             ],
             [
              0.6666666666666666,
              "#ed7953"
             ],
             [
              0.7777777777777778,
              "#fb9f3a"
             ],
             [
              0.8888888888888888,
              "#fdca26"
             ],
             [
              1,
              "#f0f921"
             ]
            ],
            "type": "contour"
           }
          ],
          "contourcarpet": [
           {
            "colorbar": {
             "outlinewidth": 0,
             "ticks": ""
            },
            "type": "contourcarpet"
           }
          ],
          "heatmap": [
           {
            "colorbar": {
             "outlinewidth": 0,
             "ticks": ""
            },
            "colorscale": [
             [
              0,
              "#0d0887"
             ],
             [
              0.1111111111111111,
              "#46039f"
             ],
             [
              0.2222222222222222,
              "#7201a8"
             ],
             [
              0.3333333333333333,
              "#9c179e"
             ],
             [
              0.4444444444444444,
              "#bd3786"
             ],
             [
              0.5555555555555556,
              "#d8576b"
             ],
             [
              0.6666666666666666,
              "#ed7953"
             ],
             [
              0.7777777777777778,
              "#fb9f3a"
             ],
             [
              0.8888888888888888,
              "#fdca26"
             ],
             [
              1,
              "#f0f921"
             ]
            ],
            "type": "heatmap"
           }
          ],
          "heatmapgl": [
           {
            "colorbar": {
             "outlinewidth": 0,
             "ticks": ""
            },
            "colorscale": [
             [
              0,
              "#0d0887"
             ],
             [
              0.1111111111111111,
              "#46039f"
             ],
             [
              0.2222222222222222,
              "#7201a8"
             ],
             [
              0.3333333333333333,
              "#9c179e"
             ],
             [
              0.4444444444444444,
              "#bd3786"
             ],
             [
              0.5555555555555556,
              "#d8576b"
             ],
             [
              0.6666666666666666,
              "#ed7953"
             ],
             [
              0.7777777777777778,
              "#fb9f3a"
             ],
             [
              0.8888888888888888,
              "#fdca26"
             ],
             [
              1,
              "#f0f921"
             ]
            ],
            "type": "heatmapgl"
           }
          ],
          "histogram": [
           {
            "marker": {
             "pattern": {
              "fillmode": "overlay",
              "size": 10,
              "solidity": 0.2
             }
            },
            "type": "histogram"
           }
          ],
          "histogram2d": [
           {
            "colorbar": {
             "outlinewidth": 0,
             "ticks": ""
            },
            "colorscale": [
             [
              0,
              "#0d0887"
             ],
             [
              0.1111111111111111,
              "#46039f"
             ],
             [
              0.2222222222222222,
              "#7201a8"
             ],
             [
              0.3333333333333333,
              "#9c179e"
             ],
             [
              0.4444444444444444,
              "#bd3786"
             ],
             [
              0.5555555555555556,
              "#d8576b"
             ],
             [
              0.6666666666666666,
              "#ed7953"
             ],
             [
              0.7777777777777778,
              "#fb9f3a"
             ],
             [
              0.8888888888888888,
              "#fdca26"
             ],
             [
              1,
              "#f0f921"
             ]
            ],
            "type": "histogram2d"
           }
          ],
          "histogram2dcontour": [
           {
            "colorbar": {
             "outlinewidth": 0,
             "ticks": ""
            },
            "colorscale": [
             [
              0,
              "#0d0887"
             ],
             [
              0.1111111111111111,
              "#46039f"
             ],
             [
              0.2222222222222222,
              "#7201a8"
             ],
             [
              0.3333333333333333,
              "#9c179e"
             ],
             [
              0.4444444444444444,
              "#bd3786"
             ],
             [
              0.5555555555555556,
              "#d8576b"
             ],
             [
              0.6666666666666666,
              "#ed7953"
             ],
             [
              0.7777777777777778,
              "#fb9f3a"
             ],
             [
              0.8888888888888888,
              "#fdca26"
             ],
             [
              1,
              "#f0f921"
             ]
            ],
            "type": "histogram2dcontour"
           }
          ],
          "mesh3d": [
           {
            "colorbar": {
             "outlinewidth": 0,
             "ticks": ""
            },
            "type": "mesh3d"
           }
          ],
          "parcoords": [
           {
            "line": {
             "colorbar": {
              "outlinewidth": 0,
              "ticks": ""
             }
            },
            "type": "parcoords"
           }
          ],
          "pie": [
           {
            "automargin": true,
            "type": "pie"
           }
          ],
          "scatter": [
           {
            "fillpattern": {
             "fillmode": "overlay",
             "size": 10,
             "solidity": 0.2
            },
            "type": "scatter"
           }
          ],
          "scatter3d": [
           {
            "line": {
             "colorbar": {
              "outlinewidth": 0,
              "ticks": ""
             }
            },
            "marker": {
             "colorbar": {
              "outlinewidth": 0,
              "ticks": ""
             }
            },
            "type": "scatter3d"
           }
          ],
          "scattercarpet": [
           {
            "marker": {
             "colorbar": {
              "outlinewidth": 0,
              "ticks": ""
             }
            },
            "type": "scattercarpet"
           }
          ],
          "scattergeo": [
           {
            "marker": {
             "colorbar": {
              "outlinewidth": 0,
              "ticks": ""
             }
            },
            "type": "scattergeo"
           }
          ],
          "scattergl": [
           {
            "marker": {
             "colorbar": {
              "outlinewidth": 0,
              "ticks": ""
             }
            },
            "type": "scattergl"
           }
          ],
          "scattermapbox": [
           {
            "marker": {
             "colorbar": {
              "outlinewidth": 0,
              "ticks": ""
             }
            },
            "type": "scattermapbox"
           }
          ],
          "scatterpolar": [
           {
            "marker": {
             "colorbar": {
              "outlinewidth": 0,
              "ticks": ""
             }
            },
            "type": "scatterpolar"
           }
          ],
          "scatterpolargl": [
           {
            "marker": {
             "colorbar": {
              "outlinewidth": 0,
              "ticks": ""
             }
            },
            "type": "scatterpolargl"
           }
          ],
          "scatterternary": [
           {
            "marker": {
             "colorbar": {
              "outlinewidth": 0,
              "ticks": ""
             }
            },
            "type": "scatterternary"
           }
          ],
          "surface": [
           {
            "colorbar": {
             "outlinewidth": 0,
             "ticks": ""
            },
            "colorscale": [
             [
              0,
              "#0d0887"
             ],
             [
              0.1111111111111111,
              "#46039f"
             ],
             [
              0.2222222222222222,
              "#7201a8"
             ],
             [
              0.3333333333333333,
              "#9c179e"
             ],
             [
              0.4444444444444444,
              "#bd3786"
             ],
             [
              0.5555555555555556,
              "#d8576b"
             ],
             [
              0.6666666666666666,
              "#ed7953"
             ],
             [
              0.7777777777777778,
              "#fb9f3a"
             ],
             [
              0.8888888888888888,
              "#fdca26"
             ],
             [
              1,
              "#f0f921"
             ]
            ],
            "type": "surface"
           }
          ],
          "table": [
           {
            "cells": {
             "fill": {
              "color": "#EBF0F8"
             },
             "line": {
              "color": "white"
             }
            },
            "header": {
             "fill": {
              "color": "#C8D4E3"
             },
             "line": {
              "color": "white"
             }
            },
            "type": "table"
           }
          ]
         },
         "layout": {
          "annotationdefaults": {
           "arrowcolor": "#2a3f5f",
           "arrowhead": 0,
           "arrowwidth": 1
          },
          "autotypenumbers": "strict",
          "coloraxis": {
           "colorbar": {
            "outlinewidth": 0,
            "ticks": ""
           }
          },
          "colorscale": {
           "diverging": [
            [
             0,
             "#8e0152"
            ],
            [
             0.1,
             "#c51b7d"
            ],
            [
             0.2,
             "#de77ae"
            ],
            [
             0.3,
             "#f1b6da"
            ],
            [
             0.4,
             "#fde0ef"
            ],
            [
             0.5,
             "#f7f7f7"
            ],
            [
             0.6,
             "#e6f5d0"
            ],
            [
             0.7,
             "#b8e186"
            ],
            [
             0.8,
             "#7fbc41"
            ],
            [
             0.9,
             "#4d9221"
            ],
            [
             1,
             "#276419"
            ]
           ],
           "sequential": [
            [
             0,
             "#0d0887"
            ],
            [
             0.1111111111111111,
             "#46039f"
            ],
            [
             0.2222222222222222,
             "#7201a8"
            ],
            [
             0.3333333333333333,
             "#9c179e"
            ],
            [
             0.4444444444444444,
             "#bd3786"
            ],
            [
             0.5555555555555556,
             "#d8576b"
            ],
            [
             0.6666666666666666,
             "#ed7953"
            ],
            [
             0.7777777777777778,
             "#fb9f3a"
            ],
            [
             0.8888888888888888,
             "#fdca26"
            ],
            [
             1,
             "#f0f921"
            ]
           ],
           "sequentialminus": [
            [
             0,
             "#0d0887"
            ],
            [
             0.1111111111111111,
             "#46039f"
            ],
            [
             0.2222222222222222,
             "#7201a8"
            ],
            [
             0.3333333333333333,
             "#9c179e"
            ],
            [
             0.4444444444444444,
             "#bd3786"
            ],
            [
             0.5555555555555556,
             "#d8576b"
            ],
            [
             0.6666666666666666,
             "#ed7953"
            ],
            [
             0.7777777777777778,
             "#fb9f3a"
            ],
            [
             0.8888888888888888,
             "#fdca26"
            ],
            [
             1,
             "#f0f921"
            ]
           ]
          },
          "colorway": [
           "#636efa",
           "#EF553B",
           "#00cc96",
           "#ab63fa",
           "#FFA15A",
           "#19d3f3",
           "#FF6692",
           "#B6E880",
           "#FF97FF",
           "#FECB52"
          ],
          "font": {
           "color": "#2a3f5f"
          },
          "geo": {
           "bgcolor": "white",
           "lakecolor": "white",
           "landcolor": "#E5ECF6",
           "showlakes": true,
           "showland": true,
           "subunitcolor": "white"
          },
          "hoverlabel": {
           "align": "left"
          },
          "hovermode": "closest",
          "mapbox": {
           "style": "light"
          },
          "paper_bgcolor": "white",
          "plot_bgcolor": "#E5ECF6",
          "polar": {
           "angularaxis": {
            "gridcolor": "white",
            "linecolor": "white",
            "ticks": ""
           },
           "bgcolor": "#E5ECF6",
           "radialaxis": {
            "gridcolor": "white",
            "linecolor": "white",
            "ticks": ""
           }
          },
          "scene": {
           "xaxis": {
            "backgroundcolor": "#E5ECF6",
            "gridcolor": "white",
            "gridwidth": 2,
            "linecolor": "white",
            "showbackground": true,
            "ticks": "",
            "zerolinecolor": "white"
           },
           "yaxis": {
            "backgroundcolor": "#E5ECF6",
            "gridcolor": "white",
            "gridwidth": 2,
            "linecolor": "white",
            "showbackground": true,
            "ticks": "",
            "zerolinecolor": "white"
           },
           "zaxis": {
            "backgroundcolor": "#E5ECF6",
            "gridcolor": "white",
            "gridwidth": 2,
            "linecolor": "white",
            "showbackground": true,
            "ticks": "",
            "zerolinecolor": "white"
           }
          },
          "shapedefaults": {
           "line": {
            "color": "#2a3f5f"
           }
          },
          "ternary": {
           "aaxis": {
            "gridcolor": "white",
            "linecolor": "white",
            "ticks": ""
           },
           "baxis": {
            "gridcolor": "white",
            "linecolor": "white",
            "ticks": ""
           },
           "bgcolor": "#E5ECF6",
           "caxis": {
            "gridcolor": "white",
            "linecolor": "white",
            "ticks": ""
           }
          },
          "title": {
           "x": 0.05
          },
          "xaxis": {
           "automargin": true,
           "gridcolor": "white",
           "linecolor": "white",
           "ticks": "",
           "title": {
            "standoff": 15
           },
           "zerolinecolor": "white",
           "zerolinewidth": 2
          },
          "yaxis": {
           "automargin": true,
           "gridcolor": "white",
           "linecolor": "white",
           "ticks": "",
           "title": {
            "standoff": 15
           },
           "zerolinecolor": "white",
           "zerolinewidth": 2
          }
         }
        },
        "title": {
         "font": {
          "color": "#7f7f7f",
          "family": "Arial",
          "size": 20
         },
         "text": "Средний разгон в зависимости от года выпуска авто",
         "x": 0.5,
         "xanchor": "center",
         "y": 0.95,
         "yanchor": "top"
        },
        "xaxis": {
         "anchor": "y",
         "domain": [
          0,
          1
         ],
         "dtick": 5,
         "tick0": 1970,
         "tickformat": "%Y",
         "tickmode": "linear",
         "title": {
          "text": "Год выпуска"
         }
        },
        "yaxis": {
         "anchor": "x",
         "autorange": "reversed",
         "domain": [
          0,
          1
         ],
         "title": {
          "text": "Среднее время разгона (сек)"
         }
        }
       }
      }
     },
     "metadata": {},
     "output_type": "display_data"
    }
   ],
   "source": [
    "\n",
    "mean_acceleration = data.groupby('year')['acceleration_seconds'].mean().reset_index()\n",
    "\n",
    "fig = px.line(mean_acceleration, x='year', y='acceleration_seconds', title='Средний разгон в зависимости от года выпуска авто')\n",
    "fig.update_layout(\n",
    "    xaxis_title=\"Год выпуска\",\n",
    "    yaxis_title=\"Среднее время разгона (сек)\",\n",
    "    xaxis=dict(\n",
    "    tickmode='linear',\n",
    "    tick0=1970,\n",
    "    dtick=5,\n",
    "    tickformat='%Y',\n",
    "),\n",
    "yaxis=dict(\n",
    "    autorange=\"reversed\"\n",
    "),\n",
    "title={\n",
    "        'text': 'Средний разгон в зависимости от года выпуска авто',\n",
    "        'y':0.95,\n",
    "        'x':0.5,\n",
    "        'xanchor': 'center',\n",
    "        'yanchor': 'top',\n",
    "        'font': dict(\n",
    "            family=\"Arial\",\n",
    "            size=20,\n",
    "            color=\"#7f7f7f\"\n",
    "        )\n",
    "    })\n",
    "fig.show()"
   ]
  },
  {
   "cell_type": "code",
   "execution_count": 21,
   "metadata": {},
   "outputs": [
    {
     "data": {
      "application/vnd.plotly.v1+json": {
       "config": {
        "plotlyServerURL": "https://plot.ly"
       },
       "data": [
        {
         "alignmentgroup": "True",
         "bingroup": "x",
         "hovertemplate": "car=Porsche<br>power=%{x}<br>count=%{y}<extra></extra>",
         "legendgroup": "Porsche",
         "marker": {
          "color": "#636efa",
          "pattern": {
           "shape": ""
          }
         },
         "name": "Porsche",
         "offsetgroup": "Porsche",
         "orientation": "v",
         "showlegend": true,
         "type": "histogram",
         "x": [
          379,
          300,
          414,
          300,
          325,
          325,
          300,
          414,
          300,
          690,
          414,
          620,
          365,
          325,
          414,
          300,
          402,
          325,
          620,
          414,
          414,
          620,
          414,
          414,
          620,
          300,
          414,
          414,
          414,
          414,
          482,
          414,
          300,
          300,
          300,
          630,
          414,
          300,
          414,
          414,
          620,
          414,
          414,
          300,
          300,
          325,
          414,
          300,
          300,
          300,
          325,
          887,
          300,
          300,
          630,
          300,
          640,
          690,
          300,
          689,
          414,
          414,
          414,
          630,
          325,
          402,
          300,
          325,
          300,
          414,
          473,
          379,
          300
         ],
         "xaxis": "x",
         "yaxis": "y"
        },
        {
         "alignmentgroup": "True",
         "bingroup": "x",
         "hovertemplate": "car=Lamborghini<br>power=%{x}<br>count=%{y}<extra></extra>",
         "legendgroup": "Lamborghini",
         "marker": {
          "color": "#EF553B",
          "pattern": {
           "shape": ""
          }
         },
         "name": "Lamborghini",
         "offsetgroup": "Lamborghini",
         "orientation": "v",
         "showlegend": true,
         "type": "histogram",
         "x": [
          630,
          759,
          641,
          759,
          641,
          770,
          641,
          770,
          641,
          730,
          641,
          730,
          641,
          770,
          641,
          730,
          641,
          729,
          641,
          729,
          641,
          770,
          770,
          730,
          770,
          730,
          770,
          819,
          770,
          641,
          730,
          641,
          729,
          770,
          729,
          641,
          730,
          759,
          641,
          730,
          770,
          730,
          770,
          641,
          759,
          729,
          729,
          641,
          770,
          641,
          759,
          641,
          759,
          759,
          730,
          730,
          730,
          641,
          730,
          759,
          729,
          770,
          759,
          641,
          630,
          730
         ],
         "xaxis": "x",
         "yaxis": "y"
        },
        {
         "alignmentgroup": "True",
         "bingroup": "x",
         "hovertemplate": "car=Ferrari<br>power=%{x}<br>count=%{y}<extra></extra>",
         "legendgroup": "Ferrari",
         "marker": {
          "color": "#00cc96",
          "pattern": {
           "shape": ""
          }
         },
         "name": "Ferrari",
         "offsetgroup": "Ferrari",
         "orientation": "v",
         "showlegend": true,
         "type": "histogram",
         "x": [
          661,
          986,
          611,
          986,
          612,
          710,
          986,
          611,
          592,
          710,
          612,
          986,
          710,
          710,
          986,
          789,
          591,
          986,
          986,
          710,
          591,
          710,
          591,
          591,
          710,
          986,
          710,
          986,
          612,
          612,
          986,
          986,
          789,
          986,
          612,
          986,
          986,
          986,
          591,
          612,
          710,
          986,
          612,
          986,
          986,
          986,
          611,
          710,
          710,
          986,
          710,
          986,
          661,
          986
         ],
         "xaxis": "x",
         "yaxis": "y"
        },
        {
         "alignmentgroup": "True",
         "bingroup": "x",
         "hovertemplate": "car=Audi<br>power=%{x}<br>count=%{y}<extra></extra>",
         "legendgroup": "Audi",
         "marker": {
          "color": "#ab63fa",
          "pattern": {
           "shape": ""
          }
         },
         "name": "Audi",
         "offsetgroup": "Audi",
         "orientation": "v",
         "showlegend": true,
         "type": "histogram",
         "x": [
          562,
          591,
          394,
          394,
          349,
          444,
          394,
          394,
          591,
          591,
          349,
          394,
          401,
          591,
          401,
          591,
          591,
          591,
          562,
          444,
          591,
          394,
          444,
          591,
          591,
          591,
          444,
          591,
          394,
          444,
          394,
          444,
          444,
          394,
          591,
          591,
          394,
          591,
          444,
          591,
          591,
          591,
          591,
          394,
          591,
          591,
          591,
          591,
          591,
          394,
          394,
          591,
          591,
          394,
          394,
          591,
          394,
          444,
          591,
          394,
          591,
          591,
          591,
          591,
          444,
          444,
          591,
          394,
          591,
          562,
          444
         ],
         "xaxis": "x",
         "yaxis": "y"
        },
        {
         "alignmentgroup": "True",
         "bingroup": "x",
         "hovertemplate": "car=McLaren<br>power=%{x}<br>count=%{y}<extra></extra>",
         "legendgroup": "McLaren",
         "marker": {
          "color": "#FFA15A",
          "pattern": {
           "shape": ""
          }
         },
         "name": "McLaren",
         "offsetgroup": "McLaren",
         "orientation": "v",
         "showlegend": true,
         "type": "histogram",
         "x": [
          710,
          671,
          671,
          612,
          562,
          592,
          671,
          620,
          612,
          562,
          562,
          562,
          612,
          562,
          612,
          562,
          592,
          562,
          592,
          612,
          592,
          612,
          612,
          671,
          562,
          755,
          612,
          562,
          592,
          671,
          562,
          612,
          592,
          1035,
          620,
          562,
          612,
          562,
          671,
          671,
          789,
          562,
          562,
          562,
          671,
          562,
          789,
          592,
          671,
          562,
          671,
          789,
          620,
          562,
          620,
          755,
          592,
          671,
          612,
          562,
          562,
          620,
          612,
          562,
          612,
          592,
          612,
          562,
          562,
          612,
          562,
          671,
          710,
          612,
          789
         ],
         "xaxis": "x",
         "yaxis": "y"
        },
        {
         "alignmentgroup": "True",
         "bingroup": "x",
         "hovertemplate": "car=BMW<br>power=%{x}<br>count=%{y}<extra></extra>",
         "legendgroup": "BMW",
         "marker": {
          "color": "#19d3f3",
          "pattern": {
           "shape": ""
          }
         },
         "name": "BMW",
         "offsetgroup": "BMW",
         "orientation": "v",
         "showlegend": true,
         "type": "histogram",
         "x": [
          617,
          503,
          503,
          600,
          405,
          473,
          503,
          405,
          405,
          382,
          444,
          444,
          600,
          473,
          405,
          473,
          405,
          405,
          405,
          600,
          444,
          473,
          405,
          503,
          473,
          382,
          473,
          405,
          405,
          473,
          444,
          600,
          600,
          405,
          473,
          405,
          600,
          473,
          405,
          473,
          369,
          600,
          473,
          617,
          473,
          444,
          255,
          600,
          405,
          503,
          369,
          405,
          503,
          473,
          473,
          405,
          405,
          473,
          473,
          617,
          405
         ],
         "xaxis": "x",
         "yaxis": "y"
        },
        {
         "alignmentgroup": "True",
         "bingroup": "x",
         "hovertemplate": "car=Mercedes-Benz<br>power=%{x}<br>count=%{y}<extra></extra>",
         "legendgroup": "Mercedes-Benz",
         "marker": {
          "color": "#FF6692",
          "pattern": {
           "shape": ""
          }
         },
         "name": "Mercedes-Benz",
         "offsetgroup": "Mercedes-Benz",
         "orientation": "v",
         "showlegend": true,
         "type": "histogram",
         "x": [
          523,
          622,
          603,
          503,
          503,
          622,
          603,
          622,
          469,
          622,
          503,
          622,
          469,
          603,
          577,
          523,
          622,
          577,
          622,
          503,
          720,
          503,
          385,
          622,
          720,
          622,
          503,
          630,
          583,
          429,
          622,
          583,
          622,
          577,
          469,
          730,
          622,
          577,
          622,
          622,
          603,
          469,
          503,
          385,
          469,
          382,
          577,
          622,
          469,
          429,
          469,
          630,
          523,
          622
         ],
         "xaxis": "x",
         "yaxis": "y"
        },
        {
         "alignmentgroup": "True",
         "bingroup": "x",
         "hovertemplate": "car=Chevrolet<br>power=%{x}<br>count=%{y}<extra></extra>",
         "legendgroup": "Chevrolet",
         "marker": {
          "color": "#B6E880",
          "pattern": {
           "shape": ""
          }
         },
         "name": "Chevrolet",
         "offsetgroup": "Chevrolet",
         "orientation": "v",
         "showlegend": true,
         "type": "histogram",
         "x": [
          490,
          650,
          455,
          455,
          490,
          650,
          650,
          455,
          650,
          455,
          650,
          650,
          650,
          495,
          650,
          455,
          650,
          650,
          650,
          455,
          650,
          650,
          455,
          455,
          455,
          650,
          650,
          650,
          650,
          650,
          625,
          650,
          455,
          455,
          650,
          650,
          495,
          455,
          650,
          650,
          455,
          495,
          650,
          455,
          650,
          455,
          455,
          650,
          455,
          650,
          490,
          455,
          650,
          650,
          455,
          455,
          455,
          650,
          490,
          455
         ],
         "xaxis": "x",
         "yaxis": "y"
        },
        {
         "alignmentgroup": "True",
         "bingroup": "x",
         "hovertemplate": "car=Ford<br>power=%{x}<br>count=%{y}<extra></extra>",
         "legendgroup": "Ford",
         "marker": {
          "color": "#FF97FF",
          "pattern": {
           "shape": ""
          }
         },
         "name": "Ford",
         "offsetgroup": "Ford",
         "orientation": "v",
         "showlegend": true,
         "type": "histogram",
         "x": [
          760,
          660,
          460,
          660,
          480,
          660,
          480,
          660,
          660,
          660,
          660,
          480,
          660,
          660,
          660,
          660,
          660,
          480,
          460,
          660,
          647,
          647,
          660,
          660,
          647,
          660,
          660,
          647,
          460,
          660,
          660,
          660,
          660,
          660,
          660,
          660,
          660,
          460,
          660,
          480,
          660,
          660,
          660,
          460,
          660,
          480,
          760,
          310
         ],
         "xaxis": "x",
         "yaxis": "y"
        },
        {
         "alignmentgroup": "True",
         "bingroup": "x",
         "hovertemplate": "car=Nissan<br>power=%{x}<br>count=%{y}<extra></extra>",
         "legendgroup": "Nissan",
         "marker": {
          "color": "#FECB52",
          "pattern": {
           "shape": ""
          }
         },
         "name": "Nissan",
         "offsetgroup": "Nissan",
         "orientation": "v",
         "showlegend": true,
         "type": "histogram",
         "x": [
          600,
          350,
          350,
          332,
          332,
          350,
          350,
          332,
          350,
          350,
          350,
          332,
          350,
          350,
          350,
          350,
          350,
          350,
          350,
          350,
          400,
          350,
          350,
          350,
          350,
          350,
          350,
          332,
          350,
          350,
          332,
          332,
          350,
          332,
          350,
          600,
          332
         ],
         "xaxis": "x",
         "yaxis": "y"
        },
        {
         "alignmentgroup": "True",
         "bingroup": "x",
         "hovertemplate": "car=Aston Martin<br>power=%{x}<br>count=%{y}<extra></extra>",
         "legendgroup": "Aston Martin",
         "marker": {
          "color": "#636efa",
          "pattern": {
           "shape": ""
          }
         },
         "name": "Aston Martin",
         "offsetgroup": "Aston Martin",
         "orientation": "v",
         "showlegend": true,
         "type": "histogram",
         "x": [
          630,
          503,
          503,
          503,
          715,
          715,
          503,
          503,
          715,
          503,
          630,
          715,
          503,
          715,
          503,
          630,
          503,
          630,
          503,
          630,
          503,
          503,
          715,
          503,
          715,
          715,
          715,
          503,
          715,
          715,
          715,
          503,
          715,
          715,
          503,
          503,
          503,
          715,
          503,
          503,
          503,
          715,
          503,
          630,
          503,
          630,
          503,
          715,
          503,
          503
         ],
         "xaxis": "x",
         "yaxis": "y"
        },
        {
         "alignmentgroup": "True",
         "bingroup": "x",
         "hovertemplate": "car=Bugatti<br>power=%{x}<br>count=%{y}<extra></extra>",
         "legendgroup": "Bugatti",
         "marker": {
          "color": "#EF553B",
          "pattern": {
           "shape": ""
          }
         },
         "name": "Bugatti",
         "offsetgroup": "Bugatti",
         "orientation": "v",
         "showlegend": true,
         "type": "histogram",
         "x": [
          1500,
          1500,
          1500,
          1500,
          1500,
          1500,
          1479,
          1500,
          1500,
          1500,
          1500,
          1500,
          1578,
          1479,
          1500,
          1500,
          1500,
          1479,
          1578,
          1479,
          1500,
          1479
         ],
         "xaxis": "x",
         "yaxis": "y"
        },
        {
         "alignmentgroup": "True",
         "bingroup": "x",
         "hovertemplate": "car=Dodge<br>power=%{x}<br>count=%{y}<extra></extra>",
         "legendgroup": "Dodge",
         "marker": {
          "color": "#00cc96",
          "pattern": {
           "shape": ""
          }
         },
         "name": "Dodge",
         "offsetgroup": "Dodge",
         "orientation": "v",
         "showlegend": true,
         "type": "histogram",
         "x": [
          717,
          797,
          797,
          717,
          645,
          797,
          717,
          717,
          717,
          717,
          797,
          717,
          797,
          645,
          717,
          717,
          645,
          717,
          717,
          717,
          717,
          717,
          797,
          717,
          717,
          717,
          707,
          717,
          717,
          305,
          717,
          717,
          372,
          717,
          797,
          797,
          717,
          485,
          717,
          717,
          717
         ],
         "xaxis": "x",
         "yaxis": "y"
        },
        {
         "alignmentgroup": "True",
         "bingroup": "x",
         "hovertemplate": "car=Jaguar<br>power=%{x}<br>count=%{y}<extra></extra>",
         "legendgroup": "Jaguar",
         "marker": {
          "color": "#ab63fa",
          "pattern": {
           "shape": ""
          }
         },
         "name": "Jaguar",
         "offsetgroup": "Jaguar",
         "orientation": "v",
         "showlegend": true,
         "type": "histogram",
         "x": [
          296,
          296,
          380,
          380,
          575,
          575,
          575,
          296,
          575,
          380,
          575,
          575,
          296,
          575,
          380,
          575,
          575,
          380,
          575,
          380,
          575,
          575,
          296,
          296,
          296,
          380,
          380,
          296,
          575,
          575
         ],
         "xaxis": "x",
         "yaxis": "y"
        },
        {
         "alignmentgroup": "True",
         "bingroup": "x",
         "hovertemplate": "car=Koenigsegg<br>power=%{x}<br>count=%{y}<extra></extra>",
         "legendgroup": "Koenigsegg",
         "marker": {
          "color": "#FFA15A",
          "pattern": {
           "shape": ""
          }
         },
         "name": "Koenigsegg",
         "offsetgroup": "Koenigsegg",
         "orientation": "v",
         "showlegend": true,
         "type": "histogram",
         "x": [
          1280,
          1600,
          1600,
          1280,
          1280,
          1280,
          1280,
          1600,
          1262,
          1280,
          1280,
          1280,
          1600,
          1280,
          1280
         ],
         "xaxis": "x",
         "yaxis": "y"
        },
        {
         "alignmentgroup": "True",
         "bingroup": "x",
         "hovertemplate": "car=Lexus<br>power=%{x}<br>count=%{y}<extra></extra>",
         "legendgroup": "Lexus",
         "marker": {
          "color": "#19d3f3",
          "pattern": {
           "shape": ""
          }
         },
         "name": "Lexus",
         "offsetgroup": "Lexus",
         "orientation": "v",
         "showlegend": true,
         "type": "histogram",
         "x": [
          471,
          471,
          471,
          471,
          471,
          471,
          471,
          471,
          471,
          471,
          471,
          471,
          471,
          471,
          471,
          471,
          471,
          471,
          471,
          471,
          471,
          471,
          471,
          471,
          471,
          471
         ],
         "xaxis": "x",
         "yaxis": "y"
        },
        {
         "alignmentgroup": "True",
         "bingroup": "x",
         "hovertemplate": "car=Lotus<br>power=%{x}<br>count=%{y}<extra></extra>",
         "legendgroup": "Lotus",
         "marker": {
          "color": "#FF6692",
          "pattern": {
           "shape": ""
          }
         },
         "name": "Lotus",
         "offsetgroup": "Lotus",
         "orientation": "v",
         "showlegend": true,
         "type": "histogram",
         "x": [
          416,
          416,
          416,
          416,
          416,
          416,
          416,
          416,
          416,
          416,
          416,
          416,
          416,
          416,
          416,
          416,
          416,
          416,
          416,
          416,
          416,
          416,
          416,
          416,
          416,
          416,
          416,
          416,
          416
         ],
         "xaxis": "x",
         "yaxis": "y"
        },
        {
         "alignmentgroup": "True",
         "bingroup": "x",
         "hovertemplate": "car=Maserati<br>power=%{x}<br>count=%{y}<extra></extra>",
         "legendgroup": "Maserati",
         "marker": {
          "color": "#B6E880",
          "pattern": {
           "shape": ""
          }
         },
         "name": "Maserati",
         "offsetgroup": "Maserati",
         "orientation": "v",
         "showlegend": true,
         "type": "histogram",
         "x": [
          454,
          454,
          454,
          454,
          454,
          454,
          454,
          454,
          454,
          454,
          454,
          454,
          454,
          454,
          454,
          454,
          454,
          454,
          454,
          454,
          454,
          454,
          454,
          621
         ],
         "xaxis": "x",
         "yaxis": "y"
        },
        {
         "alignmentgroup": "True",
         "bingroup": "x",
         "hovertemplate": "car=Alfa Romeo<br>power=%{x}<br>count=%{y}<extra></extra>",
         "legendgroup": "Alfa Romeo",
         "marker": {
          "color": "#FF97FF",
          "pattern": {
           "shape": ""
          }
         },
         "name": "Alfa Romeo",
         "offsetgroup": "Alfa Romeo",
         "orientation": "v",
         "showlegend": true,
         "type": "histogram",
         "x": [
          505,
          237,
          505,
          505,
          505,
          505,
          237,
          237,
          505,
          505,
          237,
          237,
          505,
          237,
          505,
          505
         ],
         "xaxis": "x",
         "yaxis": "y"
        },
        {
         "alignmentgroup": "True",
         "bingroup": "x",
         "hovertemplate": "car=Ariel<br>power=%{x}<br>count=%{y}<extra></extra>",
         "legendgroup": "Ariel",
         "marker": {
          "color": "#FECB52",
          "pattern": {
           "shape": ""
          }
         },
         "name": "Ariel",
         "offsetgroup": "Ariel",
         "orientation": "v",
         "showlegend": true,
         "type": "histogram",
         "x": [
          320
         ],
         "xaxis": "x",
         "yaxis": "y"
        },
        {
         "alignmentgroup": "True",
         "bingroup": "x",
         "hovertemplate": "car=Bentley<br>power=%{x}<br>count=%{y}<extra></extra>",
         "legendgroup": "Bentley",
         "marker": {
          "color": "#636efa",
          "pattern": {
           "shape": ""
          }
         },
         "name": "Bentley",
         "offsetgroup": "Bentley",
         "orientation": "v",
         "showlegend": true,
         "type": "histogram",
         "x": [
          626,
          626,
          626,
          626,
          626,
          542,
          542,
          626,
          542,
          626,
          626,
          542,
          626,
          626,
          626,
          626,
          626,
          626,
          626,
          650,
          542,
          626,
          542,
          542,
          626
         ],
         "xaxis": "x",
         "yaxis": "y"
        },
        {
         "alignmentgroup": "True",
         "bingroup": "x",
         "hovertemplate": "car=Mercedes-AMG<br>power=%{x}<br>count=%{y}<extra></extra>",
         "legendgroup": "Mercedes-AMG",
         "marker": {
          "color": "#EF553B",
          "pattern": {
           "shape": ""
          }
         },
         "name": "Mercedes-AMG",
         "offsetgroup": "Mercedes-AMG",
         "orientation": "v",
         "showlegend": true,
         "type": "histogram",
         "x": [
          622,
          503,
          503,
          503,
          503,
          720,
          720,
          720,
          503,
          630,
          503
         ],
         "xaxis": "x",
         "yaxis": "y"
        },
        {
         "alignmentgroup": "True",
         "bingroup": "x",
         "hovertemplate": "car=Pagani<br>power=%{x}<br>count=%{y}<extra></extra>",
         "legendgroup": "Pagani",
         "marker": {
          "color": "#00cc96",
          "pattern": {
           "shape": ""
          }
         },
         "name": "Pagani",
         "offsetgroup": "Pagani",
         "orientation": "v",
         "showlegend": true,
         "type": "histogram",
         "x": [
          720,
          764,
          720,
          791,
          730,
          791,
          764,
          764,
          764,
          764,
          764,
          764
         ],
         "xaxis": "x",
         "yaxis": "y"
        },
        {
         "alignmentgroup": "True",
         "bingroup": "x",
         "hovertemplate": "car=Polestar<br>power=%{x}<br>count=%{y}<extra></extra>",
         "legendgroup": "Polestar",
         "marker": {
          "color": "#ab63fa",
          "pattern": {
           "shape": ""
          }
         },
         "name": "Polestar",
         "offsetgroup": "Polestar",
         "orientation": "v",
         "showlegend": true,
         "type": "histogram",
         "x": [
          600
         ],
         "xaxis": "x",
         "yaxis": "y"
        },
        {
         "alignmentgroup": "True",
         "bingroup": "x",
         "hovertemplate": "car=Acura<br>power=%{x}<br>count=%{y}<extra></extra>",
         "legendgroup": "Acura",
         "marker": {
          "color": "#FFA15A",
          "pattern": {
           "shape": ""
          }
         },
         "name": "Acura",
         "offsetgroup": "Acura",
         "orientation": "v",
         "showlegend": true,
         "type": "histogram",
         "x": [
          573,
          573,
          573,
          573,
          573,
          573,
          573,
          573,
          573,
          573,
          573,
          573,
          573,
          573,
          573,
          573
         ],
         "xaxis": "x",
         "yaxis": "y"
        },
        {
         "alignmentgroup": "True",
         "bingroup": "x",
         "hovertemplate": "car=Mazda<br>power=%{x}<br>count=%{y}<extra></extra>",
         "legendgroup": "Mazda",
         "marker": {
          "color": "#19d3f3",
          "pattern": {
           "shape": ""
          }
         },
         "name": "Mazda",
         "offsetgroup": "Mazda",
         "orientation": "v",
         "showlegend": true,
         "type": "histogram",
         "x": [
          181
         ],
         "xaxis": "x",
         "yaxis": "y"
        },
        {
         "alignmentgroup": "True",
         "bingroup": "x",
         "hovertemplate": "car=Rolls-Royce<br>power=%{x}<br>count=%{y}<extra></extra>",
         "legendgroup": "Rolls-Royce",
         "marker": {
          "color": "#FF6692",
          "pattern": {
           "shape": ""
          }
         },
         "name": "Rolls-Royce",
         "offsetgroup": "Rolls-Royce",
         "orientation": "v",
         "showlegend": true,
         "type": "histogram",
         "x": [
          624,
          624,
          624,
          624,
          624,
          624,
          624,
          563,
          624,
          563
         ],
         "xaxis": "x",
         "yaxis": "y"
        },
        {
         "alignmentgroup": "True",
         "bingroup": "x",
         "hovertemplate": "car=Toyota<br>power=%{x}<br>count=%{y}<extra></extra>",
         "legendgroup": "Toyota",
         "marker": {
          "color": "#B6E880",
          "pattern": {
           "shape": ""
          }
         },
         "name": "Toyota",
         "offsetgroup": "Toyota",
         "orientation": "v",
         "showlegend": true,
         "type": "histogram",
         "x": [
          382,
          382,
          382,
          382,
          382
         ],
         "xaxis": "x",
         "yaxis": "y"
        },
        {
         "alignmentgroup": "True",
         "bingroup": "x",
         "hovertemplate": "car=W Motors<br>power=%{x}<br>count=%{y}<extra></extra>",
         "legendgroup": "W Motors",
         "marker": {
          "color": "#FF97FF",
          "pattern": {
           "shape": ""
          }
         },
         "name": "W Motors",
         "offsetgroup": "W Motors",
         "orientation": "v",
         "showlegend": true,
         "type": "histogram",
         "x": [
          800,
          780,
          800
         ],
         "xaxis": "x",
         "yaxis": "y"
        },
        {
         "alignmentgroup": "True",
         "bingroup": "x",
         "hovertemplate": "car=TVR<br>power=%{x}<br>count=%{y}<extra></extra>",
         "legendgroup": "TVR",
         "marker": {
          "color": "#FECB52",
          "pattern": {
           "shape": ""
          }
         },
         "name": "TVR",
         "offsetgroup": "TVR",
         "orientation": "v",
         "showlegend": true,
         "type": "histogram",
         "x": [
          500,
          500
         ],
         "xaxis": "x",
         "yaxis": "y"
        },
        {
         "alignmentgroup": "True",
         "bingroup": "x",
         "hovertemplate": "car=Subaru<br>power=%{x}<br>count=%{y}<extra></extra>",
         "legendgroup": "Subaru",
         "marker": {
          "color": "#636efa",
          "pattern": {
           "shape": ""
          }
         },
         "name": "Subaru",
         "offsetgroup": "Subaru",
         "orientation": "v",
         "showlegend": true,
         "type": "histogram",
         "x": [
          310,
          310,
          310
         ],
         "xaxis": "x",
         "yaxis": "y"
        },
        {
         "alignmentgroup": "True",
         "bingroup": "x",
         "hovertemplate": "car=Kia<br>power=%{x}<br>count=%{y}<extra></extra>",
         "legendgroup": "Kia",
         "marker": {
          "color": "#EF553B",
          "pattern": {
           "shape": ""
          }
         },
         "name": "Kia",
         "offsetgroup": "Kia",
         "orientation": "v",
         "showlegend": true,
         "type": "histogram",
         "x": [
          368
         ],
         "xaxis": "x",
         "yaxis": "y"
        },
        {
         "alignmentgroup": "True",
         "bingroup": "x",
         "hovertemplate": "car=Alpine<br>power=%{x}<br>count=%{y}<extra></extra>",
         "legendgroup": "Alpine",
         "marker": {
          "color": "#00cc96",
          "pattern": {
           "shape": ""
          }
         },
         "name": "Alpine",
         "offsetgroup": "Alpine",
         "orientation": "v",
         "showlegend": true,
         "type": "histogram",
         "x": [
          288
         ],
         "xaxis": "x",
         "yaxis": "y"
        },
        {
         "alignmentgroup": "True",
         "bingroup": "x",
         "hovertemplate": "car=Ultima<br>power=%{x}<br>count=%{y}<extra></extra>",
         "legendgroup": "Ultima",
         "marker": {
          "color": "#ab63fa",
          "pattern": {
           "shape": ""
          }
         },
         "name": "Ultima",
         "offsetgroup": "Ultima",
         "orientation": "v",
         "showlegend": true,
         "type": "histogram",
         "x": [
          1200
         ],
         "xaxis": "x",
         "yaxis": "y"
        }
       ],
       "layout": {
        "barmode": "relative",
        "legend": {
         "title": {
          "text": "car"
         },
         "tracegroupgap": 0
        },
        "template": {
         "data": {
          "bar": [
           {
            "error_x": {
             "color": "#2a3f5f"
            },
            "error_y": {
             "color": "#2a3f5f"
            },
            "marker": {
             "line": {
              "color": "#E5ECF6",
              "width": 0.5
             },
             "pattern": {
              "fillmode": "overlay",
              "size": 10,
              "solidity": 0.2
             }
            },
            "type": "bar"
           }
          ],
          "barpolar": [
           {
            "marker": {
             "line": {
              "color": "#E5ECF6",
              "width": 0.5
             },
             "pattern": {
              "fillmode": "overlay",
              "size": 10,
              "solidity": 0.2
             }
            },
            "type": "barpolar"
           }
          ],
          "carpet": [
           {
            "aaxis": {
             "endlinecolor": "#2a3f5f",
             "gridcolor": "white",
             "linecolor": "white",
             "minorgridcolor": "white",
             "startlinecolor": "#2a3f5f"
            },
            "baxis": {
             "endlinecolor": "#2a3f5f",
             "gridcolor": "white",
             "linecolor": "white",
             "minorgridcolor": "white",
             "startlinecolor": "#2a3f5f"
            },
            "type": "carpet"
           }
          ],
          "choropleth": [
           {
            "colorbar": {
             "outlinewidth": 0,
             "ticks": ""
            },
            "type": "choropleth"
           }
          ],
          "contour": [
           {
            "colorbar": {
             "outlinewidth": 0,
             "ticks": ""
            },
            "colorscale": [
             [
              0,
              "#0d0887"
             ],
             [
              0.1111111111111111,
              "#46039f"
             ],
             [
              0.2222222222222222,
              "#7201a8"
             ],
             [
              0.3333333333333333,
              "#9c179e"
             ],
             [
              0.4444444444444444,
              "#bd3786"
             ],
             [
              0.5555555555555556,
              "#d8576b"
             ],
             [
              0.6666666666666666,
              "#ed7953"
             ],
             [
              0.7777777777777778,
              "#fb9f3a"
             ],
             [
              0.8888888888888888,
              "#fdca26"
             ],
             [
              1,
              "#f0f921"
             ]
            ],
            "type": "contour"
           }
          ],
          "contourcarpet": [
           {
            "colorbar": {
             "outlinewidth": 0,
             "ticks": ""
            },
            "type": "contourcarpet"
           }
          ],
          "heatmap": [
           {
            "colorbar": {
             "outlinewidth": 0,
             "ticks": ""
            },
            "colorscale": [
             [
              0,
              "#0d0887"
             ],
             [
              0.1111111111111111,
              "#46039f"
             ],
             [
              0.2222222222222222,
              "#7201a8"
             ],
             [
              0.3333333333333333,
              "#9c179e"
             ],
             [
              0.4444444444444444,
              "#bd3786"
             ],
             [
              0.5555555555555556,
              "#d8576b"
             ],
             [
              0.6666666666666666,
              "#ed7953"
             ],
             [
              0.7777777777777778,
              "#fb9f3a"
             ],
             [
              0.8888888888888888,
              "#fdca26"
             ],
             [
              1,
              "#f0f921"
             ]
            ],
            "type": "heatmap"
           }
          ],
          "heatmapgl": [
           {
            "colorbar": {
             "outlinewidth": 0,
             "ticks": ""
            },
            "colorscale": [
             [
              0,
              "#0d0887"
             ],
             [
              0.1111111111111111,
              "#46039f"
             ],
             [
              0.2222222222222222,
              "#7201a8"
             ],
             [
              0.3333333333333333,
              "#9c179e"
             ],
             [
              0.4444444444444444,
              "#bd3786"
             ],
             [
              0.5555555555555556,
              "#d8576b"
             ],
             [
              0.6666666666666666,
              "#ed7953"
             ],
             [
              0.7777777777777778,
              "#fb9f3a"
             ],
             [
              0.8888888888888888,
              "#fdca26"
             ],
             [
              1,
              "#f0f921"
             ]
            ],
            "type": "heatmapgl"
           }
          ],
          "histogram": [
           {
            "marker": {
             "pattern": {
              "fillmode": "overlay",
              "size": 10,
              "solidity": 0.2
             }
            },
            "type": "histogram"
           }
          ],
          "histogram2d": [
           {
            "colorbar": {
             "outlinewidth": 0,
             "ticks": ""
            },
            "colorscale": [
             [
              0,
              "#0d0887"
             ],
             [
              0.1111111111111111,
              "#46039f"
             ],
             [
              0.2222222222222222,
              "#7201a8"
             ],
             [
              0.3333333333333333,
              "#9c179e"
             ],
             [
              0.4444444444444444,
              "#bd3786"
             ],
             [
              0.5555555555555556,
              "#d8576b"
             ],
             [
              0.6666666666666666,
              "#ed7953"
             ],
             [
              0.7777777777777778,
              "#fb9f3a"
             ],
             [
              0.8888888888888888,
              "#fdca26"
             ],
             [
              1,
              "#f0f921"
             ]
            ],
            "type": "histogram2d"
           }
          ],
          "histogram2dcontour": [
           {
            "colorbar": {
             "outlinewidth": 0,
             "ticks": ""
            },
            "colorscale": [
             [
              0,
              "#0d0887"
             ],
             [
              0.1111111111111111,
              "#46039f"
             ],
             [
              0.2222222222222222,
              "#7201a8"
             ],
             [
              0.3333333333333333,
              "#9c179e"
             ],
             [
              0.4444444444444444,
              "#bd3786"
             ],
             [
              0.5555555555555556,
              "#d8576b"
             ],
             [
              0.6666666666666666,
              "#ed7953"
             ],
             [
              0.7777777777777778,
              "#fb9f3a"
             ],
             [
              0.8888888888888888,
              "#fdca26"
             ],
             [
              1,
              "#f0f921"
             ]
            ],
            "type": "histogram2dcontour"
           }
          ],
          "mesh3d": [
           {
            "colorbar": {
             "outlinewidth": 0,
             "ticks": ""
            },
            "type": "mesh3d"
           }
          ],
          "parcoords": [
           {
            "line": {
             "colorbar": {
              "outlinewidth": 0,
              "ticks": ""
             }
            },
            "type": "parcoords"
           }
          ],
          "pie": [
           {
            "automargin": true,
            "type": "pie"
           }
          ],
          "scatter": [
           {
            "fillpattern": {
             "fillmode": "overlay",
             "size": 10,
             "solidity": 0.2
            },
            "type": "scatter"
           }
          ],
          "scatter3d": [
           {
            "line": {
             "colorbar": {
              "outlinewidth": 0,
              "ticks": ""
             }
            },
            "marker": {
             "colorbar": {
              "outlinewidth": 0,
              "ticks": ""
             }
            },
            "type": "scatter3d"
           }
          ],
          "scattercarpet": [
           {
            "marker": {
             "colorbar": {
              "outlinewidth": 0,
              "ticks": ""
             }
            },
            "type": "scattercarpet"
           }
          ],
          "scattergeo": [
           {
            "marker": {
             "colorbar": {
              "outlinewidth": 0,
              "ticks": ""
             }
            },
            "type": "scattergeo"
           }
          ],
          "scattergl": [
           {
            "marker": {
             "colorbar": {
              "outlinewidth": 0,
              "ticks": ""
             }
            },
            "type": "scattergl"
           }
          ],
          "scattermapbox": [
           {
            "marker": {
             "colorbar": {
              "outlinewidth": 0,
              "ticks": ""
             }
            },
            "type": "scattermapbox"
           }
          ],
          "scatterpolar": [
           {
            "marker": {
             "colorbar": {
              "outlinewidth": 0,
              "ticks": ""
             }
            },
            "type": "scatterpolar"
           }
          ],
          "scatterpolargl": [
           {
            "marker": {
             "colorbar": {
              "outlinewidth": 0,
              "ticks": ""
             }
            },
            "type": "scatterpolargl"
           }
          ],
          "scatterternary": [
           {
            "marker": {
             "colorbar": {
              "outlinewidth": 0,
              "ticks": ""
             }
            },
            "type": "scatterternary"
           }
          ],
          "surface": [
           {
            "colorbar": {
             "outlinewidth": 0,
             "ticks": ""
            },
            "colorscale": [
             [
              0,
              "#0d0887"
             ],
             [
              0.1111111111111111,
              "#46039f"
             ],
             [
              0.2222222222222222,
              "#7201a8"
             ],
             [
              0.3333333333333333,
              "#9c179e"
             ],
             [
              0.4444444444444444,
              "#bd3786"
             ],
             [
              0.5555555555555556,
              "#d8576b"
             ],
             [
              0.6666666666666666,
              "#ed7953"
             ],
             [
              0.7777777777777778,
              "#fb9f3a"
             ],
             [
              0.8888888888888888,
              "#fdca26"
             ],
             [
              1,
              "#f0f921"
             ]
            ],
            "type": "surface"
           }
          ],
          "table": [
           {
            "cells": {
             "fill": {
              "color": "#EBF0F8"
             },
             "line": {
              "color": "white"
             }
            },
            "header": {
             "fill": {
              "color": "#C8D4E3"
             },
             "line": {
              "color": "white"
             }
            },
            "type": "table"
           }
          ]
         },
         "layout": {
          "annotationdefaults": {
           "arrowcolor": "#2a3f5f",
           "arrowhead": 0,
           "arrowwidth": 1
          },
          "autotypenumbers": "strict",
          "coloraxis": {
           "colorbar": {
            "outlinewidth": 0,
            "ticks": ""
           }
          },
          "colorscale": {
           "diverging": [
            [
             0,
             "#8e0152"
            ],
            [
             0.1,
             "#c51b7d"
            ],
            [
             0.2,
             "#de77ae"
            ],
            [
             0.3,
             "#f1b6da"
            ],
            [
             0.4,
             "#fde0ef"
            ],
            [
             0.5,
             "#f7f7f7"
            ],
            [
             0.6,
             "#e6f5d0"
            ],
            [
             0.7,
             "#b8e186"
            ],
            [
             0.8,
             "#7fbc41"
            ],
            [
             0.9,
             "#4d9221"
            ],
            [
             1,
             "#276419"
            ]
           ],
           "sequential": [
            [
             0,
             "#0d0887"
            ],
            [
             0.1111111111111111,
             "#46039f"
            ],
            [
             0.2222222222222222,
             "#7201a8"
            ],
            [
             0.3333333333333333,
             "#9c179e"
            ],
            [
             0.4444444444444444,
             "#bd3786"
            ],
            [
             0.5555555555555556,
             "#d8576b"
            ],
            [
             0.6666666666666666,
             "#ed7953"
            ],
            [
             0.7777777777777778,
             "#fb9f3a"
            ],
            [
             0.8888888888888888,
             "#fdca26"
            ],
            [
             1,
             "#f0f921"
            ]
           ],
           "sequentialminus": [
            [
             0,
             "#0d0887"
            ],
            [
             0.1111111111111111,
             "#46039f"
            ],
            [
             0.2222222222222222,
             "#7201a8"
            ],
            [
             0.3333333333333333,
             "#9c179e"
            ],
            [
             0.4444444444444444,
             "#bd3786"
            ],
            [
             0.5555555555555556,
             "#d8576b"
            ],
            [
             0.6666666666666666,
             "#ed7953"
            ],
            [
             0.7777777777777778,
             "#fb9f3a"
            ],
            [
             0.8888888888888888,
             "#fdca26"
            ],
            [
             1,
             "#f0f921"
            ]
           ]
          },
          "colorway": [
           "#636efa",
           "#EF553B",
           "#00cc96",
           "#ab63fa",
           "#FFA15A",
           "#19d3f3",
           "#FF6692",
           "#B6E880",
           "#FF97FF",
           "#FECB52"
          ],
          "font": {
           "color": "#2a3f5f"
          },
          "geo": {
           "bgcolor": "white",
           "lakecolor": "white",
           "landcolor": "#E5ECF6",
           "showlakes": true,
           "showland": true,
           "subunitcolor": "white"
          },
          "hoverlabel": {
           "align": "left"
          },
          "hovermode": "closest",
          "mapbox": {
           "style": "light"
          },
          "paper_bgcolor": "white",
          "plot_bgcolor": "#E5ECF6",
          "polar": {
           "angularaxis": {
            "gridcolor": "white",
            "linecolor": "white",
            "ticks": ""
           },
           "bgcolor": "#E5ECF6",
           "radialaxis": {
            "gridcolor": "white",
            "linecolor": "white",
            "ticks": ""
           }
          },
          "scene": {
           "xaxis": {
            "backgroundcolor": "#E5ECF6",
            "gridcolor": "white",
            "gridwidth": 2,
            "linecolor": "white",
            "showbackground": true,
            "ticks": "",
            "zerolinecolor": "white"
           },
           "yaxis": {
            "backgroundcolor": "#E5ECF6",
            "gridcolor": "white",
            "gridwidth": 2,
            "linecolor": "white",
            "showbackground": true,
            "ticks": "",
            "zerolinecolor": "white"
           },
           "zaxis": {
            "backgroundcolor": "#E5ECF6",
            "gridcolor": "white",
            "gridwidth": 2,
            "linecolor": "white",
            "showbackground": true,
            "ticks": "",
            "zerolinecolor": "white"
           }
          },
          "shapedefaults": {
           "line": {
            "color": "#2a3f5f"
           }
          },
          "ternary": {
           "aaxis": {
            "gridcolor": "white",
            "linecolor": "white",
            "ticks": ""
           },
           "baxis": {
            "gridcolor": "white",
            "linecolor": "white",
            "ticks": ""
           },
           "bgcolor": "#E5ECF6",
           "caxis": {
            "gridcolor": "white",
            "linecolor": "white",
            "ticks": ""
           }
          },
          "title": {
           "x": 0.05
          },
          "xaxis": {
           "automargin": true,
           "gridcolor": "white",
           "linecolor": "white",
           "ticks": "",
           "title": {
            "standoff": 15
           },
           "zerolinecolor": "white",
           "zerolinewidth": 2
          },
          "yaxis": {
           "automargin": true,
           "gridcolor": "white",
           "linecolor": "white",
           "ticks": "",
           "title": {
            "standoff": 15
           },
           "zerolinecolor": "white",
           "zerolinewidth": 2
          }
         }
        },
        "title": {
         "text": "Распределение мощности автомобилей"
        },
        "xaxis": {
         "anchor": "y",
         "domain": [
          0,
          1
         ],
         "title": {
          "text": "Мощность"
         }
        },
        "yaxis": {
         "anchor": "x",
         "domain": [
          0,
          1
         ],
         "title": {
          "text": "Количество"
         }
        }
       }
      }
     },
     "metadata": {},
     "output_type": "display_data"
    }
   ],
   "source": [
    "fig = px.histogram(data, x='power', color='car', title='Распределение мощности автомобилей')\n",
    "fig.update_xaxes(title_text='Мощность')\n",
    "fig.update_yaxes(title_text='Количество')\n",
    "fig.show()\n"
   ]
  },
  {
   "cell_type": "code",
   "execution_count": 22,
   "metadata": {},
   "outputs": [
    {
     "data": {
      "application/vnd.plotly.v1+json": {
       "config": {
        "plotlyServerURL": "https://plot.ly"
       },
       "data": [
        {
         "hovertemplate": "<b>%{hovertext}</b><br><br>acceleration_seconds=%{x}<br>torque=%{y}<br>power=%{marker.size}<extra></extra>",
         "hovertext": [
          "911",
          "Huracan",
          "488 GTB",
          "R8",
          "720S",
          "M8",
          "AMG GT",
          "Corvette",
          "Mustang Shelby GT500",
          "GT-R Nismo",
          "DB11",
          "Chiron",
          "Challenger SRT Hellcat",
          "F-Type",
          "Jesko",
          "LC 500",
          "Evora GT",
          "GranTurismo",
          "Boxster",
          "Giulia Quadrifoglio",
          "Atom",
          "Continental GT",
          "Artura",
          "SLS AMG",
          "Huayra",
          "1",
          "Cayman GT4",
          "Aventador SVJ",
          "SF90 Stradale",
          "RS7",
          "Artura",
          "M4",
          "SLS AMG",
          "Camaro ZL1",
          "GT",
          "370Z Nismo",
          "Urus",
          "Roma",
          "RS3",
          "GT",
          "CLS63 AMG",
          "Cayman",
          "Aventador SVJ",
          "SF90 Stradale",
          "RS3",
          "570S",
          "M4",
          "AMG C63",
          "Camaro SS",
          "Mustang GT",
          "370Z Nismo",
          "Vantage",
          "Evora GT",
          "Panamera",
          "Urus",
          "Roma",
          "S5",
          "600LT",
          "M5",
          "Vantage",
          "RS5",
          "M2",
          "Camaro SS",
          "Challenger SRT Hellcat Redeye",
          "GT",
          "F-Type",
          "Aventador",
          "GranTurismo",
          "Artura",
          "C63 AMG",
          "370Z",
          "Panamera",
          "TT RS",
          "M4",
          "Corvette Stingray",
          "F8 Tributo",
          "Mustang Mach 1",
          "Urus",
          "718 Cayman",
          "NSX",
          "Vantage",
          "Continental GT",
          "Chiron",
          "Challenger SRT Hellcat Redeye",
          "F-Type",
          "Jesko",
          "LC 500",
          "Evora GT",
          "GranTurismo",
          "MX-5 Miata",
          "GT",
          "SLS AMG",
          "Huayra",
          "718 Cayman GT4",
          "Wraith",
          "Supra",
          "Fenyr Supersport",
          "718 Cayman",
          "Aventador",
          "SF90 Stradale",
          "TT RS",
          "GT",
          "M4",
          "SL 63 AMG",
          "Camaro ZL1",
          "GT",
          "370Z",
          "DBS Superleggera",
          "Chiron",
          "Evora GT",
          "570S",
          "Panamera Turbo S E-Hybrid",
          "Urus",
          "Roma",
          "RS7",
          "M2",
          "Cayman GT4",
          "Aventador",
          "DBS Superleggera",
          "Continental GT",
          "RS7",
          "SLS AMG",
          "570S",
          "M2",
          "Camaro ZL1",
          "Challenger SRT Hellcat",
          "Portofino",
          "Panamera Turbo S",
          "Urus",
          "AMG C63",
          "Vantage",
          "S5",
          "Cayman",
          "Aventador",
          "F8 Tributo",
          "TT RS",
          "570S",
          "Z4 M40i",
          "SLS AMG",
          "Camaro SS",
          "Mustang Mach 1",
          "370Z Nismo",
          "Panamera",
          "Urus",
          "Roma",
          "RS 3",
          "GT",
          "M2 CS",
          "AMG C63",
          "Camaro ZL1",
          "NSX",
          "DB11",
          "Continental GT",
          "Chiron",
          "Viper",
          "F-Type",
          "Jesko",
          "LC 500",
          "Evora GT",
          "GranTurismo",
          "570S",
          "Huayra",
          "Cayman GT4",
          "Wraith",
          "GR Supra",
          "Griffith",
          "Lykan Hypersport",
          "718 Cayman",
          "Aventador SVJ",
          "SF90 Stradale",
          "RS 6",
          "GT",
          "M2 CS",
          "SLS AMG",
          "Camaro SS",
          "GT",
          "370Z Nismo",
          "Urus",
          "F8 Tributo",
          "RS 3",
          "570S",
          "M5",
          "AMG C 63",
          "Camaro ZL1",
          "Taycan",
          "Aventador",
          "DBS Superleggera",
          "RS 6 Avant",
          "600LT",
          "C 63 S Coupe",
          "M4",
          "Camaro ZL1",
          "Challenger SRT Hellcat Redeye",
          "GT",
          "370Z",
          "Panamera",
          "Urus",
          "Chiron",
          "F8 Tributo",
          "RS 7",
          "570S",
          "Vantage",
          "F-Type",
          "Panamera Turbo S",
          "Aventador S",
          "SF90 Stradale",
          "RS7",
          "600LT",
          "M2 Competition",
          "S63 AMG",
          "Camaro ZL1",
          "Challenger SRT Hellcat",
          "GT",
          "Urus",
          "812 Superfast",
          "R8 Spyder",
          "GT",
          "M4",
          "AMG GT R",
          "Corvette Stingray",
          "DB11",
          "Continental GT",
          "F-Type R",
          "NSX",
          "Evora GT",
          "Cayman GT4",
          "4C",
          "RS5",
          "M2 Competition",
          "Camaro ZL1",
          "Charger SRT Hellcat",
          "GT",
          "LC 500",
          "GranTurismo",
          "370Z Nismo",
          "Wraith",
          "WRX STI",
          "Cayman GT4",
          "Aventador",
          "Portofino",
          "RS7",
          "600LT",
          "M2",
          "AMG GT",
          "Camaro SS",
          "Mustang Mach 1",
          "370Z Nismo",
          "Panamera Turbo",
          "Urus",
          "SF90 Stradale",
          "TT RS",
          "GT",
          "Challenger SRT Hellcat",
          "DBS Superleggera",
          "F-Type R",
          "LC 500",
          "Cayman GT4",
          "M2 Competition",
          "RS 5 Coupe",
          "Camaro ZL1",
          "Evora GT",
          "GT",
          "SLS AMG Black Series",
          "Chiron",
          "Jesko",
          "SF90 Stradale",
          "Aventador SVJ",
          "Huayra Roadster BC",
          "NSX",
          "Vantage",
          "Continental GT",
          "Challenger SRT Hellcat",
          "F-Type",
          "Stinger",
          "Evora GT",
          "GranTurismo",
          "718 Cayman GT4",
          "Giulia Quadrifoglio",
          "RS7",
          "M5",
          "Camaro ZL1",
          "GT",
          "Aventador",
          "Artura",
          "SLS AMG",
          "370Z Nismo",
          "DBS Superleggera",
          "Continental GT",
          "Chiron",
          "570S",
          "Aventador S",
          "F8 Tributo",
          "RS 7",
          "M2 CS",
          "SLS AMG",
          "Camaro ZL1",
          "GT",
          "F-Type",
          "Evora GT",
          "GranTurismo",
          "765LT",
          "370Z",
          "Huayra",
          "Panamera Turbo S",
          "DB11",
          "Challenger Hellcat Redeye",
          "Evora",
          "NSX",
          "Giulia Quadrifoglio",
          "Continental GT",
          "F-Type",
          "Jesko",
          "LC 500",
          "GranTurismo",
          "GT",
          "C 63 S Coupe",
          "718 Cayman",
          "Wraith",
          "Camaro SS",
          "GT",
          "NSX",
          "DB11",
          "Continental GT",
          "Chiron",
          "Challenger Hellcat",
          "F-Type",
          "Jesko",
          "LC",
          "Evora GT",
          "GranTurismo",
          "570S",
          "AMG C63",
          "Huayra BC",
          "Cayman GT4",
          "Wraith",
          "NSX",
          "Vantage",
          "Continental GT",
          "Challenger SRT Hellcat Redeye",
          "F-Type R",
          "LC 500",
          "Evora GT",
          "GranTurismo",
          "Cayman GT4",
          "A110",
          "RS7",
          "M4",
          "Camaro ZL1",
          "Viper",
          "Portofino",
          "F-Type",
          "Aventador SVJ",
          "600LT",
          "DB11",
          "Continental GT",
          "Chiron",
          "Challenger SRT Hellcat",
          "F-Type R",
          "Jesko",
          "LC 500",
          "Evora GT",
          "GranTurismo",
          "Artura",
          "C 63 S",
          "Huayra",
          "Cayman GT4",
          "Wraith",
          "Supra",
          "NSX",
          "Vantage",
          "Continental GT",
          "Challenger SRT Hellcat",
          "F-Type",
          "LC 500",
          "Evora GT",
          "GranTurismo",
          "570S",
          "Cayman GT4",
          "RS 5",
          "M2 Competition",
          "Camaro ZL1",
          "Viper ACR",
          "GT",
          "Taycan 4S",
          "Aventador S",
          "DB11",
          "Giulia Quadrifoglio",
          "RS7 Sportback",
          "M4 Competition",
          "Camaro SS",
          "Charger Hellcat",
          "F8 Tributo",
          "GT",
          "F-Type R",
          "Jesko Absolut",
          "LC 500",
          "GT",
          "AMG GT Black Series",
          "Cayman GT4",
          "Aventador",
          "Portofino",
          "TT RS",
          "600LT Spider",
          "M4",
          "AMG C 63",
          "Camaro SS 1LE",
          "Mustang Mach 1",
          "370Z Nismo",
          "Vantage",
          "Chiron",
          "Jesko",
          "Huayra",
          "Speedtail",
          "Sián",
          "Cayman",
          "Aventador",
          "Portofino",
          "RS 5",
          "GT",
          "Z4 M40i",
          "SLC 43",
          "Camaro SS",
          "Mustang GT",
          "370Z Nismo",
          "Vantage",
          "Continental GT",
          "718 Boxster",
          "Urus",
          "F8 Spider",
          "TT RS",
          "570S",
          "M4",
          "718 Cayman",
          "Aventador",
          "SF90 Stradale",
          "RS5",
          "GT",
          "M2",
          "SLS AMG",
          "Camaro ZL1",
          "GT",
          "370Z Nismo",
          "Challenger SRT Hellcat",
          "DBS Superleggera",
          "Giulia Quadrifoglio",
          "F-Type R",
          "Evora GT",
          "GranTurismo",
          "Panamera Turbo S",
          "Urus",
          "Vantage",
          "Evora",
          "4C Spider",
          "F-Type",
          "GranTurismo",
          "Cayman GT4",
          "RS5 Coupe",
          "M2 Competition",
          "Camaro ZL1",
          "Challenger SRT Hellcat",
          "GT",
          "LC 500",
          "570S",
          "C63 S Coupe",
          "370Z Nismo",
          "718 Boxster",
          "Aventador S",
          "F8 Tributo",
          "TT RS Coupe",
          "M4 Coupe",
          "NSX",
          "DBS Superleggera",
          "Continental GT",
          "Chiron",
          "Challenger SRT Hellcat",
          "F-Type",
          "Jesko",
          "LC 500",
          "Evora GT",
          "GranTurismo",
          "Artura",
          "Huayra",
          "Cayman GT4",
          "Wraith",
          "GR Supra",
          "Griffith",
          "RS",
          "Fenyr SuperSport",
          "NSX",
          "DBS Superleggera",
          "Continental GT",
          "Chiron",
          "Challenger SRT Hellcat",
          "F-Type",
          "LC 500",
          "GranTurismo",
          "Artura",
          "AMG GT Black Series",
          "Camaro ZL1",
          "GT",
          "DBS Superleggera",
          "F-Type",
          "Challenger SRT Hellcat Redeye",
          "Evora GT",
          "4C Spider",
          "WRX STI",
          "NSX",
          "Jesko",
          "Chiron Super Sport 300+",
          "Senna",
          "SLS AMG Black Series",
          "LC 500",
          "Camaro ZL1",
          "RS 7 Sportback",
          "GT",
          "M2 CS",
          "Cayman GT4",
          "Aventador",
          "Vantage",
          "Evora GT",
          "Panamera Turbo S",
          "Aventador S",
          "SF90 Stradale",
          "RS 6 Avant",
          "570S",
          "M5",
          "AMG C 63 S",
          "Camaro ZL1",
          "Challenger SRT Hellcat",
          "GT",
          "370Z Nismo",
          "Cayman GT4",
          "TT RS",
          "Corvette Z06",
          "Urus",
          "AMG GT 63 S",
          "Portofino M",
          "Chiron",
          "DBS Superleggera",
          "Evora GT",
          "Cayman GT4",
          "NSX",
          "LC",
          "Giulia Quadrifoglio",
          "RS7",
          "Continental GT",
          "M5",
          "Camaro ZL1",
          "Challenger Hellcat",
          "GT",
          "F-Type R",
          "Aventador",
          "570S",
          "SLS AMG",
          "370Z Nismo",
          "Boxster",
          "718 Cayman",
          "Aventador",
          "Roma",
          "RS 5",
          "570S",
          "M2",
          "SL",
          "Camaro",
          "GT",
          "370Z Nismo",
          "DBS Superleggera",
          "Evora GT",
          "GranTurismo",
          "Panamera",
          "Urus",
          "SF90 Stradale",
          "RS 6",
          "Artura",
          "Aventador S",
          "SF90 Stradale",
          "RS 7",
          "570S",
          "M4",
          "SLS AMG",
          "Camaro SS",
          "GT",
          "370Z Nismo",
          "DBS Superleggera",
          "LC 500",
          "Continental GT",
          "GranTurismo",
          "Dawn",
          "Chiron Pur Sport",
          "Senna",
          "NSX",
          "DB11",
          "RS7",
          "Continental GT",
          "Chiron",
          "Camaro ZL1",
          "Challenger Hellcat",
          "812 Superfast",
          "Aventador SVJ",
          "600LT Spider",
          "GT Black Series",
          "400Z",
          "Cayman GT4",
          "Wraith",
          "Supra",
          "718 Boxster",
          "718 Boxster",
          "Aventador S",
          "SF90 Stradale",
          "RS 7",
          "Artura",
          "M2",
          "SLS AMG",
          "Camaro ZL1",
          "GT",
          "370Z Nismo",
          "Charger Hellcat",
          "DBS Superleggera",
          "Giulia Quadrifoglio",
          "TT RS",
          "Continental GT",
          "M5",
          "Corvette Stingray",
          "Challenger SRT Hellcat",
          "Mustang GT",
          "Cayman",
          "Aventador",
          "Roma",
          "RS7",
          "570S",
          "M4",
          "SLS AMG",
          "Camaro SS",
          "GT",
          "370Z Nismo",
          "Panamera",
          "Urus",
          "SF90 Stradale",
          "RS6",
          "Artura",
          "M2",
          "GT 63",
          "Camaro ZL1",
          "DBS Superleggera",
          "Chiron",
          "Jesko",
          "Huayra",
          "Senna",
          "918 Spyder",
          "SF90 Stradale",
          "Aventador SVJ",
          "RS 6 Avant",
          "Continental GT Speed",
          "Camaro ZL1",
          "Challenger SRT Hellcat",
          "GT",
          "LC 500",
          "GT Black Series",
          "DB11",
          "Continental GT",
          "F-Type",
          "Evora GT",
          "GranTurismo",
          "Boxster",
          "4C",
          "Camaro",
          "Challenger",
          "GT",
          "RS7",
          "M4",
          "Aventador",
          "AMG C 63",
          "370Z",
          "Cayman",
          "i8",
          "Corvette Stingray",
          "Aventador S",
          "SF90 Stradale",
          "RS7",
          "GT",
          "M5",
          "SLS AMG",
          "Camaro ZL1",
          "GT",
          "370Z Nismo",
          "Panamera Turbo S",
          "Urus",
          "Portofino",
          "TT RS",
          "570S",
          "718 Cayman",
          "Aventador",
          "Portofino",
          "TT RS",
          "GT",
          "M4",
          "SLS AMG",
          "Camaro SS",
          "GT",
          "370Z Nismo",
          "911 Turbo S",
          "765LT",
          "Urus",
          "GT Black Series",
          "M5 Competition",
          "RS7",
          "Vantage",
          "F8 Spider",
          "LC 500",
          "Aventador SVJ",
          "SF90 Stradale",
          "RS6 Avant",
          "600LT Spider",
          "M4",
          "AMG GT R",
          "Camaro ZL1",
          "GT",
          "370Z Nismo",
          "Panamera Turbo S E-Hybrid",
          "Urus",
          "Portofino M",
          "TT RS",
          "Artura",
          "M2 CS",
          "SLS AMG Black Series",
          "Camaro SS",
          "718 Boxster",
          "Aventador SVJ",
          "SF90 Stradale",
          "TT RS Coupe",
          "GT",
          "Z4 Roadster",
          "SLS AMG",
          "Camaro SS Convertible",
          "GT",
          "370Z Coupe",
          "Vantage",
          "Continental GT",
          "Chiron",
          "Challenger SRT Hellcat",
          "F-Type",
          "Evora GT",
          "GranTurismo",
          "DBS Superleggera",
          "Evora GT",
          "Panamera Turbo S E-Hybrid",
          "Aventador SVJ",
          "SF90 Stradale",
          "RS7",
          "S63 AMG",
          "Camaro ZL1",
          "GT",
          "370Z Nismo",
          "718 Cayman GT4",
          "C63 S Coupe",
          "Vantage",
          "570S",
          "M5",
          "Challenger SRT Hellcat",
          "LC 500",
          "GT 63 S",
          "TT RS",
          "NSX",
          "Cayman GT4",
          "Aventador S",
          "SF90 Stradale",
          "RS 5",
          "570S Spider",
          "M2 Competition",
          "C 63 AMG",
          "Camaro SS",
          "Mustang GT",
          "Challenger R/T",
          "Vantage",
          "Evora GT",
          "4C Spider",
          "F-Type",
          "Jesko",
          "Chiron Super Sport 300+",
          "Cayman GT4",
          "Camaro ZL1",
          "Vantage",
          "Giulia Quadrifoglio",
          "Challenger SRT Hellcat",
          "LC 500",
          "RS 7 Sportback",
          "M4 Competition",
          "C63 S AMG",
          "GT",
          "GT",
          "Panamera Turbo S",
          "Aventador S",
          "DBS Superleggera",
          "TT RS",
          "AMG C43 Coupe",
          "i8",
          "Corvette Stingray",
          "Aventador",
          "Roma",
          "RS7",
          "GT",
          "M2",
          "C63 AMG",
          "Camaro SS",
          "Mustang Mach 1",
          "370Z Nismo",
          "Panamera",
          "Urus",
          "RS6",
          "570S",
          "M4",
          "AMG A45",
          "Camaro ZL1",
          "NSX",
          "Vantage",
          "Continental GT",
          "Chiron",
          "F8 Tributo",
          "Aventador",
          "GT",
          "AMG GT R",
          "RS7",
          "M4",
          "Camaro ZL1",
          "Challenger SRT Hellcat Redeye",
          "GT",
          "F-Type",
          "LC 500",
          "370Z",
          "Ghost",
          "Taycan",
          "DB11",
          "Evora GT",
          "NSX",
          "Camaro",
          "Charger",
          "F-Type",
          "LC 500",
          "M4",
          "GT",
          "GranTurismo",
          "600LT",
          "SLS AMG",
          "370Z",
          "RS 7",
          "Continental GT",
          "Cayman",
          "Vantage",
          "4C Spider",
          "RS 5",
          "M2",
          "Challenger SRT Hellcat",
          "F8 Spider",
          "F-Type",
          "Aventador",
          "LC 500",
          "Evora GT",
          "GranTurismo",
          "GT",
          "AMG C 63",
          "370Z Nismo",
          "Panamera",
          "WRX STI",
          "718 Cayman",
          "Aventador",
          "SF90 Stradale",
          "RS5 Coupe",
          "570S",
          "M2",
          "SL",
          "Camaro",
          "GT",
          "370Z",
          "Giulia Quadrifoglio",
          "DB11",
          "Continental GT",
          "Challenger",
          "F-Type R",
          "LC 500",
          "Evora GT",
          "GranTurismo",
          "Cayman GT4",
          "Vantage",
          "Charger SRT Hellcat",
          "RS 7",
          "Camaro SS",
          "Mustang GT",
          "F-Type R",
          "LC 500",
          "570S",
          "AMG C63",
          "370Z Nismo",
          "Panamera GTS",
          "TT RS",
          "M4",
          "F8 Tributo",
          "Aventador",
          "GT",
          "AMG GT 4-Door Coupe",
          "DBS Superleggera",
          "Evora GT",
          "570S",
          "Aventador SVJ",
          "GT",
          "RS7 Sportback",
          "M4",
          "C63 S",
          "Camaro ZL1",
          "Charger Hellcat",
          "Giulia Quadrifoglio",
          "SF90 Stradale",
          "Artura",
          "Urus",
          "Mustang Mach 1",
          "911",
          "Huracan",
          "488 GTB",
          "R8",
          "720S",
          "M8",
          "AMG GT",
          "Corvette",
          "Mustang Shelby GT500",
          "GT-R Nismo",
          "Challenger SRT Hellcat",
          "Vantage",
          "Chiron",
          "Jesko",
          "Huayra",
          "MC20",
          "Cayman",
          "Aventador",
          "SF90 Stradale",
          "RS 5",
          "GT",
          "M2",
          "SLS AMG",
          "Camaro",
          "Mustang",
          "370Z",
          "Vantage",
          "Chiron",
          "Jesko",
          "Senna",
          "Huayra"
         ],
         "legendgroup": "",
         "marker": {
          "color": "rgb(0,127,255)",
          "size": [
           379,
           630,
           661,
           562,
           710,
           617,
           523,
           490,
           760,
           600,
           630,
           1500,
           717,
           296,
           1280,
           471,
           416,
           454,
           300,
           505,
           320,
           626,
           671,
           622,
           720,
           600,
           414,
           759,
           986,
           591,
           671,
           503,
           622,
           650,
           660,
           350,
           641,
           611,
           394,
           612,
           603,
           300,
           759,
           986,
           394,
           562,
           503,
           503,
           455,
           460,
           350,
           503,
           416,
           325,
           641,
           612,
           349,
           592,
           600,
           503,
           444,
           405,
           455,
           797,
           660,
           296,
           770,
           454,
           671,
           503,
           332,
           325,
           394,
           473,
           490,
           710,
           480,
           641,
           300,
           573,
           503,
           626,
           1500,
           797,
           380,
           1600,
           471,
           416,
           454,
           181,
           620,
           622,
           764,
           414,
           624,
           382,
           800,
           300,
           770,
           986,
           394,
           612,
           503,
           603,
           650,
           660,
           332,
           715,
           1500,
           416,
           562,
           690,
           641,
           611,
           591,
           405,
           414,
           730,
           715,
           626,
           591,
           622,
           562,
           405,
           650,
           717,
           592,
           620,
           641,
           469,
           503,
           349,
           365,
           730,
           710,
           394,
           562,
           382,
           622,
           455,
           480,
           350,
           325,
           641,
           612,
           401,
           612,
           444,
           503,
           650,
           573,
           503,
           626,
           1500,
           645,
           380,
           1600,
           471,
           416,
           454,
           562,
           720,
           414,
           624,
           382,
           500,
           780,
           300,
           770,
           986,
           591,
           612,
           444,
           622,
           455,
           660,
           350,
           641,
           710,
           401,
           562,
           600,
           469,
           650,
           402,
           730,
           715,
           591,
           592,
           503,
           473,
           650,
           797,
           660,
           332,
           325,
           641,
           1500,
           710,
           591,
           562,
           503,
           575,
           620,
           729,
           986,
           591,
           592,
           405,
           603,
           650,
           717,
           660,
           641,
           789,
           562,
           612,
           473,
           577,
           495,
           630,
           626,
           575,
           573,
           416,
           414,
           237,
           444,
           405,
           650,
           717,
           660,
           471,
           454,
           350,
           624,
           310,
           414,
           729,
           591,
           591,
           592,
           405,
           523,
           455,
           480,
           350,
           620,
           641,
           986,
           394,
           612,
           717,
           715,
           575,
           471,
           414,
           405,
           444,
           650,
           416,
           612,
           622,
           1500,
           1280,
           986,
           770,
           791,
           573,
           503,
           542,
           717,
           296,
           368,
           416,
           454,
           414,
           505,
           591,
           600,
           650,
           660,
           770,
           671,
           577,
           350,
           715,
           542,
           1479,
           562,
           730,
           710,
           591,
           444,
           622,
           650,
           660,
           575,
           416,
           454,
           755,
           332,
           730,
           620,
           503,
           797,
           416,
           573,
           505,
           626,
           380,
           1280,
           471,
           454,
           612,
           503,
           300,
           624,
           455,
           660,
           573,
           630,
           542,
           1500,
           717,
           575,
           1280,
           471,
           416,
           454,
           562,
           503,
           791,
           414,
           624,
           573,
           503,
           626,
           797,
           575,
           471,
           416,
           454,
           414,
           288,
           591,
           473,
           650,
           645,
           591,
           296,
           770,
           592,
           630,
           626,
           1500,
           717,
           575,
           1280,
           471,
           416,
           454,
           671,
           503,
           764,
           414,
           624,
           382,
           573,
           503,
           542,
           717,
           380,
           471,
           416,
           454,
           562,
           414,
           444,
           405,
           650,
           645,
           660,
           482,
           730,
           630,
           505,
           591,
           503,
           455,
           717,
           710,
           660,
           575,
           1600,
           471,
           612,
           720,
           414,
           770,
           591,
           394,
           592,
           473,
           503,
           455,
           480,
           350,
           503,
           1500,
           1262,
           764,
           1035,
           819,
           300,
           770,
           591,
           444,
           620,
           382,
           385,
           455,
           460,
           350,
           503,
           626,
           300,
           641,
           710,
           394,
           562,
           473,
           300,
           730,
           986,
           444,
           612,
           405,
           622,
           650,
           660,
           350,
           717,
           715,
           505,
           575,
           416,
           454,
           630,
           641,
           503,
           416,
           237,
           380,
           454,
           414,
           444,
           405,
           650,
           717,
           647,
           471,
           562,
           503,
           350,
           300,
           729,
           710,
           394,
           473,
           573,
           715,
           626,
           1500,
           717,
           575,
           1280,
           471,
           416,
           454,
           671,
           764,
           414,
           624,
           382,
           500,
           1200,
           800,
           573,
           715,
           626,
           1500,
           717,
           380,
           471,
           454,
           671,
           720,
           650,
           647,
           715,
           575,
           797,
           416,
           237,
           310,
           573,
           1280,
           1578,
           789,
           622,
           471,
           650,
           591,
           660,
           444,
           414,
           770,
           503,
           416,
           620,
           729,
           986,
           591,
           562,
           600,
           503,
           650,
           717,
           660,
           350,
           414,
           394,
           625,
           641,
           630,
           612,
           1479,
           715,
           416,
           414,
           573,
           471,
           505,
           591,
           626,
           600,
           650,
           717,
           647,
           575,
           730,
           562,
           583,
           350,
           300,
           300,
           759,
           612,
           444,
           562,
           405,
           429,
           455,
           660,
           350,
           715,
           416,
           454,
           325,
           641,
           986,
           591,
           671,
           730,
           986,
           591,
           562,
           473,
           622,
           455,
           660,
           350,
           715,
           471,
           626,
           454,
           563,
           1500,
           789,
           573,
           503,
           591,
           626,
           1500,
           650,
           717,
           789,
           770,
           592,
           720,
           400,
           414,
           624,
           382,
           300,
           300,
           730,
           986,
           591,
           671,
           405,
           583,
           650,
           647,
           350,
           707,
           715,
           505,
           394,
           626,
           600,
           495,
           717,
           460,
           300,
           770,
           612,
           591,
           562,
           473,
           622,
           455,
           660,
           350,
           325,
           641,
           986,
           591,
           671,
           405,
           577,
           650,
           715,
           1500,
           1280,
           764,
           789,
           887,
           986,
           759,
           591,
           650,
           650,
           717,
           660,
           471,
           720,
           503,
           542,
           296,
           416,
           454,
           300,
           237,
           455,
           305,
           660,
           591,
           473,
           729,
           469,
           350,
           300,
           369,
           495,
           729,
           986,
           591,
           620,
           600,
           730,
           650,
           660,
           350,
           630,
           641,
           591,
           394,
           562,
           300,
           770,
           612,
           394,
           620,
           473,
           622,
           455,
           660,
           350,
           640,
           755,
           641,
           720,
           617,
           591,
           503,
           710,
           471,
           759,
           986,
           591,
           592,
           473,
           577,
           650,
           660,
           350,
           690,
           641,
           612,
           394,
           671,
           444,
           622,
           455,
           300,
           759,
           986,
           394,
           612,
           255,
           622,
           455,
           660,
           332,
           503,
           626,
           1479,
           717,
           296,
           416,
           454,
           715,
           416,
           689,
           759,
           986,
           591,
           603,
           650,
           660,
           350,
           414,
           503,
           503,
           562,
           600,
           717,
           471,
           630,
           394,
           573,
           414,
           730,
           986,
           444,
           562,
           405,
           469,
           455,
           460,
           372,
           503,
           416,
           237,
           296,
           1600,
           1578,
           414,
           650,
           503,
           505,
           717,
           471,
           591,
           503,
           503,
           660,
           620,
           630,
           730,
           715,
           394,
           385,
           369,
           490,
           730,
           611,
           591,
           612,
           405,
           469,
           455,
           480,
           350,
           325,
           641,
           591,
           562,
           503,
           382,
           650,
           573,
           503,
           542,
           1479,
           710,
           730,
           612,
           577,
           591,
           473,
           650,
           797,
           660,
           380,
           471,
           332,
           563,
           402,
           630,
           416,
           573,
           455,
           797,
           380,
           471,
           473,
           660,
           454,
           592,
           622,
           332,
           591,
           542,
           300,
           503,
           237,
           444,
           405,
           717,
           710,
           296,
           759,
           471,
           416,
           454,
           612,
           469,
           350,
           325,
           310,
           300,
           729,
           986,
           444,
           562,
           405,
           429,
           455,
           660,
           332,
           505,
           630,
           626,
           485,
           575,
           471,
           416,
           454,
           414,
           503,
           717,
           591,
           455,
           460,
           575,
           471,
           562,
           469,
           350,
           473,
           394,
           473,
           710,
           770,
           612,
           630,
           715,
           416,
           562,
           759,
           660,
           591,
           473,
           503,
           650,
           717,
           505,
           986,
           671,
           641,
           480,
           379,
           630,
           661,
           562,
           710,
           617,
           523,
           490,
           760,
           600,
           717,
           503,
           1500,
           1280,
           764,
           621,
           300,
           730,
           986,
           444,
           612,
           405,
           622,
           455,
           310,
           332,
           503,
           1479,
           1280,
           789,
           764
          ],
          "sizemode": "area",
          "sizeref": 4,
          "symbol": "circle"
         },
         "mode": "markers",
         "name": "",
         "orientation": "h",
         "showlegend": false,
         "type": "scatter",
         "x": [
          4,
          2.8,
          3,
          3.2,
          2.7,
          3.1,
          3.8,
          2.8,
          3.5,
          2.5,
          3.5,
          2.4,
          3.5,
          5.4,
          2.5,
          4.4,
          3.8,
          4.8,
          4.7,
          3.8,
          2.8,
          3.6,
          3,
          3.5,
          2.8,
          4.1,
          3.8,
          2.8,
          2.5,
          3.5,
          3,
          3.8,
          3.2,
          3.5,
          3,
          4.5,
          3.5,
          3.3,
          3.9,
          3.1,
          3.4,
          5.1,
          2.8,
          2.5,
          3.9,
          2.8,
          3.8,
          3.8,
          4.1,
          4.3,
          4.8,
          3.5,
          3.8,
          5.1,
          3.2,
          3.4,
          4.4,
          2.8,
          3.2,
          3.5,
          3.6,
          4,
          4,
          3.4,
          3,
          5.4,
          2.9,
          4.7,
          3,
          3.8,
          5,
          5.3,
          3.6,
          4.1,
          2.8,
          2.8,
          4.3,
          3.6,
          4.5,
          2.9,
          3.5,
          3.3,
          2.4,
          3.4,
          4.9,
          2.5,
          4.4,
          3.8,
          4.7,
          6.5,
          3.1,
          3.7,
          2.8,
          4.2,
          4.4,
          3.9,
          2.7,
          4.7,
          2.9,
          2.5,
          3.4,
          3.1,
          3.8,
          3.5,
          3.5,
          2.8,
          4.7,
          3.4,
          2.4,
          3.8,
          3.2,
          3.2,
          3.6,
          3.3,
          3.5,
          4.2,
          4.2,
          2.9,
          3.2,
          3.6,
          3.5,
          3.7,
          3.1,
          4,
          3.5,
          3.5,
          3.5,
          2.9,
          3.6,
          3.8,
          3.6,
          4.4,
          4.5,
          2.8,
          2.9,
          3.6,
          3.1,
          3.9,
          3.7,
          4.1,
          4,
          4.9,
          5.4,
          3.5,
          3.3,
          3.6,
          3.2,
          3.8,
          3.8,
          3.5,
          2.7,
          3.7,
          3.4,
          2.4,
          3.3,
          4.9,
          2.5,
          4.4,
          3.8,
          4.8,
          3.1,
          3,
          4.2,
          4.3,
          3.9,
          3.8,
          2.8,
          4.5,
          2.8,
          2.5,
          3.5,
          3.1,
          3.8,
          3.6,
          4,
          2.8,
          5,
          3.6,
          2.9,
          3.5,
          3.1,
          3.2,
          3.9,
          3.5,
          5.1,
          2.9,
          3.4,
          3.5,
          2.8,
          3.7,
          4.1,
          3.5,
          3.5,
          2.9,
          4.9,
          5.3,
          3.5,
          2.3,
          2.9,
          3.5,
          3.1,
          3.5,
          3.5,
          2.9,
          2.9,
          2.5,
          3.5,
          2.9,
          4,
          3.4,
          3.5,
          3.5,
          2.9,
          3.2,
          2.9,
          3.5,
          3.1,
          4.1,
          3.5,
          2.9,
          3.5,
          3.5,
          3.5,
          2.7,
          3.7,
          4.2,
          4.1,
          3.7,
          4,
          3.5,
          3.6,
          2.8,
          4.4,
          4.8,
          4.6,
          4.4,
          4.6,
          4.2,
          2.9,
          3.3,
          3.5,
          2.8,
          4,
          3.8,
          4.1,
          4,
          4.6,
          3.1,
          3.2,
          2.5,
          3.4,
          3.1,
          3.5,
          3.2,
          3.5,
          4.4,
          4.2,
          4,
          3.7,
          3.5,
          3.8,
          3.1,
          3.5,
          2.4,
          2.5,
          2.5,
          2.8,
          2.5,
          2.9,
          3.5,
          3.9,
          3.5,
          5.4,
          4.7,
          3.8,
          4.8,
          4.2,
          3.8,
          3.5,
          3.2,
          3.5,
          3,
          2.8,
          3,
          3.6,
          4.8,
          3.2,
          3.4,
          2.3,
          3.1,
          2.9,
          2.8,
          3.5,
          4,
          3.2,
          3.5,
          3,
          3.5,
          3.8,
          4.8,
          2.8,
          5,
          3,
          2.9,
          4,
          3.4,
          3.8,
          2.7,
          3.8,
          3.3,
          4.9,
          2.5,
          4.4,
          4.8,
          3.1,
          3.7,
          4.9,
          4.3,
          4,
          3,
          2.7,
          3.7,
          3.9,
          2.4,
          3.5,
          3.5,
          2.5,
          4.4,
          3.8,
          4.7,
          3.1,
          3.8,
          2.7,
          4.2,
          4.4,
          2.7,
          3.5,
          3.6,
          3.5,
          3.5,
          4.4,
          3.8,
          4.8,
          4.2,
          4.4,
          3.5,
          4.1,
          3.5,
          3.3,
          3.5,
          5.4,
          2.8,
          2.8,
          3.5,
          3.6,
          2.4,
          3.5,
          3.5,
          2.5,
          4.4,
          3.8,
          4.8,
          3,
          3.7,
          2.8,
          4.2,
          4.4,
          3.9,
          2.7,
          3.5,
          3.9,
          3.5,
          4.8,
          4.4,
          3.8,
          4.7,
          2.9,
          4.2,
          3.5,
          4,
          3.5,
          3.3,
          2.9,
          3.8,
          2.9,
          3.5,
          3.8,
          3.5,
          3.9,
          4.1,
          3.6,
          2.9,
          2.8,
          3.5,
          2.1,
          4.4,
          3.2,
          3.2,
          4.2,
          2.8,
          3.3,
          3.6,
          2.8,
          4.1,
          3.8,
          4,
          4,
          5.2,
          3.5,
          2.4,
          2.5,
          2.6,
          2.5,
          2.8,
          4.9,
          2.8,
          3.5,
          3.7,
          3.1,
          4.3,
          4.6,
          4.3,
          4.3,
          4.6,
          3.6,
          3.3,
          4.9,
          3.6,
          2.9,
          3.6,
          2.9,
          4,
          4.9,
          2.9,
          2.5,
          3.7,
          3.2,
          4,
          3.6,
          3.5,
          3,
          5.2,
          3.6,
          3.2,
          3.8,
          3.5,
          3.8,
          4.7,
          2.9,
          3.2,
          3.5,
          3.8,
          4.1,
          4.9,
          4.7,
          4.2,
          3.7,
          4,
          3.5,
          3.5,
          2.8,
          4.4,
          3.1,
          3.7,
          4.9,
          4.9,
          2.9,
          2.9,
          3.6,
          3.8,
          2.7,
          3.4,
          3.3,
          2.3,
          3.5,
          3.5,
          2.5,
          4.4,
          3.8,
          4.7,
          3,
          2.6,
          4.2,
          4.4,
          3.9,
          3.9,
          2.3,
          2.7,
          2.9,
          3.2,
          3.6,
          2.3,
          3.5,
          4.9,
          4.4,
          4.8,
          3,
          3.1,
          3.5,
          3,
          3.4,
          3.5,
          3.5,
          3.8,
          4.1,
          5.2,
          2.7,
          2.5,
          2.3,
          2.7,
          3.5,
          4.4,
          3.5,
          3.5,
          3,
          3.8,
          4.2,
          2.8,
          3.6,
          3.8,
          2.9,
          2.9,
          2.5,
          3.1,
          3.1,
          3.2,
          3.7,
          3.5,
          3.5,
          3,
          5,
          4.2,
          3.6,
          2.6,
          3.2,
          3.1,
          3.5,
          2.5,
          3.4,
          3.8,
          4.2,
          2.7,
          4.4,
          3.8,
          3.5,
          3.3,
          3.2,
          3.5,
          3.5,
          3,
          3.5,
          2.9,
          3.1,
          3.6,
          4.7,
          4.9,
          4.9,
          2.9,
          3.3,
          3.5,
          3.1,
          4.2,
          4.9,
          4,
          3,
          5,
          3.4,
          3.8,
          4.7,
          5.2,
          3.6,
          2.5,
          3.5,
          3,
          2.9,
          2.5,
          3.5,
          3.1,
          4,
          3.5,
          4,
          3,
          5,
          3.2,
          4.4,
          3.3,
          4.7,
          4.3,
          2.3,
          2.7,
          2.7,
          3.7,
          3.5,
          3.6,
          2.5,
          3.5,
          3.5,
          2.8,
          2.8,
          2.8,
          3.1,
          4,
          4.2,
          4.4,
          3.9,
          4.9,
          4.9,
          2.9,
          2.5,
          3.5,
          3,
          4.1,
          3.6,
          3.5,
          3,
          4.8,
          3.6,
          3.2,
          3.8,
          3.6,
          3.6,
          3.2,
          2.9,
          3.5,
          4,
          4.9,
          2.8,
          3.3,
          3.5,
          2.7,
          4.1,
          3.5,
          4,
          2.8,
          5,
          5.4,
          3.2,
          2.5,
          3.5,
          3,
          4,
          3.3,
          3.5,
          3.2,
          2.4,
          2.5,
          3,
          2.7,
          2.2,
          2.5,
          2.8,
          3.5,
          3.5,
          3.5,
          3.5,
          2.9,
          4.4,
          3.1,
          3.9,
          3.9,
          5.4,
          3.8,
          4.7,
          4.9,
          4.2,
          4,
          6.4,
          2.9,
          3.5,
          4.1,
          2.9,
          3.8,
          5.3,
          4.9,
          4.2,
          2.9,
          2.9,
          2.5,
          3.5,
          3.1,
          3.2,
          2.9,
          3.5,
          2.8,
          5,
          3.1,
          3.2,
          3.4,
          3.6,
          3.1,
          4.9,
          2.8,
          3.3,
          3.6,
          3.1,
          4.1,
          3.5,
          4,
          2.9,
          4.8,
          2.6,
          2.8,
          3.6,
          3.1,
          3.1,
          3.5,
          3.5,
          2.9,
          4.4,
          2.8,
          2.5,
          3.5,
          2.8,
          3.8,
          3.5,
          3.5,
          3,
          5,
          3,
          3.5,
          3.4,
          3.6,
          3,
          3.8,
          3.5,
          4,
          4.9,
          2.8,
          2.5,
          3.5,
          3.1,
          5.2,
          3.6,
          4,
          2.9,
          5,
          3.6,
          3.3,
          2.4,
          3.5,
          5.4,
          3.8,
          4.7,
          3.2,
          3.8,
          3,
          2.8,
          2.5,
          3.5,
          3.4,
          3.5,
          2.8,
          4.7,
          4.2,
          3.7,
          3.5,
          3.1,
          3.2,
          3.5,
          4.4,
          3.1,
          3.6,
          2.9,
          4.2,
          2.9,
          2.5,
          3.5,
          3.1,
          4.2,
          3.9,
          4,
          4.5,
          5.1,
          3.6,
          3.8,
          4.1,
          5.4,
          2.5,
          2.4,
          4.2,
          3.5,
          3.5,
          3.8,
          3.5,
          4.4,
          3.5,
          3.8,
          3.9,
          2.9,
          3.1,
          2.9,
          2.9,
          3.2,
          3.6,
          4.5,
          4.2,
          2.9,
          2.9,
          3.3,
          3.5,
          3.1,
          4.2,
          3.9,
          4.1,
          4.1,
          4.8,
          5.3,
          3.6,
          3.5,
          3.1,
          3.8,
          4,
          3.5,
          2.7,
          3.5,
          3.3,
          2.4,
          2.8,
          2.9,
          3.1,
          3.5,
          3.5,
          4.1,
          3.5,
          3.5,
          2.8,
          4.4,
          4.4,
          5,
          4.6,
          5.1,
          3.7,
          3.8,
          2.7,
          4,
          3.3,
          4.9,
          4.4,
          4.1,
          2.9,
          4.7,
          2.8,
          3.6,
          5.2,
          3.4,
          3.9,
          4.5,
          3.5,
          4.1,
          3.5,
          4,
          3.5,
          2.9,
          5.4,
          2.9,
          4.4,
          3.8,
          4.7,
          3.1,
          3.8,
          4.5,
          5.3,
          5.2,
          4.9,
          2.9,
          2.5,
          3.5,
          3.1,
          4,
          4.4,
          4,
          2.8,
          5.3,
          3.8,
          3.7,
          3.3,
          3.8,
          3.5,
          4.4,
          3.8,
          4.7,
          4.2,
          3.5,
          3.5,
          3.5,
          4.1,
          4,
          3.5,
          4.4,
          3.1,
          3.8,
          4.9,
          3.9,
          3.6,
          3.8,
          2.8,
          2.9,
          3.1,
          3.1,
          3.4,
          3.8,
          3.1,
          2.8,
          3,
          3.5,
          4.1,
          3.7,
          3.5,
          3.6,
          3.8,
          2.5,
          3,
          3.6,
          4,
          4,
          2.8,
          3,
          3.2,
          2.7,
          3.1,
          3.8,
          2.8,
          3.5,
          2.5,
          3.5,
          3.6,
          2.5,
          2.5,
          2.8,
          2.9,
          5.1,
          2.9,
          2.5,
          3.5,
          3.1,
          4,
          3.6,
          4,
          5.3,
          5.1,
          3.6,
          2.4,
          2.5,
          2.7,
          3
         ],
         "xaxis": "x",
         "y": [
          "331",
          "443",
          "561",
          "406",
          "568",
          "553",
          "494",
          "465",
          "625",
          "481",
          "516",
          "1180",
          "656",
          "295",
          "1015",
          "398",
          "317",
          "384",
          "280",
          "443",
          "243",
          "664",
          "531",
          "468",
          "737",
          "738",
          "309",
          "531",
          "590",
          "590",
          "531",
          "479",
          "468",
          "650",
          "550",
          "276",
          "626",
          "561",
          "369",
          "465",
          "627",
          "280",
          "531",
          "590",
          "369",
          "443",
          "479",
          "516",
          "455",
          "420",
          "276",
          "505",
          "317",
          "331",
          "627",
          "560",
          "369",
          "457",
          "553",
          "505",
          "443",
          "406",
          "455",
          "707",
          "550",
          "295",
          "531",
          "384",
          "531",
          "516",
          "270",
          "331",
          "354",
          "406",
          "465",
          "568",
          "420",
          "627",
          "280",
          "476",
          "505",
          "664",
          "1180",
          "707",
          "339",
          "1106",
          "398",
          "317",
          "384",
          "151",
          "465",
          "468",
          "738",
          "309",
          "605",
          "368",
          "723",
          "280",
          "531",
          "590",
          "354",
          "465",
          "479",
          "664",
          "650",
          "550",
          "270",
          "664",
          "1180",
          "317",
          "443",
          "642",
          "627",
          "561",
          "590",
          "406",
          "309",
          "509",
          "664",
          "664",
          "590",
          "468",
          "443",
          "406",
          "650",
          "656",
          "560",
          "604",
          "627",
          "479",
          "505",
          "369",
          "309",
          "507",
          "568",
          "354",
          "443",
          "369",
          "468",
          "455",
          "420",
          "276",
          "331",
          "627",
          "561",
          "369",
          "465",
          "406",
          "516",
          "650",
          "476",
          "513",
          "664",
          "1180",
          "600",
          "339",
          "1106",
          "398",
          "317",
          "384",
          "443",
          "738",
          "309",
          "605",
          "368",
          "479",
          "708",
          "280",
          "531",
          "590",
          "590",
          "465",
          "406",
          "468",
          "455",
          "550",
          "276",
          "627",
          "568",
          "354",
          "443",
          "553",
          "479",
          "650",
          "254",
          "509",
          "663",
          "590",
          "457",
          "516",
          "406",
          "650",
          "707",
          "550",
          "270",
          "332",
          "626",
          "1180",
          "568",
          "590",
          "443",
          "505",
          "516",
          "604",
          "509",
          "590",
          "590",
          "457",
          "406",
          "664",
          "650",
          "656",
          "550",
          "627",
          "530",
          "406",
          "465",
          "406",
          "516",
          "470",
          "516",
          "664",
          "516",
          "476",
          "317",
          "309",
          "258",
          "443",
          "406",
          "650",
          "650",
          "550",
          "398",
          "384",
          "276",
          "605",
          "290",
          "309",
          "507",
          "413",
          "590",
          "457",
          "406",
          "494",
          "455",
          "420",
          "276",
          "604",
          "627",
          "590",
          "354",
          "465",
          "656",
          "663",
          "516",
          "398",
          "309",
          "406",
          "443",
          "650",
          "317",
          "465",
          "468",
          "1180",
          "1015",
          "590",
          "531",
          "774",
          "476",
          "505",
          "568",
          "656",
          "295",
          "376",
          "317",
          "384",
          "309",
          "443",
          "590",
          "553",
          "650",
          "550",
          "531",
          "531",
          "516",
          "276",
          "664",
          "568",
          "1180",
          "443",
          "509",
          "568",
          "590",
          "406",
          "468",
          "650",
          "550",
          "516",
          "317",
          "384",
          "590",
          "270",
          "738",
          "604",
          "513",
          "707",
          "317",
          "476",
          "443",
          "664",
          "339",
          "1015",
          "398",
          "384",
          "465",
          "516",
          "280",
          "605",
          "455",
          "550",
          "476",
          "516",
          "568",
          "1180",
          "656",
          "516",
          "1106",
          "398",
          "317",
          "384",
          "443",
          "516",
          "774",
          "309",
          "605",
          "476",
          "505",
          "664",
          "707",
          "516",
          "398",
          "317",
          "384",
          "309",
          "236",
          "590",
          "406",
          "650",
          "600",
          "560",
          "295",
          "531",
          "457",
          "516",
          "664",
          "1180",
          "656",
          "516",
          "1015",
          "398",
          "317",
          "384",
          "531",
          "516",
          "738",
          "309",
          "642",
          "368",
          "476",
          "505",
          "568",
          "656",
          "339",
          "398",
          "317",
          "384",
          "443",
          "309",
          "443",
          "406",
          "650",
          "600",
          "550",
          "472",
          "509",
          "516",
          "443",
          "590",
          "479",
          "455",
          "650",
          "568",
          "550",
          "516",
          "1106",
          "398",
          "465",
          "590",
          "309",
          "531",
          "560",
          "354",
          "457",
          "406",
          "516",
          "455",
          "420",
          "276",
          "505",
          "1180",
          "1106",
          "738",
          "848",
          "531",
          "280",
          "531",
          "413",
          "443",
          "465",
          "369",
          "384",
          "455",
          "420",
          "276",
          "505",
          "664",
          "280",
          "627",
          "568",
          "354",
          "443",
          "406",
          "280",
          "509",
          "590",
          "443",
          "465",
          "406",
          "468",
          "650",
          "550",
          "276",
          "656",
          "663",
          "443",
          "516",
          "317",
          "384",
          "604",
          "627",
          "505",
          "317",
          "258",
          "339",
          "384",
          "309",
          "443",
          "406",
          "650",
          "656",
          "550",
          "398",
          "443",
          "516",
          "276",
          "280",
          "507",
          "568",
          "354",
          "406",
          "476",
          "664",
          "664",
          "1180",
          "656",
          "516",
          "1106",
          "398",
          "317",
          "384",
          "531",
          "738",
          "309",
          "605",
          "368",
          "420",
          "1300",
          "723",
          "476",
          "663",
          "664",
          "1180",
          "656",
          "339",
          "398",
          "384",
          "531",
          "590",
          "650",
          "550",
          "664",
          "516",
          "707",
          "317",
          "258",
          "290",
          "476",
          "1015",
          "1180",
          "590",
          "468",
          "398",
          "650",
          "590",
          "550",
          "406",
          "309",
          "531",
          "505",
          "317",
          "604",
          "507",
          "590",
          "590",
          "443",
          "553",
          "516",
          "650",
          "656",
          "550",
          "276",
          "309",
          "354",
          "650",
          "626",
          "664",
          "560",
          "1180",
          "664",
          "317",
          "309",
          "476",
          "398",
          "443",
          "590",
          "664",
          "553",
          "650",
          "656",
          "550",
          "516",
          "509",
          "443",
          "479",
          "276",
          "280",
          "280",
          "531",
          "561",
          "442",
          "443",
          "406",
          "384",
          "455",
          "550",
          "276",
          "664",
          "317",
          "384",
          "331",
          "627",
          "590",
          "590",
          "531",
          "509",
          "590",
          "590",
          "443",
          "406",
          "468",
          "455",
          "550",
          "276",
          "664",
          "398",
          "664",
          "384",
          "605",
          "1180",
          "590",
          "476",
          "498",
          "590",
          "664",
          "1180",
          "650",
          "656",
          "530",
          "531",
          "457",
          "590",
          "350",
          "309",
          "605",
          "368",
          "280",
          "280",
          "509",
          "590",
          "590",
          "531",
          "406",
          "479",
          "650",
          "550",
          "276",
          "650",
          "663",
          "443",
          "354",
          "664",
          "553",
          "470",
          "656",
          "420",
          "280",
          "531",
          "560",
          "590",
          "443",
          "406",
          "468",
          "455",
          "550",
          "276",
          "331",
          "627",
          "590",
          "590",
          "531",
          "406",
          "590",
          "650",
          "663",
          "1180",
          "1106",
          "737",
          "590",
          "944",
          "590",
          "531",
          "590",
          "664",
          "650",
          "656",
          "550",
          "398",
          "590",
          "513",
          "568",
          "295",
          "317",
          "384",
          "280",
          "258",
          "455",
          "268",
          "550",
          "590",
          "406",
          "507",
          "479",
          "276",
          "280",
          "184",
          "470",
          "507",
          "590",
          "590",
          "465",
          "553",
          "590",
          "650",
          "550",
          "276",
          "604",
          "627",
          "561",
          "354",
          "443",
          "280",
          "531",
          "561",
          "354",
          "465",
          "406",
          "468",
          "455",
          "550",
          "276",
          "590",
          "590",
          "627",
          "590",
          "553",
          "590",
          "505",
          "568",
          "398",
          "531",
          "590",
          "590",
          "457",
          "406",
          "516",
          "650",
          "550",
          "276",
          "642",
          "627",
          "561",
          "354",
          "531",
          "406",
          "468",
          "455",
          "280",
          "531",
          "590",
          "354",
          "465",
          "295",
          "468",
          "455",
          "550",
          "270",
          "505",
          "664",
          "1180",
          "656",
          "295",
          "317",
          "384",
          "664",
          "317",
          "642",
          "531",
          "590",
          "590",
          "664",
          "650",
          "550",
          "276",
          "309",
          "516",
          "505",
          "443",
          "553",
          "656",
          "398",
          "664",
          "354",
          "476",
          "309",
          "509",
          "590",
          "443",
          "443",
          "406",
          "479",
          "455",
          "420",
          "400",
          "505",
          "317",
          "258",
          "295",
          "1106",
          "1180",
          "309",
          "650",
          "505",
          "443",
          "656",
          "398",
          "590",
          "479",
          "516",
          "550",
          "465",
          "604",
          "507",
          "664",
          "354",
          "384",
          "184",
          "465",
          "509",
          "560",
          "590",
          "465",
          "406",
          "479",
          "455",
          "420",
          "276",
          "331",
          "627",
          "590",
          "443",
          "479",
          "354",
          "650",
          "476",
          "505",
          "568",
          "1180",
          "568",
          "509",
          "465",
          "516",
          "590",
          "406",
          "650",
          "707",
          "550",
          "339",
          "398",
          "270",
          "627",
          "254",
          "516",
          "317",
          "476",
          "455",
          "707",
          "339",
          "398",
          "406",
          "550",
          "384",
          "457",
          "468",
          "270",
          "590",
          "568",
          "280",
          "505",
          "258",
          "443",
          "406",
          "656",
          "568",
          "295",
          "531",
          "398",
          "317",
          "384",
          "465",
          "479",
          "276",
          "331",
          "290",
          "280",
          "509",
          "590",
          "443",
          "443",
          "406",
          "384",
          "455",
          "550",
          "270",
          "443",
          "516",
          "664",
          "475",
          "516",
          "398",
          "317",
          "384",
          "309",
          "505",
          "650",
          "590",
          "455",
          "420",
          "516",
          "398",
          "443",
          "479",
          "276",
          "457",
          "354",
          "406",
          "568",
          "531",
          "465",
          "664",
          "663",
          "317",
          "443",
          "531",
          "550",
          "590",
          "406",
          "516",
          "650",
          "650",
          "443",
          "590",
          "531",
          "627",
          "420",
          "331",
          "443",
          "561",
          "406",
          "568",
          "553",
          "494",
          "465",
          "625",
          "481",
          "656",
          "505",
          "1180",
          "1015",
          "740",
          "538",
          "280",
          "509",
          "590",
          "443",
          "465",
          "406",
          "468",
          "455",
          "350",
          "270",
          "505",
          "1180",
          "1106",
          "590",
          "738"
         ],
         "yaxis": "y"
        }
       ],
       "layout": {
        "legend": {
         "itemsizing": "constant",
         "tracegroupgap": 0
        },
        "template": {
         "data": {
          "bar": [
           {
            "error_x": {
             "color": "#2a3f5f"
            },
            "error_y": {
             "color": "#2a3f5f"
            },
            "marker": {
             "line": {
              "color": "#E5ECF6",
              "width": 0.5
             },
             "pattern": {
              "fillmode": "overlay",
              "size": 10,
              "solidity": 0.2
             }
            },
            "type": "bar"
           }
          ],
          "barpolar": [
           {
            "marker": {
             "line": {
              "color": "#E5ECF6",
              "width": 0.5
             },
             "pattern": {
              "fillmode": "overlay",
              "size": 10,
              "solidity": 0.2
             }
            },
            "type": "barpolar"
           }
          ],
          "carpet": [
           {
            "aaxis": {
             "endlinecolor": "#2a3f5f",
             "gridcolor": "white",
             "linecolor": "white",
             "minorgridcolor": "white",
             "startlinecolor": "#2a3f5f"
            },
            "baxis": {
             "endlinecolor": "#2a3f5f",
             "gridcolor": "white",
             "linecolor": "white",
             "minorgridcolor": "white",
             "startlinecolor": "#2a3f5f"
            },
            "type": "carpet"
           }
          ],
          "choropleth": [
           {
            "colorbar": {
             "outlinewidth": 0,
             "ticks": ""
            },
            "type": "choropleth"
           }
          ],
          "contour": [
           {
            "colorbar": {
             "outlinewidth": 0,
             "ticks": ""
            },
            "colorscale": [
             [
              0,
              "#0d0887"
             ],
             [
              0.1111111111111111,
              "#46039f"
             ],
             [
              0.2222222222222222,
              "#7201a8"
             ],
             [
              0.3333333333333333,
              "#9c179e"
             ],
             [
              0.4444444444444444,
              "#bd3786"
             ],
             [
              0.5555555555555556,
              "#d8576b"
             ],
             [
              0.6666666666666666,
              "#ed7953"
             ],
             [
              0.7777777777777778,
              "#fb9f3a"
             ],
             [
              0.8888888888888888,
              "#fdca26"
             ],
             [
              1,
              "#f0f921"
             ]
            ],
            "type": "contour"
           }
          ],
          "contourcarpet": [
           {
            "colorbar": {
             "outlinewidth": 0,
             "ticks": ""
            },
            "type": "contourcarpet"
           }
          ],
          "heatmap": [
           {
            "colorbar": {
             "outlinewidth": 0,
             "ticks": ""
            },
            "colorscale": [
             [
              0,
              "#0d0887"
             ],
             [
              0.1111111111111111,
              "#46039f"
             ],
             [
              0.2222222222222222,
              "#7201a8"
             ],
             [
              0.3333333333333333,
              "#9c179e"
             ],
             [
              0.4444444444444444,
              "#bd3786"
             ],
             [
              0.5555555555555556,
              "#d8576b"
             ],
             [
              0.6666666666666666,
              "#ed7953"
             ],
             [
              0.7777777777777778,
              "#fb9f3a"
             ],
             [
              0.8888888888888888,
              "#fdca26"
             ],
             [
              1,
              "#f0f921"
             ]
            ],
            "type": "heatmap"
           }
          ],
          "heatmapgl": [
           {
            "colorbar": {
             "outlinewidth": 0,
             "ticks": ""
            },
            "colorscale": [
             [
              0,
              "#0d0887"
             ],
             [
              0.1111111111111111,
              "#46039f"
             ],
             [
              0.2222222222222222,
              "#7201a8"
             ],
             [
              0.3333333333333333,
              "#9c179e"
             ],
             [
              0.4444444444444444,
              "#bd3786"
             ],
             [
              0.5555555555555556,
              "#d8576b"
             ],
             [
              0.6666666666666666,
              "#ed7953"
             ],
             [
              0.7777777777777778,
              "#fb9f3a"
             ],
             [
              0.8888888888888888,
              "#fdca26"
             ],
             [
              1,
              "#f0f921"
             ]
            ],
            "type": "heatmapgl"
           }
          ],
          "histogram": [
           {
            "marker": {
             "pattern": {
              "fillmode": "overlay",
              "size": 10,
              "solidity": 0.2
             }
            },
            "type": "histogram"
           }
          ],
          "histogram2d": [
           {
            "colorbar": {
             "outlinewidth": 0,
             "ticks": ""
            },
            "colorscale": [
             [
              0,
              "#0d0887"
             ],
             [
              0.1111111111111111,
              "#46039f"
             ],
             [
              0.2222222222222222,
              "#7201a8"
             ],
             [
              0.3333333333333333,
              "#9c179e"
             ],
             [
              0.4444444444444444,
              "#bd3786"
             ],
             [
              0.5555555555555556,
              "#d8576b"
             ],
             [
              0.6666666666666666,
              "#ed7953"
             ],
             [
              0.7777777777777778,
              "#fb9f3a"
             ],
             [
              0.8888888888888888,
              "#fdca26"
             ],
             [
              1,
              "#f0f921"
             ]
            ],
            "type": "histogram2d"
           }
          ],
          "histogram2dcontour": [
           {
            "colorbar": {
             "outlinewidth": 0,
             "ticks": ""
            },
            "colorscale": [
             [
              0,
              "#0d0887"
             ],
             [
              0.1111111111111111,
              "#46039f"
             ],
             [
              0.2222222222222222,
              "#7201a8"
             ],
             [
              0.3333333333333333,
              "#9c179e"
             ],
             [
              0.4444444444444444,
              "#bd3786"
             ],
             [
              0.5555555555555556,
              "#d8576b"
             ],
             [
              0.6666666666666666,
              "#ed7953"
             ],
             [
              0.7777777777777778,
              "#fb9f3a"
             ],
             [
              0.8888888888888888,
              "#fdca26"
             ],
             [
              1,
              "#f0f921"
             ]
            ],
            "type": "histogram2dcontour"
           }
          ],
          "mesh3d": [
           {
            "colorbar": {
             "outlinewidth": 0,
             "ticks": ""
            },
            "type": "mesh3d"
           }
          ],
          "parcoords": [
           {
            "line": {
             "colorbar": {
              "outlinewidth": 0,
              "ticks": ""
             }
            },
            "type": "parcoords"
           }
          ],
          "pie": [
           {
            "automargin": true,
            "type": "pie"
           }
          ],
          "scatter": [
           {
            "fillpattern": {
             "fillmode": "overlay",
             "size": 10,
             "solidity": 0.2
            },
            "type": "scatter"
           }
          ],
          "scatter3d": [
           {
            "line": {
             "colorbar": {
              "outlinewidth": 0,
              "ticks": ""
             }
            },
            "marker": {
             "colorbar": {
              "outlinewidth": 0,
              "ticks": ""
             }
            },
            "type": "scatter3d"
           }
          ],
          "scattercarpet": [
           {
            "marker": {
             "colorbar": {
              "outlinewidth": 0,
              "ticks": ""
             }
            },
            "type": "scattercarpet"
           }
          ],
          "scattergeo": [
           {
            "marker": {
             "colorbar": {
              "outlinewidth": 0,
              "ticks": ""
             }
            },
            "type": "scattergeo"
           }
          ],
          "scattergl": [
           {
            "marker": {
             "colorbar": {
              "outlinewidth": 0,
              "ticks": ""
             }
            },
            "type": "scattergl"
           }
          ],
          "scattermapbox": [
           {
            "marker": {
             "colorbar": {
              "outlinewidth": 0,
              "ticks": ""
             }
            },
            "type": "scattermapbox"
           }
          ],
          "scatterpolar": [
           {
            "marker": {
             "colorbar": {
              "outlinewidth": 0,
              "ticks": ""
             }
            },
            "type": "scatterpolar"
           }
          ],
          "scatterpolargl": [
           {
            "marker": {
             "colorbar": {
              "outlinewidth": 0,
              "ticks": ""
             }
            },
            "type": "scatterpolargl"
           }
          ],
          "scatterternary": [
           {
            "marker": {
             "colorbar": {
              "outlinewidth": 0,
              "ticks": ""
             }
            },
            "type": "scatterternary"
           }
          ],
          "surface": [
           {
            "colorbar": {
             "outlinewidth": 0,
             "ticks": ""
            },
            "colorscale": [
             [
              0,
              "#0d0887"
             ],
             [
              0.1111111111111111,
              "#46039f"
             ],
             [
              0.2222222222222222,
              "#7201a8"
             ],
             [
              0.3333333333333333,
              "#9c179e"
             ],
             [
              0.4444444444444444,
              "#bd3786"
             ],
             [
              0.5555555555555556,
              "#d8576b"
             ],
             [
              0.6666666666666666,
              "#ed7953"
             ],
             [
              0.7777777777777778,
              "#fb9f3a"
             ],
             [
              0.8888888888888888,
              "#fdca26"
             ],
             [
              1,
              "#f0f921"
             ]
            ],
            "type": "surface"
           }
          ],
          "table": [
           {
            "cells": {
             "fill": {
              "color": "#EBF0F8"
             },
             "line": {
              "color": "white"
             }
            },
            "header": {
             "fill": {
              "color": "#C8D4E3"
             },
             "line": {
              "color": "white"
             }
            },
            "type": "table"
           }
          ]
         },
         "layout": {
          "annotationdefaults": {
           "arrowcolor": "#2a3f5f",
           "arrowhead": 0,
           "arrowwidth": 1
          },
          "autotypenumbers": "strict",
          "coloraxis": {
           "colorbar": {
            "outlinewidth": 0,
            "ticks": ""
           }
          },
          "colorscale": {
           "diverging": [
            [
             0,
             "#8e0152"
            ],
            [
             0.1,
             "#c51b7d"
            ],
            [
             0.2,
             "#de77ae"
            ],
            [
             0.3,
             "#f1b6da"
            ],
            [
             0.4,
             "#fde0ef"
            ],
            [
             0.5,
             "#f7f7f7"
            ],
            [
             0.6,
             "#e6f5d0"
            ],
            [
             0.7,
             "#b8e186"
            ],
            [
             0.8,
             "#7fbc41"
            ],
            [
             0.9,
             "#4d9221"
            ],
            [
             1,
             "#276419"
            ]
           ],
           "sequential": [
            [
             0,
             "#0d0887"
            ],
            [
             0.1111111111111111,
             "#46039f"
            ],
            [
             0.2222222222222222,
             "#7201a8"
            ],
            [
             0.3333333333333333,
             "#9c179e"
            ],
            [
             0.4444444444444444,
             "#bd3786"
            ],
            [
             0.5555555555555556,
             "#d8576b"
            ],
            [
             0.6666666666666666,
             "#ed7953"
            ],
            [
             0.7777777777777778,
             "#fb9f3a"
            ],
            [
             0.8888888888888888,
             "#fdca26"
            ],
            [
             1,
             "#f0f921"
            ]
           ],
           "sequentialminus": [
            [
             0,
             "#0d0887"
            ],
            [
             0.1111111111111111,
             "#46039f"
            ],
            [
             0.2222222222222222,
             "#7201a8"
            ],
            [
             0.3333333333333333,
             "#9c179e"
            ],
            [
             0.4444444444444444,
             "#bd3786"
            ],
            [
             0.5555555555555556,
             "#d8576b"
            ],
            [
             0.6666666666666666,
             "#ed7953"
            ],
            [
             0.7777777777777778,
             "#fb9f3a"
            ],
            [
             0.8888888888888888,
             "#fdca26"
            ],
            [
             1,
             "#f0f921"
            ]
           ]
          },
          "colorway": [
           "#636efa",
           "#EF553B",
           "#00cc96",
           "#ab63fa",
           "#FFA15A",
           "#19d3f3",
           "#FF6692",
           "#B6E880",
           "#FF97FF",
           "#FECB52"
          ],
          "font": {
           "color": "#2a3f5f"
          },
          "geo": {
           "bgcolor": "white",
           "lakecolor": "white",
           "landcolor": "#E5ECF6",
           "showlakes": true,
           "showland": true,
           "subunitcolor": "white"
          },
          "hoverlabel": {
           "align": "left"
          },
          "hovermode": "closest",
          "mapbox": {
           "style": "light"
          },
          "paper_bgcolor": "white",
          "plot_bgcolor": "#E5ECF6",
          "polar": {
           "angularaxis": {
            "gridcolor": "white",
            "linecolor": "white",
            "ticks": ""
           },
           "bgcolor": "#E5ECF6",
           "radialaxis": {
            "gridcolor": "white",
            "linecolor": "white",
            "ticks": ""
           }
          },
          "scene": {
           "xaxis": {
            "backgroundcolor": "#E5ECF6",
            "gridcolor": "white",
            "gridwidth": 2,
            "linecolor": "white",
            "showbackground": true,
            "ticks": "",
            "zerolinecolor": "white"
           },
           "yaxis": {
            "backgroundcolor": "#E5ECF6",
            "gridcolor": "white",
            "gridwidth": 2,
            "linecolor": "white",
            "showbackground": true,
            "ticks": "",
            "zerolinecolor": "white"
           },
           "zaxis": {
            "backgroundcolor": "#E5ECF6",
            "gridcolor": "white",
            "gridwidth": 2,
            "linecolor": "white",
            "showbackground": true,
            "ticks": "",
            "zerolinecolor": "white"
           }
          },
          "shapedefaults": {
           "line": {
            "color": "#2a3f5f"
           }
          },
          "ternary": {
           "aaxis": {
            "gridcolor": "white",
            "linecolor": "white",
            "ticks": ""
           },
           "baxis": {
            "gridcolor": "white",
            "linecolor": "white",
            "ticks": ""
           },
           "bgcolor": "#E5ECF6",
           "caxis": {
            "gridcolor": "white",
            "linecolor": "white",
            "ticks": ""
           }
          },
          "title": {
           "x": 0.05
          },
          "xaxis": {
           "automargin": true,
           "gridcolor": "white",
           "linecolor": "white",
           "ticks": "",
           "title": {
            "standoff": 15
           },
           "zerolinecolor": "white",
           "zerolinewidth": 2
          },
          "yaxis": {
           "automargin": true,
           "gridcolor": "white",
           "linecolor": "white",
           "ticks": "",
           "title": {
            "standoff": 15
           },
           "zerolinecolor": "white",
           "zerolinewidth": 2
          }
         }
        },
        "title": {
         "text": "Зависимость разгона от  крутящего момента и мощности (размер точек)"
        },
        "xaxis": {
         "anchor": "y",
         "domain": [
          0,
          1
         ],
         "title": {
          "text": "Время разгона 0-60 (сек)"
         }
        },
        "yaxis": {
         "anchor": "x",
         "domain": [
          0,
          1
         ],
         "title": {
          "text": "Крутящий момент (lb-ft)"
         }
        }
       }
      }
     },
     "metadata": {},
     "output_type": "display_data"
    }
   ],
   "source": [
    "fig = px.scatter(data, 'acceleration_seconds', 'torque', size='power', title='Зависимость разгона от крутящего момента и мощности (размер точек)', hover_name='model', color_discrete_sequence=['rgb(0,127,255)'])\n",
    "fig.update_layout(\n",
    "    xaxis_title='Время разгона 0-60 (сек)',\n",
    "    yaxis_title='Крутящий момент (lb-ft)',\n",
    "    title='Зависимость разгона от  крутящего момента и мощности (размер точек)',\n",
    "\n",
    ")\n",
    "\n",
    "fig.show()"
   ]
  },
  {
   "cell_type": "markdown",
   "metadata": {},
   "source": [
    "Гистограмма корреляции (heatmap)"
   ]
  },
  {
   "cell_type": "code",
   "execution_count": 23,
   "metadata": {},
   "outputs": [
    {
     "data": {
      "image/png": "[encoded data removed]",
      "text/plain": [
       "<Figure size 640x480 with 2 Axes>"
      ]
     },
     "metadata": {},
     "output_type": "display_data"
    }
   ],
   "source": [
    "numeric_cols = ['year', 'acceleration_seconds', 'power', 'engine_size', 'price_usd']\n",
    "corr_mat = data[numeric_cols].corr()\n",
    "# Построение тепловой карты\n",
    "sns.heatmap(corr_mat, annot=True, cmap='coolwarm')\n",
    "plt.xlabel('Поле X')  # Название оси X\n",
    "plt.ylabel('Поле Y')  # Название оси Y\n",
    "plt.title('Тепловая карта корреляции')  # Название графика\n",
    "plt.show()"
   ]
  },
  {
   "cell_type": "markdown",
   "metadata": {},
   "source": [
    "Гипотеза №1 Влияние размера двигателя на мощность\n",
    "\n",
    "На основе анализа данных об объеме двигателя и мощности автомобилей было выявлено, что линия регрессии имеет положительный,что подтверждает гипотезу о том, что увеличение объема двигателя связано с увеличением мощности. Увеличение объема двигателя ведет к повышению мощности автомобиля."
   ]
  },
  {
   "cell_type": "code",
   "execution_count": 24,
   "metadata": {},
   "outputs": [
    {
     "data": {
      "application/vnd.plotly.v1+json": {
       "config": {
        "plotlyServerURL": "https://plot.ly"
       },
       "data": [
        {
         "hovertemplate": "Размер двигателя (л)=%{x}<br>Мощность (л.с.)=%{y}<extra></extra>",
         "legendgroup": "",
         "marker": {
          "color": "#636efa",
          "opacity": 0.7,
          "size": 8,
          "symbol": "circle"
         },
         "mode": "markers",
         "name": "",
         "orientation": "v",
         "showlegend": false,
         "type": "scatter",
         "x": [
          3,
          5.2,
          3.9,
          5.2,
          4,
          4.4,
          4,
          6.2,
          5.2,
          3.8,
          5.2,
          8,
          6.2,
          3,
          5,
          5,
          3.5,
          4.7,
          2,
          2.9,
          2,
          6,
          3,
          6.2,
          6,
          2,
          4,
          6.5,
          4,
          4,
          3,
          3,
          6.2,
          6.2,
          3.5,
          3.7,
          4,
          3.9,
          2.5,
          4,
          4,
          2,
          6.5,
          4,
          2.5,
          3.8,
          3,
          4,
          6.2,
          5,
          3.7,
          4,
          3.5,
          2.9,
          4,
          3.9,
          3,
          3.8,
          4.4,
          4,
          2.9,
          3,
          6.2,
          6.2,
          3.5,
          2,
          6.5,
          4.7,
          3,
          4,
          3.7,
          2.9,
          2.5,
          3,
          6.2,
          3.9,
          5,
          4,
          2,
          3.5,
          4,
          6,
          8,
          6.2,
          3,
          5,
          5,
          3.5,
          4.7,
          2,
          4,
          6.2,
          6,
          4,
          6.8,
          3,
          3.8,
          2,
          6.5,
          4,
          2.5,
          4,
          3,
          4,
          6.2,
          3.5,
          3.7,
          5.2,
          8,
          3.5,
          3.8,
          4,
          4,
          3.9,
          4,
          3,
          4,
          6.5,
          5.2,
          6,
          4,
          6.2,
          3.8,
          3,
          6.2,
          6.2,
          3.9,
          4,
          4,
          4,
          4,
          3,
          2.5,
          6.5,
          3.9,
          2.5,
          3.8,
          3,
          6.2,
          6.2,
          5,
          3.7,
          2.9,
          4,
          3.9,
          2.5,
          4,
          3,
          4,
          6.2,
          3.5,
          4,
          6,
          8,
          8.4,
          3,
          5,
          5,
          3.5,
          4.7,
          3.8,
          6,
          4,
          6.6,
          3,
          5,
          3.7,
          2,
          6.5,
          4,
          4,
          4,
          3,
          6.2,
          6.2,
          3.5,
          3.7,
          4,
          3.9,
          2.5,
          3.8,
          4.4,
          4,
          6.2,
          2,
          6.5,
          5.2,
          4,
          3.8,
          4,
          3,
          6.2,
          6.2,
          3.5,
          3.7,
          2.9,
          4,
          8,
          3.9,
          4,
          3.8,
          4,
          5,
          4,
          6.5,
          4,
          4,
          3.8,
          3,
          4,
          6.2,
          6.2,
          3.5,
          4,
          6.5,
          5.2,
          4,
          3,
          4,
          6.2,
          5.2,
          6,
          5,
          3.5,
          3.5,
          4,
          1.7,
          2.9,
          3,
          6.2,
          6.2,
          3.5,
          5,
          4.7,
          3.7,
          6.8,
          2.5,
          4,
          6.5,
          3.9,
          4,
          3.8,
          3,
          4,
          6.2,
          5,
          3.7,
          4,
          4,
          4,
          2.5,
          4,
          6.2,
          5.2,
          5,
          5,
          4,
          3,
          2.9,
          6.2,
          3.5,
          4,
          6.2,
          8,
          5,
          4,
          6.5,
          6,
          3.5,
          4,
          4,
          6.2,
          2,
          3.3,
          3.5,
          4.7,
          4,
          2.9,
          4,
          4.4,
          6.2,
          3.5,
          6.5,
          3,
          4,
          3.7,
          5.2,
          4,
          8,
          3.8,
          6.5,
          3.9,
          4,
          3,
          6.2,
          6.2,
          3.5,
          5,
          3.5,
          4.7,
          4,
          3.7,
          6,
          4,
          4,
          6.2,
          3.5,
          3.5,
          2.9,
          6,
          3,
          5,
          5,
          4.7,
          4,
          4,
          2,
          6.8,
          6.2,
          3.5,
          3.5,
          5.2,
          4,
          8,
          6.2,
          5,
          5,
          5,
          3.5,
          4.7,
          3.8,
          4,
          6,
          4,
          6.7,
          3.5,
          4,
          6,
          6.2,
          5,
          5,
          3.5,
          4.7,
          4,
          1.8,
          4,
          3,
          6.2,
          8.4,
          3.9,
          3,
          6.5,
          3.8,
          5.2,
          6,
          8,
          6.2,
          5,
          5,
          5,
          3.5,
          4.7,
          3,
          4,
          6,
          4,
          6.6,
          3,
          3.5,
          4,
          4,
          6.2,
          3,
          5,
          3.5,
          4.7,
          3.8,
          4,
          2.9,
          3,
          6.2,
          8.4,
          3.5,
          2.5,
          6.5,
          5.2,
          2.9,
          4,
          3,
          6.2,
          6.2,
          3.9,
          3.5,
          5,
          5,
          5,
          4,
          4,
          4,
          6.5,
          3.9,
          2.5,
          3.8,
          3,
          4,
          6.2,
          5,
          3.7,
          4,
          8,
          5,
          6,
          4,
          6.5,
          2,
          6.5,
          3.9,
          2.9,
          4,
          3,
          3,
          6.2,
          5,
          3.7,
          4,
          4,
          2,
          4,
          3.9,
          2.5,
          3.8,
          3,
          2,
          6.5,
          4,
          2.9,
          4,
          3,
          6.2,
          6.2,
          3.5,
          3.7,
          6.2,
          5.2,
          2.9,
          5,
          3.5,
          4.7,
          4,
          4,
          4,
          3.5,
          1.7,
          3,
          4.7,
          4,
          2.9,
          3,
          6.2,
          6.2,
          3.5,
          5,
          3.8,
          4,
          3.7,
          2,
          6.5,
          3.9,
          2.5,
          3,
          3.5,
          5.2,
          6,
          8,
          6.2,
          5,
          5,
          5,
          3.5,
          4.7,
          3,
          6,
          4,
          6.8,
          3,
          5,
          6.2,
          3.8,
          3.5,
          5.2,
          6,
          8,
          6.2,
          3,
          5,
          4.7,
          3,
          4,
          6.2,
          3.5,
          5.2,
          5,
          6.2,
          3.5,
          1.8,
          2.5,
          3.5,
          5,
          8,
          4,
          6.2,
          5,
          6.2,
          4,
          3.5,
          3,
          4,
          6.5,
          4,
          3.5,
          4,
          6.5,
          4,
          4,
          3.8,
          4.4,
          4,
          6.2,
          6.2,
          3.5,
          3.7,
          4,
          2.5,
          5.5,
          4,
          4,
          3.9,
          8,
          5.2,
          3.5,
          4,
          3.5,
          5,
          2.9,
          4,
          6,
          4.4,
          6.2,
          6.2,
          3.5,
          5,
          6.5,
          3.8,
          6.2,
          3.7,
          2,
          2,
          6.5,
          3.9,
          2.9,
          3.8,
          3,
          3,
          6.2,
          3.5,
          3.7,
          5.2,
          3.5,
          4.7,
          2.9,
          4,
          4,
          4,
          3,
          6.5,
          4,
          4,
          3.8,
          3,
          6.2,
          6.2,
          3.5,
          3.7,
          5.2,
          5,
          4,
          4.7,
          6.6,
          8,
          4,
          3.5,
          4,
          4,
          6,
          8,
          6.2,
          6.2,
          6.5,
          6.5,
          3.8,
          4,
          3,
          4,
          6.8,
          3,
          2,
          2,
          6.5,
          4,
          4,
          3,
          3,
          6.2,
          6.2,
          3.5,
          3.7,
          6.2,
          5.2,
          2.9,
          2.5,
          6,
          4.4,
          6.2,
          6.2,
          5,
          2,
          6.5,
          3.9,
          4,
          3.8,
          3,
          6.2,
          6.2,
          3.5,
          3.7,
          2.9,
          4,
          4,
          4,
          3,
          3,
          4,
          6.2,
          5.2,
          8,
          5,
          6,
          4,
          4.6,
          4,
          6.5,
          4,
          6,
          6.2,
          6.2,
          3.5,
          5,
          4,
          4,
          4,
          2,
          3.5,
          4.7,
          2,
          1.8,
          6.2,
          3.6,
          3.5,
          4,
          3,
          6.5,
          4,
          3.7,
          2,
          1.5,
          6.2,
          6.5,
          4,
          4,
          4,
          4.4,
          4,
          6.2,
          3.5,
          3.7,
          4,
          4,
          3.9,
          2.5,
          3.8,
          2,
          6.5,
          3.9,
          2.5,
          4,
          3,
          6.2,
          6.2,
          3.5,
          3.7,
          3.8,
          4,
          4,
          4,
          4.4,
          4,
          4,
          3.9,
          5,
          6.5,
          4,
          4,
          3.8,
          3,
          4,
          6.2,
          3.5,
          3.7,
          4,
          4,
          3.9,
          2.5,
          3,
          3,
          6.2,
          6.2,
          2,
          6.5,
          4,
          2.5,
          4,
          2,
          6.2,
          6.2,
          3.5,
          3.7,
          4,
          6,
          8,
          6.2,
          2,
          3.5,
          4.7,
          5.2,
          3.5,
          4,
          6.5,
          4,
          4,
          4,
          6.2,
          3.5,
          3.7,
          4,
          4,
          4,
          3.8,
          4.4,
          6.2,
          5,
          4,
          2.5,
          3.5,
          4,
          6.5,
          4,
          2.9,
          3.8,
          3,
          4,
          6.2,
          5,
          5.7,
          4,
          3.5,
          1.7,
          2,
          5,
          8,
          4,
          6.2,
          4,
          2.9,
          6.2,
          5,
          4,
          3,
          4,
          3.5,
          4,
          4,
          6.5,
          5.2,
          2.5,
          3,
          1.5,
          6.2,
          6.5,
          3.9,
          4,
          4,
          3,
          4,
          6.2,
          5,
          3.7,
          2.9,
          4,
          4,
          3.8,
          3,
          2,
          6.2,
          3.5,
          4,
          4,
          8,
          3.9,
          6.5,
          4,
          4,
          4,
          3,
          6.2,
          6.2,
          3.5,
          3,
          5,
          3.7,
          6.8,
          2,
          4,
          3.5,
          3.5,
          6.2,
          6.2,
          3,
          5,
          3,
          3.5,
          4.7,
          3.8,
          6.2,
          3.7,
          4,
          4,
          2,
          4,
          1.7,
          2.9,
          3,
          6.2,
          3.9,
          3,
          6.5,
          5,
          3.5,
          4.7,
          4,
          4,
          3.7,
          2.9,
          2.5,
          2,
          6.5,
          4,
          2.9,
          3.8,
          3,
          3,
          6.2,
          3.5,
          3.7,
          2.9,
          4,
          6,
          6.4,
          5,
          5,
          3.5,
          4.7,
          4,
          4,
          6.2,
          4,
          6.2,
          5,
          5,
          5,
          3.8,
          4,
          3.7,
          4,
          2.5,
          3,
          3.9,
          6.5,
          4,
          4,
          5.2,
          3.5,
          3.8,
          6.5,
          3.5,
          4,
          3,
          4,
          6.2,
          6.2,
          2.9,
          4,
          3,
          4,
          5,
          3,
          5.2,
          3.9,
          5.2,
          4,
          4.4,
          4,
          6.2,
          5.2,
          3.8,
          6.2,
          4,
          8,
          5,
          6,
          3,
          2,
          6.5,
          4,
          2.9,
          4,
          3,
          6.3,
          6.2,
          2.3,
          3.7,
          4,
          8,
          5,
          4,
          6
         ],
         "xaxis": "x",
         "y": [
          379,
          630,
          661,
          562,
          710,
          617,
          523,
          490,
          760,
          600,
          630,
          1500,
          717,
          296,
          1280,
          471,
          416,
          454,
          300,
          505,
          320,
          626,
          671,
          622,
          720,
          600,
          414,
          759,
          986,
          591,
          671,
          503,
          622,
          650,
          660,
          350,
          641,
          611,
          394,
          612,
          603,
          300,
          759,
          986,
          394,
          562,
          503,
          503,
          455,
          460,
          350,
          503,
          416,
          325,
          641,
          612,
          349,
          592,
          600,
          503,
          444,
          405,
          455,
          797,
          660,
          296,
          770,
          454,
          671,
          503,
          332,
          325,
          394,
          473,
          490,
          710,
          480,
          641,
          300,
          573,
          503,
          626,
          1500,
          797,
          380,
          1600,
          471,
          416,
          454,
          181,
          620,
          622,
          764,
          414,
          624,
          382,
          800,
          300,
          770,
          986,
          394,
          612,
          503,
          603,
          650,
          660,
          332,
          715,
          1500,
          416,
          562,
          690,
          641,
          611,
          591,
          405,
          414,
          730,
          715,
          626,
          591,
          622,
          562,
          405,
          650,
          717,
          592,
          620,
          641,
          469,
          503,
          349,
          365,
          730,
          710,
          394,
          562,
          382,
          622,
          455,
          480,
          350,
          325,
          641,
          612,
          401,
          612,
          444,
          503,
          650,
          573,
          503,
          626,
          1500,
          645,
          380,
          1600,
          471,
          416,
          454,
          562,
          720,
          414,
          624,
          382,
          500,
          780,
          300,
          770,
          986,
          591,
          612,
          444,
          622,
          455,
          660,
          350,
          641,
          710,
          401,
          562,
          600,
          469,
          650,
          402,
          730,
          715,
          591,
          592,
          503,
          473,
          650,
          797,
          660,
          332,
          325,
          641,
          1500,
          710,
          591,
          562,
          503,
          575,
          620,
          729,
          986,
          591,
          592,
          405,
          603,
          650,
          717,
          660,
          641,
          789,
          562,
          612,
          473,
          577,
          495,
          630,
          626,
          575,
          573,
          416,
          414,
          237,
          444,
          405,
          650,
          717,
          660,
          471,
          454,
          350,
          624,
          310,
          414,
          729,
          591,
          591,
          592,
          405,
          523,
          455,
          480,
          350,
          620,
          641,
          986,
          394,
          612,
          717,
          715,
          575,
          471,
          414,
          405,
          444,
          650,
          416,
          612,
          622,
          1500,
          1280,
          986,
          770,
          791,
          573,
          503,
          542,
          717,
          296,
          368,
          416,
          454,
          414,
          505,
          591,
          600,
          650,
          660,
          770,
          671,
          577,
          350,
          715,
          542,
          1479,
          562,
          730,
          710,
          591,
          444,
          622,
          650,
          660,
          575,
          416,
          454,
          755,
          332,
          730,
          620,
          503,
          797,
          416,
          573,
          505,
          626,
          380,
          1280,
          471,
          454,
          612,
          503,
          300,
          624,
          455,
          660,
          573,
          630,
          542,
          1500,
          717,
          575,
          1280,
          471,
          416,
          454,
          562,
          503,
          791,
          414,
          624,
          573,
          503,
          626,
          797,
          575,
          471,
          416,
          454,
          414,
          288,
          591,
          473,
          650,
          645,
          591,
          296,
          770,
          592,
          630,
          626,
          1500,
          717,
          575,
          1280,
          471,
          416,
          454,
          671,
          503,
          764,
          414,
          624,
          382,
          573,
          503,
          542,
          717,
          380,
          471,
          416,
          454,
          562,
          414,
          444,
          405,
          650,
          645,
          660,
          482,
          730,
          630,
          505,
          591,
          503,
          455,
          717,
          710,
          660,
          575,
          1600,
          471,
          612,
          720,
          414,
          770,
          591,
          394,
          592,
          473,
          503,
          455,
          480,
          350,
          503,
          1500,
          1262,
          764,
          1035,
          819,
          300,
          770,
          591,
          444,
          620,
          382,
          385,
          455,
          460,
          350,
          503,
          626,
          300,
          641,
          710,
          394,
          562,
          473,
          300,
          730,
          986,
          444,
          612,
          405,
          622,
          650,
          660,
          350,
          717,
          715,
          505,
          575,
          416,
          454,
          630,
          641,
          503,
          416,
          237,
          380,
          454,
          414,
          444,
          405,
          650,
          717,
          647,
          471,
          562,
          503,
          350,
          300,
          729,
          710,
          394,
          473,
          573,
          715,
          626,
          1500,
          717,
          575,
          1280,
          471,
          416,
          454,
          671,
          764,
          414,
          624,
          382,
          500,
          1200,
          800,
          573,
          715,
          626,
          1500,
          717,
          380,
          471,
          454,
          671,
          720,
          650,
          647,
          715,
          575,
          797,
          416,
          237,
          310,
          573,
          1280,
          1578,
          789,
          622,
          471,
          650,
          591,
          660,
          444,
          414,
          770,
          503,
          416,
          620,
          729,
          986,
          591,
          562,
          600,
          503,
          650,
          717,
          660,
          350,
          414,
          394,
          625,
          641,
          630,
          612,
          1479,
          715,
          416,
          414,
          573,
          471,
          505,
          591,
          626,
          600,
          650,
          717,
          647,
          575,
          730,
          562,
          583,
          350,
          300,
          300,
          759,
          612,
          444,
          562,
          405,
          429,
          455,
          660,
          350,
          715,
          416,
          454,
          325,
          641,
          986,
          591,
          671,
          730,
          986,
          591,
          562,
          473,
          622,
          455,
          660,
          350,
          715,
          471,
          626,
          454,
          563,
          1500,
          789,
          573,
          503,
          591,
          626,
          1500,
          650,
          717,
          789,
          770,
          592,
          720,
          400,
          414,
          624,
          382,
          300,
          300,
          730,
          986,
          591,
          671,
          405,
          583,
          650,
          647,
          350,
          707,
          715,
          505,
          394,
          626,
          600,
          495,
          717,
          460,
          300,
          770,
          612,
          591,
          562,
          473,
          622,
          455,
          660,
          350,
          325,
          641,
          986,
          591,
          671,
          405,
          577,
          650,
          715,
          1500,
          1280,
          764,
          789,
          887,
          986,
          759,
          591,
          650,
          650,
          717,
          660,
          471,
          720,
          503,
          542,
          296,
          416,
          454,
          300,
          237,
          455,
          305,
          660,
          591,
          473,
          729,
          469,
          350,
          300,
          369,
          495,
          729,
          986,
          591,
          620,
          600,
          730,
          650,
          660,
          350,
          630,
          641,
          591,
          394,
          562,
          300,
          770,
          612,
          394,
          620,
          473,
          622,
          455,
          660,
          350,
          640,
          755,
          641,
          720,
          617,
          591,
          503,
          710,
          471,
          759,
          986,
          591,
          592,
          473,
          577,
          650,
          660,
          350,
          690,
          641,
          612,
          394,
          671,
          444,
          622,
          455,
          300,
          759,
          986,
          394,
          612,
          255,
          622,
          455,
          660,
          332,
          503,
          626,
          1479,
          717,
          296,
          416,
          454,
          715,
          416,
          689,
          759,
          986,
          591,
          603,
          650,
          660,
          350,
          414,
          503,
          503,
          562,
          600,
          717,
          471,
          630,
          394,
          573,
          414,
          730,
          986,
          444,
          562,
          405,
          469,
          455,
          460,
          372,
          503,
          416,
          237,
          296,
          1600,
          1578,
          414,
          650,
          503,
          505,
          717,
          471,
          591,
          503,
          503,
          660,
          620,
          630,
          730,
          715,
          394,
          385,
          369,
          490,
          730,
          611,
          591,
          612,
          405,
          469,
          455,
          480,
          350,
          325,
          641,
          591,
          562,
          503,
          382,
          650,
          573,
          503,
          542,
          1479,
          710,
          730,
          612,
          577,
          591,
          473,
          650,
          797,
          660,
          380,
          471,
          332,
          563,
          402,
          630,
          416,
          573,
          455,
          797,
          380,
          471,
          473,
          660,
          454,
          592,
          622,
          332,
          591,
          542,
          300,
          503,
          237,
          444,
          405,
          717,
          710,
          296,
          759,
          471,
          416,
          454,
          612,
          469,
          350,
          325,
          310,
          300,
          729,
          986,
          444,
          562,
          405,
          429,
          455,
          660,
          332,
          505,
          630,
          626,
          485,
          575,
          471,
          416,
          454,
          414,
          503,
          717,
          591,
          455,
          460,
          575,
          471,
          562,
          469,
          350,
          473,
          394,
          473,
          710,
          770,
          612,
          630,
          715,
          416,
          562,
          759,
          660,
          591,
          473,
          503,
          650,
          717,
          505,
          986,
          671,
          641,
          480,
          379,
          630,
          661,
          562,
          710,
          617,
          523,
          490,
          760,
          600,
          717,
          503,
          1500,
          1280,
          764,
          621,
          300,
          730,
          986,
          444,
          612,
          405,
          622,
          455,
          310,
          332,
          503,
          1479,
          1280,
          789,
          764
         ],
         "yaxis": "y"
        },
        {
         "hovertemplate": "x=%{x}<br>y=%{y}<extra></extra>",
         "legendgroup": "",
         "line": {
          "color": "#636efa",
          "dash": "solid"
         },
         "marker": {
          "symbol": "circle"
         },
         "mode": "lines",
         "name": "",
         "orientation": "v",
         "showlegend": false,
         "type": "scatter",
         "x": [
          3,
          5.2,
          3.9,
          5.2,
          4,
          4.4,
          4,
          6.2,
          5.2,
          3.8,
          5.2,
          8,
          6.2,
          3,
          5,
          5,
          3.5,
          4.7,
          2,
          2.9,
          2,
          6,
          3,
          6.2,
          6,
          2,
          4,
          6.5,
          4,
          4,
          3,
          3,
          6.2,
          6.2,
          3.5,
          3.7,
          4,
          3.9,
          2.5,
          4,
          4,
          2,
          6.5,
          4,
          2.5,
          3.8,
          3,
          4,
          6.2,
          5,
          3.7,
          4,
          3.5,
          2.9,
          4,
          3.9,
          3,
          3.8,
          4.4,
          4,
          2.9,
          3,
          6.2,
          6.2,
          3.5,
          2,
          6.5,
          4.7,
          3,
          4,
          3.7,
          2.9,
          2.5,
          3,
          6.2,
          3.9,
          5,
          4,
          2,
          3.5,
          4,
          6,
          8,
          6.2,
          3,
          5,
          5,
          3.5,
          4.7,
          2,
          4,
          6.2,
          6,
          4,
          6.8,
          3,
          3.8,
          2,
          6.5,
          4,
          2.5,
          4,
          3,
          4,
          6.2,
          3.5,
          3.7,
          5.2,
          8,
          3.5,
          3.8,
          4,
          4,
          3.9,
          4,
          3,
          4,
          6.5,
          5.2,
          6,
          4,
          6.2,
          3.8,
          3,
          6.2,
          6.2,
          3.9,
          4,
          4,
          4,
          4,
          3,
          2.5,
          6.5,
          3.9,
          2.5,
          3.8,
          3,
          6.2,
          6.2,
          5,
          3.7,
          2.9,
          4,
          3.9,
          2.5,
          4,
          3,
          4,
          6.2,
          3.5,
          4,
          6,
          8,
          8.4,
          3,
          5,
          5,
          3.5,
          4.7,
          3.8,
          6,
          4,
          6.6,
          3,
          5,
          3.7,
          2,
          6.5,
          4,
          4,
          4,
          3,
          6.2,
          6.2,
          3.5,
          3.7,
          4,
          3.9,
          2.5,
          3.8,
          4.4,
          4,
          6.2,
          2,
          6.5,
          5.2,
          4,
          3.8,
          4,
          3,
          6.2,
          6.2,
          3.5,
          3.7,
          2.9,
          4,
          8,
          3.9,
          4,
          3.8,
          4,
          5,
          4,
          6.5,
          4,
          4,
          3.8,
          3,
          4,
          6.2,
          6.2,
          3.5,
          4,
          6.5,
          5.2,
          4,
          3,
          4,
          6.2,
          5.2,
          6,
          5,
          3.5,
          3.5,
          4,
          1.7,
          2.9,
          3,
          6.2,
          6.2,
          3.5,
          5,
          4.7,
          3.7,
          6.8,
          2.5,
          4,
          6.5,
          3.9,
          4,
          3.8,
          3,
          4,
          6.2,
          5,
          3.7,
          4,
          4,
          4,
          2.5,
          4,
          6.2,
          5.2,
          5,
          5,
          4,
          3,
          2.9,
          6.2,
          3.5,
          4,
          6.2,
          8,
          5,
          4,
          6.5,
          6,
          3.5,
          4,
          4,
          6.2,
          2,
          3.3,
          3.5,
          4.7,
          4,
          2.9,
          4,
          4.4,
          6.2,
          3.5,
          6.5,
          3,
          4,
          3.7,
          5.2,
          4,
          8,
          3.8,
          6.5,
          3.9,
          4,
          3,
          6.2,
          6.2,
          3.5,
          5,
          3.5,
          4.7,
          4,
          3.7,
          6,
          4,
          4,
          6.2,
          3.5,
          3.5,
          2.9,
          6,
          3,
          5,
          5,
          4.7,
          4,
          4,
          2,
          6.8,
          6.2,
          3.5,
          3.5,
          5.2,
          4,
          8,
          6.2,
          5,
          5,
          5,
          3.5,
          4.7,
          3.8,
          4,
          6,
          4,
          6.7,
          3.5,
          4,
          6,
          6.2,
          5,
          5,
          3.5,
          4.7,
          4,
          1.8,
          4,
          3,
          6.2,
          8.4,
          3.9,
          3,
          6.5,
          3.8,
          5.2,
          6,
          8,
          6.2,
          5,
          5,
          5,
          3.5,
          4.7,
          3,
          4,
          6,
          4,
          6.6,
          3,
          3.5,
          4,
          4,
          6.2,
          3,
          5,
          3.5,
          4.7,
          3.8,
          4,
          2.9,
          3,
          6.2,
          8.4,
          3.5,
          2.5,
          6.5,
          5.2,
          2.9,
          4,
          3,
          6.2,
          6.2,
          3.9,
          3.5,
          5,
          5,
          5,
          4,
          4,
          4,
          6.5,
          3.9,
          2.5,
          3.8,
          3,
          4,
          6.2,
          5,
          3.7,
          4,
          8,
          5,
          6,
          4,
          6.5,
          2,
          6.5,
          3.9,
          2.9,
          4,
          3,
          3,
          6.2,
          5,
          3.7,
          4,
          4,
          2,
          4,
          3.9,
          2.5,
          3.8,
          3,
          2,
          6.5,
          4,
          2.9,
          4,
          3,
          6.2,
          6.2,
          3.5,
          3.7,
          6.2,
          5.2,
          2.9,
          5,
          3.5,
          4.7,
          4,
          4,
          4,
          3.5,
          1.7,
          3,
          4.7,
          4,
          2.9,
          3,
          6.2,
          6.2,
          3.5,
          5,
          3.8,
          4,
          3.7,
          2,
          6.5,
          3.9,
          2.5,
          3,
          3.5,
          5.2,
          6,
          8,
          6.2,
          5,
          5,
          5,
          3.5,
          4.7,
          3,
          6,
          4,
          6.8,
          3,
          5,
          6.2,
          3.8,
          3.5,
          5.2,
          6,
          8,
          6.2,
          3,
          5,
          4.7,
          3,
          4,
          6.2,
          3.5,
          5.2,
          5,
          6.2,
          3.5,
          1.8,
          2.5,
          3.5,
          5,
          8,
          4,
          6.2,
          5,
          6.2,
          4,
          3.5,
          3,
          4,
          6.5,
          4,
          3.5,
          4,
          6.5,
          4,
          4,
          3.8,
          4.4,
          4,
          6.2,
          6.2,
          3.5,
          3.7,
          4,
          2.5,
          5.5,
          4,
          4,
          3.9,
          8,
          5.2,
          3.5,
          4,
          3.5,
          5,
          2.9,
          4,
          6,
          4.4,
          6.2,
          6.2,
          3.5,
          5,
          6.5,
          3.8,
          6.2,
          3.7,
          2,
          2,
          6.5,
          3.9,
          2.9,
          3.8,
          3,
          3,
          6.2,
          3.5,
          3.7,
          5.2,
          3.5,
          4.7,
          2.9,
          4,
          4,
          4,
          3,
          6.5,
          4,
          4,
          3.8,
          3,
          6.2,
          6.2,
          3.5,
          3.7,
          5.2,
          5,
          4,
          4.7,
          6.6,
          8,
          4,
          3.5,
          4,
          4,
          6,
          8,
          6.2,
          6.2,
          6.5,
          6.5,
          3.8,
          4,
          3,
          4,
          6.8,
          3,
          2,
          2,
          6.5,
          4,
          4,
          3,
          3,
          6.2,
          6.2,
          3.5,
          3.7,
          6.2,
          5.2,
          2.9,
          2.5,
          6,
          4.4,
          6.2,
          6.2,
          5,
          2,
          6.5,
          3.9,
          4,
          3.8,
          3,
          6.2,
          6.2,
          3.5,
          3.7,
          2.9,
          4,
          4,
          4,
          3,
          3,
          4,
          6.2,
          5.2,
          8,
          5,
          6,
          4,
          4.6,
          4,
          6.5,
          4,
          6,
          6.2,
          6.2,
          3.5,
          5,
          4,
          4,
          4,
          2,
          3.5,
          4.7,
          2,
          1.8,
          6.2,
          3.6,
          3.5,
          4,
          3,
          6.5,
          4,
          3.7,
          2,
          1.5,
          6.2,
          6.5,
          4,
          4,
          4,
          4.4,
          4,
          6.2,
          3.5,
          3.7,
          4,
          4,
          3.9,
          2.5,
          3.8,
          2,
          6.5,
          3.9,
          2.5,
          4,
          3,
          6.2,
          6.2,
          3.5,
          3.7,
          3.8,
          4,
          4,
          4,
          4.4,
          4,
          4,
          3.9,
          5,
          6.5,
          4,
          4,
          3.8,
          3,
          4,
          6.2,
          3.5,
          3.7,
          4,
          4,
          3.9,
          2.5,
          3,
          3,
          6.2,
          6.2,
          2,
          6.5,
          4,
          2.5,
          4,
          2,
          6.2,
          6.2,
          3.5,
          3.7,
          4,
          6,
          8,
          6.2,
          2,
          3.5,
          4.7,
          5.2,
          3.5,
          4,
          6.5,
          4,
          4,
          4,
          6.2,
          3.5,
          3.7,
          4,
          4,
          4,
          3.8,
          4.4,
          6.2,
          5,
          4,
          2.5,
          3.5,
          4,
          6.5,
          4,
          2.9,
          3.8,
          3,
          4,
          6.2,
          5,
          5.7,
          4,
          3.5,
          1.7,
          2,
          5,
          8,
          4,
          6.2,
          4,
          2.9,
          6.2,
          5,
          4,
          3,
          4,
          3.5,
          4,
          4,
          6.5,
          5.2,
          2.5,
          3,
          1.5,
          6.2,
          6.5,
          3.9,
          4,
          4,
          3,
          4,
          6.2,
          5,
          3.7,
          2.9,
          4,
          4,
          3.8,
          3,
          2,
          6.2,
          3.5,
          4,
          4,
          8,
          3.9,
          6.5,
          4,
          4,
          4,
          3,
          6.2,
          6.2,
          3.5,
          3,
          5,
          3.7,
          6.8,
          2,
          4,
          3.5,
          3.5,
          6.2,
          6.2,
          3,
          5,
          3,
          3.5,
          4.7,
          3.8,
          6.2,
          3.7,
          4,
          4,
          2,
          4,
          1.7,
          2.9,
          3,
          6.2,
          3.9,
          3,
          6.5,
          5,
          3.5,
          4.7,
          4,
          4,
          3.7,
          2.9,
          2.5,
          2,
          6.5,
          4,
          2.9,
          3.8,
          3,
          3,
          6.2,
          3.5,
          3.7,
          2.9,
          4,
          6,
          6.4,
          5,
          5,
          3.5,
          4.7,
          4,
          4,
          6.2,
          4,
          6.2,
          5,
          5,
          5,
          3.8,
          4,
          3.7,
          4,
          2.5,
          3,
          3.9,
          6.5,
          4,
          4,
          5.2,
          3.5,
          3.8,
          6.5,
          3.5,
          4,
          3,
          4,
          6.2,
          6.2,
          2.9,
          4,
          3,
          4,
          5,
          3,
          5.2,
          3.9,
          5.2,
          4,
          4.4,
          4,
          6.2,
          5.2,
          3.8,
          6.2,
          4,
          8,
          5,
          6,
          3,
          2,
          6.5,
          4,
          2.9,
          4,
          3,
          6.3,
          6.2,
          2.3,
          3.7,
          4,
          8,
          5,
          4,
          6
         ],
         "xaxis": "x",
         "y": [
          457.6669221891105,
          670.6566494657876,
          544.7990833477511,
          670.6566494657876,
          554.4804345876,
          593.205839546996,
          554.4804345876,
          767.4701618642773,
          670.6566494657876,
          535.1177321079022,
          670.6566494657876,
          941.7344841815584,
          767.4701618642773,
          457.6669221891105,
          651.2939469860896,
          651.2939469860896,
          506.0736783883553,
          622.2498932665428,
          360.8534097906209,
          447.9855709492615,
          360.8534097906209,
          748.1074593845792,
          457.6669221891105,
          767.4701618642773,
          748.1074593845792,
          360.8534097906209,
          554.4804345876,
          796.5142155838241,
          554.4804345876,
          554.4804345876,
          457.6669221891105,
          457.6669221891105,
          767.4701618642773,
          767.4701618642773,
          506.0736783883553,
          525.4363808680532,
          554.4804345876,
          544.7990833477511,
          409.2601659898657,
          554.4804345876,
          554.4804345876,
          360.8534097906209,
          796.5142155838241,
          554.4804345876,
          409.2601659898657,
          535.1177321079022,
          457.6669221891105,
          554.4804345876,
          767.4701618642773,
          651.2939469860896,
          525.4363808680532,
          554.4804345876,
          506.0736783883553,
          447.9855709492615,
          554.4804345876,
          544.7990833477511,
          457.6669221891105,
          535.1177321079022,
          593.205839546996,
          554.4804345876,
          447.9855709492615,
          457.6669221891105,
          767.4701618642773,
          767.4701618642773,
          506.0736783883553,
          360.8534097906209,
          796.5142155838241,
          622.2498932665428,
          457.6669221891105,
          554.4804345876,
          525.4363808680532,
          447.9855709492615,
          409.2601659898657,
          457.6669221891105,
          767.4701618642773,
          544.7990833477511,
          651.2939469860896,
          554.4804345876,
          360.8534097906209,
          506.0736783883553,
          554.4804345876,
          748.1074593845792,
          941.7344841815584,
          767.4701618642773,
          457.6669221891105,
          651.2939469860896,
          651.2939469860896,
          506.0736783883553,
          622.2498932665428,
          360.8534097906209,
          554.4804345876,
          767.4701618642773,
          748.1074593845792,
          554.4804345876,
          825.5582693033709,
          457.6669221891105,
          535.1177321079022,
          360.8534097906209,
          796.5142155838241,
          554.4804345876,
          409.2601659898657,
          554.4804345876,
          457.6669221891105,
          554.4804345876,
          767.4701618642773,
          506.0736783883553,
          525.4363808680532,
          670.6566494657876,
          941.7344841815584,
          506.0736783883553,
          535.1177321079022,
          554.4804345876,
          554.4804345876,
          544.7990833477511,
          554.4804345876,
          457.6669221891105,
          554.4804345876,
          796.5142155838241,
          670.6566494657876,
          748.1074593845792,
          554.4804345876,
          767.4701618642773,
          535.1177321079022,
          457.6669221891105,
          767.4701618642773,
          767.4701618642773,
          544.7990833477511,
          554.4804345876,
          554.4804345876,
          554.4804345876,
          554.4804345876,
          457.6669221891105,
          409.2601659898657,
          796.5142155838241,
          544.7990833477511,
          409.2601659898657,
          535.1177321079022,
          457.6669221891105,
          767.4701618642773,
          767.4701618642773,
          651.2939469860896,
          525.4363808680532,
          447.9855709492615,
          554.4804345876,
          544.7990833477511,
          409.2601659898657,
          554.4804345876,
          457.6669221891105,
          554.4804345876,
          767.4701618642773,
          506.0736783883553,
          554.4804345876,
          748.1074593845792,
          941.7344841815584,
          980.4598891409544,
          457.6669221891105,
          651.2939469860896,
          651.2939469860896,
          506.0736783883553,
          622.2498932665428,
          535.1177321079022,
          748.1074593845792,
          554.4804345876,
          806.1955668236731,
          457.6669221891105,
          651.2939469860896,
          525.4363808680532,
          360.8534097906209,
          796.5142155838241,
          554.4804345876,
          554.4804345876,
          554.4804345876,
          457.6669221891105,
          767.4701618642773,
          767.4701618642773,
          506.0736783883553,
          525.4363808680532,
          554.4804345876,
          544.7990833477511,
          409.2601659898657,
          535.1177321079022,
          593.205839546996,
          554.4804345876,
          767.4701618642773,
          360.8534097906209,
          796.5142155838241,
          670.6566494657876,
          554.4804345876,
          535.1177321079022,
          554.4804345876,
          457.6669221891105,
          767.4701618642773,
          767.4701618642773,
          506.0736783883553,
          525.4363808680532,
          447.9855709492615,
          554.4804345876,
          941.7344841815584,
          544.7990833477511,
          554.4804345876,
          535.1177321079022,
          554.4804345876,
          651.2939469860896,
          554.4804345876,
          796.5142155838241,
          554.4804345876,
          554.4804345876,
          535.1177321079022,
          457.6669221891105,
          554.4804345876,
          767.4701618642773,
          767.4701618642773,
          506.0736783883553,
          554.4804345876,
          796.5142155838241,
          670.6566494657876,
          554.4804345876,
          457.6669221891105,
          554.4804345876,
          767.4701618642773,
          670.6566494657876,
          748.1074593845792,
          651.2939469860896,
          506.0736783883553,
          506.0736783883553,
          554.4804345876,
          331.80935607107403,
          447.9855709492615,
          457.6669221891105,
          767.4701618642773,
          767.4701618642773,
          506.0736783883553,
          651.2939469860896,
          622.2498932665428,
          525.4363808680532,
          825.5582693033709,
          409.2601659898657,
          554.4804345876,
          796.5142155838241,
          544.7990833477511,
          554.4804345876,
          535.1177321079022,
          457.6669221891105,
          554.4804345876,
          767.4701618642773,
          651.2939469860896,
          525.4363808680532,
          554.4804345876,
          554.4804345876,
          554.4804345876,
          409.2601659898657,
          554.4804345876,
          767.4701618642773,
          670.6566494657876,
          651.2939469860896,
          651.2939469860896,
          554.4804345876,
          457.6669221891105,
          447.9855709492615,
          767.4701618642773,
          506.0736783883553,
          554.4804345876,
          767.4701618642773,
          941.7344841815584,
          651.2939469860896,
          554.4804345876,
          796.5142155838241,
          748.1074593845792,
          506.0736783883553,
          554.4804345876,
          554.4804345876,
          767.4701618642773,
          360.8534097906209,
          486.71097590865736,
          506.0736783883553,
          622.2498932665428,
          554.4804345876,
          447.9855709492615,
          554.4804345876,
          593.205839546996,
          767.4701618642773,
          506.0736783883553,
          796.5142155838241,
          457.6669221891105,
          554.4804345876,
          525.4363808680532,
          670.6566494657876,
          554.4804345876,
          941.7344841815584,
          535.1177321079022,
          796.5142155838241,
          544.7990833477511,
          554.4804345876,
          457.6669221891105,
          767.4701618642773,
          767.4701618642773,
          506.0736783883553,
          651.2939469860896,
          506.0736783883553,
          622.2498932665428,
          554.4804345876,
          525.4363808680532,
          748.1074593845792,
          554.4804345876,
          554.4804345876,
          767.4701618642773,
          506.0736783883553,
          506.0736783883553,
          447.9855709492615,
          748.1074593845792,
          457.6669221891105,
          651.2939469860896,
          651.2939469860896,
          622.2498932665428,
          554.4804345876,
          554.4804345876,
          360.8534097906209,
          825.5582693033709,
          767.4701618642773,
          506.0736783883553,
          506.0736783883553,
          670.6566494657876,
          554.4804345876,
          941.7344841815584,
          767.4701618642773,
          651.2939469860896,
          651.2939469860896,
          651.2939469860896,
          506.0736783883553,
          622.2498932665428,
          535.1177321079022,
          554.4804345876,
          748.1074593845792,
          554.4804345876,
          815.876918063522,
          506.0736783883553,
          554.4804345876,
          748.1074593845792,
          767.4701618642773,
          651.2939469860896,
          651.2939469860896,
          506.0736783883553,
          622.2498932665428,
          554.4804345876,
          341.49070731092297,
          554.4804345876,
          457.6669221891105,
          767.4701618642773,
          980.4598891409544,
          544.7990833477511,
          457.6669221891105,
          796.5142155838241,
          535.1177321079022,
          670.6566494657876,
          748.1074593845792,
          941.7344841815584,
          767.4701618642773,
          651.2939469860896,
          651.2939469860896,
          651.2939469860896,
          506.0736783883553,
          622.2498932665428,
          457.6669221891105,
          554.4804345876,
          748.1074593845792,
          554.4804345876,
          806.1955668236731,
          457.6669221891105,
          506.0736783883553,
          554.4804345876,
          554.4804345876,
          767.4701618642773,
          457.6669221891105,
          651.2939469860896,
          506.0736783883553,
          622.2498932665428,
          535.1177321079022,
          554.4804345876,
          447.9855709492615,
          457.6669221891105,
          767.4701618642773,
          980.4598891409544,
          506.0736783883553,
          409.2601659898657,
          796.5142155838241,
          670.6566494657876,
          447.9855709492615,
          554.4804345876,
          457.6669221891105,
          767.4701618642773,
          767.4701618642773,
          544.7990833477511,
          506.0736783883553,
          651.2939469860896,
          651.2939469860896,
          651.2939469860896,
          554.4804345876,
          554.4804345876,
          554.4804345876,
          796.5142155838241,
          544.7990833477511,
          409.2601659898657,
          535.1177321079022,
          457.6669221891105,
          554.4804345876,
          767.4701618642773,
          651.2939469860896,
          525.4363808680532,
          554.4804345876,
          941.7344841815584,
          651.2939469860896,
          748.1074593845792,
          554.4804345876,
          796.5142155838241,
          360.8534097906209,
          796.5142155838241,
          544.7990833477511,
          447.9855709492615,
          554.4804345876,
          457.6669221891105,
          457.6669221891105,
          767.4701618642773,
          651.2939469860896,
          525.4363808680532,
          554.4804345876,
          554.4804345876,
          360.8534097906209,
          554.4804345876,
          544.7990833477511,
          409.2601659898657,
          535.1177321079022,
          457.6669221891105,
          360.8534097906209,
          796.5142155838241,
          554.4804345876,
          447.9855709492615,
          554.4804345876,
          457.6669221891105,
          767.4701618642773,
          767.4701618642773,
          506.0736783883553,
          525.4363808680532,
          767.4701618642773,
          670.6566494657876,
          447.9855709492615,
          651.2939469860896,
          506.0736783883553,
          622.2498932665428,
          554.4804345876,
          554.4804345876,
          554.4804345876,
          506.0736783883553,
          331.80935607107403,
          457.6669221891105,
          622.2498932665428,
          554.4804345876,
          447.9855709492615,
          457.6669221891105,
          767.4701618642773,
          767.4701618642773,
          506.0736783883553,
          651.2939469860896,
          535.1177321079022,
          554.4804345876,
          525.4363808680532,
          360.8534097906209,
          796.5142155838241,
          544.7990833477511,
          409.2601659898657,
          457.6669221891105,
          506.0736783883553,
          670.6566494657876,
          748.1074593845792,
          941.7344841815584,
          767.4701618642773,
          651.2939469860896,
          651.2939469860896,
          651.2939469860896,
          506.0736783883553,
          622.2498932665428,
          457.6669221891105,
          748.1074593845792,
          554.4804345876,
          825.5582693033709,
          457.6669221891105,
          651.2939469860896,
          767.4701618642773,
          535.1177321079022,
          506.0736783883553,
          670.6566494657876,
          748.1074593845792,
          941.7344841815584,
          767.4701618642773,
          457.6669221891105,
          651.2939469860896,
          622.2498932665428,
          457.6669221891105,
          554.4804345876,
          767.4701618642773,
          506.0736783883553,
          670.6566494657876,
          651.2939469860896,
          767.4701618642773,
          506.0736783883553,
          341.49070731092297,
          409.2601659898657,
          506.0736783883553,
          651.2939469860896,
          941.7344841815584,
          554.4804345876,
          767.4701618642773,
          651.2939469860896,
          767.4701618642773,
          554.4804345876,
          506.0736783883553,
          457.6669221891105,
          554.4804345876,
          796.5142155838241,
          554.4804345876,
          506.0736783883553,
          554.4804345876,
          796.5142155838241,
          554.4804345876,
          554.4804345876,
          535.1177321079022,
          593.205839546996,
          554.4804345876,
          767.4701618642773,
          767.4701618642773,
          506.0736783883553,
          525.4363808680532,
          554.4804345876,
          409.2601659898657,
          699.7007031853345,
          554.4804345876,
          554.4804345876,
          544.7990833477511,
          941.7344841815584,
          670.6566494657876,
          506.0736783883553,
          554.4804345876,
          506.0736783883553,
          651.2939469860896,
          447.9855709492615,
          554.4804345876,
          748.1074593845792,
          593.205839546996,
          767.4701618642773,
          767.4701618642773,
          506.0736783883553,
          651.2939469860896,
          796.5142155838241,
          535.1177321079022,
          767.4701618642773,
          525.4363808680532,
          360.8534097906209,
          360.8534097906209,
          796.5142155838241,
          544.7990833477511,
          447.9855709492615,
          535.1177321079022,
          457.6669221891105,
          457.6669221891105,
          767.4701618642773,
          506.0736783883553,
          525.4363808680532,
          670.6566494657876,
          506.0736783883553,
          622.2498932665428,
          447.9855709492615,
          554.4804345876,
          554.4804345876,
          554.4804345876,
          457.6669221891105,
          796.5142155838241,
          554.4804345876,
          554.4804345876,
          535.1177321079022,
          457.6669221891105,
          767.4701618642773,
          767.4701618642773,
          506.0736783883553,
          525.4363808680532,
          670.6566494657876,
          651.2939469860896,
          554.4804345876,
          622.2498932665428,
          806.1955668236731,
          941.7344841815584,
          554.4804345876,
          506.0736783883553,
          554.4804345876,
          554.4804345876,
          748.1074593845792,
          941.7344841815584,
          767.4701618642773,
          767.4701618642773,
          796.5142155838241,
          796.5142155838241,
          535.1177321079022,
          554.4804345876,
          457.6669221891105,
          554.4804345876,
          825.5582693033709,
          457.6669221891105,
          360.8534097906209,
          360.8534097906209,
          796.5142155838241,
          554.4804345876,
          554.4804345876,
          457.6669221891105,
          457.6669221891105,
          767.4701618642773,
          767.4701618642773,
          506.0736783883553,
          525.4363808680532,
          767.4701618642773,
          670.6566494657876,
          447.9855709492615,
          409.2601659898657,
          748.1074593845792,
          593.205839546996,
          767.4701618642773,
          767.4701618642773,
          651.2939469860896,
          360.8534097906209,
          796.5142155838241,
          544.7990833477511,
          554.4804345876,
          535.1177321079022,
          457.6669221891105,
          767.4701618642773,
          767.4701618642773,
          506.0736783883553,
          525.4363808680532,
          447.9855709492615,
          554.4804345876,
          554.4804345876,
          554.4804345876,
          457.6669221891105,
          457.6669221891105,
          554.4804345876,
          767.4701618642773,
          670.6566494657876,
          941.7344841815584,
          651.2939469860896,
          748.1074593845792,
          554.4804345876,
          612.5685420266939,
          554.4804345876,
          796.5142155838241,
          554.4804345876,
          748.1074593845792,
          767.4701618642773,
          767.4701618642773,
          506.0736783883553,
          651.2939469860896,
          554.4804345876,
          554.4804345876,
          554.4804345876,
          360.8534097906209,
          506.0736783883553,
          622.2498932665428,
          360.8534097906209,
          341.49070731092297,
          767.4701618642773,
          515.7550296282043,
          506.0736783883553,
          554.4804345876,
          457.6669221891105,
          796.5142155838241,
          554.4804345876,
          525.4363808680532,
          360.8534097906209,
          312.4466535913761,
          767.4701618642773,
          796.5142155838241,
          554.4804345876,
          554.4804345876,
          554.4804345876,
          593.205839546996,
          554.4804345876,
          767.4701618642773,
          506.0736783883553,
          525.4363808680532,
          554.4804345876,
          554.4804345876,
          544.7990833477511,
          409.2601659898657,
          535.1177321079022,
          360.8534097906209,
          796.5142155838241,
          544.7990833477511,
          409.2601659898657,
          554.4804345876,
          457.6669221891105,
          767.4701618642773,
          767.4701618642773,
          506.0736783883553,
          525.4363808680532,
          535.1177321079022,
          554.4804345876,
          554.4804345876,
          554.4804345876,
          593.205839546996,
          554.4804345876,
          554.4804345876,
          544.7990833477511,
          651.2939469860896,
          796.5142155838241,
          554.4804345876,
          554.4804345876,
          535.1177321079022,
          457.6669221891105,
          554.4804345876,
          767.4701618642773,
          506.0736783883553,
          525.4363808680532,
          554.4804345876,
          554.4804345876,
          544.7990833477511,
          409.2601659898657,
          457.6669221891105,
          457.6669221891105,
          767.4701618642773,
          767.4701618642773,
          360.8534097906209,
          796.5142155838241,
          554.4804345876,
          409.2601659898657,
          554.4804345876,
          360.8534097906209,
          767.4701618642773,
          767.4701618642773,
          506.0736783883553,
          525.4363808680532,
          554.4804345876,
          748.1074593845792,
          941.7344841815584,
          767.4701618642773,
          360.8534097906209,
          506.0736783883553,
          622.2498932665428,
          670.6566494657876,
          506.0736783883553,
          554.4804345876,
          796.5142155838241,
          554.4804345876,
          554.4804345876,
          554.4804345876,
          767.4701618642773,
          506.0736783883553,
          525.4363808680532,
          554.4804345876,
          554.4804345876,
          554.4804345876,
          535.1177321079022,
          593.205839546996,
          767.4701618642773,
          651.2939469860896,
          554.4804345876,
          409.2601659898657,
          506.0736783883553,
          554.4804345876,
          796.5142155838241,
          554.4804345876,
          447.9855709492615,
          535.1177321079022,
          457.6669221891105,
          554.4804345876,
          767.4701618642773,
          651.2939469860896,
          719.0634056650324,
          554.4804345876,
          506.0736783883553,
          331.80935607107403,
          360.8534097906209,
          651.2939469860896,
          941.7344841815584,
          554.4804345876,
          767.4701618642773,
          554.4804345876,
          447.9855709492615,
          767.4701618642773,
          651.2939469860896,
          554.4804345876,
          457.6669221891105,
          554.4804345876,
          506.0736783883553,
          554.4804345876,
          554.4804345876,
          796.5142155838241,
          670.6566494657876,
          409.2601659898657,
          457.6669221891105,
          312.4466535913761,
          767.4701618642773,
          796.5142155838241,
          544.7990833477511,
          554.4804345876,
          554.4804345876,
          457.6669221891105,
          554.4804345876,
          767.4701618642773,
          651.2939469860896,
          525.4363808680532,
          447.9855709492615,
          554.4804345876,
          554.4804345876,
          535.1177321079022,
          457.6669221891105,
          360.8534097906209,
          767.4701618642773,
          506.0736783883553,
          554.4804345876,
          554.4804345876,
          941.7344841815584,
          544.7990833477511,
          796.5142155838241,
          554.4804345876,
          554.4804345876,
          554.4804345876,
          457.6669221891105,
          767.4701618642773,
          767.4701618642773,
          506.0736783883553,
          457.6669221891105,
          651.2939469860896,
          525.4363808680532,
          825.5582693033709,
          360.8534097906209,
          554.4804345876,
          506.0736783883553,
          506.0736783883553,
          767.4701618642773,
          767.4701618642773,
          457.6669221891105,
          651.2939469860896,
          457.6669221891105,
          506.0736783883553,
          622.2498932665428,
          535.1177321079022,
          767.4701618642773,
          525.4363808680532,
          554.4804345876,
          554.4804345876,
          360.8534097906209,
          554.4804345876,
          331.80935607107403,
          447.9855709492615,
          457.6669221891105,
          767.4701618642773,
          544.7990833477511,
          457.6669221891105,
          796.5142155838241,
          651.2939469860896,
          506.0736783883553,
          622.2498932665428,
          554.4804345876,
          554.4804345876,
          525.4363808680532,
          447.9855709492615,
          409.2601659898657,
          360.8534097906209,
          796.5142155838241,
          554.4804345876,
          447.9855709492615,
          535.1177321079022,
          457.6669221891105,
          457.6669221891105,
          767.4701618642773,
          506.0736783883553,
          525.4363808680532,
          447.9855709492615,
          554.4804345876,
          748.1074593845792,
          786.8328643439752,
          651.2939469860896,
          651.2939469860896,
          506.0736783883553,
          622.2498932665428,
          554.4804345876,
          554.4804345876,
          767.4701618642773,
          554.4804345876,
          767.4701618642773,
          651.2939469860896,
          651.2939469860896,
          651.2939469860896,
          535.1177321079022,
          554.4804345876,
          525.4363808680532,
          554.4804345876,
          409.2601659898657,
          457.6669221891105,
          544.7990833477511,
          796.5142155838241,
          554.4804345876,
          554.4804345876,
          670.6566494657876,
          506.0736783883553,
          535.1177321079022,
          796.5142155838241,
          506.0736783883553,
          554.4804345876,
          457.6669221891105,
          554.4804345876,
          767.4701618642773,
          767.4701618642773,
          447.9855709492615,
          554.4804345876,
          457.6669221891105,
          554.4804345876,
          651.2939469860896,
          457.6669221891105,
          670.6566494657876,
          544.7990833477511,
          670.6566494657876,
          554.4804345876,
          593.205839546996,
          554.4804345876,
          767.4701618642773,
          670.6566494657876,
          535.1177321079022,
          767.4701618642773,
          554.4804345876,
          941.7344841815584,
          651.2939469860896,
          748.1074593845792,
          457.6669221891105,
          360.8534097906209,
          796.5142155838241,
          554.4804345876,
          447.9855709492615,
          554.4804345876,
          457.6669221891105,
          777.151513104126,
          767.4701618642773,
          389.89746351016777,
          525.4363808680532,
          554.4804345876,
          941.7344841815584,
          651.2939469860896,
          554.4804345876,
          748.1074593845792
         ],
         "yaxis": "y"
        }
       ],
       "layout": {
        "legend": {
         "tracegroupgap": 0
        },
        "template": {
         "data": {
          "bar": [
           {
            "error_x": {
             "color": "#2a3f5f"
            },
            "error_y": {
             "color": "#2a3f5f"
            },
            "marker": {
             "line": {
              "color": "#E5ECF6",
              "width": 0.5
             },
             "pattern": {
              "fillmode": "overlay",
              "size": 10,
              "solidity": 0.2
             }
            },
            "type": "bar"
           }
          ],
          "barpolar": [
           {
            "marker": {
             "line": {
              "color": "#E5ECF6",
              "width": 0.5
             },
             "pattern": {
              "fillmode": "overlay",
              "size": 10,
              "solidity": 0.2
             }
            },
            "type": "barpolar"
           }
          ],
          "carpet": [
           {
            "aaxis": {
             "endlinecolor": "#2a3f5f",
             "gridcolor": "white",
             "linecolor": "white",
             "minorgridcolor": "white",
             "startlinecolor": "#2a3f5f"
            },
            "baxis": {
             "endlinecolor": "#2a3f5f",
             "gridcolor": "white",
             "linecolor": "white",
             "minorgridcolor": "white",
             "startlinecolor": "#2a3f5f"
            },
            "type": "carpet"
           }
          ],
          "choropleth": [
           {
            "colorbar": {
             "outlinewidth": 0,
             "ticks": ""
            },
            "type": "choropleth"
           }
          ],
          "contour": [
           {
            "colorbar": {
             "outlinewidth": 0,
             "ticks": ""
            },
            "colorscale": [
             [
              0,
              "#0d0887"
             ],
             [
              0.1111111111111111,
              "#46039f"
             ],
             [
              0.2222222222222222,
              "#7201a8"
             ],
             [
              0.3333333333333333,
              "#9c179e"
             ],
             [
              0.4444444444444444,
              "#bd3786"
             ],
             [
              0.5555555555555556,
              "#d8576b"
             ],
             [
              0.6666666666666666,
              "#ed7953"
             ],
             [
              0.7777777777777778,
              "#fb9f3a"
             ],
             [
              0.8888888888888888,
              "#fdca26"
             ],
             [
              1,
              "#f0f921"
             ]
            ],
            "type": "contour"
           }
          ],
          "contourcarpet": [
           {
            "colorbar": {
             "outlinewidth": 0,
             "ticks": ""
            },
            "type": "contourcarpet"
           }
          ],
          "heatmap": [
           {
            "colorbar": {
             "outlinewidth": 0,
             "ticks": ""
            },
            "colorscale": [
             [
              0,
              "#0d0887"
             ],
             [
              0.1111111111111111,
              "#46039f"
             ],
             [
              0.2222222222222222,
              "#7201a8"
             ],
             [
              0.3333333333333333,
              "#9c179e"
             ],
             [
              0.4444444444444444,
              "#bd3786"
             ],
             [
              0.5555555555555556,
              "#d8576b"
             ],
             [
              0.6666666666666666,
              "#ed7953"
             ],
             [
              0.7777777777777778,
              "#fb9f3a"
             ],
             [
              0.8888888888888888,
              "#fdca26"
             ],
             [
              1,
              "#f0f921"
             ]
            ],
            "type": "heatmap"
           }
          ],
          "heatmapgl": [
           {
            "colorbar": {
             "outlinewidth": 0,
             "ticks": ""
            },
            "colorscale": [
             [
              0,
              "#0d0887"
             ],
             [
              0.1111111111111111,
              "#46039f"
             ],
             [
              0.2222222222222222,
              "#7201a8"
             ],
             [
              0.3333333333333333,
              "#9c179e"
             ],
             [
              0.4444444444444444,
              "#bd3786"
             ],
             [
              0.5555555555555556,
              "#d8576b"
             ],
             [
              0.6666666666666666,
              "#ed7953"
             ],
             [
              0.7777777777777778,
              "#fb9f3a"
             ],
             [
              0.8888888888888888,
              "#fdca26"
             ],
             [
              1,
              "#f0f921"
             ]
            ],
            "type": "heatmapgl"
           }
          ],
          "histogram": [
           {
            "marker": {
             "pattern": {
              "fillmode": "overlay",
              "size": 10,
              "solidity": 0.2
             }
            },
            "type": "histogram"
           }
          ],
          "histogram2d": [
           {
            "colorbar": {
             "outlinewidth": 0,
             "ticks": ""
            },
            "colorscale": [
             [
              0,
              "#0d0887"
             ],
             [
              0.1111111111111111,
              "#46039f"
             ],
             [
              0.2222222222222222,
              "#7201a8"
             ],
             [
              0.3333333333333333,
              "#9c179e"
             ],
             [
              0.4444444444444444,
              "#bd3786"
             ],
             [
              0.5555555555555556,
              "#d8576b"
             ],
             [
              0.6666666666666666,
              "#ed7953"
             ],
             [
              0.7777777777777778,
              "#fb9f3a"
             ],
             [
              0.8888888888888888,
              "#fdca26"
             ],
             [
              1,
              "#f0f921"
             ]
            ],
            "type": "histogram2d"
           }
          ],
          "histogram2dcontour": [
           {
            "colorbar": {
             "outlinewidth": 0,
             "ticks": ""
            },
            "colorscale": [
             [
              0,
              "#0d0887"
             ],
             [
              0.1111111111111111,
              "#46039f"
             ],
             [
              0.2222222222222222,
              "#7201a8"
             ],
             [
              0.3333333333333333,
              "#9c179e"
             ],
             [
              0.4444444444444444,
              "#bd3786"
             ],
             [
              0.5555555555555556,
              "#d8576b"
             ],
             [
              0.6666666666666666,
              "#ed7953"
             ],
             [
              0.7777777777777778,
              "#fb9f3a"
             ],
             [
              0.8888888888888888,
              "#fdca26"
             ],
             [
              1,
              "#f0f921"
             ]
            ],
            "type": "histogram2dcontour"
           }
          ],
          "mesh3d": [
           {
            "colorbar": {
             "outlinewidth": 0,
             "ticks": ""
            },
            "type": "mesh3d"
           }
          ],
          "parcoords": [
           {
            "line": {
             "colorbar": {
              "outlinewidth": 0,
              "ticks": ""
             }
            },
            "type": "parcoords"
           }
          ],
          "pie": [
           {
            "automargin": true,
            "type": "pie"
           }
          ],
          "scatter": [
           {
            "fillpattern": {
             "fillmode": "overlay",
             "size": 10,
             "solidity": 0.2
            },
            "type": "scatter"
           }
          ],
          "scatter3d": [
           {
            "line": {
             "colorbar": {
              "outlinewidth": 0,
              "ticks": ""
             }
            },
            "marker": {
             "colorbar": {
              "outlinewidth": 0,
              "ticks": ""
             }
            },
            "type": "scatter3d"
           }
          ],
          "scattercarpet": [
           {
            "marker": {
             "colorbar": {
              "outlinewidth": 0,
              "ticks": ""
             }
            },
            "type": "scattercarpet"
           }
          ],
          "scattergeo": [
           {
            "marker": {
             "colorbar": {
              "outlinewidth": 0,
              "ticks": ""
             }
            },
            "type": "scattergeo"
           }
          ],
          "scattergl": [
           {
            "marker": {
             "colorbar": {
              "outlinewidth": 0,
              "ticks": ""
             }
            },
            "type": "scattergl"
           }
          ],
          "scattermapbox": [
           {
            "marker": {
             "colorbar": {
              "outlinewidth": 0,
              "ticks": ""
             }
            },
            "type": "scattermapbox"
           }
          ],
          "scatterpolar": [
           {
            "marker": {
             "colorbar": {
              "outlinewidth": 0,
              "ticks": ""
             }
            },
            "type": "scatterpolar"
           }
          ],
          "scatterpolargl": [
           {
            "marker": {
             "colorbar": {
              "outlinewidth": 0,
              "ticks": ""
             }
            },
            "type": "scatterpolargl"
           }
          ],
          "scatterternary": [
           {
            "marker": {
             "colorbar": {
              "outlinewidth": 0,
              "ticks": ""
             }
            },
            "type": "scatterternary"
           }
          ],
          "surface": [
           {
            "colorbar": {
             "outlinewidth": 0,
             "ticks": ""
            },
            "colorscale": [
             [
              0,
              "#0d0887"
             ],
             [
              0.1111111111111111,
              "#46039f"
             ],
             [
              0.2222222222222222,
              "#7201a8"
             ],
             [
              0.3333333333333333,
              "#9c179e"
             ],
             [
              0.4444444444444444,
              "#bd3786"
             ],
             [
              0.5555555555555556,
              "#d8576b"
             ],
             [
              0.6666666666666666,
              "#ed7953"
             ],
             [
              0.7777777777777778,
              "#fb9f3a"
             ],
             [
              0.8888888888888888,
              "#fdca26"
             ],
             [
              1,
              "#f0f921"
             ]
            ],
            "type": "surface"
           }
          ],
          "table": [
           {
            "cells": {
             "fill": {
              "color": "#EBF0F8"
             },
             "line": {
              "color": "white"
             }
            },
            "header": {
             "fill": {
              "color": "#C8D4E3"
             },
             "line": {
              "color": "white"
             }
            },
            "type": "table"
           }
          ]
         },
         "layout": {
          "annotationdefaults": {
           "arrowcolor": "#2a3f5f",
           "arrowhead": 0,
           "arrowwidth": 1
          },
          "autotypenumbers": "strict",
          "coloraxis": {
           "colorbar": {
            "outlinewidth": 0,
            "ticks": ""
           }
          },
          "colorscale": {
           "diverging": [
            [
             0,
             "#8e0152"
            ],
            [
             0.1,
             "#c51b7d"
            ],
            [
             0.2,
             "#de77ae"
            ],
            [
             0.3,
             "#f1b6da"
            ],
            [
             0.4,
             "#fde0ef"
            ],
            [
             0.5,
             "#f7f7f7"
            ],
            [
             0.6,
             "#e6f5d0"
            ],
            [
             0.7,
             "#b8e186"
            ],
            [
             0.8,
             "#7fbc41"
            ],
            [
             0.9,
             "#4d9221"
            ],
            [
             1,
             "#276419"
            ]
           ],
           "sequential": [
            [
             0,
             "#0d0887"
            ],
            [
             0.1111111111111111,
             "#46039f"
            ],
            [
             0.2222222222222222,
             "#7201a8"
            ],
            [
             0.3333333333333333,
             "#9c179e"
            ],
            [
             0.4444444444444444,
             "#bd3786"
            ],
            [
             0.5555555555555556,
             "#d8576b"
            ],
            [
             0.6666666666666666,
             "#ed7953"
            ],
            [
             0.7777777777777778,
             "#fb9f3a"
            ],
            [
             0.8888888888888888,
             "#fdca26"
            ],
            [
             1,
             "#f0f921"
            ]
           ],
           "sequentialminus": [
            [
             0,
             "#0d0887"
            ],
            [
             0.1111111111111111,
             "#46039f"
            ],
            [
             0.2222222222222222,
             "#7201a8"
            ],
            [
             0.3333333333333333,
             "#9c179e"
            ],
            [
             0.4444444444444444,
             "#bd3786"
            ],
            [
             0.5555555555555556,
             "#d8576b"
            ],
            [
             0.6666666666666666,
             "#ed7953"
            ],
            [
             0.7777777777777778,
             "#fb9f3a"
            ],
            [
             0.8888888888888888,
             "#fdca26"
            ],
            [
             1,
             "#f0f921"
            ]
           ]
          },
          "colorway": [
           "#636efa",
           "#EF553B",
           "#00cc96",
           "#ab63fa",
           "#FFA15A",
           "#19d3f3",
           "#FF6692",
           "#B6E880",
           "#FF97FF",
           "#FECB52"
          ],
          "font": {
           "color": "#2a3f5f"
          },
          "geo": {
           "bgcolor": "white",
           "lakecolor": "white",
           "landcolor": "#E5ECF6",
           "showlakes": true,
           "showland": true,
           "subunitcolor": "white"
          },
          "hoverlabel": {
           "align": "left"
          },
          "hovermode": "closest",
          "mapbox": {
           "style": "light"
          },
          "paper_bgcolor": "white",
          "plot_bgcolor": "#E5ECF6",
          "polar": {
           "angularaxis": {
            "gridcolor": "white",
            "linecolor": "white",
            "ticks": ""
           },
           "bgcolor": "#E5ECF6",
           "radialaxis": {
            "gridcolor": "white",
            "linecolor": "white",
            "ticks": ""
           }
          },
          "scene": {
           "xaxis": {
            "backgroundcolor": "#E5ECF6",
            "gridcolor": "white",
            "gridwidth": 2,
            "linecolor": "white",
            "showbackground": true,
            "ticks": "",
            "zerolinecolor": "white"
           },
           "yaxis": {
            "backgroundcolor": "#E5ECF6",
            "gridcolor": "white",
            "gridwidth": 2,
            "linecolor": "white",
            "showbackground": true,
            "ticks": "",
            "zerolinecolor": "white"
           },
           "zaxis": {
            "backgroundcolor": "#E5ECF6",
            "gridcolor": "white",
            "gridwidth": 2,
            "linecolor": "white",
            "showbackground": true,
            "ticks": "",
            "zerolinecolor": "white"
           }
          },
          "shapedefaults": {
           "line": {
            "color": "#2a3f5f"
           }
          },
          "ternary": {
           "aaxis": {
            "gridcolor": "white",
            "linecolor": "white",
            "ticks": ""
           },
           "baxis": {
            "gridcolor": "white",
            "linecolor": "white",
            "ticks": ""
           },
           "bgcolor": "#E5ECF6",
           "caxis": {
            "gridcolor": "white",
            "linecolor": "white",
            "ticks": ""
           }
          },
          "title": {
           "x": 0.05
          },
          "xaxis": {
           "automargin": true,
           "gridcolor": "white",
           "linecolor": "white",
           "ticks": "",
           "title": {
            "standoff": 15
           },
           "zerolinecolor": "white",
           "zerolinewidth": 2
          },
          "yaxis": {
           "automargin": true,
           "gridcolor": "white",
           "linecolor": "white",
           "ticks": "",
           "title": {
            "standoff": 15
           },
           "zerolinecolor": "white",
           "zerolinewidth": 2
          }
         }
        },
        "title": {
         "text": "Влияние размера двигателя на мощность"
        },
        "xaxis": {
         "anchor": "y",
         "domain": [
          0,
          1
         ],
         "title": {
          "text": "Размер двигателя (л)"
         }
        },
        "yaxis": {
         "anchor": "x",
         "domain": [
          0,
          1
         ],
         "title": {
          "text": "Мощность (л.с.)"
         }
        }
       }
      }
     },
     "metadata": {},
     "output_type": "display_data"
    }
   ],
   "source": [
    "model = LinearRegression()\n",
    "X = data['engine_size'].values.reshape(-1, 1)\n",
    "y = data['power']\n",
    "model.fit(X, y)\n",
    "\n",
    "# Предсказание значений\n",
    "y_pred = model.predict(X)\n",
    "\n",
    "# Построение графика с линией регрессии\n",
    "fig = px.scatter(data, x='engine_size', y='power', title='Влияние размера двигателя на мощность',\n",
    "                 labels={'engine_size': 'Размер двигателя (л)', 'power': 'Мощность (л.с.)'})\n",
    "fig.add_traces(px.line(x=data['engine_size'], y=y_pred).data)\n",
    "fig.update_traces(marker=dict(size=8, opacity=0.7),\n",
    "                  selector=dict(mode='markers'))\n",
    "fig.show()"
   ]
  },
  {
   "cell_type": "markdown",
   "metadata": {},
   "source": [
    "Гипотеза №2 Влияние стоимости на разгон \n",
    "\n",
    "На основании проведенного анализа, можно сделать вывод о существовании положительной зависимости между временем разгона автомобиля до 60 миль/час и его стоимостью. Полиномиальная регрессия, проведенная на очищенных данных (исключая строки с отрицательными значениями стоимости), показала, что стоимость автомобиля имеет тенденцию к росту с увеличением времени разгона. Это означает, что автомобили с более высоким временем разгона (то есть автомобили с меньшим ускорением) имеют склонность к более низкой стоимости, в то время как автомобили с более быстрым разгоном обычно имеют более высокую стоимость."
   ]
  },
  {
   "cell_type": "code",
   "execution_count": 25,
   "metadata": {},
   "outputs": [
    {
     "data": {
      "application/vnd.plotly.v1+json": {
       "config": {
        "plotlyServerURL": "https://plot.ly"
       },
       "data": [
        {
         "hovertemplate": "acceleration_seconds=%{x}<br>price_usd=%{y}<extra></extra>",
         "legendgroup": "",
         "marker": {
          "color": "#636efa",
          "symbol": "circle"
         },
         "mode": "markers",
         "name": "",
         "orientation": "v",
         "showlegend": false,
         "type": "scatter",
         "x": [
          4,
          2.8,
          3,
          3.2,
          2.7,
          3.1,
          3.8,
          2.8,
          3.5,
          2.5,
          3.5,
          2.4,
          3.5,
          5.4,
          2.5,
          4.4,
          3.8,
          4.8,
          4.7,
          3.8,
          2.8,
          3.6,
          3,
          3.5,
          2.8,
          4.1,
          3.8,
          2.8,
          2.5,
          3.5,
          3,
          3.8,
          3.2,
          3.5,
          3,
          4.5,
          3.5,
          3.3,
          3.9,
          3.1,
          3.4,
          5.1,
          2.8,
          2.5,
          3.9,
          2.8,
          3.8,
          3.8,
          4.1,
          4.3,
          4.8,
          3.5,
          3.8,
          5.1,
          3.2,
          3.4,
          4.4,
          2.8,
          3.2,
          3.5,
          3.6,
          4,
          4,
          3.4,
          3,
          5.4,
          2.9,
          4.7,
          3,
          3.8,
          5,
          5.3,
          3.6,
          4.1,
          2.8,
          2.8,
          4.3,
          3.6,
          4.5,
          2.9,
          3.5,
          3.3,
          2.4,
          3.4,
          4.9,
          2.5,
          4.4,
          3.8,
          4.7,
          6.5,
          3.1,
          3.7,
          2.8,
          4.2,
          4.4,
          3.9,
          2.7,
          4.7,
          2.9,
          2.5,
          3.4,
          3.1,
          3.8,
          3.5,
          3.5,
          2.8,
          4.7,
          3.4,
          2.4,
          3.8,
          3.2,
          3.2,
          3.6,
          3.3,
          3.5,
          4.2,
          4.2,
          2.9,
          3.2,
          3.6,
          3.5,
          3.7,
          3.1,
          4,
          3.5,
          3.5,
          3.5,
          2.9,
          3.6,
          3.8,
          3.6,
          4.4,
          4.5,
          2.8,
          2.9,
          3.6,
          3.1,
          3.9,
          3.7,
          4.1,
          4,
          4.9,
          5.4,
          3.5,
          3.3,
          3.6,
          3.2,
          3.8,
          3.8,
          3.5,
          2.7,
          3.7,
          3.4,
          2.4,
          3.3,
          4.9,
          2.5,
          4.4,
          3.8,
          4.8,
          3.1,
          3,
          4.2,
          4.3,
          3.9,
          3.8,
          2.8,
          4.5,
          2.8,
          2.5,
          3.5,
          3.1,
          3.8,
          3.6,
          4,
          2.8,
          5,
          3.6,
          2.9,
          3.5,
          3.1,
          3.2,
          3.9,
          3.5,
          5.1,
          2.9,
          3.4,
          3.5,
          2.8,
          3.7,
          4.1,
          3.5,
          3.5,
          2.9,
          4.9,
          5.3,
          3.5,
          2.3,
          2.9,
          3.5,
          3.1,
          3.5,
          3.5,
          2.9,
          2.9,
          2.5,
          3.5,
          2.9,
          4,
          3.4,
          3.5,
          3.5,
          2.9,
          3.2,
          2.9,
          3.5,
          3.1,
          4.1,
          3.5,
          2.9,
          3.5,
          3.5,
          3.5,
          2.7,
          3.7,
          4.2,
          4.1,
          3.7,
          4,
          3.5,
          3.6,
          2.8,
          4.4,
          4.8,
          4.6,
          4.4,
          4.6,
          4.2,
          2.9,
          3.3,
          3.5,
          2.8,
          4,
          3.8,
          4.1,
          4,
          4.6,
          3.1,
          3.2,
          2.5,
          3.4,
          3.1,
          3.5,
          3.2,
          3.5,
          4.4,
          4.2,
          4,
          3.7,
          3.5,
          3.8,
          3.1,
          3.5,
          2.4,
          2.5,
          2.5,
          2.8,
          2.5,
          2.9,
          3.5,
          3.9,
          3.5,
          5.4,
          4.7,
          3.8,
          4.8,
          4.2,
          3.8,
          3.5,
          3.2,
          3.5,
          3,
          2.8,
          3,
          3.6,
          4.8,
          3.2,
          3.4,
          2.3,
          3.1,
          2.9,
          2.8,
          3.5,
          4,
          3.2,
          3.5,
          3,
          3.5,
          3.8,
          4.8,
          2.8,
          5,
          3,
          2.9,
          4,
          3.4,
          3.8,
          2.7,
          3.8,
          3.3,
          4.9,
          2.5,
          4.4,
          4.8,
          3.1,
          3.7,
          4.9,
          4.3,
          4,
          3,
          2.7,
          3.7,
          3.9,
          2.4,
          3.5,
          3.5,
          2.5,
          4.4,
          3.8,
          4.7,
          3.1,
          3.8,
          2.7,
          4.2,
          4.4,
          2.7,
          3.5,
          3.6,
          3.5,
          3.5,
          4.4,
          3.8,
          4.8,
          4.2,
          4.4,
          3.5,
          4.1,
          3.5,
          3.3,
          3.5,
          5.4,
          2.8,
          2.8,
          3.5,
          3.6,
          2.4,
          3.5,
          3.5,
          2.5,
          4.4,
          3.8,
          4.8,
          3,
          3.7,
          2.8,
          4.2,
          4.4,
          3.9,
          2.7,
          3.5,
          3.9,
          3.5,
          4.8,
          4.4,
          3.8,
          4.7,
          2.9,
          4.2,
          3.5,
          4,
          3.5,
          3.3,
          2.9,
          3.8,
          2.9,
          3.5,
          3.8,
          3.5,
          3.9,
          4.1,
          3.6,
          2.9,
          2.8,
          3.5,
          2.1,
          4.4,
          3.2,
          3.2,
          4.2,
          2.8,
          3.3,
          3.6,
          2.8,
          4.1,
          3.8,
          4,
          4,
          5.2,
          3.5,
          2.4,
          2.5,
          2.6,
          2.5,
          2.8,
          4.9,
          2.8,
          3.5,
          3.7,
          3.1,
          4.3,
          4.6,
          4.3,
          4.3,
          4.6,
          3.6,
          3.3,
          4.9,
          3.6,
          2.9,
          3.6,
          2.9,
          4,
          4.9,
          2.9,
          2.5,
          3.7,
          3.2,
          4,
          3.6,
          3.5,
          3,
          5.2,
          3.6,
          3.2,
          3.8,
          3.5,
          3.8,
          4.7,
          2.9,
          3.2,
          3.5,
          3.8,
          4.1,
          4.9,
          4.7,
          4.2,
          3.7,
          4,
          3.5,
          3.5,
          2.8,
          4.4,
          3.1,
          3.7,
          4.9,
          4.9,
          2.9,
          2.9,
          3.6,
          3.8,
          2.7,
          3.4,
          3.3,
          2.3,
          3.5,
          3.5,
          2.5,
          4.4,
          3.8,
          4.7,
          3,
          2.6,
          4.2,
          4.4,
          3.9,
          3.9,
          2.3,
          2.7,
          2.9,
          3.2,
          3.6,
          2.3,
          3.5,
          4.9,
          4.4,
          4.8,
          3,
          3.1,
          3.5,
          3,
          3.4,
          3.5,
          3.5,
          3.8,
          4.1,
          5.2,
          2.7,
          2.5,
          2.3,
          2.7,
          3.5,
          4.4,
          3.5,
          3.5,
          3,
          3.8,
          4.2,
          2.8,
          3.6,
          3.8,
          2.9,
          2.9,
          2.5,
          3.1,
          3.1,
          3.2,
          3.7,
          3.5,
          3.5,
          3,
          5,
          4.2,
          3.6,
          2.6,
          3.2,
          3.1,
          3.5,
          2.5,
          3.4,
          3.8,
          4.2,
          2.7,
          4.4,
          3.8,
          3.5,
          3.3,
          3.2,
          3.5,
          3.5,
          3,
          3.5,
          2.9,
          3.1,
          3.6,
          4.7,
          4.9,
          4.9,
          2.9,
          3.3,
          3.5,
          3.1,
          4.2,
          4.9,
          4,
          3,
          5,
          3.4,
          3.8,
          4.7,
          5.2,
          3.6,
          2.5,
          3.5,
          3,
          2.9,
          2.5,
          3.5,
          3.1,
          4,
          3.5,
          4,
          3,
          5,
          3.2,
          4.4,
          3.3,
          4.7,
          4.3,
          2.3,
          2.7,
          2.7,
          3.7,
          3.5,
          3.6,
          2.5,
          3.5,
          3.5,
          2.8,
          2.8,
          2.8,
          3.1,
          4,
          4.2,
          4.4,
          3.9,
          4.9,
          4.9,
          2.9,
          2.5,
          3.5,
          3,
          4.1,
          3.6,
          3.5,
          3,
          4.8,
          3.6,
          3.2,
          3.8,
          3.6,
          3.6,
          3.2,
          2.9,
          3.5,
          4,
          4.9,
          2.8,
          3.3,
          3.5,
          2.7,
          4.1,
          3.5,
          4,
          2.8,
          5,
          5.4,
          3.2,
          2.5,
          3.5,
          3,
          4,
          3.3,
          3.5,
          3.2,
          2.4,
          2.5,
          3,
          2.7,
          2.2,
          2.5,
          2.8,
          3.5,
          3.5,
          3.5,
          3.5,
          2.9,
          4.4,
          3.1,
          3.9,
          3.9,
          5.4,
          3.8,
          4.7,
          4.9,
          4.2,
          4,
          6.4,
          2.9,
          3.5,
          4.1,
          2.9,
          3.8,
          5.3,
          4.9,
          4.2,
          2.9,
          2.9,
          2.5,
          3.5,
          3.1,
          3.2,
          2.9,
          3.5,
          2.8,
          5,
          3.1,
          3.2,
          3.4,
          3.6,
          3.1,
          4.9,
          2.8,
          3.3,
          3.6,
          3.1,
          4.1,
          3.5,
          4,
          2.9,
          4.8,
          2.6,
          2.8,
          3.6,
          3.1,
          3.1,
          3.5,
          3.5,
          2.9,
          4.4,
          2.8,
          2.5,
          3.5,
          2.8,
          3.8,
          3.5,
          3.5,
          3,
          5,
          3,
          3.5,
          3.4,
          3.6,
          3,
          3.8,
          3.5,
          4,
          4.9,
          2.8,
          2.5,
          3.5,
          3.1,
          5.2,
          3.6,
          4,
          2.9,
          5,
          3.6,
          3.3,
          2.4,
          3.5,
          5.4,
          3.8,
          4.7,
          3.2,
          3.8,
          3,
          2.8,
          2.5,
          3.5,
          3.4,
          3.5,
          2.8,
          4.7,
          4.2,
          3.7,
          3.5,
          3.1,
          3.2,
          3.5,
          4.4,
          3.1,
          3.6,
          2.9,
          4.2,
          2.9,
          2.5,
          3.5,
          3.1,
          4.2,
          3.9,
          4,
          4.5,
          5.1,
          3.6,
          3.8,
          4.1,
          5.4,
          2.5,
          2.4,
          4.2,
          3.5,
          3.5,
          3.8,
          3.5,
          4.4,
          3.5,
          3.8,
          3.9,
          2.9,
          3.1,
          2.9,
          2.9,
          3.2,
          3.6,
          4.5,
          4.2,
          2.9,
          2.9,
          3.3,
          3.5,
          3.1,
          4.2,
          3.9,
          4.1,
          4.1,
          4.8,
          5.3,
          3.6,
          3.5,
          3.1,
          3.8,
          4,
          3.5,
          2.7,
          3.5,
          3.3,
          2.4,
          2.8,
          2.9,
          3.1,
          3.5,
          3.5,
          4.1,
          3.5,
          3.5,
          2.8,
          4.4,
          4.4,
          5,
          4.6,
          5.1,
          3.7,
          3.8,
          2.7,
          4,
          3.3,
          4.9,
          4.4,
          4.1,
          2.9,
          4.7,
          2.8,
          3.6,
          5.2,
          3.4,
          3.9,
          4.5,
          3.5,
          4.1,
          3.5,
          4,
          3.5,
          2.9,
          5.4,
          2.9,
          4.4,
          3.8,
          4.7,
          3.1,
          3.8,
          4.5,
          5.3,
          5.2,
          4.9,
          2.9,
          2.5,
          3.5,
          3.1,
          4,
          4.4,
          4,
          2.8,
          5.3,
          3.8,
          3.7,
          3.3,
          3.8,
          3.5,
          4.4,
          3.8,
          4.7,
          4.2,
          3.5,
          3.5,
          3.5,
          4.1,
          4,
          3.5,
          4.4,
          3.1,
          3.8,
          4.9,
          3.9,
          3.6,
          3.8,
          2.8,
          2.9,
          3.1,
          3.1,
          3.4,
          3.8,
          3.1,
          2.8,
          3,
          3.5,
          4.1,
          3.7,
          3.5,
          3.6,
          3.8,
          2.5,
          3,
          3.6,
          4,
          4,
          2.8,
          3,
          3.2,
          2.7,
          3.1,
          3.8,
          2.8,
          3.5,
          2.5,
          3.5,
          3.6,
          2.5,
          2.5,
          2.8,
          2.9,
          5.1,
          2.9,
          2.5,
          3.5,
          3.1,
          4,
          3.6,
          4,
          5.3,
          5.1,
          3.6,
          2.4,
          2.5,
          2.7,
          3
         ],
         "xaxis": "x",
         "y": [
          101200,
          274390,
          333750,
          142700,
          298000,
          130000,
          118500,
          59900,
          81000,
          212000,
          201495,
          3000000,
          61000,
          70100,
          2800000,
          92950,
          104450,
          150000,
          62000,
          78000,
          75000,
          225000,
          225000,
          248000,
          2800000,
          155000,
          100200,
          517770,
          625000,
          117000,
          225000,
          72800,
          222000,
          64695,
          500000,
          45690,
          218000,
          222000,
          57000,
          210000,
          132000,
          58900,
          518000,
          625000,
          56200,
          192500,
          71800,
          68000,
          42500,
          39000,
          46100,
          142100,
          105000,
          87200,
          218000,
          222000,
          52500,
          241000,
          103500,
          146000,
          75400,
          58900,
          42900,
          78595,
          500000,
          62750,
          417826,
          150980,
          225000,
          70100,
          30090,
          88700,
          67600,
          72800,
          59900,
          274280,
          52915,
          218009,
          61000,
          159495,
          142086,
          219800,
          3000000,
          74290,
          71900,
          3000000,
          92950,
          105000,
          134300,
          26830,
          213195,
          221580,
          2800000,
          100550,
          330000,
          43090,
          1700000,
          60500,
          522000,
          625000,
          67000,
          212500,
          75000,
          155000,
          64000,
          500000,
          31015,
          304995,
          3000000,
          105000,
          192500,
          190000,
          222000,
          222000,
          115000,
          59000,
          102100,
          417826,
          304995,
          220300,
          114000,
          239100,
          192500,
          58900,
          62500,
          65290,
          219750,
          187700,
          222004,
          71350,
          146000,
          52500,
          68900,
          517770,
          276550,
          67600,
          192500,
          63700,
          221580,
          44000,
          51720,
          45790,
          88550,
          218009,
          222620,
          56200,
          200000,
          84595,
          77500,
          62500,
          157500,
          204100,
          220300,
          3000000,
          120000,
          69900,
          3000000,
          92950,
          105950,
          150000,
          204550,
          2700000,
          102900,
          330000,
          43090,
          123500,
          3400000,
          61500,
          518000,
          507000,
          109000,
          210000,
          84595,
          228000,
          42000,
          500000,
          45000,
          222004,
          276550,
          56000,
          191000,
          104000,
          69900,
          64000,
          81250,
          517700,
          330000,
          109000,
          242500,
          77000,
          72800,
          62000,
          76000,
          500000,
          30090,
          87200,
          218000,
          3000000,
          274280,
          114000,
          191000,
          142086,
          103200,
          177700,
          417650,
          625000,
          115045,
          256500,
          59895,
          152500,
          64695,
          69995,
          500000,
          218009,
          363730,
          183300,
          210000,
          73795,
          183000,
          60995,
          207000,
          203825,
          103200,
          157500,
          99800,
          100200,
          67150,
          77250,
          58900,
          64695,
          71490,
          500000,
          92950,
          150400,
          47820,
          330000,
          38170,
          102000,
          393695,
          218750,
          114000,
          256500,
          58900,
          118500,
          40590,
          52720,
          45000,
          174300,
          222004,
          625000,
          67895,
          210000,
          62290,
          304995,
          103200,
          93050,
          101200,
          59895,
          75100,
          64195,
          105000,
          211000,
          275000,
          2998000,
          3000000,
          625000,
          573966,
          3500000,
          157500,
          146000,
          219800,
          70000,
          61600,
          52200,
          100450,
          134300,
          102550,
          76400,
          114000,
          103500,
          69000,
          500000,
          417826,
          225000,
          247500,
          45790,
          307820,
          207825,
          2998000,
          202500,
          417826,
          276550,
          114000,
          84595,
          275000,
          63000,
          500000,
          103200,
          96950,
          134300,
          358000,
          30000,
          2600000,
          180000,
          201495,
          82190,
          96950,
          159495,
          76950,
          202500,
          70100,
          3000000,
          92950,
          132795,
          215500,
          80900,
          59900,
          330000,
          40000,
          500000,
          157500,
          209000,
          202500,
          3000000,
          67500,
          103200,
          2800000,
          92950,
          104200,
          133050,
          196350,
          69900,
          2600000,
          102900,
          338000,
          157500,
          150000,
          218400,
          73000,
          103200,
          92950,
          104970,
          132400,
          101200,
          71500,
          114000,
          71800,
          64195,
          118795,
          218750,
          61600,
          517700,
          240000,
          221400,
          202500,
          3000000,
          64100,
          103200,
          2800000,
          92950,
          100450,
          150980,
          225000,
          81550,
          3500000,
          102550,
          330000,
          43090,
          157500,
          146000,
          207825,
          64195,
          62250,
          92000,
          105000,
          134300,
          204550,
          102000,
          75100,
          59895,
          64995,
          126190,
          500000,
          102900,
          417650,
          205000,
          81250,
          115045,
          75695,
          42000,
          71490,
          274280,
          500000,
          103200,
          2800000,
          93050,
          210000,
          326050,
          102500,
          417650,
          218750,
          69000,
          256500,
          72800,
          70000,
          44500,
          51000,
          45000,
          146000,
          3000000,
          3000000,
          2600000,
          2300000,
          3600000,
          59900,
          393695,
          215000,
          75100,
          210000,
          63700,
          62000,
          42500,
          36120,
          45790,
          146000,
          220000,
          62000,
          222004,
          280000,
          69900,
          208800,
          72800,
          60500,
          393695,
          625000,
          75100,
          208800,
          58900,
          229000,
          62000,
          500000,
          46200,
          71000,
          308000,
          80500,
          105900,
          96950,
          150980,
          180800,
          218000,
          146000,
          94000,
          67150,
          70900,
          134300,
          100200,
          76450,
          58900,
          64000,
          61500,
          500000,
          92950,
          198950,
          77950,
          45790,
          62000,
          417826,
          274280,
          67600,
          71800,
          159495,
          314500,
          214425,
          3000000,
          71490,
          105900,
          2800000,
          92950,
          104400,
          150980,
          225000,
          2600000,
          102000,
          335550,
          43090,
          157500,
          220000,
          1550000,
          157500,
          308000,
          202500,
          3000000,
          65000,
          63100,
          92950,
          134300,
          225000,
          325000,
          63000,
          500000,
          307820,
          103200,
          80190,
          105000,
          68745,
          38170,
          157500,
          2800000,
          5200000,
          1500000,
          275000,
          93050,
          65000,
          114000,
          500000,
          84595,
          102550,
          393695,
          146000,
          96950,
          180000,
          460247,
          625000,
          110045,
          192500,
          103500,
          77400,
          64695,
          64195,
          500000,
          46815,
          102550,
          67895,
          85000,
          218009,
          162900,
          245000,
          3000000,
          304995,
          100450,
          100200,
          157500,
          92950,
          74750,
          114000,
          218400,
          103500,
          64695,
          70595,
          500000,
          103200,
          393695,
          203500,
          221580,
          47190,
          62000,
          61500,
          393695,
          222630,
          75400,
          208000,
          58900,
          96250,
          25000,
          500000,
          45000,
          307820,
          100450,
          134300,
          88550,
          218009,
          625000,
          109000,
          225000,
          417650,
          625000,
          117000,
          192500,
          72800,
          228000,
          42000,
          500000,
          48000,
          307820,
          93000,
          202500,
          150980,
          346300,
          3599000,
          1050000,
          157500,
          205600,
          114000,
          201000,
          3000000,
          67000,
          64000,
          340000,
          517770,
          256500,
          325000,
          40000,
          101000,
          330000,
          43000,
          62000,
          62000,
          417826,
          625000,
          114000,
          225000,
          58900,
          221580,
          64695,
          500000,
          45000,
          69995,
          305000,
          75000,
          68000,
          203825,
          103500,
          58900,
          63000,
          45000,
          59900,
          417826,
          222630,
          114000,
          204995,
          71800,
          243600,
          42000,
          500000,
          47190,
          88550,
          218000,
          625000,
          113000,
          225000,
          58900,
          161200,
          63000,
          310000,
          3000000,
          2800000,
          2600000,
          1000000,
          1800000,
          625000,
          517000,
          110000,
          300000,
          68000,
          65000,
          500000,
          92000,
          330000,
          205000,
          229000,
          62750,
          100000,
          135000,
          63000,
          67150,
          62195,
          28000,
          500000,
          115045,
          71800,
          393695,
          69900,
          30090,
          68000,
          147500,
          58900,
          417650,
          625000,
          115000,
          208000,
          103500,
          250000,
          63000,
          500000,
          46100,
          180000,
          218000,
          250000,
          70000,
          200000,
          61500,
          417826,
          245000,
          67800,
          211300,
          71800,
          222500,
          43995,
          500000,
          45790,
          208000,
          358000,
          218009,
          325000,
          103500,
          115000,
          152995,
          274280,
          102550,
          517770,
          625000,
          109000,
          256500,
          71800,
          180000,
          64695,
          500000,
          48000,
          190000,
          218000,
          235000,
          67600,
          225000,
          84595,
          335000,
          42000,
          63000,
          573966,
          625000,
          68000,
          210000,
          50000,
          200000,
          49000,
          500000,
          30090,
          142086,
          225000,
          3000000,
          68000,
          63700,
          100000,
          150980,
          304995,
          98395,
          190000,
          517000,
          625000,
          117000,
          168000,
          64500,
          500000,
          46000,
          102000,
          77500,
          147000,
          193000,
          103500,
          64000,
          92950,
          162000,
          67600,
          157500,
          102000,
          417826,
          625000,
          76700,
          208800,
          58900,
          69000,
          42000,
          43000,
          35000,
          151000,
          105000,
          69000,
          62500,
          3000000,
          5200000,
          102100,
          63000,
          142086,
          83250,
          65000,
          93050,
          114000,
          74700,
          77600,
          500000,
          210000,
          181100,
          417826,
          329100,
          67600,
          59900,
          147500,
          59900,
          517000,
          222620,
          115000,
          210000,
          58900,
          77000,
          43995,
          51720,
          46610,
          88550,
          218009,
          120000,
          192500,
          74000,
          50000,
          63995,
          157500,
          142086,
          202500,
          2900000,
          275000,
          517000,
          201500,
          183000,
          114000,
          71800,
          63000,
          80190,
          500000,
          62750,
          92000,
          30090,
          332500,
          81250,
          198995,
          105000,
          157500,
          25000,
          72000,
          62750,
          93000,
          71800,
          500000,
          150980,
          256500,
          254995,
          30000,
          114000,
          220000,
          59900,
          147000,
          67150,
          75100,
          58900,
          60695,
          274390,
          64700,
          517770,
          92950,
          99990,
          150800,
          210000,
          67600,
          45790,
          88800,
          38170,
          61500,
          393695,
          625000,
          76350,
          202000,
          58900,
          96000,
          25000,
          500000,
          33000,
          75250,
          201495,
          201000,
          62000,
          103200,
          92950,
          99000,
          150000,
          102500,
          149995,
          78595,
          114000,
          37500,
          38500,
          103200,
          92950,
          208800,
          71450,
          47820,
          134150,
          67600,
          71800,
          274280,
          393695,
          250000,
          171200,
          321000,
          100500,
          195000,
          517770,
          500000,
          114000,
          72800,
          78100,
          63000,
          70000,
          78450,
          625000,
          225000,
          222000,
          52915,
          101200,
          274390,
          333750,
          142700,
          298000,
          130000,
          118500,
          59900,
          81000,
          212000,
          64195,
          147000,
          3900000,
          3000000,
          2600000,
          210000,
          59900,
          393695,
          625000,
          75100,
          210000,
          58900,
          254500,
          25000,
          27205,
          30090,
          146000,
          3000000,
          3000000,
          1000000,
          2600000
         ],
         "yaxis": "y"
        }
       ],
       "layout": {
        "legend": {
         "tracegroupgap": 0
        },
        "template": {
         "data": {
          "bar": [
           {
            "error_x": {
             "color": "#2a3f5f"
            },
            "error_y": {
             "color": "#2a3f5f"
            },
            "marker": {
             "line": {
              "color": "#E5ECF6",
              "width": 0.5
             },
             "pattern": {
              "fillmode": "overlay",
              "size": 10,
              "solidity": 0.2
             }
            },
            "type": "bar"
           }
          ],
          "barpolar": [
           {
            "marker": {
             "line": {
              "color": "#E5ECF6",
              "width": 0.5
             },
             "pattern": {
              "fillmode": "overlay",
              "size": 10,
              "solidity": 0.2
             }
            },
            "type": "barpolar"
           }
          ],
          "carpet": [
           {
            "aaxis": {
             "endlinecolor": "#2a3f5f",
             "gridcolor": "white",
             "linecolor": "white",
             "minorgridcolor": "white",
             "startlinecolor": "#2a3f5f"
            },
            "baxis": {
             "endlinecolor": "#2a3f5f",
             "gridcolor": "white",
             "linecolor": "white",
             "minorgridcolor": "white",
             "startlinecolor": "#2a3f5f"
            },
            "type": "carpet"
           }
          ],
          "choropleth": [
           {
            "colorbar": {
             "outlinewidth": 0,
             "ticks": ""
            },
            "type": "choropleth"
           }
          ],
          "contour": [
           {
            "colorbar": {
             "outlinewidth": 0,
             "ticks": ""
            },
            "colorscale": [
             [
              0,
              "#0d0887"
             ],
             [
              0.1111111111111111,
              "#46039f"
             ],
             [
              0.2222222222222222,
              "#7201a8"
             ],
             [
              0.3333333333333333,
              "#9c179e"
             ],
             [
              0.4444444444444444,
              "#bd3786"
             ],
             [
              0.5555555555555556,
              "#d8576b"
             ],
             [
              0.6666666666666666,
              "#ed7953"
             ],
             [
              0.7777777777777778,
              "#fb9f3a"
             ],
             [
              0.8888888888888888,
              "#fdca26"
             ],
             [
              1,
              "#f0f921"
             ]
            ],
            "type": "contour"
           }
          ],
          "contourcarpet": [
           {
            "colorbar": {
             "outlinewidth": 0,
             "ticks": ""
            },
            "type": "contourcarpet"
           }
          ],
          "heatmap": [
           {
            "colorbar": {
             "outlinewidth": 0,
             "ticks": ""
            },
            "colorscale": [
             [
              0,
              "#0d0887"
             ],
             [
              0.1111111111111111,
              "#46039f"
             ],
             [
              0.2222222222222222,
              "#7201a8"
             ],
             [
              0.3333333333333333,
              "#9c179e"
             ],
             [
              0.4444444444444444,
              "#bd3786"
             ],
             [
              0.5555555555555556,
              "#d8576b"
             ],
             [
              0.6666666666666666,
              "#ed7953"
             ],
             [
              0.7777777777777778,
              "#fb9f3a"
             ],
             [
              0.8888888888888888,
              "#fdca26"
             ],
             [
              1,
              "#f0f921"
             ]
            ],
            "type": "heatmap"
           }
          ],
          "heatmapgl": [
           {
            "colorbar": {
             "outlinewidth": 0,
             "ticks": ""
            },
            "colorscale": [
             [
              0,
              "#0d0887"
             ],
             [
              0.1111111111111111,
              "#46039f"
             ],
             [
              0.2222222222222222,
              "#7201a8"
             ],
             [
              0.3333333333333333,
              "#9c179e"
             ],
             [
              0.4444444444444444,
              "#bd3786"
             ],
             [
              0.5555555555555556,
              "#d8576b"
             ],
             [
              0.6666666666666666,
              "#ed7953"
             ],
             [
              0.7777777777777778,
              "#fb9f3a"
             ],
             [
              0.8888888888888888,
              "#fdca26"
             ],
             [
              1,
              "#f0f921"
             ]
            ],
            "type": "heatmapgl"
           }
          ],
          "histogram": [
           {
            "marker": {
             "pattern": {
              "fillmode": "overlay",
              "size": 10,
              "solidity": 0.2
             }
            },
            "type": "histogram"
           }
          ],
          "histogram2d": [
           {
            "colorbar": {
             "outlinewidth": 0,
             "ticks": ""
            },
            "colorscale": [
             [
              0,
              "#0d0887"
             ],
             [
              0.1111111111111111,
              "#46039f"
             ],
             [
              0.2222222222222222,
              "#7201a8"
             ],
             [
              0.3333333333333333,
              "#9c179e"
             ],
             [
              0.4444444444444444,
              "#bd3786"
             ],
             [
              0.5555555555555556,
              "#d8576b"
             ],
             [
              0.6666666666666666,
              "#ed7953"
             ],
             [
              0.7777777777777778,
              "#fb9f3a"
             ],
             [
              0.8888888888888888,
              "#fdca26"
             ],
             [
              1,
              "#f0f921"
             ]
            ],
            "type": "histogram2d"
           }
          ],
          "histogram2dcontour": [
           {
            "colorbar": {
             "outlinewidth": 0,
             "ticks": ""
            },
            "colorscale": [
             [
              0,
              "#0d0887"
             ],
             [
              0.1111111111111111,
              "#46039f"
             ],
             [
              0.2222222222222222,
              "#7201a8"
             ],
             [
              0.3333333333333333,
              "#9c179e"
             ],
             [
              0.4444444444444444,
              "#bd3786"
             ],
             [
              0.5555555555555556,
              "#d8576b"
             ],
             [
              0.6666666666666666,
              "#ed7953"
             ],
             [
              0.7777777777777778,
              "#fb9f3a"
             ],
             [
              0.8888888888888888,
              "#fdca26"
             ],
             [
              1,
              "#f0f921"
             ]
            ],
            "type": "histogram2dcontour"
           }
          ],
          "mesh3d": [
           {
            "colorbar": {
             "outlinewidth": 0,
             "ticks": ""
            },
            "type": "mesh3d"
           }
          ],
          "parcoords": [
           {
            "line": {
             "colorbar": {
              "outlinewidth": 0,
              "ticks": ""
             }
            },
            "type": "parcoords"
           }
          ],
          "pie": [
           {
            "automargin": true,
            "type": "pie"
           }
          ],
          "scatter": [
           {
            "fillpattern": {
             "fillmode": "overlay",
             "size": 10,
             "solidity": 0.2
            },
            "type": "scatter"
           }
          ],
          "scatter3d": [
           {
            "line": {
             "colorbar": {
              "outlinewidth": 0,
              "ticks": ""
             }
            },
            "marker": {
             "colorbar": {
              "outlinewidth": 0,
              "ticks": ""
             }
            },
            "type": "scatter3d"
           }
          ],
          "scattercarpet": [
           {
            "marker": {
             "colorbar": {
              "outlinewidth": 0,
              "ticks": ""
             }
            },
            "type": "scattercarpet"
           }
          ],
          "scattergeo": [
           {
            "marker": {
             "colorbar": {
              "outlinewidth": 0,
              "ticks": ""
             }
            },
            "type": "scattergeo"
           }
          ],
          "scattergl": [
           {
            "marker": {
             "colorbar": {
              "outlinewidth": 0,
              "ticks": ""
             }
            },
            "type": "scattergl"
           }
          ],
          "scattermapbox": [
           {
            "marker": {
             "colorbar": {
              "outlinewidth": 0,
              "ticks": ""
             }
            },
            "type": "scattermapbox"
           }
          ],
          "scatterpolar": [
           {
            "marker": {
             "colorbar": {
              "outlinewidth": 0,
              "ticks": ""
             }
            },
            "type": "scatterpolar"
           }
          ],
          "scatterpolargl": [
           {
            "marker": {
             "colorbar": {
              "outlinewidth": 0,
              "ticks": ""
             }
            },
            "type": "scatterpolargl"
           }
          ],
          "scatterternary": [
           {
            "marker": {
             "colorbar": {
              "outlinewidth": 0,
              "ticks": ""
             }
            },
            "type": "scatterternary"
           }
          ],
          "surface": [
           {
            "colorbar": {
             "outlinewidth": 0,
             "ticks": ""
            },
            "colorscale": [
             [
              0,
              "#0d0887"
             ],
             [
              0.1111111111111111,
              "#46039f"
             ],
             [
              0.2222222222222222,
              "#7201a8"
             ],
             [
              0.3333333333333333,
              "#9c179e"
             ],
             [
              0.4444444444444444,
              "#bd3786"
             ],
             [
              0.5555555555555556,
              "#d8576b"
             ],
             [
              0.6666666666666666,
              "#ed7953"
             ],
             [
              0.7777777777777778,
              "#fb9f3a"
             ],
             [
              0.8888888888888888,
              "#fdca26"
             ],
             [
              1,
              "#f0f921"
             ]
            ],
            "type": "surface"
           }
          ],
          "table": [
           {
            "cells": {
             "fill": {
              "color": "#EBF0F8"
             },
             "line": {
              "color": "white"
             }
            },
            "header": {
             "fill": {
              "color": "#C8D4E3"
             },
             "line": {
              "color": "white"
             }
            },
            "type": "table"
           }
          ]
         },
         "layout": {
          "annotationdefaults": {
           "arrowcolor": "#2a3f5f",
           "arrowhead": 0,
           "arrowwidth": 1
          },
          "autotypenumbers": "strict",
          "coloraxis": {
           "colorbar": {
            "outlinewidth": 0,
            "ticks": ""
           }
          },
          "colorscale": {
           "diverging": [
            [
             0,
             "#8e0152"
            ],
            [
             0.1,
             "#c51b7d"
            ],
            [
             0.2,
             "#de77ae"
            ],
            [
             0.3,
             "#f1b6da"
            ],
            [
             0.4,
             "#fde0ef"
            ],
            [
             0.5,
             "#f7f7f7"
            ],
            [
             0.6,
             "#e6f5d0"
            ],
            [
             0.7,
             "#b8e186"
            ],
            [
             0.8,
             "#7fbc41"
            ],
            [
             0.9,
             "#4d9221"
            ],
            [
             1,
             "#276419"
            ]
           ],
           "sequential": [
            [
             0,
             "#0d0887"
            ],
            [
             0.1111111111111111,
             "#46039f"
            ],
            [
             0.2222222222222222,
             "#7201a8"
            ],
            [
             0.3333333333333333,
             "#9c179e"
            ],
            [
             0.4444444444444444,
             "#bd3786"
            ],
            [
             0.5555555555555556,
             "#d8576b"
            ],
            [
             0.6666666666666666,
             "#ed7953"
            ],
            [
             0.7777777777777778,
             "#fb9f3a"
            ],
            [
             0.8888888888888888,
             "#fdca26"
            ],
            [
             1,
             "#f0f921"
            ]
           ],
           "sequentialminus": [
            [
             0,
             "#0d0887"
            ],
            [
             0.1111111111111111,
             "#46039f"
            ],
            [
             0.2222222222222222,
             "#7201a8"
            ],
            [
             0.3333333333333333,
             "#9c179e"
            ],
            [
             0.4444444444444444,
             "#bd3786"
            ],
            [
             0.5555555555555556,
             "#d8576b"
            ],
            [
             0.6666666666666666,
             "#ed7953"
            ],
            [
             0.7777777777777778,
             "#fb9f3a"
            ],
            [
             0.8888888888888888,
             "#fdca26"
            ],
            [
             1,
             "#f0f921"
            ]
           ]
          },
          "colorway": [
           "#636efa",
           "#EF553B",
           "#00cc96",
           "#ab63fa",
           "#FFA15A",
           "#19d3f3",
           "#FF6692",
           "#B6E880",
           "#FF97FF",
           "#FECB52"
          ],
          "font": {
           "color": "#2a3f5f"
          },
          "geo": {
           "bgcolor": "white",
           "lakecolor": "white",
           "landcolor": "#E5ECF6",
           "showlakes": true,
           "showland": true,
           "subunitcolor": "white"
          },
          "hoverlabel": {
           "align": "left"
          },
          "hovermode": "closest",
          "mapbox": {
           "style": "light"
          },
          "paper_bgcolor": "white",
          "plot_bgcolor": "#E5ECF6",
          "polar": {
           "angularaxis": {
            "gridcolor": "white",
            "linecolor": "white",
            "ticks": ""
           },
           "bgcolor": "#E5ECF6",
           "radialaxis": {
            "gridcolor": "white",
            "linecolor": "white",
            "ticks": ""
           }
          },
          "scene": {
           "xaxis": {
            "backgroundcolor": "#E5ECF6",
            "gridcolor": "white",
            "gridwidth": 2,
            "linecolor": "white",
            "showbackground": true,
            "ticks": "",
            "zerolinecolor": "white"
           },
           "yaxis": {
            "backgroundcolor": "#E5ECF6",
            "gridcolor": "white",
            "gridwidth": 2,
            "linecolor": "white",
            "showbackground": true,
            "ticks": "",
            "zerolinecolor": "white"
           },
           "zaxis": {
            "backgroundcolor": "#E5ECF6",
            "gridcolor": "white",
            "gridwidth": 2,
            "linecolor": "white",
            "showbackground": true,
            "ticks": "",
            "zerolinecolor": "white"
           }
          },
          "shapedefaults": {
           "line": {
            "color": "#2a3f5f"
           }
          },
          "ternary": {
           "aaxis": {
            "gridcolor": "white",
            "linecolor": "white",
            "ticks": ""
           },
           "baxis": {
            "gridcolor": "white",
            "linecolor": "white",
            "ticks": ""
           },
           "bgcolor": "#E5ECF6",
           "caxis": {
            "gridcolor": "white",
            "linecolor": "white",
            "ticks": ""
           }
          },
          "title": {
           "x": 0.05
          },
          "xaxis": {
           "automargin": true,
           "gridcolor": "white",
           "linecolor": "white",
           "ticks": "",
           "title": {
            "standoff": 15
           },
           "zerolinecolor": "white",
           "zerolinewidth": 2
          },
          "yaxis": {
           "automargin": true,
           "gridcolor": "white",
           "linecolor": "white",
           "ticks": "",
           "title": {
            "standoff": 15
           },
           "zerolinecolor": "white",
           "zerolinewidth": 2
          }
         }
        },
        "title": {
         "text": "Зависимость стоимости от ускорения"
        },
        "xaxis": {
         "anchor": "y",
         "domain": [
          0,
          1
         ],
         "showgrid": true,
         "title": {
          "text": "Время разгона до 60 миль/ч (сек)"
         }
        },
        "yaxis": {
         "anchor": "x",
         "domain": [
          0,
          1
         ],
         "showgrid": true,
         "title": {
          "text": "Цена автомобиля (USD)"
         }
        }
       }
      }
     },
     "metadata": {},
     "output_type": "display_data"
    }
   ],
   "source": [
    "fig = px.scatter(data, x='acceleration_seconds', y='price_usd', title='Зависимость стоимости от ускорения')\n",
    "\n",
    "\n",
    "\n",
    "fig.update_xaxes(title_text='Время разгона до 60 миль/ч (сек)', showgrid=True)\n",
    "fig.update_yaxes(title_text='Цена автомобиля (USD)', showgrid=True)\n",
    "\n",
    "fig.show()"
   ]
  },
  {
   "cell_type": "code",
   "execution_count": 26,
   "metadata": {},
   "outputs": [
    {
     "data": {
      "application/vnd.plotly.v1+json": {
       "config": {
        "plotlyServerURL": "https://plot.ly"
       },
       "data": [
        {
         "hovertemplate": "Время разгона до 60 миль/ч (сек)=%{x}<br>Цена автомобиля (USD)=%{y}<extra></extra>",
         "legendgroup": "",
         "marker": {
          "color": "#636efa",
          "symbol": "circle"
         },
         "mode": "markers",
         "name": "",
         "orientation": "v",
         "showlegend": false,
         "type": "scatter",
         "x": [
          4,
          2.8,
          3,
          3.2,
          2.7,
          3.1,
          3.8,
          2.8,
          3.5,
          2.5,
          3.5,
          2.4,
          3.5,
          5.4,
          2.5,
          4.4,
          3.8,
          4.8,
          4.7,
          3.8,
          2.8,
          3.6,
          3,
          3.5,
          2.8,
          4.1,
          3.8,
          2.8,
          2.5,
          3.5,
          3,
          3.8,
          3.2,
          3.5,
          3,
          4.5,
          3.5,
          3.3,
          3.9,
          3.1,
          3.4,
          5.1,
          2.8,
          2.5,
          3.9,
          2.8,
          3.8,
          3.8,
          4.1,
          4.3,
          4.8,
          3.5,
          3.8,
          5.1,
          3.2,
          3.4,
          4.4,
          2.8,
          3.2,
          3.5,
          3.6,
          4,
          4,
          3.4,
          3,
          5.4,
          2.9,
          4.7,
          3,
          3.8,
          5,
          5.3,
          3.6,
          4.1,
          2.8,
          2.8,
          4.3,
          3.6,
          4.5,
          2.9,
          3.5,
          3.3,
          2.4,
          3.4,
          4.9,
          2.5,
          4.4,
          3.8,
          4.7,
          6.5,
          3.1,
          3.7,
          2.8,
          4.2,
          4.4,
          3.9,
          2.7,
          4.7,
          2.9,
          2.5,
          3.4,
          3.1,
          3.8,
          3.5,
          3.5,
          2.8,
          4.7,
          3.4,
          2.4,
          3.8,
          3.2,
          3.2,
          3.6,
          3.3,
          3.5,
          4.2,
          4.2,
          2.9,
          3.2,
          3.6,
          3.5,
          3.7,
          3.1,
          4,
          3.5,
          3.5,
          3.5,
          2.9,
          3.6,
          3.8,
          3.6,
          4.4,
          4.5,
          2.8,
          2.9,
          3.6,
          3.1,
          3.9,
          3.7,
          4.1,
          4,
          4.9,
          5.4,
          3.5,
          3.3,
          3.6,
          3.2,
          3.8,
          3.8,
          3.5,
          2.7,
          3.7,
          3.4,
          2.4,
          3.3,
          4.9,
          2.5,
          4.4,
          3.8,
          4.8,
          3.1,
          3,
          4.2,
          4.3,
          3.9,
          3.8,
          2.8,
          4.5,
          2.8,
          2.5,
          3.5,
          3.1,
          3.8,
          3.6,
          4,
          2.8,
          5,
          3.6,
          2.9,
          3.5,
          3.1,
          3.2,
          3.9,
          3.5,
          5.1,
          2.9,
          3.4,
          3.5,
          2.8,
          3.7,
          4.1,
          3.5,
          3.5,
          2.9,
          4.9,
          5.3,
          3.5,
          2.3,
          2.9,
          3.5,
          3.1,
          3.5,
          3.5,
          2.9,
          2.9,
          2.5,
          3.5,
          2.9,
          4,
          3.4,
          3.5,
          3.5,
          2.9,
          3.2,
          2.9,
          3.5,
          3.1,
          4.1,
          3.5,
          2.9,
          3.5,
          3.5,
          3.5,
          2.7,
          3.7,
          4.2,
          4.1,
          3.7,
          4,
          3.5,
          3.6,
          2.8,
          4.4,
          4.8,
          4.6,
          4.4,
          4.6,
          4.2,
          2.9,
          3.3,
          3.5,
          2.8,
          4,
          3.8,
          4.1,
          4,
          4.6,
          3.1,
          3.2,
          2.5,
          3.4,
          3.1,
          3.5,
          3.2,
          3.5,
          4.4,
          4.2,
          4,
          3.7,
          3.5,
          3.8,
          3.1,
          3.5,
          2.4,
          2.5,
          2.5,
          2.8,
          2.5,
          2.9,
          3.5,
          3.9,
          3.5,
          5.4,
          4.7,
          3.8,
          4.8,
          4.2,
          3.8,
          3.5,
          3.2,
          3.5,
          3,
          2.8,
          3,
          3.6,
          4.8,
          3.2,
          3.4,
          2.3,
          3.1,
          2.9,
          2.8,
          3.5,
          4,
          3.2,
          3.5,
          3,
          3.5,
          3.8,
          4.8,
          2.8,
          5,
          3,
          2.9,
          4,
          3.4,
          3.8,
          2.7,
          3.8,
          3.3,
          4.9,
          2.5,
          4.4,
          4.8,
          3.1,
          3.7,
          4.9,
          4.3,
          4,
          3,
          2.7,
          3.7,
          3.9,
          2.4,
          3.5,
          3.5,
          2.5,
          4.4,
          3.8,
          4.7,
          3.1,
          3.8,
          2.7,
          4.2,
          4.4,
          2.7,
          3.5,
          3.6,
          3.5,
          3.5,
          4.4,
          3.8,
          4.8,
          4.2,
          4.4,
          3.5,
          4.1,
          3.5,
          3.3,
          3.5,
          5.4,
          2.8,
          2.8,
          3.5,
          3.6,
          2.4,
          3.5,
          3.5,
          2.5,
          4.4,
          3.8,
          4.8,
          3,
          3.7,
          2.8,
          4.2,
          4.4,
          3.9,
          2.7,
          3.5,
          3.9,
          3.5,
          4.8,
          4.4,
          3.8,
          4.7,
          2.9,
          4.2,
          3.5,
          4,
          3.5,
          3.3,
          2.9,
          3.8,
          2.9,
          3.5,
          3.8,
          3.5,
          3.9,
          4.1,
          3.6,
          2.9,
          2.8,
          3.5,
          2.1,
          4.4,
          3.2,
          3.2,
          4.2,
          2.8,
          3.3,
          3.6,
          2.8,
          4.1,
          3.8,
          4,
          4,
          5.2,
          3.5,
          2.4,
          2.5,
          2.6,
          2.5,
          2.8,
          4.9,
          2.8,
          3.5,
          3.7,
          3.1,
          4.3,
          4.6,
          4.3,
          4.3,
          4.6,
          3.6,
          3.3,
          4.9,
          3.6,
          2.9,
          3.6,
          2.9,
          4,
          4.9,
          2.9,
          2.5,
          3.7,
          3.2,
          4,
          3.6,
          3.5,
          3,
          5.2,
          3.6,
          3.2,
          3.8,
          3.5,
          3.8,
          4.7,
          2.9,
          3.2,
          3.5,
          3.8,
          4.1,
          4.9,
          4.7,
          4.2,
          3.7,
          4,
          3.5,
          3.5,
          2.8,
          4.4,
          3.1,
          3.7,
          4.9,
          4.9,
          2.9,
          2.9,
          3.6,
          3.8,
          2.7,
          3.4,
          3.3,
          2.3,
          3.5,
          3.5,
          2.5,
          4.4,
          3.8,
          4.7,
          3,
          2.6,
          4.2,
          4.4,
          3.9,
          3.9,
          2.3,
          2.7,
          2.9,
          3.2,
          3.6,
          2.3,
          3.5,
          4.9,
          4.4,
          4.8,
          3,
          3.1,
          3.5,
          3,
          3.4,
          3.5,
          3.5,
          3.8,
          4.1,
          5.2,
          2.7,
          2.5,
          2.3,
          2.7,
          3.5,
          4.4,
          3.5,
          3.5,
          3,
          3.8,
          4.2,
          2.8,
          3.6,
          3.8,
          2.9,
          2.9,
          2.5,
          3.1,
          3.1,
          3.2,
          3.7,
          3.5,
          3.5,
          3,
          5,
          4.2,
          3.6,
          2.6,
          3.2,
          3.1,
          3.5,
          2.5,
          3.4,
          3.8,
          4.2,
          2.7,
          4.4,
          3.8,
          3.5,
          3.3,
          3.2,
          3.5,
          3.5,
          3,
          3.5,
          2.9,
          3.1,
          3.6,
          4.7,
          4.9,
          4.9,
          2.9,
          3.3,
          3.5,
          3.1,
          4.2,
          4.9,
          4,
          3,
          5,
          3.4,
          3.8,
          4.7,
          5.2,
          3.6,
          2.5,
          3.5,
          3,
          2.9,
          2.5,
          3.5,
          3.1,
          4,
          3.5,
          4,
          3,
          5,
          3.2,
          4.4,
          3.3,
          4.7,
          4.3,
          2.3,
          2.7,
          2.7,
          3.7,
          3.5,
          3.6,
          2.5,
          3.5,
          3.5,
          2.8,
          2.8,
          2.8,
          3.1,
          4,
          4.2,
          4.4,
          3.9,
          4.9,
          4.9,
          2.9,
          2.5,
          3.5,
          3,
          4.1,
          3.6,
          3.5,
          3,
          4.8,
          3.6,
          3.2,
          3.8,
          3.6,
          3.6,
          3.2,
          2.9,
          3.5,
          4,
          4.9,
          2.8,
          3.3,
          3.5,
          2.7,
          4.1,
          3.5,
          4,
          2.8,
          5,
          5.4,
          3.2,
          2.5,
          3.5,
          3,
          4,
          3.3,
          3.5,
          3.2,
          2.4,
          2.5,
          3,
          2.7,
          2.2,
          2.5,
          2.8,
          3.5,
          3.5,
          3.5,
          3.5,
          2.9,
          4.4,
          3.1,
          3.9,
          3.9,
          5.4,
          3.8,
          4.7,
          4.9,
          4.2,
          4,
          6.4,
          2.9,
          3.5,
          4.1,
          2.9,
          3.8,
          5.3,
          4.9,
          4.2,
          2.9,
          2.9,
          2.5,
          3.5,
          3.1,
          3.2,
          2.9,
          3.5,
          2.8,
          5,
          3.1,
          3.2,
          3.4,
          3.6,
          3.1,
          4.9,
          2.8,
          3.3,
          3.6,
          3.1,
          4.1,
          3.5,
          4,
          2.9,
          4.8,
          2.6,
          2.8,
          3.6,
          3.1,
          3.1,
          3.5,
          3.5,
          2.9,
          4.4,
          2.8,
          2.5,
          3.5,
          2.8,
          3.8,
          3.5,
          3.5,
          3,
          5,
          3,
          3.5,
          3.4,
          3.6,
          3,
          3.8,
          3.5,
          4,
          4.9,
          2.8,
          2.5,
          3.5,
          3.1,
          5.2,
          3.6,
          4,
          2.9,
          5,
          3.6,
          3.3,
          2.4,
          3.5,
          5.4,
          3.8,
          4.7,
          3.2,
          3.8,
          3,
          2.8,
          2.5,
          3.5,
          3.4,
          3.5,
          2.8,
          4.7,
          4.2,
          3.7,
          3.5,
          3.1,
          3.2,
          3.5,
          4.4,
          3.1,
          3.6,
          2.9,
          4.2,
          2.9,
          2.5,
          3.5,
          3.1,
          4.2,
          3.9,
          4,
          4.5,
          5.1,
          3.6,
          3.8,
          4.1,
          5.4,
          2.5,
          2.4,
          4.2,
          3.5,
          3.5,
          3.8,
          3.5,
          4.4,
          3.5,
          3.8,
          3.9,
          2.9,
          3.1,
          2.9,
          2.9,
          3.2,
          3.6,
          4.5,
          4.2,
          2.9,
          2.9,
          3.3,
          3.5,
          3.1,
          4.2,
          3.9,
          4.1,
          4.1,
          4.8,
          5.3,
          3.6,
          3.5,
          3.1,
          3.8,
          4,
          3.5,
          2.7,
          3.5,
          3.3,
          2.4,
          2.8,
          2.9,
          3.1,
          3.5,
          3.5,
          4.1,
          3.5,
          3.5,
          2.8,
          4.4,
          4.4,
          5,
          4.6,
          5.1,
          3.7,
          3.8,
          2.7,
          4,
          3.3,
          4.9,
          4.4,
          4.1,
          2.9,
          4.7,
          2.8,
          3.6,
          5.2,
          3.4,
          3.9,
          4.5,
          3.5,
          4.1,
          3.5,
          4,
          3.5,
          2.9,
          5.4,
          2.9,
          4.4,
          3.8,
          4.7,
          3.1,
          3.8,
          4.5,
          5.3,
          5.2,
          4.9,
          2.9,
          2.5,
          3.5,
          3.1,
          4,
          4.4,
          4,
          2.8,
          5.3,
          3.8,
          3.7,
          3.3,
          3.8,
          3.5,
          4.4,
          3.8,
          4.7,
          4.2,
          3.5,
          3.5,
          3.5,
          4.1,
          4,
          3.5,
          4.4,
          3.1,
          3.8,
          4.9,
          3.9,
          3.6,
          3.8,
          2.8,
          2.9,
          3.1,
          3.1,
          3.4,
          3.8,
          3.1,
          2.8,
          3,
          3.5,
          4.1,
          3.7,
          3.5,
          3.6,
          3.8,
          2.5,
          3,
          3.6,
          4,
          4,
          2.8,
          3,
          3.2,
          2.7,
          3.1,
          3.8,
          2.8,
          3.5,
          2.5,
          3.5,
          3.6,
          2.5,
          2.5,
          2.8,
          2.9,
          5.1,
          2.9,
          2.5,
          3.5,
          3.1,
          4,
          3.6,
          4,
          5.3,
          5.1,
          3.6,
          2.4,
          2.5,
          2.7,
          3
         ],
         "xaxis": "x",
         "y": [
          101200,
          274390,
          333750,
          142700,
          298000,
          130000,
          118500,
          59900,
          81000,
          212000,
          201495,
          3000000,
          61000,
          70100,
          2800000,
          92950,
          104450,
          150000,
          62000,
          78000,
          75000,
          225000,
          225000,
          248000,
          2800000,
          155000,
          100200,
          517770,
          625000,
          117000,
          225000,
          72800,
          222000,
          64695,
          500000,
          45690,
          218000,
          222000,
          57000,
          210000,
          132000,
          58900,
          518000,
          625000,
          56200,
          192500,
          71800,
          68000,
          42500,
          39000,
          46100,
          142100,
          105000,
          87200,
          218000,
          222000,
          52500,
          241000,
          103500,
          146000,
          75400,
          58900,
          42900,
          78595,
          500000,
          62750,
          417826,
          150980,
          225000,
          70100,
          30090,
          88700,
          67600,
          72800,
          59900,
          274280,
          52915,
          218009,
          61000,
          159495,
          142086,
          219800,
          3000000,
          74290,
          71900,
          3000000,
          92950,
          105000,
          134300,
          26830,
          213195,
          221580,
          2800000,
          100550,
          330000,
          43090,
          1700000,
          60500,
          522000,
          625000,
          67000,
          212500,
          75000,
          155000,
          64000,
          500000,
          31015,
          304995,
          3000000,
          105000,
          192500,
          190000,
          222000,
          222000,
          115000,
          59000,
          102100,
          417826,
          304995,
          220300,
          114000,
          239100,
          192500,
          58900,
          62500,
          65290,
          219750,
          187700,
          222004,
          71350,
          146000,
          52500,
          68900,
          517770,
          276550,
          67600,
          192500,
          63700,
          221580,
          44000,
          51720,
          45790,
          88550,
          218009,
          222620,
          56200,
          200000,
          84595,
          77500,
          62500,
          157500,
          204100,
          220300,
          3000000,
          120000,
          69900,
          3000000,
          92950,
          105950,
          150000,
          204550,
          2700000,
          102900,
          330000,
          43090,
          123500,
          3400000,
          61500,
          518000,
          507000,
          109000,
          210000,
          84595,
          228000,
          42000,
          500000,
          45000,
          222004,
          276550,
          56000,
          191000,
          104000,
          69900,
          64000,
          81250,
          517700,
          330000,
          109000,
          242500,
          77000,
          72800,
          62000,
          76000,
          500000,
          30090,
          87200,
          218000,
          3000000,
          274280,
          114000,
          191000,
          142086,
          103200,
          177700,
          417650,
          625000,
          115045,
          256500,
          59895,
          152500,
          64695,
          69995,
          500000,
          218009,
          363730,
          183300,
          210000,
          73795,
          183000,
          60995,
          207000,
          203825,
          103200,
          157500,
          99800,
          100200,
          67150,
          77250,
          58900,
          64695,
          71490,
          500000,
          92950,
          150400,
          47820,
          330000,
          38170,
          102000,
          393695,
          218750,
          114000,
          256500,
          58900,
          118500,
          40590,
          52720,
          45000,
          174300,
          222004,
          625000,
          67895,
          210000,
          62290,
          304995,
          103200,
          93050,
          101200,
          59895,
          75100,
          64195,
          105000,
          211000,
          275000,
          2998000,
          3000000,
          625000,
          573966,
          3500000,
          157500,
          146000,
          219800,
          70000,
          61600,
          52200,
          100450,
          134300,
          102550,
          76400,
          114000,
          103500,
          69000,
          500000,
          417826,
          225000,
          247500,
          45790,
          307820,
          207825,
          2998000,
          202500,
          417826,
          276550,
          114000,
          84595,
          275000,
          63000,
          500000,
          103200,
          96950,
          134300,
          358000,
          30000,
          2600000,
          180000,
          201495,
          82190,
          96950,
          159495,
          76950,
          202500,
          70100,
          3000000,
          92950,
          132795,
          215500,
          80900,
          59900,
          330000,
          40000,
          500000,
          157500,
          209000,
          202500,
          3000000,
          67500,
          103200,
          2800000,
          92950,
          104200,
          133050,
          196350,
          69900,
          2600000,
          102900,
          338000,
          157500,
          150000,
          218400,
          73000,
          103200,
          92950,
          104970,
          132400,
          101200,
          71500,
          114000,
          71800,
          64195,
          118795,
          218750,
          61600,
          517700,
          240000,
          221400,
          202500,
          3000000,
          64100,
          103200,
          2800000,
          92950,
          100450,
          150980,
          225000,
          81550,
          3500000,
          102550,
          330000,
          43090,
          157500,
          146000,
          207825,
          64195,
          62250,
          92000,
          105000,
          134300,
          204550,
          102000,
          75100,
          59895,
          64995,
          126190,
          500000,
          102900,
          417650,
          205000,
          81250,
          115045,
          75695,
          42000,
          71490,
          274280,
          500000,
          103200,
          2800000,
          93050,
          210000,
          326050,
          102500,
          417650,
          218750,
          69000,
          256500,
          72800,
          70000,
          44500,
          51000,
          45000,
          146000,
          3000000,
          3000000,
          2600000,
          2300000,
          3600000,
          59900,
          393695,
          215000,
          75100,
          210000,
          63700,
          62000,
          42500,
          36120,
          45790,
          146000,
          220000,
          62000,
          222004,
          280000,
          69900,
          208800,
          72800,
          60500,
          393695,
          625000,
          75100,
          208800,
          58900,
          229000,
          62000,
          500000,
          46200,
          71000,
          308000,
          80500,
          105900,
          96950,
          150980,
          180800,
          218000,
          146000,
          94000,
          67150,
          70900,
          134300,
          100200,
          76450,
          58900,
          64000,
          61500,
          500000,
          92950,
          198950,
          77950,
          45790,
          62000,
          417826,
          274280,
          67600,
          71800,
          159495,
          314500,
          214425,
          3000000,
          71490,
          105900,
          2800000,
          92950,
          104400,
          150980,
          225000,
          2600000,
          102000,
          335550,
          43090,
          157500,
          220000,
          1550000,
          157500,
          308000,
          202500,
          3000000,
          65000,
          63100,
          92950,
          134300,
          225000,
          325000,
          63000,
          500000,
          307820,
          103200,
          80190,
          105000,
          68745,
          38170,
          157500,
          2800000,
          5200000,
          1500000,
          275000,
          93050,
          65000,
          114000,
          500000,
          84595,
          102550,
          393695,
          146000,
          96950,
          180000,
          460247,
          625000,
          110045,
          192500,
          103500,
          77400,
          64695,
          64195,
          500000,
          46815,
          102550,
          67895,
          85000,
          218009,
          162900,
          245000,
          3000000,
          304995,
          100450,
          100200,
          157500,
          92950,
          74750,
          114000,
          218400,
          103500,
          64695,
          70595,
          500000,
          103200,
          393695,
          203500,
          221580,
          47190,
          62000,
          61500,
          393695,
          222630,
          75400,
          208000,
          58900,
          96250,
          25000,
          500000,
          45000,
          307820,
          100450,
          134300,
          88550,
          218009,
          625000,
          109000,
          225000,
          417650,
          625000,
          117000,
          192500,
          72800,
          228000,
          42000,
          500000,
          48000,
          307820,
          93000,
          202500,
          150980,
          346300,
          3599000,
          1050000,
          157500,
          205600,
          114000,
          201000,
          3000000,
          67000,
          64000,
          340000,
          517770,
          256500,
          325000,
          40000,
          101000,
          330000,
          43000,
          62000,
          62000,
          417826,
          625000,
          114000,
          225000,
          58900,
          221580,
          64695,
          500000,
          45000,
          69995,
          305000,
          75000,
          68000,
          203825,
          103500,
          58900,
          63000,
          45000,
          59900,
          417826,
          222630,
          114000,
          204995,
          71800,
          243600,
          42000,
          500000,
          47190,
          88550,
          218000,
          625000,
          113000,
          225000,
          58900,
          161200,
          63000,
          310000,
          3000000,
          2800000,
          2600000,
          1000000,
          1800000,
          625000,
          517000,
          110000,
          300000,
          68000,
          65000,
          500000,
          92000,
          330000,
          205000,
          229000,
          62750,
          100000,
          135000,
          63000,
          67150,
          62195,
          28000,
          500000,
          115045,
          71800,
          393695,
          69900,
          30090,
          68000,
          147500,
          58900,
          417650,
          625000,
          115000,
          208000,
          103500,
          250000,
          63000,
          500000,
          46100,
          180000,
          218000,
          250000,
          70000,
          200000,
          61500,
          417826,
          245000,
          67800,
          211300,
          71800,
          222500,
          43995,
          500000,
          45790,
          208000,
          358000,
          218009,
          325000,
          103500,
          115000,
          152995,
          274280,
          102550,
          517770,
          625000,
          109000,
          256500,
          71800,
          180000,
          64695,
          500000,
          48000,
          190000,
          218000,
          235000,
          67600,
          225000,
          84595,
          335000,
          42000,
          63000,
          573966,
          625000,
          68000,
          210000,
          50000,
          200000,
          49000,
          500000,
          30090,
          142086,
          225000,
          3000000,
          68000,
          63700,
          100000,
          150980,
          304995,
          98395,
          190000,
          517000,
          625000,
          117000,
          168000,
          64500,
          500000,
          46000,
          102000,
          77500,
          147000,
          193000,
          103500,
          64000,
          92950,
          162000,
          67600,
          157500,
          102000,
          417826,
          625000,
          76700,
          208800,
          58900,
          69000,
          42000,
          43000,
          35000,
          151000,
          105000,
          69000,
          62500,
          3000000,
          5200000,
          102100,
          63000,
          142086,
          83250,
          65000,
          93050,
          114000,
          74700,
          77600,
          500000,
          210000,
          181100,
          417826,
          329100,
          67600,
          59900,
          147500,
          59900,
          517000,
          222620,
          115000,
          210000,
          58900,
          77000,
          43995,
          51720,
          46610,
          88550,
          218009,
          120000,
          192500,
          74000,
          50000,
          63995,
          157500,
          142086,
          202500,
          2900000,
          275000,
          517000,
          201500,
          183000,
          114000,
          71800,
          63000,
          80190,
          500000,
          62750,
          92000,
          30090,
          332500,
          81250,
          198995,
          105000,
          157500,
          25000,
          72000,
          62750,
          93000,
          71800,
          500000,
          150980,
          256500,
          254995,
          30000,
          114000,
          220000,
          59900,
          147000,
          67150,
          75100,
          58900,
          60695,
          274390,
          64700,
          517770,
          92950,
          99990,
          150800,
          210000,
          67600,
          45790,
          88800,
          38170,
          61500,
          393695,
          625000,
          76350,
          202000,
          58900,
          96000,
          25000,
          500000,
          33000,
          75250,
          201495,
          201000,
          62000,
          103200,
          92950,
          99000,
          150000,
          102500,
          149995,
          78595,
          114000,
          37500,
          38500,
          103200,
          92950,
          208800,
          71450,
          47820,
          134150,
          67600,
          71800,
          274280,
          393695,
          250000,
          171200,
          321000,
          100500,
          195000,
          517770,
          500000,
          114000,
          72800,
          78100,
          63000,
          70000,
          78450,
          625000,
          225000,
          222000,
          52915,
          101200,
          274390,
          333750,
          142700,
          298000,
          130000,
          118500,
          59900,
          81000,
          212000,
          64195,
          147000,
          3900000,
          3000000,
          2600000,
          210000,
          59900,
          393695,
          625000,
          75100,
          210000,
          58900,
          254500,
          25000,
          27205,
          30090,
          146000,
          3000000,
          3000000,
          1000000,
          2600000
         ],
         "yaxis": "y"
        },
        {
         "line": {
          "color": "red"
         },
         "mode": "lines",
         "name": "Polynomial Regression",
         "type": "scatter",
         "x": [
          2.1,
          2.1444444444444444,
          2.188888888888889,
          2.2333333333333334,
          2.2777777777777777,
          2.3222222222222224,
          2.3666666666666667,
          2.4111111111111114,
          2.4555555555555557,
          2.5,
          2.5444444444444447,
          2.588888888888889,
          2.6333333333333333,
          2.677777777777778,
          2.7222222222222223,
          2.7666666666666666,
          2.8111111111111113,
          2.8555555555555556,
          2.9000000000000004,
          2.9444444444444446,
          2.988888888888889,
          3.033333333333333,
          3.077777777777778,
          3.1222222222222227,
          3.166666666666667,
          3.2111111111111112,
          3.2555555555555555,
          3.3,
          3.3444444444444446,
          3.3888888888888893,
          3.4333333333333336,
          3.477777777777778,
          3.522222222222222,
          3.566666666666667,
          3.611111111111111,
          3.655555555555556,
          3.7,
          3.7444444444444445,
          3.7888888888888888,
          3.8333333333333335,
          3.877777777777778,
          3.9222222222222225,
          3.966666666666667,
          4.011111111111111,
          4.055555555555555,
          4.1,
          4.144444444444445,
          4.188888888888889,
          4.233333333333333,
          4.277777777777779,
          4.322222222222223,
          4.366666666666667,
          4.411111111111111,
          4.455555555555556,
          4.5,
          4.544444444444444,
          4.588888888888889,
          4.633333333333333,
          4.677777777777778,
          4.722222222222222,
          4.7666666666666675,
          4.811111111111112,
          4.855555555555556,
          4.9,
          4.944444444444445,
          4.988888888888889,
          5.033333333333333,
          5.0777777777777775,
          5.122222222222222,
          5.166666666666667,
          5.211111111111111,
          5.255555555555556,
          5.300000000000001,
          5.344444444444445,
          5.388888888888889,
          5.433333333333334,
          5.477777777777778,
          5.522222222222222,
          5.566666666666666,
          5.611111111111111,
          5.655555555555556,
          5.7,
          5.7444444444444445,
          5.78888888888889,
          5.833333333333334,
          5.877777777777778,
          5.9222222222222225,
          5.966666666666667,
          6.011111111111111,
          6.055555555555555,
          6.1,
          6.144444444444444,
          6.18888888888889,
          6.233333333333334,
          6.277777777777779,
          6.322222222222223,
          6.366666666666667,
          6.411111111111111,
          6.455555555555556,
          6.5
         ],
         "y": [
          306.35170888528955,
          319.5301546357125,
          332.2714277349021,
          344.58348821656887,
          356.4742961144268,
          367.95181146218874,
          379.02399429356683,
          389.6988046422741,
          399.9842025420219,
          409.88814802652496,
          419.41860112949394,
          428.583521884643,
          437.39087032568386,
          445.8486064863298,
          453.96469040029274,
          461.7470821012864,
          469.2037416230221,
          476.34262899921373,
          483.1717042635735,
          489.69892744981325,
          495.93225859164704,
          501.8796577227863,
          507.549084876945,
          512.9485000878344,
          518.0858633891678,
          522.9691348146573,
          527.6062743980171,
          532.0052421729577,
          536.1739981731937,
          540.1205024324365,
          543.8527149843992,
          547.3785958627948,
          550.706105101335,
          553.8432027337337,
          556.7978487937019,
          559.5780033149538,
          562.1916263312012,
          564.6466778761571,
          566.9511179835342,
          569.1129066870442,
          571.1400040204014,
          573.0403700173176,
          574.8219647115059,
          576.4927481366778,
          578.0606803265462,
          579.5337213148243,
          580.9198311352263,
          582.226969821462,
          583.4630974072454,
          584.6361739262891,
          585.7541594123047,
          586.8250138990077,
          587.8566974201074,
          588.8571700093178,
          589.8343917003529,
          590.7963225269239,
          591.750922522742,
          592.7061517215222,
          593.6699701569776,
          594.6503378628192,
          595.6552148727603,
          596.692561220513,
          597.7703369397912,
          598.8965020643061,
          600.0790166277709,
          601.3258406638986,
          602.6449342064004,
          604.0442572889913,
          605.5317699453833,
          607.1154322092877,
          608.8032041144186,
          610.603045694487,
          612.5229169832071,
          614.5707780142909,
          616.7545888214515,
          619.0823094384002,
          621.5618998988537,
          624.2013202365195,
          627.0085304851116,
          629.991490678344,
          633.1581608499289,
          636.5165010335802,
          640.0744712630083,
          643.8400315719261,
          647.8211419940469,
          652.0257625630836,
          656.4618533127484,
          661.1373742767562,
          666.0602854888145,
          671.2385469826402,
          676.6801187919461,
          682.392960950441,
          688.3850334918423,
          694.6642964498594,
          701.2387098582064,
          708.1162337505964,
          715.3048281607396,
          722.81245312235,
          730.6470686691416,
          738.8166348348266
         ]
        }
       ],
       "layout": {
        "legend": {
         "tracegroupgap": 0
        },
        "template": {
         "data": {
          "bar": [
           {
            "error_x": {
             "color": "#2a3f5f"
            },
            "error_y": {
             "color": "#2a3f5f"
            },
            "marker": {
             "line": {
              "color": "#E5ECF6",
              "width": 0.5
             },
             "pattern": {
              "fillmode": "overlay",
              "size": 10,
              "solidity": 0.2
             }
            },
            "type": "bar"
           }
          ],
          "barpolar": [
           {
            "marker": {
             "line": {
              "color": "#E5ECF6",
              "width": 0.5
             },
             "pattern": {
              "fillmode": "overlay",
              "size": 10,
              "solidity": 0.2
             }
            },
            "type": "barpolar"
           }
          ],
          "carpet": [
           {
            "aaxis": {
             "endlinecolor": "#2a3f5f",
             "gridcolor": "white",
             "linecolor": "white",
             "minorgridcolor": "white",
             "startlinecolor": "#2a3f5f"
            },
            "baxis": {
             "endlinecolor": "#2a3f5f",
             "gridcolor": "white",
             "linecolor": "white",
             "minorgridcolor": "white",
             "startlinecolor": "#2a3f5f"
            },
            "type": "carpet"
           }
          ],
          "choropleth": [
           {
            "colorbar": {
             "outlinewidth": 0,
             "ticks": ""
            },
            "type": "choropleth"
           }
          ],
          "contour": [
           {
            "colorbar": {
             "outlinewidth": 0,
             "ticks": ""
            },
            "colorscale": [
             [
              0,
              "#0d0887"
             ],
             [
              0.1111111111111111,
              "#46039f"
             ],
             [
              0.2222222222222222,
              "#7201a8"
             ],
             [
              0.3333333333333333,
              "#9c179e"
             ],
             [
              0.4444444444444444,
              "#bd3786"
             ],
             [
              0.5555555555555556,
              "#d8576b"
             ],
             [
              0.6666666666666666,
              "#ed7953"
             ],
             [
              0.7777777777777778,
              "#fb9f3a"
             ],
             [
              0.8888888888888888,
              "#fdca26"
             ],
             [
              1,
              "#f0f921"
             ]
            ],
            "type": "contour"
           }
          ],
          "contourcarpet": [
           {
            "colorbar": {
             "outlinewidth": 0,
             "ticks": ""
            },
            "type": "contourcarpet"
           }
          ],
          "heatmap": [
           {
            "colorbar": {
             "outlinewidth": 0,
             "ticks": ""
            },
            "colorscale": [
             [
              0,
              "#0d0887"
             ],
             [
              0.1111111111111111,
              "#46039f"
             ],
             [
              0.2222222222222222,
              "#7201a8"
             ],
             [
              0.3333333333333333,
              "#9c179e"
             ],
             [
              0.4444444444444444,
              "#bd3786"
             ],
             [
              0.5555555555555556,
              "#d8576b"
             ],
             [
              0.6666666666666666,
              "#ed7953"
             ],
             [
              0.7777777777777778,
              "#fb9f3a"
             ],
             [
              0.8888888888888888,
              "#fdca26"
             ],
             [
              1,
              "#f0f921"
             ]
            ],
            "type": "heatmap"
           }
          ],
          "heatmapgl": [
           {
            "colorbar": {
             "outlinewidth": 0,
             "ticks": ""
            },
            "colorscale": [
             [
              0,
              "#0d0887"
             ],
             [
              0.1111111111111111,
              "#46039f"
             ],
             [
              0.2222222222222222,
              "#7201a8"
             ],
             [
              0.3333333333333333,
              "#9c179e"
             ],
             [
              0.4444444444444444,
              "#bd3786"
             ],
             [
              0.5555555555555556,
              "#d8576b"
             ],
             [
              0.6666666666666666,
              "#ed7953"
             ],
             [
              0.7777777777777778,
              "#fb9f3a"
             ],
             [
              0.8888888888888888,
              "#fdca26"
             ],
             [
              1,
              "#f0f921"
             ]
            ],
            "type": "heatmapgl"
           }
          ],
          "histogram": [
           {
            "marker": {
             "pattern": {
              "fillmode": "overlay",
              "size": 10,
              "solidity": 0.2
             }
            },
            "type": "histogram"
           }
          ],
          "histogram2d": [
           {
            "colorbar": {
             "outlinewidth": 0,
             "ticks": ""
            },
            "colorscale": [
             [
              0,
              "#0d0887"
             ],
             [
              0.1111111111111111,
              "#46039f"
             ],
             [
              0.2222222222222222,
              "#7201a8"
             ],
             [
              0.3333333333333333,
              "#9c179e"
             ],
             [
              0.4444444444444444,
              "#bd3786"
             ],
             [
              0.5555555555555556,
              "#d8576b"
             ],
             [
              0.6666666666666666,
              "#ed7953"
             ],
             [
              0.7777777777777778,
              "#fb9f3a"
             ],
             [
              0.8888888888888888,
              "#fdca26"
             ],
             [
              1,
              "#f0f921"
             ]
            ],
            "type": "histogram2d"
           }
          ],
          "histogram2dcontour": [
           {
            "colorbar": {
             "outlinewidth": 0,
             "ticks": ""
            },
            "colorscale": [
             [
              0,
              "#0d0887"
             ],
             [
              0.1111111111111111,
              "#46039f"
             ],
             [
              0.2222222222222222,
              "#7201a8"
             ],
             [
              0.3333333333333333,
              "#9c179e"
             ],
             [
              0.4444444444444444,
              "#bd3786"
             ],
             [
              0.5555555555555556,
              "#d8576b"
             ],
             [
              0.6666666666666666,
              "#ed7953"
             ],
             [
              0.7777777777777778,
              "#fb9f3a"
             ],
             [
              0.8888888888888888,
              "#fdca26"
             ],
             [
              1,
              "#f0f921"
             ]
            ],
            "type": "histogram2dcontour"
           }
          ],
          "mesh3d": [
           {
            "colorbar": {
             "outlinewidth": 0,
             "ticks": ""
            },
            "type": "mesh3d"
           }
          ],
          "parcoords": [
           {
            "line": {
             "colorbar": {
              "outlinewidth": 0,
              "ticks": ""
             }
            },
            "type": "parcoords"
           }
          ],
          "pie": [
           {
            "automargin": true,
            "type": "pie"
           }
          ],
          "scatter": [
           {
            "fillpattern": {
             "fillmode": "overlay",
             "size": 10,
             "solidity": 0.2
            },
            "type": "scatter"
           }
          ],
          "scatter3d": [
           {
            "line": {
             "colorbar": {
              "outlinewidth": 0,
              "ticks": ""
             }
            },
            "marker": {
             "colorbar": {
              "outlinewidth": 0,
              "ticks": ""
             }
            },
            "type": "scatter3d"
           }
          ],
          "scattercarpet": [
           {
            "marker": {
             "colorbar": {
              "outlinewidth": 0,
              "ticks": ""
             }
            },
            "type": "scattercarpet"
           }
          ],
          "scattergeo": [
           {
            "marker": {
             "colorbar": {
              "outlinewidth": 0,
              "ticks": ""
             }
            },
            "type": "scattergeo"
           }
          ],
          "scattergl": [
           {
            "marker": {
             "colorbar": {
              "outlinewidth": 0,
              "ticks": ""
             }
            },
            "type": "scattergl"
           }
          ],
          "scattermapbox": [
           {
            "marker": {
             "colorbar": {
              "outlinewidth": 0,
              "ticks": ""
             }
            },
            "type": "scattermapbox"
           }
          ],
          "scatterpolar": [
           {
            "marker": {
             "colorbar": {
              "outlinewidth": 0,
              "ticks": ""
             }
            },
            "type": "scatterpolar"
           }
          ],
          "scatterpolargl": [
           {
            "marker": {
             "colorbar": {
              "outlinewidth": 0,
              "ticks": ""
             }
            },
            "type": "scatterpolargl"
           }
          ],
          "scatterternary": [
           {
            "marker": {
             "colorbar": {
              "outlinewidth": 0,
              "ticks": ""
             }
            },
            "type": "scatterternary"
           }
          ],
          "surface": [
           {
            "colorbar": {
             "outlinewidth": 0,
             "ticks": ""
            },
            "colorscale": [
             [
              0,
              "#0d0887"
             ],
             [
              0.1111111111111111,
              "#46039f"
             ],
             [
              0.2222222222222222,
              "#7201a8"
             ],
             [
              0.3333333333333333,
              "#9c179e"
             ],
             [
              0.4444444444444444,
              "#bd3786"
             ],
             [
              0.5555555555555556,
              "#d8576b"
             ],
             [
              0.6666666666666666,
              "#ed7953"
             ],
             [
              0.7777777777777778,
              "#fb9f3a"
             ],
             [
              0.8888888888888888,
              "#fdca26"
             ],
             [
              1,
              "#f0f921"
             ]
            ],
            "type": "surface"
           }
          ],
          "table": [
           {
            "cells": {
             "fill": {
              "color": "#EBF0F8"
             },
             "line": {
              "color": "white"
             }
            },
            "header": {
             "fill": {
              "color": "#C8D4E3"
             },
             "line": {
              "color": "white"
             }
            },
            "type": "table"
           }
          ]
         },
         "layout": {
          "annotationdefaults": {
           "arrowcolor": "#2a3f5f",
           "arrowhead": 0,
           "arrowwidth": 1
          },
          "autotypenumbers": "strict",
          "coloraxis": {
           "colorbar": {
            "outlinewidth": 0,
            "ticks": ""
           }
          },
          "colorscale": {
           "diverging": [
            [
             0,
             "#8e0152"
            ],
            [
             0.1,
             "#c51b7d"
            ],
            [
             0.2,
             "#de77ae"
            ],
            [
             0.3,
             "#f1b6da"
            ],
            [
             0.4,
             "#fde0ef"
            ],
            [
             0.5,
             "#f7f7f7"
            ],
            [
             0.6,
             "#e6f5d0"
            ],
            [
             0.7,
             "#b8e186"
            ],
            [
             0.8,
             "#7fbc41"
            ],
            [
             0.9,
             "#4d9221"
            ],
            [
             1,
             "#276419"
            ]
           ],
           "sequential": [
            [
             0,
             "#0d0887"
            ],
            [
             0.1111111111111111,
             "#46039f"
            ],
            [
             0.2222222222222222,
             "#7201a8"
            ],
            [
             0.3333333333333333,
             "#9c179e"
            ],
            [
             0.4444444444444444,
             "#bd3786"
            ],
            [
             0.5555555555555556,
             "#d8576b"
            ],
            [
             0.6666666666666666,
             "#ed7953"
            ],
            [
             0.7777777777777778,
             "#fb9f3a"
            ],
            [
             0.8888888888888888,
             "#fdca26"
            ],
            [
             1,
             "#f0f921"
            ]
           ],
           "sequentialminus": [
            [
             0,
             "#0d0887"
            ],
            [
             0.1111111111111111,
             "#46039f"
            ],
            [
             0.2222222222222222,
             "#7201a8"
            ],
            [
             0.3333333333333333,
             "#9c179e"
            ],
            [
             0.4444444444444444,
             "#bd3786"
            ],
            [
             0.5555555555555556,
             "#d8576b"
            ],
            [
             0.6666666666666666,
             "#ed7953"
            ],
            [
             0.7777777777777778,
             "#fb9f3a"
            ],
            [
             0.8888888888888888,
             "#fdca26"
            ],
            [
             1,
             "#f0f921"
            ]
           ]
          },
          "colorway": [
           "#636efa",
           "#EF553B",
           "#00cc96",
           "#ab63fa",
           "#FFA15A",
           "#19d3f3",
           "#FF6692",
           "#B6E880",
           "#FF97FF",
           "#FECB52"
          ],
          "font": {
           "color": "#2a3f5f"
          },
          "geo": {
           "bgcolor": "white",
           "lakecolor": "white",
           "landcolor": "#E5ECF6",
           "showlakes": true,
           "showland": true,
           "subunitcolor": "white"
          },
          "hoverlabel": {
           "align": "left"
          },
          "hovermode": "closest",
          "mapbox": {
           "style": "light"
          },
          "paper_bgcolor": "white",
          "plot_bgcolor": "#E5ECF6",
          "polar": {
           "angularaxis": {
            "gridcolor": "white",
            "linecolor": "white",
            "ticks": ""
           },
           "bgcolor": "#E5ECF6",
           "radialaxis": {
            "gridcolor": "white",
            "linecolor": "white",
            "ticks": ""
           }
          },
          "scene": {
           "xaxis": {
            "backgroundcolor": "#E5ECF6",
            "gridcolor": "white",
            "gridwidth": 2,
            "linecolor": "white",
            "showbackground": true,
            "ticks": "",
            "zerolinecolor": "white"
           },
           "yaxis": {
            "backgroundcolor": "#E5ECF6",
            "gridcolor": "white",
            "gridwidth": 2,
            "linecolor": "white",
            "showbackground": true,
            "ticks": "",
            "zerolinecolor": "white"
           },
           "zaxis": {
            "backgroundcolor": "#E5ECF6",
            "gridcolor": "white",
            "gridwidth": 2,
            "linecolor": "white",
            "showbackground": true,
            "ticks": "",
            "zerolinecolor": "white"
           }
          },
          "shapedefaults": {
           "line": {
            "color": "#2a3f5f"
           }
          },
          "ternary": {
           "aaxis": {
            "gridcolor": "white",
            "linecolor": "white",
            "ticks": ""
           },
           "baxis": {
            "gridcolor": "white",
            "linecolor": "white",
            "ticks": ""
           },
           "bgcolor": "#E5ECF6",
           "caxis": {
            "gridcolor": "white",
            "linecolor": "white",
            "ticks": ""
           }
          },
          "title": {
           "x": 0.05
          },
          "xaxis": {
           "automargin": true,
           "gridcolor": "white",
           "linecolor": "white",
           "ticks": "",
           "title": {
            "standoff": 15
           },
           "zerolinecolor": "white",
           "zerolinewidth": 2
          },
          "yaxis": {
           "automargin": true,
           "gridcolor": "white",
           "linecolor": "white",
           "ticks": "",
           "title": {
            "standoff": 15
           },
           "zerolinecolor": "white",
           "zerolinewidth": 2
          }
         }
        },
        "title": {
         "text": "Зависимость стоимости от ускорения"
        },
        "xaxis": {
         "anchor": "y",
         "domain": [
          0,
          1
         ],
         "showgrid": true,
         "title": {
          "text": "Время разгона до 60 миль/ч (сек)"
         }
        },
        "yaxis": {
         "anchor": "x",
         "domain": [
          0,
          1
         ],
         "showgrid": true,
         "title": {
          "text": "Цена автомобиля (USD)"
         }
        }
       }
      }
     },
     "metadata": {},
     "output_type": "display_data"
    }
   ],
   "source": [
    "from sklearn.preprocessing import PolynomialFeatures\n",
    "\n",
    "# Полиномиальные признаки\n",
    "poly_features = PolynomialFeatures(degree=3)\n",
    "X_poly = poly_features.fit_transform(X)\n",
    "\n",
    "# Обучение модели\n",
    "model = LinearRegression()\n",
    "model.fit(X_poly, y)\n",
    "\n",
    "# Предсказание значений\n",
    "X_pred = np.linspace(data['acceleration_seconds'].min(), data['acceleration_seconds'].max(), 100).reshape(-1, 1)\n",
    "X_pred_poly = poly_features.transform(X_pred)\n",
    "y_pred = model.predict(X_pred_poly)\n",
    "\n",
    "# Построение графика\n",
    "fig = px.scatter(data, x='acceleration_seconds', y='price_usd', title='Зависимость стоимости от ускорения',\n",
    "                 labels={'acceleration_seconds': 'Время разгона до 60 миль/ч (сек)', 'price_usd': 'Цена автомобиля (USD)'})\n",
    "\n",
    "# Добавление линии полиномиальной регрессии\n",
    "fig.add_trace(go.Scatter(x=X_pred.flatten(), y=y_pred, mode='lines', name='Polynomial Regression', line=dict(color='red')))\n",
    "\n",
    "# Оформление графика\n",
    "fig.update_xaxes(title_text='Время разгона до 60 миль/ч (сек)', showgrid=True)\n",
    "fig.update_yaxes(title_text='Цена автомобиля (USD)', showgrid=True)\n",
    "\n",
    "fig.show()\n"
   ]
  },
  {
   "cell_type": "markdown",
   "metadata": {},
   "source": [
    "Гипотеза №3 Скорость автомобилей более дорогой марки может быть ниже, чем более дешевой.\n",
    "\n",
    "На примере MacLaren и Porshe, можно убедиться, что на стоимость автомобилей оказывает влияние название бренда, и даже более дешевые марки могут обходить дорогой бренд в скорости."
   ]
  },
  {
   "cell_type": "code",
   "execution_count": 27,
   "metadata": {},
   "outputs": [
    {
     "data": {
      "application/vnd.plotly.v1+json": {
       "config": {
        "plotlyServerURL": "https://plot.ly"
       },
       "data": [
        {
         "alignmentgroup": "True",
         "hovertemplate": "Марка автомобиля=%{x}<br>Средняя стоимость (USD)=%{y}<extra></extra>",
         "legendgroup": "",
         "marker": {
          "color": "#636efa",
          "pattern": {
           "shape": ""
          }
         },
         "name": "",
         "offsetgroup": "",
         "orientation": "v",
         "showlegend": false,
         "textposition": "auto",
         "type": "bar",
         "x": [
          "Porsche",
          "McLaren"
         ],
         "xaxis": "x",
         "y": [
          124505.47945205479,
          297807.86666666664
         ],
         "yaxis": "y"
        }
       ],
       "layout": {
        "barmode": "relative",
        "legend": {
         "tracegroupgap": 0
        },
        "template": {
         "data": {
          "bar": [
           {
            "error_x": {
             "color": "#2a3f5f"
            },
            "error_y": {
             "color": "#2a3f5f"
            },
            "marker": {
             "line": {
              "color": "#E5ECF6",
              "width": 0.5
             },
             "pattern": {
              "fillmode": "overlay",
              "size": 10,
              "solidity": 0.2
             }
            },
            "type": "bar"
           }
          ],
          "barpolar": [
           {
            "marker": {
             "line": {
              "color": "#E5ECF6",
              "width": 0.5
             },
             "pattern": {
              "fillmode": "overlay",
              "size": 10,
              "solidity": 0.2
             }
            },
            "type": "barpolar"
           }
          ],
          "carpet": [
           {
            "aaxis": {
             "endlinecolor": "#2a3f5f",
             "gridcolor": "white",
             "linecolor": "white",
             "minorgridcolor": "white",
             "startlinecolor": "#2a3f5f"
            },
            "baxis": {
             "endlinecolor": "#2a3f5f",
             "gridcolor": "white",
             "linecolor": "white",
             "minorgridcolor": "white",
             "startlinecolor": "#2a3f5f"
            },
            "type": "carpet"
           }
          ],
          "choropleth": [
           {
            "colorbar": {
             "outlinewidth": 0,
             "ticks": ""
            },
            "type": "choropleth"
           }
          ],
          "contour": [
           {
            "colorbar": {
             "outlinewidth": 0,
             "ticks": ""
            },
            "colorscale": [
             [
              0,
              "#0d0887"
             ],
             [
              0.1111111111111111,
              "#46039f"
             ],
             [
              0.2222222222222222,
              "#7201a8"
             ],
             [
              0.3333333333333333,
              "#9c179e"
             ],
             [
              0.4444444444444444,
              "#bd3786"
             ],
             [
              0.5555555555555556,
              "#d8576b"
             ],
             [
              0.6666666666666666,
              "#ed7953"
             ],
             [
              0.7777777777777778,
              "#fb9f3a"
             ],
             [
              0.8888888888888888,
              "#fdca26"
             ],
             [
              1,
              "#f0f921"
             ]
            ],
            "type": "contour"
           }
          ],
          "contourcarpet": [
           {
            "colorbar": {
             "outlinewidth": 0,
             "ticks": ""
            },
            "type": "contourcarpet"
           }
          ],
          "heatmap": [
           {
            "colorbar": {
             "outlinewidth": 0,
             "ticks": ""
            },
            "colorscale": [
             [
              0,
              "#0d0887"
             ],
             [
              0.1111111111111111,
              "#46039f"
             ],
             [
              0.2222222222222222,
              "#7201a8"
             ],
             [
              0.3333333333333333,
              "#9c179e"
             ],
             [
              0.4444444444444444,
              "#bd3786"
             ],
             [
              0.5555555555555556,
              "#d8576b"
             ],
             [
              0.6666666666666666,
              "#ed7953"
             ],
             [
              0.7777777777777778,
              "#fb9f3a"
             ],
             [
              0.8888888888888888,
              "#fdca26"
             ],
             [
              1,
              "#f0f921"
             ]
            ],
            "type": "heatmap"
           }
          ],
          "heatmapgl": [
           {
            "colorbar": {
             "outlinewidth": 0,
             "ticks": ""
            },
            "colorscale": [
             [
              0,
              "#0d0887"
             ],
             [
              0.1111111111111111,
              "#46039f"
             ],
             [
              0.2222222222222222,
              "#7201a8"
             ],
             [
              0.3333333333333333,
              "#9c179e"
             ],
             [
              0.4444444444444444,
              "#bd3786"
             ],
             [
              0.5555555555555556,
              "#d8576b"
             ],
             [
              0.6666666666666666,
              "#ed7953"
             ],
             [
              0.7777777777777778,
              "#fb9f3a"
             ],
             [
              0.8888888888888888,
              "#fdca26"
             ],
             [
              1,
              "#f0f921"
             ]
            ],
            "type": "heatmapgl"
           }
          ],
          "histogram": [
           {
            "marker": {
             "pattern": {
              "fillmode": "overlay",
              "size": 10,
              "solidity": 0.2
             }
            },
            "type": "histogram"
           }
          ],
          "histogram2d": [
           {
            "colorbar": {
             "outlinewidth": 0,
             "ticks": ""
            },
            "colorscale": [
             [
              0,
              "#0d0887"
             ],
             [
              0.1111111111111111,
              "#46039f"
             ],
             [
              0.2222222222222222,
              "#7201a8"
             ],
             [
              0.3333333333333333,
              "#9c179e"
             ],
             [
              0.4444444444444444,
              "#bd3786"
             ],
             [
              0.5555555555555556,
              "#d8576b"
             ],
             [
              0.6666666666666666,
              "#ed7953"
             ],
             [
              0.7777777777777778,
              "#fb9f3a"
             ],
             [
              0.8888888888888888,
              "#fdca26"
             ],
             [
              1,
              "#f0f921"
             ]
            ],
            "type": "histogram2d"
           }
          ],
          "histogram2dcontour": [
           {
            "colorbar": {
             "outlinewidth": 0,
             "ticks": ""
            },
            "colorscale": [
             [
              0,
              "#0d0887"
             ],
             [
              0.1111111111111111,
              "#46039f"
             ],
             [
              0.2222222222222222,
              "#7201a8"
             ],
             [
              0.3333333333333333,
              "#9c179e"
             ],
             [
              0.4444444444444444,
              "#bd3786"
             ],
             [
              0.5555555555555556,
              "#d8576b"
             ],
             [
              0.6666666666666666,
              "#ed7953"
             ],
             [
              0.7777777777777778,
              "#fb9f3a"
             ],
             [
              0.8888888888888888,
              "#fdca26"
             ],
             [
              1,
              "#f0f921"
             ]
            ],
            "type": "histogram2dcontour"
           }
          ],
          "mesh3d": [
           {
            "colorbar": {
             "outlinewidth": 0,
             "ticks": ""
            },
            "type": "mesh3d"
           }
          ],
          "parcoords": [
           {
            "line": {
             "colorbar": {
              "outlinewidth": 0,
              "ticks": ""
             }
            },
            "type": "parcoords"
           }
          ],
          "pie": [
           {
            "automargin": true,
            "type": "pie"
           }
          ],
          "scatter": [
           {
            "fillpattern": {
             "fillmode": "overlay",
             "size": 10,
             "solidity": 0.2
            },
            "type": "scatter"
           }
          ],
          "scatter3d": [
           {
            "line": {
             "colorbar": {
              "outlinewidth": 0,
              "ticks": ""
             }
            },
            "marker": {
             "colorbar": {
              "outlinewidth": 0,
              "ticks": ""
             }
            },
            "type": "scatter3d"
           }
          ],
          "scattercarpet": [
           {
            "marker": {
             "colorbar": {
              "outlinewidth": 0,
              "ticks": ""
             }
            },
            "type": "scattercarpet"
           }
          ],
          "scattergeo": [
           {
            "marker": {
             "colorbar": {
              "outlinewidth": 0,
              "ticks": ""
             }
            },
            "type": "scattergeo"
           }
          ],
          "scattergl": [
           {
            "marker": {
             "colorbar": {
              "outlinewidth": 0,
              "ticks": ""
             }
            },
            "type": "scattergl"
           }
          ],
          "scattermapbox": [
           {
            "marker": {
             "colorbar": {
              "outlinewidth": 0,
              "ticks": ""
             }
            },
            "type": "scattermapbox"
           }
          ],
          "scatterpolar": [
           {
            "marker": {
             "colorbar": {
              "outlinewidth": 0,
              "ticks": ""
             }
            },
            "type": "scatterpolar"
           }
          ],
          "scatterpolargl": [
           {
            "marker": {
             "colorbar": {
              "outlinewidth": 0,
              "ticks": ""
             }
            },
            "type": "scatterpolargl"
           }
          ],
          "scatterternary": [
           {
            "marker": {
             "colorbar": {
              "outlinewidth": 0,
              "ticks": ""
             }
            },
            "type": "scatterternary"
           }
          ],
          "surface": [
           {
            "colorbar": {
             "outlinewidth": 0,
             "ticks": ""
            },
            "colorscale": [
             [
              0,
              "#0d0887"
             ],
             [
              0.1111111111111111,
              "#46039f"
             ],
             [
              0.2222222222222222,
              "#7201a8"
             ],
             [
              0.3333333333333333,
              "#9c179e"
             ],
             [
              0.4444444444444444,
              "#bd3786"
             ],
             [
              0.5555555555555556,
              "#d8576b"
             ],
             [
              0.6666666666666666,
              "#ed7953"
             ],
             [
              0.7777777777777778,
              "#fb9f3a"
             ],
             [
              0.8888888888888888,
              "#fdca26"
             ],
             [
              1,
              "#f0f921"
             ]
            ],
            "type": "surface"
           }
          ],
          "table": [
           {
            "cells": {
             "fill": {
              "color": "#EBF0F8"
             },
             "line": {
              "color": "white"
             }
            },
            "header": {
             "fill": {
              "color": "#C8D4E3"
             },
             "line": {
              "color": "white"
             }
            },
            "type": "table"
           }
          ]
         },
         "layout": {
          "annotationdefaults": {
           "arrowcolor": "#2a3f5f",
           "arrowhead": 0,
           "arrowwidth": 1
          },
          "autotypenumbers": "strict",
          "coloraxis": {
           "colorbar": {
            "outlinewidth": 0,
            "ticks": ""
           }
          },
          "colorscale": {
           "diverging": [
            [
             0,
             "#8e0152"
            ],
            [
             0.1,
             "#c51b7d"
            ],
            [
             0.2,
             "#de77ae"
            ],
            [
             0.3,
             "#f1b6da"
            ],
            [
             0.4,
             "#fde0ef"
            ],
            [
             0.5,
             "#f7f7f7"
            ],
            [
             0.6,
             "#e6f5d0"
            ],
            [
             0.7,
             "#b8e186"
            ],
            [
             0.8,
             "#7fbc41"
            ],
            [
             0.9,
             "#4d9221"
            ],
            [
             1,
             "#276419"
            ]
           ],
           "sequential": [
            [
             0,
             "#0d0887"
            ],
            [
             0.1111111111111111,
             "#46039f"
            ],
            [
             0.2222222222222222,
             "#7201a8"
            ],
            [
             0.3333333333333333,
             "#9c179e"
            ],
            [
             0.4444444444444444,
             "#bd3786"
            ],
            [
             0.5555555555555556,
             "#d8576b"
            ],
            [
             0.6666666666666666,
             "#ed7953"
            ],
            [
             0.7777777777777778,
             "#fb9f3a"
            ],
            [
             0.8888888888888888,
             "#fdca26"
            ],
            [
             1,
             "#f0f921"
            ]
           ],
           "sequentialminus": [
            [
             0,
             "#0d0887"
            ],
            [
             0.1111111111111111,
             "#46039f"
            ],
            [
             0.2222222222222222,
             "#7201a8"
            ],
            [
             0.3333333333333333,
             "#9c179e"
            ],
            [
             0.4444444444444444,
             "#bd3786"
            ],
            [
             0.5555555555555556,
             "#d8576b"
            ],
            [
             0.6666666666666666,
             "#ed7953"
            ],
            [
             0.7777777777777778,
             "#fb9f3a"
            ],
            [
             0.8888888888888888,
             "#fdca26"
            ],
            [
             1,
             "#f0f921"
            ]
           ]
          },
          "colorway": [
           "#636efa",
           "#EF553B",
           "#00cc96",
           "#ab63fa",
           "#FFA15A",
           "#19d3f3",
           "#FF6692",
           "#B6E880",
           "#FF97FF",
           "#FECB52"
          ],
          "font": {
           "color": "#2a3f5f"
          },
          "geo": {
           "bgcolor": "white",
           "lakecolor": "white",
           "landcolor": "#E5ECF6",
           "showlakes": true,
           "showland": true,
           "subunitcolor": "white"
          },
          "hoverlabel": {
           "align": "left"
          },
          "hovermode": "closest",
          "mapbox": {
           "style": "light"
          },
          "paper_bgcolor": "white",
          "plot_bgcolor": "#E5ECF6",
          "polar": {
           "angularaxis": {
            "gridcolor": "white",
            "linecolor": "white",
            "ticks": ""
           },
           "bgcolor": "#E5ECF6",
           "radialaxis": {
            "gridcolor": "white",
            "linecolor": "white",
            "ticks": ""
           }
          },
          "scene": {
           "xaxis": {
            "backgroundcolor": "#E5ECF6",
            "gridcolor": "white",
            "gridwidth": 2,
            "linecolor": "white",
            "showbackground": true,
            "ticks": "",
            "zerolinecolor": "white"
           },
           "yaxis": {
            "backgroundcolor": "#E5ECF6",
            "gridcolor": "white",
            "gridwidth": 2,
            "linecolor": "white",
            "showbackground": true,
            "ticks": "",
            "zerolinecolor": "white"
           },
           "zaxis": {
            "backgroundcolor": "#E5ECF6",
            "gridcolor": "white",
            "gridwidth": 2,
            "linecolor": "white",
            "showbackground": true,
            "ticks": "",
            "zerolinecolor": "white"
           }
          },
          "shapedefaults": {
           "line": {
            "color": "#2a3f5f"
           }
          },
          "ternary": {
           "aaxis": {
            "gridcolor": "white",
            "linecolor": "white",
            "ticks": ""
           },
           "baxis": {
            "gridcolor": "white",
            "linecolor": "white",
            "ticks": ""
           },
           "bgcolor": "#E5ECF6",
           "caxis": {
            "gridcolor": "white",
            "linecolor": "white",
            "ticks": ""
           }
          },
          "title": {
           "x": 0.05
          },
          "xaxis": {
           "automargin": true,
           "gridcolor": "white",
           "linecolor": "white",
           "ticks": "",
           "title": {
            "standoff": 15
           },
           "zerolinecolor": "white",
           "zerolinewidth": 2
          },
          "yaxis": {
           "automargin": true,
           "gridcolor": "white",
           "linecolor": "white",
           "ticks": "",
           "title": {
            "standoff": 15
           },
           "zerolinecolor": "white",
           "zerolinewidth": 2
          }
         }
        },
        "title": {
         "text": "Средняя стоимость автомобилей Porsche и McLaren"
        },
        "xaxis": {
         "anchor": "y",
         "domain": [
          0,
          1
         ],
         "title": {
          "text": "Марка автомобиля"
         }
        },
        "yaxis": {
         "anchor": "x",
         "domain": [
          0,
          1
         ],
         "title": {
          "text": "Средняя стоимость (USD)"
         }
        }
       }
      }
     },
     "metadata": {},
     "output_type": "display_data"
    },
    {
     "data": {
      "application/vnd.plotly.v1+json": {
       "config": {
        "plotlyServerURL": "https://plot.ly"
       },
       "data": [
        {
         "alignmentgroup": "True",
         "hovertemplate": "Марка автомобиля=%{x}<br>Среднее время разгона (сек)=%{y}<extra></extra>",
         "legendgroup": "",
         "marker": {
          "color": "#636efa",
          "pattern": {
           "shape": ""
          }
         },
         "name": "",
         "offsetgroup": "",
         "orientation": "v",
         "showlegend": false,
         "textposition": "auto",
         "type": "bar",
         "x": [
          "Porsche",
          "McLaren"
         ],
         "xaxis": "x",
         "y": [
          4.289041095890411,
          2.992
         ],
         "yaxis": "y"
        }
       ],
       "layout": {
        "barmode": "relative",
        "legend": {
         "tracegroupgap": 0
        },
        "template": {
         "data": {
          "bar": [
           {
            "error_x": {
             "color": "#2a3f5f"
            },
            "error_y": {
             "color": "#2a3f5f"
            },
            "marker": {
             "line": {
              "color": "#E5ECF6",
              "width": 0.5
             },
             "pattern": {
              "fillmode": "overlay",
              "size": 10,
              "solidity": 0.2
             }
            },
            "type": "bar"
           }
          ],
          "barpolar": [
           {
            "marker": {
             "line": {
              "color": "#E5ECF6",
              "width": 0.5
             },
             "pattern": {
              "fillmode": "overlay",
              "size": 10,
              "solidity": 0.2
             }
            },
            "type": "barpolar"
           }
          ],
          "carpet": [
           {
            "aaxis": {
             "endlinecolor": "#2a3f5f",
             "gridcolor": "white",
             "linecolor": "white",
             "minorgridcolor": "white",
             "startlinecolor": "#2a3f5f"
            },
            "baxis": {
             "endlinecolor": "#2a3f5f",
             "gridcolor": "white",
             "linecolor": "white",
             "minorgridcolor": "white",
             "startlinecolor": "#2a3f5f"
            },
            "type": "carpet"
           }
          ],
          "choropleth": [
           {
            "colorbar": {
             "outlinewidth": 0,
             "ticks": ""
            },
            "type": "choropleth"
           }
          ],
          "contour": [
           {
            "colorbar": {
             "outlinewidth": 0,
             "ticks": ""
            },
            "colorscale": [
             [
              0,
              "#0d0887"
             ],
             [
              0.1111111111111111,
              "#46039f"
             ],
             [
              0.2222222222222222,
              "#7201a8"
             ],
             [
              0.3333333333333333,
              "#9c179e"
             ],
             [
              0.4444444444444444,
              "#bd3786"
             ],
             [
              0.5555555555555556,
              "#d8576b"
             ],
             [
              0.6666666666666666,
              "#ed7953"
             ],
             [
              0.7777777777777778,
              "#fb9f3a"
             ],
             [
              0.8888888888888888,
              "#fdca26"
             ],
             [
              1,
              "#f0f921"
             ]
            ],
            "type": "contour"
           }
          ],
          "contourcarpet": [
           {
            "colorbar": {
             "outlinewidth": 0,
             "ticks": ""
            },
            "type": "contourcarpet"
           }
          ],
          "heatmap": [
           {
            "colorbar": {
             "outlinewidth": 0,
             "ticks": ""
            },
            "colorscale": [
             [
              0,
              "#0d0887"
             ],
             [
              0.1111111111111111,
              "#46039f"
             ],
             [
              0.2222222222222222,
              "#7201a8"
             ],
             [
              0.3333333333333333,
              "#9c179e"
             ],
             [
              0.4444444444444444,
              "#bd3786"
             ],
             [
              0.5555555555555556,
              "#d8576b"
             ],
             [
              0.6666666666666666,
              "#ed7953"
             ],
             [
              0.7777777777777778,
              "#fb9f3a"
             ],
             [
              0.8888888888888888,
              "#fdca26"
             ],
             [
              1,
              "#f0f921"
             ]
            ],
            "type": "heatmap"
           }
          ],
          "heatmapgl": [
           {
            "colorbar": {
             "outlinewidth": 0,
             "ticks": ""
            },
            "colorscale": [
             [
              0,
              "#0d0887"
             ],
             [
              0.1111111111111111,
              "#46039f"
             ],
             [
              0.2222222222222222,
              "#7201a8"
             ],
             [
              0.3333333333333333,
              "#9c179e"
             ],
             [
              0.4444444444444444,
              "#bd3786"
             ],
             [
              0.5555555555555556,
              "#d8576b"
             ],
             [
              0.6666666666666666,
              "#ed7953"
             ],
             [
              0.7777777777777778,
              "#fb9f3a"
             ],
             [
              0.8888888888888888,
              "#fdca26"
             ],
             [
              1,
              "#f0f921"
             ]
            ],
            "type": "heatmapgl"
           }
          ],
          "histogram": [
           {
            "marker": {
             "pattern": {
              "fillmode": "overlay",
              "size": 10,
              "solidity": 0.2
             }
            },
            "type": "histogram"
           }
          ],
          "histogram2d": [
           {
            "colorbar": {
             "outlinewidth": 0,
             "ticks": ""
            },
            "colorscale": [
             [
              0,
              "#0d0887"
             ],
             [
              0.1111111111111111,
              "#46039f"
             ],
             [
              0.2222222222222222,
              "#7201a8"
             ],
             [
              0.3333333333333333,
              "#9c179e"
             ],
             [
              0.4444444444444444,
              "#bd3786"
             ],
             [
              0.5555555555555556,
              "#d8576b"
             ],
             [
              0.6666666666666666,
              "#ed7953"
             ],
             [
              0.7777777777777778,
              "#fb9f3a"
             ],
             [
              0.8888888888888888,
              "#fdca26"
             ],
             [
              1,
              "#f0f921"
             ]
            ],
            "type": "histogram2d"
           }
          ],
          "histogram2dcontour": [
           {
            "colorbar": {
             "outlinewidth": 0,
             "ticks": ""
            },
            "colorscale": [
             [
              0,
              "#0d0887"
             ],
             [
              0.1111111111111111,
              "#46039f"
             ],
             [
              0.2222222222222222,
              "#7201a8"
             ],
             [
              0.3333333333333333,
              "#9c179e"
             ],
             [
              0.4444444444444444,
              "#bd3786"
             ],
             [
              0.5555555555555556,
              "#d8576b"
             ],
             [
              0.6666666666666666,
              "#ed7953"
             ],
             [
              0.7777777777777778,
              "#fb9f3a"
             ],
             [
              0.8888888888888888,
              "#fdca26"
             ],
             [
              1,
              "#f0f921"
             ]
            ],
            "type": "histogram2dcontour"
           }
          ],
          "mesh3d": [
           {
            "colorbar": {
             "outlinewidth": 0,
             "ticks": ""
            },
            "type": "mesh3d"
           }
          ],
          "parcoords": [
           {
            "line": {
             "colorbar": {
              "outlinewidth": 0,
              "ticks": ""
             }
            },
            "type": "parcoords"
           }
          ],
          "pie": [
           {
            "automargin": true,
            "type": "pie"
           }
          ],
          "scatter": [
           {
            "fillpattern": {
             "fillmode": "overlay",
             "size": 10,
             "solidity": 0.2
            },
            "type": "scatter"
           }
          ],
          "scatter3d": [
           {
            "line": {
             "colorbar": {
              "outlinewidth": 0,
              "ticks": ""
             }
            },
            "marker": {
             "colorbar": {
              "outlinewidth": 0,
              "ticks": ""
             }
            },
            "type": "scatter3d"
           }
          ],
          "scattercarpet": [
           {
            "marker": {
             "colorbar": {
              "outlinewidth": 0,
              "ticks": ""
             }
            },
            "type": "scattercarpet"
           }
          ],
          "scattergeo": [
           {
            "marker": {
             "colorbar": {
              "outlinewidth": 0,
              "ticks": ""
             }
            },
            "type": "scattergeo"
           }
          ],
          "scattergl": [
           {
            "marker": {
             "colorbar": {
              "outlinewidth": 0,
              "ticks": ""
             }
            },
            "type": "scattergl"
           }
          ],
          "scattermapbox": [
           {
            "marker": {
             "colorbar": {
              "outlinewidth": 0,
              "ticks": ""
             }
            },
            "type": "scattermapbox"
           }
          ],
          "scatterpolar": [
           {
            "marker": {
             "colorbar": {
              "outlinewidth": 0,
              "ticks": ""
             }
            },
            "type": "scatterpolar"
           }
          ],
          "scatterpolargl": [
           {
            "marker": {
             "colorbar": {
              "outlinewidth": 0,
              "ticks": ""
             }
            },
            "type": "scatterpolargl"
           }
          ],
          "scatterternary": [
           {
            "marker": {
             "colorbar": {
              "outlinewidth": 0,
              "ticks": ""
             }
            },
            "type": "scatterternary"
           }
          ],
          "surface": [
           {
            "colorbar": {
             "outlinewidth": 0,
             "ticks": ""
            },
            "colorscale": [
             [
              0,
              "#0d0887"
             ],
             [
              0.1111111111111111,
              "#46039f"
             ],
             [
              0.2222222222222222,
              "#7201a8"
             ],
             [
              0.3333333333333333,
              "#9c179e"
             ],
             [
              0.4444444444444444,
              "#bd3786"
             ],
             [
              0.5555555555555556,
              "#d8576b"
             ],
             [
              0.6666666666666666,
              "#ed7953"
             ],
             [
              0.7777777777777778,
              "#fb9f3a"
             ],
             [
              0.8888888888888888,
              "#fdca26"
             ],
             [
              1,
              "#f0f921"
             ]
            ],
            "type": "surface"
           }
          ],
          "table": [
           {
            "cells": {
             "fill": {
              "color": "#EBF0F8"
             },
             "line": {
              "color": "white"
             }
            },
            "header": {
             "fill": {
              "color": "#C8D4E3"
             },
             "line": {
              "color": "white"
             }
            },
            "type": "table"
           }
          ]
         },
         "layout": {
          "annotationdefaults": {
           "arrowcolor": "#2a3f5f",
           "arrowhead": 0,
           "arrowwidth": 1
          },
          "autotypenumbers": "strict",
          "coloraxis": {
           "colorbar": {
            "outlinewidth": 0,
            "ticks": ""
           }
          },
          "colorscale": {
           "diverging": [
            [
             0,
             "#8e0152"
            ],
            [
             0.1,
             "#c51b7d"
            ],
            [
             0.2,
             "#de77ae"
            ],
            [
             0.3,
             "#f1b6da"
            ],
            [
             0.4,
             "#fde0ef"
            ],
            [
             0.5,
             "#f7f7f7"
            ],
            [
             0.6,
             "#e6f5d0"
            ],
            [
             0.7,
             "#b8e186"
            ],
            [
             0.8,
             "#7fbc41"
            ],
            [
             0.9,
             "#4d9221"
            ],
            [
             1,
             "#276419"
            ]
           ],
           "sequential": [
            [
             0,
             "#0d0887"
            ],
            [
             0.1111111111111111,
             "#46039f"
            ],
            [
             0.2222222222222222,
             "#7201a8"
            ],
            [
             0.3333333333333333,
             "#9c179e"
            ],
            [
             0.4444444444444444,
             "#bd3786"
            ],
            [
             0.5555555555555556,
             "#d8576b"
            ],
            [
             0.6666666666666666,
             "#ed7953"
            ],
            [
             0.7777777777777778,
             "#fb9f3a"
            ],
            [
             0.8888888888888888,
             "#fdca26"
            ],
            [
             1,
             "#f0f921"
            ]
           ],
           "sequentialminus": [
            [
             0,
             "#0d0887"
            ],
            [
             0.1111111111111111,
             "#46039f"
            ],
            [
             0.2222222222222222,
             "#7201a8"
            ],
            [
             0.3333333333333333,
             "#9c179e"
            ],
            [
             0.4444444444444444,
             "#bd3786"
            ],
            [
             0.5555555555555556,
             "#d8576b"
            ],
            [
             0.6666666666666666,
             "#ed7953"
            ],
            [
             0.7777777777777778,
             "#fb9f3a"
            ],
            [
             0.8888888888888888,
             "#fdca26"
            ],
            [
             1,
             "#f0f921"
            ]
           ]
          },
          "colorway": [
           "#636efa",
           "#EF553B",
           "#00cc96",
           "#ab63fa",
           "#FFA15A",
           "#19d3f3",
           "#FF6692",
           "#B6E880",
           "#FF97FF",
           "#FECB52"
          ],
          "font": {
           "color": "#2a3f5f"
          },
          "geo": {
           "bgcolor": "white",
           "lakecolor": "white",
           "landcolor": "#E5ECF6",
           "showlakes": true,
           "showland": true,
           "subunitcolor": "white"
          },
          "hoverlabel": {
           "align": "left"
          },
          "hovermode": "closest",
          "mapbox": {
           "style": "light"
          },
          "paper_bgcolor": "white",
          "plot_bgcolor": "#E5ECF6",
          "polar": {
           "angularaxis": {
            "gridcolor": "white",
            "linecolor": "white",
            "ticks": ""
           },
           "bgcolor": "#E5ECF6",
           "radialaxis": {
            "gridcolor": "white",
            "linecolor": "white",
            "ticks": ""
           }
          },
          "scene": {
           "xaxis": {
            "backgroundcolor": "#E5ECF6",
            "gridcolor": "white",
            "gridwidth": 2,
            "linecolor": "white",
            "showbackground": true,
            "ticks": "",
            "zerolinecolor": "white"
           },
           "yaxis": {
            "backgroundcolor": "#E5ECF6",
            "gridcolor": "white",
            "gridwidth": 2,
            "linecolor": "white",
            "showbackground": true,
            "ticks": "",
            "zerolinecolor": "white"
           },
           "zaxis": {
            "backgroundcolor": "#E5ECF6",
            "gridcolor": "white",
            "gridwidth": 2,
            "linecolor": "white",
            "showbackground": true,
            "ticks": "",
            "zerolinecolor": "white"
           }
          },
          "shapedefaults": {
           "line": {
            "color": "#2a3f5f"
           }
          },
          "ternary": {
           "aaxis": {
            "gridcolor": "white",
            "linecolor": "white",
            "ticks": ""
           },
           "baxis": {
            "gridcolor": "white",
            "linecolor": "white",
            "ticks": ""
           },
           "bgcolor": "#E5ECF6",
           "caxis": {
            "gridcolor": "white",
            "linecolor": "white",
            "ticks": ""
           }
          },
          "title": {
           "x": 0.05
          },
          "xaxis": {
           "automargin": true,
           "gridcolor": "white",
           "linecolor": "white",
           "ticks": "",
           "title": {
            "standoff": 15
           },
           "zerolinecolor": "white",
           "zerolinewidth": 2
          },
          "yaxis": {
           "automargin": true,
           "gridcolor": "white",
           "linecolor": "white",
           "ticks": "",
           "title": {
            "standoff": 15
           },
           "zerolinecolor": "white",
           "zerolinewidth": 2
          }
         }
        },
        "title": {
         "text": "Среднее время разгона автомобилей Porsche и McLaren"
        },
        "xaxis": {
         "anchor": "y",
         "domain": [
          0,
          1
         ],
         "title": {
          "text": "Марка автомобиля"
         }
        },
        "yaxis": {
         "anchor": "x",
         "domain": [
          0,
          1
         ],
         "title": {
          "text": "Среднее время разгона (сек)"
         }
        }
       }
      }
     },
     "metadata": {},
     "output_type": "display_data"
    }
   ],
   "source": [
    "import pandas as pd\n",
    "import plotly.express as px\n",
    "\n",
    "# Фильтрация данных для марок Porsche и McLaren\n",
    "porsche_data = data[data['car'] == 'Porsche']\n",
    "mclaren_data = data[data['car'] == 'McLaren']\n",
    "\n",
    "# Вычисление средней стоимости для Porsche и McLaren\n",
    "porsche_mean_price = porsche_data['price_usd'].mean()\n",
    "mclaren_mean_price = mclaren_data['price_usd'].mean()\n",
    "\n",
    "# Создание DataFrame для средних значений стоимости\n",
    "price_data = pd.DataFrame({\n",
    "    'Car Make': ['Porsche', 'McLaren'],\n",
    "    'Mean Price (USD)': [porsche_mean_price, mclaren_mean_price]\n",
    "})\n",
    "\n",
    "# Вычисление среднего времени разгона для Porsche и McLaren\n",
    "porsche_mean_acceleration = porsche_data['acceleration_seconds'].mean()\n",
    "mclaren_mean_acceleration = mclaren_data['acceleration_seconds'].mean()\n",
    "\n",
    "# Создание DataFrame для средних значений времени разгона\n",
    "acceleration_data = pd.DataFrame({\n",
    "    'Car Make': ['Porsche', 'McLaren'],\n",
    "    'Mean Acceleration (seconds)': [porsche_mean_acceleration, mclaren_mean_acceleration]\n",
    "})\n",
    "\n",
    "# Визуализация средней стоимости с помощью графика\n",
    "fig1 = px.bar(price_data, x='Car Make', y='Mean Price (USD)',\n",
    "              title='Средняя стоимость автомобилей Porsche и McLaren',\n",
    "              labels={'Mean Price (USD)': 'Средняя стоимость (USD)', 'Car Make': 'Марка автомобиля'})\n",
    "fig1.show()\n",
    "\n",
    "# Визуализация среднего времени разгона с помощью графика\n",
    "fig2 = px.bar(acceleration_data, x='Car Make', y='Mean Acceleration (seconds)',\n",
    "              title='Среднее время разгона автомобилей Porsche и McLaren',\n",
    "              labels={'Mean Acceleration (seconds)': 'Среднее время разгона (сек)', 'Car Make': 'Марка автомобиля'})\n",
    "fig2.show()\n"
   ]
  },
  {
   "cell_type": "code",
   "execution_count": 52,
   "metadata": {},
   "outputs": [
    {
     "name": "stdout",
     "output_type": "stream",
     "text": [
      "{2022: 1, 2021: 2, 2015: 3, 2019: 4, 2017: 5, 2020: 6, 2014: 7, 2023: 8}\n",
      "             car      model  year  engine_size   power torque  \\\n",
      "241         Ford         GT  2022          3.5   660.0    550   \n",
      "896         Audi       RS 7  2021          4.0   591.0    590   \n",
      "853      Porsche   Panamera  2022          2.9   325.0    331   \n",
      "341      Bugatti     Chiron  2021          8.0  1500.0   1180   \n",
      "950  Lamborghini  Aventador  2021          6.5   770.0    531   \n",
      "\n",
      "     acceleration_seconds  price_usd  year_code  year_decoded  \n",
      "241                   2.8     500000          1          2022  \n",
      "896                   3.4     114000          2          2021  \n",
      "853                   5.3      88550          1          2022  \n",
      "341                   2.4    3000000          2          2021  \n",
      "950                   2.9     393695          2          2021  \n"
     ]
    }
   ],
   "source": [
    "years = data['year'].unique()\n",
    "year_codes = {year: code for code, year in enumerate(years, 1)}\n",
    "data['year_code'] = data['year'].map(year_codes)\n",
    "print(year_codes)\n",
    "code_years = {code: year for year, code in year_codes.items()}\n",
    "data['year_decoded'] = data['year_code'].map(code_years)\n",
    "\n",
    "# print(data)\n",
    "print(data.sample(5))"
   ]
  },
  {
   "cell_type": "code",
   "execution_count": 55,
   "metadata": {},
   "outputs": [
    {
     "name": "stdout",
     "output_type": "stream",
     "text": [
      "           car    model  year  engine_size     power    torque  \\\n",
      "0      Porsche      911  2022     0.217391  0.139535  0.156658   \n",
      "1  Lamborghini  Huracan  2021     0.536232  0.316420  0.254134   \n",
      "2      Ferrari  488 GTB  2022     0.347826  0.338266  0.356832   \n",
      "3         Audi       R8  2022     0.536232  0.268499  0.221932   \n",
      "4      McLaren     720S  2021     0.362319  0.372798  0.362924   \n",
      "\n",
      "   acceleration_seconds  price_usd  year_code  year_decoded  \n",
      "0              0.431818   0.014725          1          2022  \n",
      "1              0.159091   0.048191          2          2021  \n",
      "2              0.204545   0.059662          1          2022  \n",
      "3              0.250000   0.022744          1          2022  \n",
      "4              0.136364   0.052754          2          2021  \n"
     ]
    }
   ],
   "source": [
    "\n",
    "from sklearn.preprocessing import MinMaxScaler\n",
    "scaler = MinMaxScaler()\n",
    "features_to_scale = ['engine_size', 'power', 'torque', 'acceleration_seconds', 'price_usd']\n",
    "\n",
    "scaled_features = scaler.fit_transform(data[features_to_scale])\n",
    "\n",
    "data[features_to_scale] = scaled_features\n",
    "\n",
    "print(data.head())"
   ]
  }
 ],
 "metadata": {
  "kernelspec": {
   "display_name": "Python 3",
   "language": "python",
   "name": "python3"
  },
  "language_info": {
   "codemirror_mode": {
    "name": "ipython",
    "version": 3
   },
   "file_extension": ".py",
   "mimetype": "text/x-python",
   "name": "python",
   "nbconvert_exporter": "python",
   "pygments_lexer": "ipython3",
   "version": "3.12.1"
  }
 },
 "nbformat": 4,
 "nbformat_minor": 2
}
